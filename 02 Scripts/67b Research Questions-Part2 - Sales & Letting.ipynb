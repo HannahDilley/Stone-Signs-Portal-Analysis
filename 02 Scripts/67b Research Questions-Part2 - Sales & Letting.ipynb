{
 "cells": [
  {
   "cell_type": "markdown",
   "id": "137a0d58",
   "metadata": {},
   "source": [
    "## Research Questions – Part2 – Sales and Letting Data\n",
    "1.\tImport libraries & set directory paths\n",
    "2.\tImport Portal data, check dimensions and data types\n",
    "    - Import: stone_signs_portal_v2.1_month_workcate.csv\n",
    "3.\tChange datetime string columns to datetime data types\n",
    "4.  Addressing research questions continued:\n",
    "    - Qu.6) How long does it take to action a sign request?\n",
    "        -\tDisplay as histogram, and categorise lead-times\n",
    "        -\tDisplay lead time categories as Pie Chart\n",
    "        -\tExport to: stone_signs_portal_v3.1_saleslets_lead.csv\n",
    "\t- Qu.7) How many sign requests are received on a daily basis?\n",
    "\t- Qu.8) How many sign requests are completed on a daily basis?\n",
    "        -\tShow as histograms\n",
    "        -\tCompare Descriptive Statistics\n"
   ]
  },
  {
   "cell_type": "markdown",
   "id": "dfb595f1",
   "metadata": {},
   "source": [
    "### import libraries"
   ]
  },
  {
   "cell_type": "code",
   "execution_count": 1,
   "id": "dca40f1a",
   "metadata": {},
   "outputs": [],
   "source": [
    "import pandas as pd\n",
    "import numpy as np\n",
    "import seaborn as sns\n",
    "import matplotlib.pyplot as plt\n",
    "import matplotlib\n",
    "import os\n",
    "from datetime import date\n",
    "import datetime\n",
    "import matplotlib.patches as mpatches"
   ]
  },
  {
   "cell_type": "markdown",
   "id": "3052e3e9",
   "metadata": {},
   "source": [
    "### set directory paths"
   ]
  },
  {
   "cell_type": "code",
   "execution_count": 2,
   "id": "e6e7142f",
   "metadata": {},
   "outputs": [
    {
     "data": {
      "text/plain": [
       "'D:\\\\My Documents\\\\! Omnicompetent Ltd\\\\Career Foundry - Data Analytics\\\\Data Analytics Course\\\\60 Advanced Analytics and Dashboard Design\\\\Stone Signs Portal Analysis\\\\02 Data'"
      ]
     },
     "execution_count": 2,
     "metadata": {},
     "output_type": "execute_result"
    }
   ],
   "source": [
    "dataset = r'D:\\My Documents\\! Omnicompetent Ltd\\Career Foundry - Data Analytics\\Data Analytics Course\\60 Advanced Analytics and Dashboard Design\\Stone Signs Portal Analysis\\02 Data'\n",
    "dataset"
   ]
  },
  {
   "cell_type": "code",
   "execution_count": 3,
   "id": "c1558afe",
   "metadata": {},
   "outputs": [
    {
     "data": {
      "text/plain": [
       "'D:\\\\My Documents\\\\! Omnicompetent Ltd\\\\Career Foundry - Data Analytics\\\\Data Analytics Course\\\\60 Advanced Analytics and Dashboard Design\\\\Stone Signs Portal Analysis\\\\04 Analysis'"
      ]
     },
     "execution_count": 3,
     "metadata": {},
     "output_type": "execute_result"
    }
   ],
   "source": [
    "vizpath = r'D:\\My Documents\\! Omnicompetent Ltd\\Career Foundry - Data Analytics\\Data Analytics Course\\60 Advanced Analytics and Dashboard Design\\Stone Signs Portal Analysis\\04 Analysis'\n",
    "vizpath"
   ]
  },
  {
   "cell_type": "markdown",
   "id": "74b3fa37",
   "metadata": {},
   "source": [
    "## Import Portal Data"
   ]
  },
  {
   "cell_type": "code",
   "execution_count": 4,
   "id": "d63bf0b0",
   "metadata": {},
   "outputs": [
    {
     "data": {
      "text/html": [
       "<div>\n",
       "<style scoped>\n",
       "    .dataframe tbody tr th:only-of-type {\n",
       "        vertical-align: middle;\n",
       "    }\n",
       "\n",
       "    .dataframe tbody tr th {\n",
       "        vertical-align: top;\n",
       "    }\n",
       "\n",
       "    .dataframe thead th {\n",
       "        text-align: right;\n",
       "    }\n",
       "</style>\n",
       "<table border=\"1\" class=\"dataframe\">\n",
       "  <thead>\n",
       "    <tr style=\"text-align: right;\">\n",
       "      <th></th>\n",
       "      <th>request_id</th>\n",
       "      <th>request_datetime</th>\n",
       "      <th>completed_datetime</th>\n",
       "      <th>completed_duration_days</th>\n",
       "      <th>completed_duration_hours</th>\n",
       "      <th>agent_name</th>\n",
       "      <th>agent_code</th>\n",
       "      <th>branch_name</th>\n",
       "      <th>branch_code</th>\n",
       "      <th>sign_category</th>\n",
       "      <th>...</th>\n",
       "      <th>harvesine_distance_miles</th>\n",
       "      <th>latitude_group</th>\n",
       "      <th>longitude_group</th>\n",
       "      <th>zone</th>\n",
       "      <th>zone_area</th>\n",
       "      <th>is_up</th>\n",
       "      <th>month_no</th>\n",
       "      <th>month</th>\n",
       "      <th>year</th>\n",
       "      <th>work_category</th>\n",
       "    </tr>\n",
       "  </thead>\n",
       "  <tbody>\n",
       "    <tr>\n",
       "      <th>0</th>\n",
       "      <td>9215</td>\n",
       "      <td>2020-10-13 13:36:00</td>\n",
       "      <td>2020-10-18 08:52:00</td>\n",
       "      <td>4.80</td>\n",
       "      <td>115.3</td>\n",
       "      <td>Oakley Property</td>\n",
       "      <td>OAK</td>\n",
       "      <td>OakleyProperty @BrightonLets</td>\n",
       "      <td>701</td>\n",
       "      <td>Letting</td>\n",
       "      <td>...</td>\n",
       "      <td>3508.926836</td>\n",
       "      <td>1.0</td>\n",
       "      <td>2.0</td>\n",
       "      <td>12</td>\n",
       "      <td>SE Sussex</td>\n",
       "      <td>1</td>\n",
       "      <td>10</td>\n",
       "      <td>Oct</td>\n",
       "      <td>2020</td>\n",
       "      <td>Letting</td>\n",
       "    </tr>\n",
       "    <tr>\n",
       "      <th>1</th>\n",
       "      <td>8199</td>\n",
       "      <td>2020-11-26 20:33:00</td>\n",
       "      <td>2020-11-28 11:48:00</td>\n",
       "      <td>1.64</td>\n",
       "      <td>39.3</td>\n",
       "      <td>Lextons</td>\n",
       "      <td>LEX</td>\n",
       "      <td>Lextons @Hove</td>\n",
       "      <td>600</td>\n",
       "      <td>Sales</td>\n",
       "      <td>...</td>\n",
       "      <td>3508.978003</td>\n",
       "      <td>1.0</td>\n",
       "      <td>2.0</td>\n",
       "      <td>12</td>\n",
       "      <td>SE Sussex</td>\n",
       "      <td>1</td>\n",
       "      <td>11</td>\n",
       "      <td>Nov</td>\n",
       "      <td>2020</td>\n",
       "      <td>Sales</td>\n",
       "    </tr>\n",
       "    <tr>\n",
       "      <th>2</th>\n",
       "      <td>8199</td>\n",
       "      <td>2020-09-18 18:44:00</td>\n",
       "      <td>2020-09-19 14:15:00</td>\n",
       "      <td>0.81</td>\n",
       "      <td>19.5</td>\n",
       "      <td>Lextons</td>\n",
       "      <td>LEX</td>\n",
       "      <td>Lextons @Hove</td>\n",
       "      <td>600</td>\n",
       "      <td>Sales</td>\n",
       "      <td>...</td>\n",
       "      <td>3508.978003</td>\n",
       "      <td>1.0</td>\n",
       "      <td>2.0</td>\n",
       "      <td>12</td>\n",
       "      <td>SE Sussex</td>\n",
       "      <td>0</td>\n",
       "      <td>9</td>\n",
       "      <td>Sep</td>\n",
       "      <td>2020</td>\n",
       "      <td>Sales</td>\n",
       "    </tr>\n",
       "    <tr>\n",
       "      <th>3</th>\n",
       "      <td>9209</td>\n",
       "      <td>2020-10-13 13:29:00</td>\n",
       "      <td>2020-10-18 08:52:00</td>\n",
       "      <td>4.81</td>\n",
       "      <td>115.4</td>\n",
       "      <td>Oakley Property</td>\n",
       "      <td>OAK</td>\n",
       "      <td>OakleyProperty @BrightonLets</td>\n",
       "      <td>701</td>\n",
       "      <td>Letting</td>\n",
       "      <td>...</td>\n",
       "      <td>3509.207113</td>\n",
       "      <td>1.0</td>\n",
       "      <td>2.0</td>\n",
       "      <td>12</td>\n",
       "      <td>SE Sussex</td>\n",
       "      <td>0</td>\n",
       "      <td>10</td>\n",
       "      <td>Oct</td>\n",
       "      <td>2020</td>\n",
       "      <td>Letting</td>\n",
       "    </tr>\n",
       "    <tr>\n",
       "      <th>4</th>\n",
       "      <td>9209</td>\n",
       "      <td>2021-03-09 11:05:00</td>\n",
       "      <td>2021-03-11 14:05:00</td>\n",
       "      <td>2.13</td>\n",
       "      <td>51.0</td>\n",
       "      <td>Oakley Property</td>\n",
       "      <td>OAK</td>\n",
       "      <td>OakleyProperty @BrightonLets</td>\n",
       "      <td>701</td>\n",
       "      <td>Letting</td>\n",
       "      <td>...</td>\n",
       "      <td>3509.207113</td>\n",
       "      <td>1.0</td>\n",
       "      <td>2.0</td>\n",
       "      <td>12</td>\n",
       "      <td>SE Sussex</td>\n",
       "      <td>0</td>\n",
       "      <td>3</td>\n",
       "      <td>Mar</td>\n",
       "      <td>2021</td>\n",
       "      <td>Letting</td>\n",
       "    </tr>\n",
       "  </tbody>\n",
       "</table>\n",
       "<p>5 rows × 40 columns</p>\n",
       "</div>"
      ],
      "text/plain": [
       "   request_id     request_datetime   completed_datetime  \\\n",
       "0        9215  2020-10-13 13:36:00  2020-10-18 08:52:00   \n",
       "1        8199  2020-11-26 20:33:00  2020-11-28 11:48:00   \n",
       "2        8199  2020-09-18 18:44:00  2020-09-19 14:15:00   \n",
       "3        9209  2020-10-13 13:29:00  2020-10-18 08:52:00   \n",
       "4        9209  2021-03-09 11:05:00  2021-03-11 14:05:00   \n",
       "\n",
       "   completed_duration_days  completed_duration_hours       agent_name  \\\n",
       "0                     4.80                     115.3  Oakley Property   \n",
       "1                     1.64                      39.3          Lextons   \n",
       "2                     0.81                      19.5          Lextons   \n",
       "3                     4.81                     115.4  Oakley Property   \n",
       "4                     2.13                      51.0  Oakley Property   \n",
       "\n",
       "  agent_code                   branch_name  branch_code sign_category  ...  \\\n",
       "0        OAK  OakleyProperty @BrightonLets          701       Letting  ...   \n",
       "1        LEX                 Lextons @Hove          600         Sales  ...   \n",
       "2        LEX                 Lextons @Hove          600         Sales  ...   \n",
       "3        OAK  OakleyProperty @BrightonLets          701       Letting  ...   \n",
       "4        OAK  OakleyProperty @BrightonLets          701       Letting  ...   \n",
       "\n",
       "  harvesine_distance_miles latitude_group longitude_group zone  zone_area  \\\n",
       "0              3508.926836            1.0             2.0   12  SE Sussex   \n",
       "1              3508.978003            1.0             2.0   12  SE Sussex   \n",
       "2              3508.978003            1.0             2.0   12  SE Sussex   \n",
       "3              3509.207113            1.0             2.0   12  SE Sussex   \n",
       "4              3509.207113            1.0             2.0   12  SE Sussex   \n",
       "\n",
       "  is_up month_no month  year  work_category  \n",
       "0     1       10   Oct  2020        Letting  \n",
       "1     1       11   Nov  2020          Sales  \n",
       "2     0        9   Sep  2020          Sales  \n",
       "3     0       10   Oct  2020        Letting  \n",
       "4     0        3   Mar  2021        Letting  \n",
       "\n",
       "[5 rows x 40 columns]"
      ]
     },
     "execution_count": 4,
     "metadata": {},
     "output_type": "execute_result"
    }
   ],
   "source": [
    "df_portal = pd.read_csv(os.path.join(dataset,'stone_signs_portal_v2.1_month_workcate - 28,900.csv'))\n",
    "df_portal.head()"
   ]
  },
  {
   "cell_type": "markdown",
   "id": "5c6f5f05",
   "metadata": {},
   "source": [
    "### check dimensions & data types"
   ]
  },
  {
   "cell_type": "code",
   "execution_count": 5,
   "id": "86a66a6a",
   "metadata": {},
   "outputs": [
    {
     "data": {
      "text/plain": [
       "(28900, 40)"
      ]
     },
     "execution_count": 5,
     "metadata": {},
     "output_type": "execute_result"
    }
   ],
   "source": [
    "df_portal.shape"
   ]
  },
  {
   "cell_type": "code",
   "execution_count": 6,
   "id": "a228b370",
   "metadata": {},
   "outputs": [
    {
     "data": {
      "text/plain": [
       "request_id                    int64\n",
       "request_datetime             object\n",
       "completed_datetime           object\n",
       "completed_duration_days     float64\n",
       "completed_duration_hours    float64\n",
       "agent_name                   object\n",
       "agent_code                   object\n",
       "branch_name                  object\n",
       "branch_code                   int64\n",
       "sign_category                object\n",
       "sign_action                  object\n",
       "board_type                   object\n",
       "sign_type                    object\n",
       "address_1                    object\n",
       "address_2                    object\n",
       "address_3                    object\n",
       "town                         object\n",
       "postcode                     object\n",
       "latitude                    float64\n",
       "longitude                   float64\n",
       "quantity                      int64\n",
       "additional_info              object\n",
       "request_status               object\n",
       "payment_status               object\n",
       "net_charge                  float64\n",
       "vat                         float64\n",
       "gross_charge                float64\n",
       "invoice_datetime             object\n",
       "paid_datetime                object\n",
       "payment_duration_days       float64\n",
       "harvesine_distance_miles    float64\n",
       "latitude_group              float64\n",
       "longitude_group             float64\n",
       "zone                         object\n",
       "zone_area                    object\n",
       "is_up                         int64\n",
       "month_no                      int64\n",
       "month                        object\n",
       "year                          int64\n",
       "work_category                object\n",
       "dtype: object"
      ]
     },
     "execution_count": 6,
     "metadata": {},
     "output_type": "execute_result"
    }
   ],
   "source": [
    "df_portal.dtypes"
   ]
  },
  {
   "cell_type": "markdown",
   "id": "7c904a8e",
   "metadata": {},
   "source": [
    "### convert request_datetime & completed_datetime columns from string to datetime"
   ]
  },
  {
   "cell_type": "code",
   "execution_count": 7,
   "id": "8cbed9fd",
   "metadata": {},
   "outputs": [
    {
     "data": {
      "text/plain": [
       "request_id                           int64\n",
       "request_datetime            datetime64[ns]\n",
       "completed_datetime          datetime64[ns]\n",
       "completed_duration_days            float64\n",
       "completed_duration_hours           float64\n",
       "agent_name                          object\n",
       "agent_code                          object\n",
       "branch_name                         object\n",
       "branch_code                          int64\n",
       "sign_category                       object\n",
       "sign_action                         object\n",
       "board_type                          object\n",
       "sign_type                           object\n",
       "address_1                           object\n",
       "address_2                           object\n",
       "address_3                           object\n",
       "town                                object\n",
       "postcode                            object\n",
       "latitude                           float64\n",
       "longitude                          float64\n",
       "quantity                             int64\n",
       "additional_info                     object\n",
       "request_status                      object\n",
       "payment_status                      object\n",
       "net_charge                         float64\n",
       "vat                                float64\n",
       "gross_charge                       float64\n",
       "invoice_datetime                    object\n",
       "paid_datetime                       object\n",
       "payment_duration_days              float64\n",
       "harvesine_distance_miles           float64\n",
       "latitude_group                     float64\n",
       "longitude_group                    float64\n",
       "zone                                object\n",
       "zone_area                           object\n",
       "is_up                                int64\n",
       "month_no                             int64\n",
       "month                               object\n",
       "year                                 int64\n",
       "work_category                       object\n",
       "dtype: object"
      ]
     },
     "execution_count": 7,
     "metadata": {},
     "output_type": "execute_result"
    }
   ],
   "source": [
    "df_portal['request_datetime'] = pd.to_datetime(df_portal['request_datetime'],format='%Y-%m-%d %H:%M')\n",
    "df_portal['completed_datetime'] = pd.to_datetime(df_portal['completed_datetime'],format='%Y-%m-%d %H:%M')\n",
    "df_portal.dtypes"
   ]
  },
  {
   "cell_type": "markdown",
   "id": "55bd9a22",
   "metadata": {},
   "source": [
    "## Research Questions"
   ]
  },
  {
   "cell_type": "markdown",
   "id": "74e70f34",
   "metadata": {},
   "source": [
    "### Create Sales and Letting Subset for further analysis on performance"
   ]
  },
  {
   "cell_type": "code",
   "execution_count": 8,
   "id": "8ce392fc",
   "metadata": {},
   "outputs": [
    {
     "data": {
      "text/plain": [
       "(27473, 40)"
      ]
     },
     "execution_count": 8,
     "metadata": {},
     "output_type": "execute_result"
    }
   ],
   "source": [
    "df_saleslet = df_portal.loc[(df_portal['sign_category']=='Sales') | (df_portal['sign_category']=='Letting')]\n",
    "df_saleslet.shape"
   ]
  },
  {
   "cell_type": "markdown",
   "id": "49e40f8b",
   "metadata": {},
   "source": [
    "### export to CSV"
   ]
  },
  {
   "cell_type": "code",
   "execution_count": 9,
   "id": "f1baacfe",
   "metadata": {},
   "outputs": [],
   "source": [
    "df_saleslet.to_csv(os.path.join(dataset,'stone_signs_portal_v3.0_saleslets - 27,473.csv'), index=False)"
   ]
  },
  {
   "cell_type": "markdown",
   "id": "7aa633be",
   "metadata": {},
   "source": [
    "## Qu.6) How long does it take to action a sign request?"
   ]
  },
  {
   "cell_type": "code",
   "execution_count": 10,
   "id": "e94e7c53",
   "metadata": {},
   "outputs": [
    {
     "data": {
      "text/html": [
       "<div>\n",
       "<style scoped>\n",
       "    .dataframe tbody tr th:only-of-type {\n",
       "        vertical-align: middle;\n",
       "    }\n",
       "\n",
       "    .dataframe tbody tr th {\n",
       "        vertical-align: top;\n",
       "    }\n",
       "\n",
       "    .dataframe thead th {\n",
       "        text-align: right;\n",
       "    }\n",
       "</style>\n",
       "<table border=\"1\" class=\"dataframe\">\n",
       "  <thead>\n",
       "    <tr style=\"text-align: right;\">\n",
       "      <th></th>\n",
       "      <th>completed_duration_days</th>\n",
       "      <th>completed_duration_hours</th>\n",
       "    </tr>\n",
       "  </thead>\n",
       "  <tbody>\n",
       "    <tr>\n",
       "      <th>count</th>\n",
       "      <td>27473.000000</td>\n",
       "      <td>27473.000000</td>\n",
       "    </tr>\n",
       "    <tr>\n",
       "      <th>mean</th>\n",
       "      <td>1.549507</td>\n",
       "      <td>37.187581</td>\n",
       "    </tr>\n",
       "    <tr>\n",
       "      <th>std</th>\n",
       "      <td>1.822699</td>\n",
       "      <td>43.745393</td>\n",
       "    </tr>\n",
       "    <tr>\n",
       "      <th>min</th>\n",
       "      <td>0.000000</td>\n",
       "      <td>0.000000</td>\n",
       "    </tr>\n",
       "    <tr>\n",
       "      <th>25%</th>\n",
       "      <td>0.810000</td>\n",
       "      <td>19.500000</td>\n",
       "    </tr>\n",
       "    <tr>\n",
       "      <th>50%</th>\n",
       "      <td>1.060000</td>\n",
       "      <td>25.400000</td>\n",
       "    </tr>\n",
       "    <tr>\n",
       "      <th>75%</th>\n",
       "      <td>1.960000</td>\n",
       "      <td>47.000000</td>\n",
       "    </tr>\n",
       "    <tr>\n",
       "      <th>max</th>\n",
       "      <td>49.820000</td>\n",
       "      <td>1195.800000</td>\n",
       "    </tr>\n",
       "  </tbody>\n",
       "</table>\n",
       "</div>"
      ],
      "text/plain": [
       "       completed_duration_days  completed_duration_hours\n",
       "count             27473.000000              27473.000000\n",
       "mean                  1.549507                 37.187581\n",
       "std                   1.822699                 43.745393\n",
       "min                   0.000000                  0.000000\n",
       "25%                   0.810000                 19.500000\n",
       "50%                   1.060000                 25.400000\n",
       "75%                   1.960000                 47.000000\n",
       "max                  49.820000               1195.800000"
      ]
     },
     "execution_count": 10,
     "metadata": {},
     "output_type": "execute_result"
    }
   ],
   "source": [
    "df_saleslet[['completed_duration_days','completed_duration_hours']].describe()"
   ]
  },
  {
   "cell_type": "markdown",
   "id": "9cf764cb",
   "metadata": {},
   "source": [
    "Some signs requests are added to the Portal post completion in order to keep the system up-to-date.  These items result in zero hours for completion, these will be exclude from the descriptive statistics to prevent skewing the time frame data."
   ]
  },
  {
   "cell_type": "markdown",
   "id": "af2f88f2",
   "metadata": {},
   "source": [
    "### exclude records where completed duration is zero hours"
   ]
  },
  {
   "cell_type": "code",
   "execution_count": 11,
   "id": "be10af8b",
   "metadata": {},
   "outputs": [
    {
     "data": {
      "text/plain": [
       "(26920, 40)"
      ]
     },
     "execution_count": 11,
     "metadata": {},
     "output_type": "execute_result"
    }
   ],
   "source": [
    "df_saleslet1 = df_saleslet.loc[df_saleslet['completed_duration_hours']!=0]\n",
    "df_saleslet1.shape"
   ]
  },
  {
   "cell_type": "markdown",
   "id": "8464857e",
   "metadata": {},
   "source": [
    "### re-review descriptive statistics"
   ]
  },
  {
   "cell_type": "code",
   "execution_count": 12,
   "id": "e18cf048",
   "metadata": {},
   "outputs": [
    {
     "data": {
      "text/html": [
       "<div>\n",
       "<style scoped>\n",
       "    .dataframe tbody tr th:only-of-type {\n",
       "        vertical-align: middle;\n",
       "    }\n",
       "\n",
       "    .dataframe tbody tr th {\n",
       "        vertical-align: top;\n",
       "    }\n",
       "\n",
       "    .dataframe thead th {\n",
       "        text-align: right;\n",
       "    }\n",
       "</style>\n",
       "<table border=\"1\" class=\"dataframe\">\n",
       "  <thead>\n",
       "    <tr style=\"text-align: right;\">\n",
       "      <th></th>\n",
       "      <th>completed_duration_days</th>\n",
       "      <th>completed_duration_hours</th>\n",
       "    </tr>\n",
       "  </thead>\n",
       "  <tbody>\n",
       "    <tr>\n",
       "      <th>count</th>\n",
       "      <td>26920.000000</td>\n",
       "      <td>26920.000000</td>\n",
       "    </tr>\n",
       "    <tr>\n",
       "      <th>mean</th>\n",
       "      <td>1.581337</td>\n",
       "      <td>37.951501</td>\n",
       "    </tr>\n",
       "    <tr>\n",
       "      <th>std</th>\n",
       "      <td>1.827606</td>\n",
       "      <td>43.863184</td>\n",
       "    </tr>\n",
       "    <tr>\n",
       "      <th>min</th>\n",
       "      <td>0.000000</td>\n",
       "      <td>0.100000</td>\n",
       "    </tr>\n",
       "    <tr>\n",
       "      <th>25%</th>\n",
       "      <td>0.830000</td>\n",
       "      <td>19.900000</td>\n",
       "    </tr>\n",
       "    <tr>\n",
       "      <th>50%</th>\n",
       "      <td>1.070000</td>\n",
       "      <td>25.700000</td>\n",
       "    </tr>\n",
       "    <tr>\n",
       "      <th>75%</th>\n",
       "      <td>1.970000</td>\n",
       "      <td>47.300000</td>\n",
       "    </tr>\n",
       "    <tr>\n",
       "      <th>max</th>\n",
       "      <td>49.820000</td>\n",
       "      <td>1195.800000</td>\n",
       "    </tr>\n",
       "  </tbody>\n",
       "</table>\n",
       "</div>"
      ],
      "text/plain": [
       "       completed_duration_days  completed_duration_hours\n",
       "count             26920.000000              26920.000000\n",
       "mean                  1.581337                 37.951501\n",
       "std                   1.827606                 43.863184\n",
       "min                   0.000000                  0.100000\n",
       "25%                   0.830000                 19.900000\n",
       "50%                   1.070000                 25.700000\n",
       "75%                   1.970000                 47.300000\n",
       "max                  49.820000               1195.800000"
      ]
     },
     "execution_count": 12,
     "metadata": {},
     "output_type": "execute_result"
    }
   ],
   "source": [
    "df_saleslet1[['completed_duration_days','completed_duration_hours']].describe()"
   ]
  },
  {
   "cell_type": "markdown",
   "id": "0de14198",
   "metadata": {},
   "source": [
    "### calculate mode time taken to complete a sign request"
   ]
  },
  {
   "cell_type": "code",
   "execution_count": 13,
   "id": "fd0476df",
   "metadata": {},
   "outputs": [
    {
     "data": {
      "text/html": [
       "<div>\n",
       "<style scoped>\n",
       "    .dataframe tbody tr th:only-of-type {\n",
       "        vertical-align: middle;\n",
       "    }\n",
       "\n",
       "    .dataframe tbody tr th {\n",
       "        vertical-align: top;\n",
       "    }\n",
       "\n",
       "    .dataframe thead th {\n",
       "        text-align: right;\n",
       "    }\n",
       "</style>\n",
       "<table border=\"1\" class=\"dataframe\">\n",
       "  <thead>\n",
       "    <tr style=\"text-align: right;\">\n",
       "      <th></th>\n",
       "      <th>completed_duration_days</th>\n",
       "      <th>completed_duration_hours</th>\n",
       "    </tr>\n",
       "  </thead>\n",
       "  <tbody>\n",
       "    <tr>\n",
       "      <th>0</th>\n",
       "      <td>0.93</td>\n",
       "      <td>24.0</td>\n",
       "    </tr>\n",
       "  </tbody>\n",
       "</table>\n",
       "</div>"
      ],
      "text/plain": [
       "   completed_duration_days  completed_duration_hours\n",
       "0                     0.93                      24.0"
      ]
     },
     "execution_count": 13,
     "metadata": {},
     "output_type": "execute_result"
    }
   ],
   "source": [
    "df_saleslet1[['completed_duration_days','completed_duration_hours']].mode()"
   ]
  },
  {
   "cell_type": "markdown",
   "id": "0992f573",
   "metadata": {},
   "source": [
    "#### Observations: \n",
    "- The median and the mode suggest that sign requests are typically actioned in around 24 hrs.  \n",
    "- The mean however show this to be closer to a 1.5 days.  \n",
    "- The maximum time taken to action a sign is 7 weeks but Q3 is still less than 2 days.\n",
    "### What percentage of signs are completed within 48 hours?"
   ]
  },
  {
   "cell_type": "markdown",
   "id": "06a11da6",
   "metadata": {},
   "source": [
    "## Show completion duration as Histogram"
   ]
  },
  {
   "cell_type": "code",
   "execution_count": 14,
   "id": "a0c9e316",
   "metadata": {},
   "outputs": [
    {
     "data": {
      "text/plain": [
       "<AxesSubplot:xlabel='completed_duration_days', ylabel='Count'>"
      ]
     },
     "execution_count": 14,
     "metadata": {},
     "output_type": "execute_result"
    },
    {
     "data": {
      "image/png": "[encoded data removed]",
      "text/plain": [
       "<Figure size 432x288 with 1 Axes>"
      ]
     },
     "metadata": {
      "needs_background": "light"
     },
     "output_type": "display_data"
    }
   ],
   "source": [
    "sns.histplot(df_saleslet1['completed_duration_days'], bins=50)"
   ]
  },
  {
   "cell_type": "markdown",
   "id": "5ba0a8f6",
   "metadata": {},
   "source": [
    "### divide histogram into following bins\n",
    "1. 0 to 2 days\n",
    "2. 2 to 7 days\n",
    "3. up to 49 days"
   ]
  },
  {
   "cell_type": "code",
   "execution_count": 16,
   "id": "ca71926d",
   "metadata": {},
   "outputs": [
    {
     "data": {
      "image/png": "[encoded data removed]",
      "text/plain": [
       "<Figure size 432x288 with 1 Axes>"
      ]
     },
     "metadata": {
      "needs_background": "light"
     },
     "output_type": "display_data"
    }
   ],
   "source": [
    "sns.histplot(df_saleslet1['completed_duration_days'], bins=[0,2,7,49])\n",
    "plt.title('Sign Request Completion Duration in Days')\n",
    "plt.xlabel('Duration in Days')\n",
    "plt.ylabel(' ')\n",
    "plt.grid(True, linestyle='--')\n",
    "\n",
    "plt.savefig(os.path.join(vizpath,'Qu.6) Sign Request Completion Duration in Days.png'))"
   ]
  },
  {
   "cell_type": "markdown",
   "id": "2e35915c",
   "metadata": {},
   "source": [
    "#### Observation: \n",
    "    The majority of requests are executed within 48 hours"
   ]
  },
  {
   "cell_type": "markdown",
   "id": "eaa765af",
   "metadata": {},
   "source": [
    "## Display as pie chart"
   ]
  },
  {
   "cell_type": "markdown",
   "id": "28841994",
   "metadata": {},
   "source": [
    "### categorise complete duration into the following categories\n",
    "- Standard 48hr\n",
    "- Within Week\n",
    "- Extended"
   ]
  },
  {
   "cell_type": "code",
   "execution_count": 17,
   "id": "60550572",
   "metadata": {},
   "outputs": [
    {
     "name": "stderr",
     "output_type": "stream",
     "text": [
      "C:\\ProgramData\\Anaconda3\\lib\\site-packages\\pandas\\core\\indexing.py:1599: SettingWithCopyWarning: \n",
      "A value is trying to be set on a copy of a slice from a DataFrame.\n",
      "Try using .loc[row_indexer,col_indexer] = value instead\n",
      "\n",
      "See the caveats in the documentation: https://pandas.pydata.org/pandas-docs/stable/user_guide/indexing.html#returning-a-view-versus-a-copy\n",
      "  self.obj[key] = infer_fill_value(value)\n",
      "C:\\ProgramData\\Anaconda3\\lib\\site-packages\\pandas\\core\\indexing.py:1720: SettingWithCopyWarning: \n",
      "A value is trying to be set on a copy of a slice from a DataFrame.\n",
      "Try using .loc[row_indexer,col_indexer] = value instead\n",
      "\n",
      "See the caveats in the documentation: https://pandas.pydata.org/pandas-docs/stable/user_guide/indexing.html#returning-a-view-versus-a-copy\n",
      "  self._setitem_single_column(loc, value, pi)\n",
      "C:\\ProgramData\\Anaconda3\\lib\\site-packages\\pandas\\core\\indexing.py:1720: SettingWithCopyWarning: \n",
      "A value is trying to be set on a copy of a slice from a DataFrame.\n",
      "Try using .loc[row_indexer,col_indexer] = value instead\n",
      "\n",
      "See the caveats in the documentation: https://pandas.pydata.org/pandas-docs/stable/user_guide/indexing.html#returning-a-view-versus-a-copy\n",
      "  self._setitem_single_column(loc, value, pi)\n",
      "C:\\ProgramData\\Anaconda3\\lib\\site-packages\\pandas\\core\\indexing.py:1720: SettingWithCopyWarning: \n",
      "A value is trying to be set on a copy of a slice from a DataFrame.\n",
      "Try using .loc[row_indexer,col_indexer] = value instead\n",
      "\n",
      "See the caveats in the documentation: https://pandas.pydata.org/pandas-docs/stable/user_guide/indexing.html#returning-a-view-versus-a-copy\n",
      "  self._setitem_single_column(loc, value, pi)\n"
     ]
    },
    {
     "data": {
      "text/html": [
       "<div>\n",
       "<style scoped>\n",
       "    .dataframe tbody tr th:only-of-type {\n",
       "        vertical-align: middle;\n",
       "    }\n",
       "\n",
       "    .dataframe tbody tr th {\n",
       "        vertical-align: top;\n",
       "    }\n",
       "\n",
       "    .dataframe thead th {\n",
       "        text-align: right;\n",
       "    }\n",
       "</style>\n",
       "<table border=\"1\" class=\"dataframe\">\n",
       "  <thead>\n",
       "    <tr style=\"text-align: right;\">\n",
       "      <th></th>\n",
       "      <th>request_id</th>\n",
       "      <th>request_datetime</th>\n",
       "      <th>completed_datetime</th>\n",
       "      <th>completed_duration_days</th>\n",
       "      <th>completed_duration_hours</th>\n",
       "      <th>agent_name</th>\n",
       "      <th>agent_code</th>\n",
       "      <th>branch_name</th>\n",
       "      <th>branch_code</th>\n",
       "      <th>sign_category</th>\n",
       "      <th>...</th>\n",
       "      <th>latitude_group</th>\n",
       "      <th>longitude_group</th>\n",
       "      <th>zone</th>\n",
       "      <th>zone_area</th>\n",
       "      <th>is_up</th>\n",
       "      <th>month_no</th>\n",
       "      <th>month</th>\n",
       "      <th>year</th>\n",
       "      <th>work_category</th>\n",
       "      <th>lead_time</th>\n",
       "    </tr>\n",
       "  </thead>\n",
       "  <tbody>\n",
       "    <tr>\n",
       "      <th>0</th>\n",
       "      <td>9215</td>\n",
       "      <td>2020-10-13 13:36:00</td>\n",
       "      <td>2020-10-18 08:52:00</td>\n",
       "      <td>4.80</td>\n",
       "      <td>115.3</td>\n",
       "      <td>Oakley Property</td>\n",
       "      <td>OAK</td>\n",
       "      <td>OakleyProperty @BrightonLets</td>\n",
       "      <td>701</td>\n",
       "      <td>Letting</td>\n",
       "      <td>...</td>\n",
       "      <td>1.0</td>\n",
       "      <td>2.0</td>\n",
       "      <td>12</td>\n",
       "      <td>SE Sussex</td>\n",
       "      <td>1</td>\n",
       "      <td>10</td>\n",
       "      <td>Oct</td>\n",
       "      <td>2020</td>\n",
       "      <td>Letting</td>\n",
       "      <td>Within Week</td>\n",
       "    </tr>\n",
       "    <tr>\n",
       "      <th>1</th>\n",
       "      <td>8199</td>\n",
       "      <td>2020-11-26 20:33:00</td>\n",
       "      <td>2020-11-28 11:48:00</td>\n",
       "      <td>1.64</td>\n",
       "      <td>39.3</td>\n",
       "      <td>Lextons</td>\n",
       "      <td>LEX</td>\n",
       "      <td>Lextons @Hove</td>\n",
       "      <td>600</td>\n",
       "      <td>Sales</td>\n",
       "      <td>...</td>\n",
       "      <td>1.0</td>\n",
       "      <td>2.0</td>\n",
       "      <td>12</td>\n",
       "      <td>SE Sussex</td>\n",
       "      <td>1</td>\n",
       "      <td>11</td>\n",
       "      <td>Nov</td>\n",
       "      <td>2020</td>\n",
       "      <td>Sales</td>\n",
       "      <td>Standard 48hr</td>\n",
       "    </tr>\n",
       "    <tr>\n",
       "      <th>2</th>\n",
       "      <td>8199</td>\n",
       "      <td>2020-09-18 18:44:00</td>\n",
       "      <td>2020-09-19 14:15:00</td>\n",
       "      <td>0.81</td>\n",
       "      <td>19.5</td>\n",
       "      <td>Lextons</td>\n",
       "      <td>LEX</td>\n",
       "      <td>Lextons @Hove</td>\n",
       "      <td>600</td>\n",
       "      <td>Sales</td>\n",
       "      <td>...</td>\n",
       "      <td>1.0</td>\n",
       "      <td>2.0</td>\n",
       "      <td>12</td>\n",
       "      <td>SE Sussex</td>\n",
       "      <td>0</td>\n",
       "      <td>9</td>\n",
       "      <td>Sep</td>\n",
       "      <td>2020</td>\n",
       "      <td>Sales</td>\n",
       "      <td>Standard 48hr</td>\n",
       "    </tr>\n",
       "    <tr>\n",
       "      <th>3</th>\n",
       "      <td>9209</td>\n",
       "      <td>2020-10-13 13:29:00</td>\n",
       "      <td>2020-10-18 08:52:00</td>\n",
       "      <td>4.81</td>\n",
       "      <td>115.4</td>\n",
       "      <td>Oakley Property</td>\n",
       "      <td>OAK</td>\n",
       "      <td>OakleyProperty @BrightonLets</td>\n",
       "      <td>701</td>\n",
       "      <td>Letting</td>\n",
       "      <td>...</td>\n",
       "      <td>1.0</td>\n",
       "      <td>2.0</td>\n",
       "      <td>12</td>\n",
       "      <td>SE Sussex</td>\n",
       "      <td>0</td>\n",
       "      <td>10</td>\n",
       "      <td>Oct</td>\n",
       "      <td>2020</td>\n",
       "      <td>Letting</td>\n",
       "      <td>Within Week</td>\n",
       "    </tr>\n",
       "    <tr>\n",
       "      <th>4</th>\n",
       "      <td>9209</td>\n",
       "      <td>2021-03-09 11:05:00</td>\n",
       "      <td>2021-03-11 14:05:00</td>\n",
       "      <td>2.13</td>\n",
       "      <td>51.0</td>\n",
       "      <td>Oakley Property</td>\n",
       "      <td>OAK</td>\n",
       "      <td>OakleyProperty @BrightonLets</td>\n",
       "      <td>701</td>\n",
       "      <td>Letting</td>\n",
       "      <td>...</td>\n",
       "      <td>1.0</td>\n",
       "      <td>2.0</td>\n",
       "      <td>12</td>\n",
       "      <td>SE Sussex</td>\n",
       "      <td>0</td>\n",
       "      <td>3</td>\n",
       "      <td>Mar</td>\n",
       "      <td>2021</td>\n",
       "      <td>Letting</td>\n",
       "      <td>Within Week</td>\n",
       "    </tr>\n",
       "  </tbody>\n",
       "</table>\n",
       "<p>5 rows × 41 columns</p>\n",
       "</div>"
      ],
      "text/plain": [
       "   request_id    request_datetime  completed_datetime  \\\n",
       "0        9215 2020-10-13 13:36:00 2020-10-18 08:52:00   \n",
       "1        8199 2020-11-26 20:33:00 2020-11-28 11:48:00   \n",
       "2        8199 2020-09-18 18:44:00 2020-09-19 14:15:00   \n",
       "3        9209 2020-10-13 13:29:00 2020-10-18 08:52:00   \n",
       "4        9209 2021-03-09 11:05:00 2021-03-11 14:05:00   \n",
       "\n",
       "   completed_duration_days  completed_duration_hours       agent_name  \\\n",
       "0                     4.80                     115.3  Oakley Property   \n",
       "1                     1.64                      39.3          Lextons   \n",
       "2                     0.81                      19.5          Lextons   \n",
       "3                     4.81                     115.4  Oakley Property   \n",
       "4                     2.13                      51.0  Oakley Property   \n",
       "\n",
       "  agent_code                   branch_name  branch_code sign_category  ...  \\\n",
       "0        OAK  OakleyProperty @BrightonLets          701       Letting  ...   \n",
       "1        LEX                 Lextons @Hove          600         Sales  ...   \n",
       "2        LEX                 Lextons @Hove          600         Sales  ...   \n",
       "3        OAK  OakleyProperty @BrightonLets          701       Letting  ...   \n",
       "4        OAK  OakleyProperty @BrightonLets          701       Letting  ...   \n",
       "\n",
       "  latitude_group longitude_group zone  zone_area is_up month_no month  year  \\\n",
       "0            1.0             2.0   12  SE Sussex     1       10   Oct  2020   \n",
       "1            1.0             2.0   12  SE Sussex     1       11   Nov  2020   \n",
       "2            1.0             2.0   12  SE Sussex     0        9   Sep  2020   \n",
       "3            1.0             2.0   12  SE Sussex     0       10   Oct  2020   \n",
       "4            1.0             2.0   12  SE Sussex     0        3   Mar  2021   \n",
       "\n",
       "   work_category      lead_time  \n",
       "0        Letting    Within Week  \n",
       "1          Sales  Standard 48hr  \n",
       "2          Sales  Standard 48hr  \n",
       "3        Letting    Within Week  \n",
       "4        Letting    Within Week  \n",
       "\n",
       "[5 rows x 41 columns]"
      ]
     },
     "execution_count": 17,
     "metadata": {},
     "output_type": "execute_result"
    }
   ],
   "source": [
    "df_saleslet1.loc[df_saleslet1['completed_duration_days']<=2, 'lead_time']='Standard 48hr'\n",
    "df_saleslet1.loc[(df_saleslet1['completed_duration_days']>2) & (df_saleslet1['completed_duration_days']<=7), 'lead_time']='Within Week'\n",
    "df_saleslet1.loc[df_saleslet1['completed_duration_days']>7, 'lead_time']='Extended'\n",
    "df_saleslet1.head()"
   ]
  },
  {
   "cell_type": "markdown",
   "id": "6b7ba0d4",
   "metadata": {},
   "source": [
    "### check values"
   ]
  },
  {
   "cell_type": "code",
   "execution_count": 18,
   "id": "be3f73a0",
   "metadata": {},
   "outputs": [
    {
     "data": {
      "text/plain": [
       "Standard 48hr    20679\n",
       "Within Week       5886\n",
       "Extended           355\n",
       "Name: lead_time, dtype: int64"
      ]
     },
     "execution_count": 18,
     "metadata": {},
     "output_type": "execute_result"
    }
   ],
   "source": [
    "lead_times = df_saleslet1['lead_time'].value_counts()\n",
    "lead_times"
   ]
  },
  {
   "cell_type": "markdown",
   "id": "2a2d3953",
   "metadata": {},
   "source": [
    "### define labels"
   ]
  },
  {
   "cell_type": "code",
   "execution_count": 19,
   "id": "c11531e6",
   "metadata": {},
   "outputs": [],
   "source": [
    "lead_label = ['Standard 48hr','Within the Week','Extended']"
   ]
  },
  {
   "cell_type": "code",
   "execution_count": 21,
   "id": "42461ff4",
   "metadata": {},
   "outputs": [
    {
     "data": {
      "image/png": "[encoded data removed]",
      "text/plain": [
       "<Figure size 432x288 with 1 Axes>"
      ]
     },
     "metadata": {},
     "output_type": "display_data"
    }
   ],
   "source": [
    "sizes = lead_times\n",
    "colors = ['cornflowerblue','limegreen','darkorange']\n",
    "explode = (0, 0, 0.2)\n",
    "labels = lead_label\n",
    "\n",
    "texts = plt.pie(sizes, colors=colors, explode=explode, labels=labels, autopct='%1.0f%%', textprops={'fontsize':12}, startangle=180)\n",
    "\n",
    "plt.axis('equal')\n",
    "plt.title('Sign Request Completion Duration', fontsize=14)\n",
    "plt.tight_layout()\n",
    "\n",
    "plt.savefig(os.path.join(vizpath,'Qu.6) Sign Request Completion Duration.png'))"
   ]
  },
  {
   "cell_type": "markdown",
   "id": "a14ba888",
   "metadata": {},
   "source": [
    "### export update to CSV"
   ]
  },
  {
   "cell_type": "code",
   "execution_count": 22,
   "id": "3717b6f5",
   "metadata": {},
   "outputs": [
    {
     "data": {
      "text/plain": [
       "(26920, 41)"
      ]
     },
     "execution_count": 22,
     "metadata": {},
     "output_type": "execute_result"
    }
   ],
   "source": [
    "df_saleslet1.shape"
   ]
  },
  {
   "cell_type": "code",
   "execution_count": 23,
   "id": "cd228991",
   "metadata": {},
   "outputs": [],
   "source": [
    "df_saleslet1.to_csv(os.path.join(dataset,'stone_signs_portal_v3.1_saleslets_leadtimes - 26,920.csv'), index=False)"
   ]
  },
  {
   "cell_type": "markdown",
   "id": "76c3a55b",
   "metadata": {},
   "source": [
    "## Qu.7) How many sign requests are received on a daily basis?\n",
    "## Qu.8) How many sign requests are completed on a daily basis?"
   ]
  },
  {
   "cell_type": "markdown",
   "id": "86a23ae7",
   "metadata": {},
   "source": [
    "### extract date portion only of datetime columns"
   ]
  },
  {
   "cell_type": "code",
   "execution_count": 24,
   "id": "61cd8f40",
   "metadata": {},
   "outputs": [
    {
     "name": "stderr",
     "output_type": "stream",
     "text": [
      "<ipython-input-24-0e99db4e89cc>:1: SettingWithCopyWarning: \n",
      "A value is trying to be set on a copy of a slice from a DataFrame.\n",
      "Try using .loc[row_indexer,col_indexer] = value instead\n",
      "\n",
      "See the caveats in the documentation: https://pandas.pydata.org/pandas-docs/stable/user_guide/indexing.html#returning-a-view-versus-a-copy\n",
      "  df_saleslet1['request_date'] = [d.date() for d in df_saleslet1['request_datetime']]\n",
      "<ipython-input-24-0e99db4e89cc>:2: SettingWithCopyWarning: \n",
      "A value is trying to be set on a copy of a slice from a DataFrame.\n",
      "Try using .loc[row_indexer,col_indexer] = value instead\n",
      "\n",
      "See the caveats in the documentation: https://pandas.pydata.org/pandas-docs/stable/user_guide/indexing.html#returning-a-view-versus-a-copy\n",
      "  df_saleslet1['completed_date'] = [d.date() for d in df_saleslet1['completed_datetime']]\n"
     ]
    },
    {
     "data": {
      "text/html": [
       "<div>\n",
       "<style scoped>\n",
       "    .dataframe tbody tr th:only-of-type {\n",
       "        vertical-align: middle;\n",
       "    }\n",
       "\n",
       "    .dataframe tbody tr th {\n",
       "        vertical-align: top;\n",
       "    }\n",
       "\n",
       "    .dataframe thead th {\n",
       "        text-align: right;\n",
       "    }\n",
       "</style>\n",
       "<table border=\"1\" class=\"dataframe\">\n",
       "  <thead>\n",
       "    <tr style=\"text-align: right;\">\n",
       "      <th></th>\n",
       "      <th>request_id</th>\n",
       "      <th>request_datetime</th>\n",
       "      <th>completed_datetime</th>\n",
       "      <th>completed_duration_days</th>\n",
       "      <th>completed_duration_hours</th>\n",
       "      <th>agent_name</th>\n",
       "      <th>agent_code</th>\n",
       "      <th>branch_name</th>\n",
       "      <th>branch_code</th>\n",
       "      <th>sign_category</th>\n",
       "      <th>...</th>\n",
       "      <th>zone</th>\n",
       "      <th>zone_area</th>\n",
       "      <th>is_up</th>\n",
       "      <th>month_no</th>\n",
       "      <th>month</th>\n",
       "      <th>year</th>\n",
       "      <th>work_category</th>\n",
       "      <th>lead_time</th>\n",
       "      <th>request_date</th>\n",
       "      <th>completed_date</th>\n",
       "    </tr>\n",
       "  </thead>\n",
       "  <tbody>\n",
       "    <tr>\n",
       "      <th>0</th>\n",
       "      <td>9215</td>\n",
       "      <td>2020-10-13 13:36:00</td>\n",
       "      <td>2020-10-18 08:52:00</td>\n",
       "      <td>4.80</td>\n",
       "      <td>115.3</td>\n",
       "      <td>Oakley Property</td>\n",
       "      <td>OAK</td>\n",
       "      <td>OakleyProperty @BrightonLets</td>\n",
       "      <td>701</td>\n",
       "      <td>Letting</td>\n",
       "      <td>...</td>\n",
       "      <td>12</td>\n",
       "      <td>SE Sussex</td>\n",
       "      <td>1</td>\n",
       "      <td>10</td>\n",
       "      <td>Oct</td>\n",
       "      <td>2020</td>\n",
       "      <td>Letting</td>\n",
       "      <td>Within Week</td>\n",
       "      <td>2020-10-13</td>\n",
       "      <td>2020-10-18</td>\n",
       "    </tr>\n",
       "    <tr>\n",
       "      <th>1</th>\n",
       "      <td>8199</td>\n",
       "      <td>2020-11-26 20:33:00</td>\n",
       "      <td>2020-11-28 11:48:00</td>\n",
       "      <td>1.64</td>\n",
       "      <td>39.3</td>\n",
       "      <td>Lextons</td>\n",
       "      <td>LEX</td>\n",
       "      <td>Lextons @Hove</td>\n",
       "      <td>600</td>\n",
       "      <td>Sales</td>\n",
       "      <td>...</td>\n",
       "      <td>12</td>\n",
       "      <td>SE Sussex</td>\n",
       "      <td>1</td>\n",
       "      <td>11</td>\n",
       "      <td>Nov</td>\n",
       "      <td>2020</td>\n",
       "      <td>Sales</td>\n",
       "      <td>Standard 48hr</td>\n",
       "      <td>2020-11-26</td>\n",
       "      <td>2020-11-28</td>\n",
       "    </tr>\n",
       "    <tr>\n",
       "      <th>2</th>\n",
       "      <td>8199</td>\n",
       "      <td>2020-09-18 18:44:00</td>\n",
       "      <td>2020-09-19 14:15:00</td>\n",
       "      <td>0.81</td>\n",
       "      <td>19.5</td>\n",
       "      <td>Lextons</td>\n",
       "      <td>LEX</td>\n",
       "      <td>Lextons @Hove</td>\n",
       "      <td>600</td>\n",
       "      <td>Sales</td>\n",
       "      <td>...</td>\n",
       "      <td>12</td>\n",
       "      <td>SE Sussex</td>\n",
       "      <td>0</td>\n",
       "      <td>9</td>\n",
       "      <td>Sep</td>\n",
       "      <td>2020</td>\n",
       "      <td>Sales</td>\n",
       "      <td>Standard 48hr</td>\n",
       "      <td>2020-09-18</td>\n",
       "      <td>2020-09-19</td>\n",
       "    </tr>\n",
       "    <tr>\n",
       "      <th>3</th>\n",
       "      <td>9209</td>\n",
       "      <td>2020-10-13 13:29:00</td>\n",
       "      <td>2020-10-18 08:52:00</td>\n",
       "      <td>4.81</td>\n",
       "      <td>115.4</td>\n",
       "      <td>Oakley Property</td>\n",
       "      <td>OAK</td>\n",
       "      <td>OakleyProperty @BrightonLets</td>\n",
       "      <td>701</td>\n",
       "      <td>Letting</td>\n",
       "      <td>...</td>\n",
       "      <td>12</td>\n",
       "      <td>SE Sussex</td>\n",
       "      <td>0</td>\n",
       "      <td>10</td>\n",
       "      <td>Oct</td>\n",
       "      <td>2020</td>\n",
       "      <td>Letting</td>\n",
       "      <td>Within Week</td>\n",
       "      <td>2020-10-13</td>\n",
       "      <td>2020-10-18</td>\n",
       "    </tr>\n",
       "    <tr>\n",
       "      <th>4</th>\n",
       "      <td>9209</td>\n",
       "      <td>2021-03-09 11:05:00</td>\n",
       "      <td>2021-03-11 14:05:00</td>\n",
       "      <td>2.13</td>\n",
       "      <td>51.0</td>\n",
       "      <td>Oakley Property</td>\n",
       "      <td>OAK</td>\n",
       "      <td>OakleyProperty @BrightonLets</td>\n",
       "      <td>701</td>\n",
       "      <td>Letting</td>\n",
       "      <td>...</td>\n",
       "      <td>12</td>\n",
       "      <td>SE Sussex</td>\n",
       "      <td>0</td>\n",
       "      <td>3</td>\n",
       "      <td>Mar</td>\n",
       "      <td>2021</td>\n",
       "      <td>Letting</td>\n",
       "      <td>Within Week</td>\n",
       "      <td>2021-03-09</td>\n",
       "      <td>2021-03-11</td>\n",
       "    </tr>\n",
       "  </tbody>\n",
       "</table>\n",
       "<p>5 rows × 43 columns</p>\n",
       "</div>"
      ],
      "text/plain": [
       "   request_id    request_datetime  completed_datetime  \\\n",
       "0        9215 2020-10-13 13:36:00 2020-10-18 08:52:00   \n",
       "1        8199 2020-11-26 20:33:00 2020-11-28 11:48:00   \n",
       "2        8199 2020-09-18 18:44:00 2020-09-19 14:15:00   \n",
       "3        9209 2020-10-13 13:29:00 2020-10-18 08:52:00   \n",
       "4        9209 2021-03-09 11:05:00 2021-03-11 14:05:00   \n",
       "\n",
       "   completed_duration_days  completed_duration_hours       agent_name  \\\n",
       "0                     4.80                     115.3  Oakley Property   \n",
       "1                     1.64                      39.3          Lextons   \n",
       "2                     0.81                      19.5          Lextons   \n",
       "3                     4.81                     115.4  Oakley Property   \n",
       "4                     2.13                      51.0  Oakley Property   \n",
       "\n",
       "  agent_code                   branch_name  branch_code sign_category  ...  \\\n",
       "0        OAK  OakleyProperty @BrightonLets          701       Letting  ...   \n",
       "1        LEX                 Lextons @Hove          600         Sales  ...   \n",
       "2        LEX                 Lextons @Hove          600         Sales  ...   \n",
       "3        OAK  OakleyProperty @BrightonLets          701       Letting  ...   \n",
       "4        OAK  OakleyProperty @BrightonLets          701       Letting  ...   \n",
       "\n",
       "  zone  zone_area is_up month_no month  year work_category      lead_time  \\\n",
       "0   12  SE Sussex     1       10   Oct  2020       Letting    Within Week   \n",
       "1   12  SE Sussex     1       11   Nov  2020         Sales  Standard 48hr   \n",
       "2   12  SE Sussex     0        9   Sep  2020         Sales  Standard 48hr   \n",
       "3   12  SE Sussex     0       10   Oct  2020       Letting    Within Week   \n",
       "4   12  SE Sussex     0        3   Mar  2021       Letting    Within Week   \n",
       "\n",
       "   request_date  completed_date  \n",
       "0    2020-10-13      2020-10-18  \n",
       "1    2020-11-26      2020-11-28  \n",
       "2    2020-09-18      2020-09-19  \n",
       "3    2020-10-13      2020-10-18  \n",
       "4    2021-03-09      2021-03-11  \n",
       "\n",
       "[5 rows x 43 columns]"
      ]
     },
     "execution_count": 24,
     "metadata": {},
     "output_type": "execute_result"
    }
   ],
   "source": [
    "df_saleslet1['request_date'] = [d.date() for d in df_saleslet1['request_datetime']]\n",
    "df_saleslet1['completed_date'] = [d.date() for d in df_saleslet1['completed_datetime']]\n",
    "df_saleslet1.head()"
   ]
  },
  {
   "cell_type": "markdown",
   "id": "5374a906",
   "metadata": {},
   "source": [
    "### group by request_date to calculate number of requests per day"
   ]
  },
  {
   "cell_type": "code",
   "execution_count": 25,
   "id": "1cc17785",
   "metadata": {},
   "outputs": [
    {
     "name": "stderr",
     "output_type": "stream",
     "text": [
      "<ipython-input-25-d6e52b02b3dd>:1: SettingWithCopyWarning: \n",
      "A value is trying to be set on a copy of a slice from a DataFrame.\n",
      "Try using .loc[row_indexer,col_indexer] = value instead\n",
      "\n",
      "See the caveats in the documentation: https://pandas.pydata.org/pandas-docs/stable/user_guide/indexing.html#returning-a-view-versus-a-copy\n",
      "  df_saleslet1['requests_per_day'] = df_saleslet1.groupby(['request_date'])['quantity'].transform(np.size)\n"
     ]
    },
    {
     "data": {
      "text/html": [
       "<div>\n",
       "<style scoped>\n",
       "    .dataframe tbody tr th:only-of-type {\n",
       "        vertical-align: middle;\n",
       "    }\n",
       "\n",
       "    .dataframe tbody tr th {\n",
       "        vertical-align: top;\n",
       "    }\n",
       "\n",
       "    .dataframe thead th {\n",
       "        text-align: right;\n",
       "    }\n",
       "</style>\n",
       "<table border=\"1\" class=\"dataframe\">\n",
       "  <thead>\n",
       "    <tr style=\"text-align: right;\">\n",
       "      <th></th>\n",
       "      <th>request_id</th>\n",
       "      <th>request_datetime</th>\n",
       "      <th>completed_datetime</th>\n",
       "      <th>completed_duration_days</th>\n",
       "      <th>completed_duration_hours</th>\n",
       "      <th>agent_name</th>\n",
       "      <th>agent_code</th>\n",
       "      <th>branch_name</th>\n",
       "      <th>branch_code</th>\n",
       "      <th>sign_category</th>\n",
       "      <th>...</th>\n",
       "      <th>zone_area</th>\n",
       "      <th>is_up</th>\n",
       "      <th>month_no</th>\n",
       "      <th>month</th>\n",
       "      <th>year</th>\n",
       "      <th>work_category</th>\n",
       "      <th>lead_time</th>\n",
       "      <th>request_date</th>\n",
       "      <th>completed_date</th>\n",
       "      <th>requests_per_day</th>\n",
       "    </tr>\n",
       "  </thead>\n",
       "  <tbody>\n",
       "    <tr>\n",
       "      <th>0</th>\n",
       "      <td>9215</td>\n",
       "      <td>2020-10-13 13:36:00</td>\n",
       "      <td>2020-10-18 08:52:00</td>\n",
       "      <td>4.80</td>\n",
       "      <td>115.3</td>\n",
       "      <td>Oakley Property</td>\n",
       "      <td>OAK</td>\n",
       "      <td>OakleyProperty @BrightonLets</td>\n",
       "      <td>701</td>\n",
       "      <td>Letting</td>\n",
       "      <td>...</td>\n",
       "      <td>SE Sussex</td>\n",
       "      <td>1</td>\n",
       "      <td>10</td>\n",
       "      <td>Oct</td>\n",
       "      <td>2020</td>\n",
       "      <td>Letting</td>\n",
       "      <td>Within Week</td>\n",
       "      <td>2020-10-13</td>\n",
       "      <td>2020-10-18</td>\n",
       "      <td>83</td>\n",
       "    </tr>\n",
       "    <tr>\n",
       "      <th>1</th>\n",
       "      <td>8199</td>\n",
       "      <td>2020-11-26 20:33:00</td>\n",
       "      <td>2020-11-28 11:48:00</td>\n",
       "      <td>1.64</td>\n",
       "      <td>39.3</td>\n",
       "      <td>Lextons</td>\n",
       "      <td>LEX</td>\n",
       "      <td>Lextons @Hove</td>\n",
       "      <td>600</td>\n",
       "      <td>Sales</td>\n",
       "      <td>...</td>\n",
       "      <td>SE Sussex</td>\n",
       "      <td>1</td>\n",
       "      <td>11</td>\n",
       "      <td>Nov</td>\n",
       "      <td>2020</td>\n",
       "      <td>Sales</td>\n",
       "      <td>Standard 48hr</td>\n",
       "      <td>2020-11-26</td>\n",
       "      <td>2020-11-28</td>\n",
       "      <td>68</td>\n",
       "    </tr>\n",
       "    <tr>\n",
       "      <th>2</th>\n",
       "      <td>8199</td>\n",
       "      <td>2020-09-18 18:44:00</td>\n",
       "      <td>2020-09-19 14:15:00</td>\n",
       "      <td>0.81</td>\n",
       "      <td>19.5</td>\n",
       "      <td>Lextons</td>\n",
       "      <td>LEX</td>\n",
       "      <td>Lextons @Hove</td>\n",
       "      <td>600</td>\n",
       "      <td>Sales</td>\n",
       "      <td>...</td>\n",
       "      <td>SE Sussex</td>\n",
       "      <td>0</td>\n",
       "      <td>9</td>\n",
       "      <td>Sep</td>\n",
       "      <td>2020</td>\n",
       "      <td>Sales</td>\n",
       "      <td>Standard 48hr</td>\n",
       "      <td>2020-09-18</td>\n",
       "      <td>2020-09-19</td>\n",
       "      <td>78</td>\n",
       "    </tr>\n",
       "    <tr>\n",
       "      <th>3</th>\n",
       "      <td>9209</td>\n",
       "      <td>2020-10-13 13:29:00</td>\n",
       "      <td>2020-10-18 08:52:00</td>\n",
       "      <td>4.81</td>\n",
       "      <td>115.4</td>\n",
       "      <td>Oakley Property</td>\n",
       "      <td>OAK</td>\n",
       "      <td>OakleyProperty @BrightonLets</td>\n",
       "      <td>701</td>\n",
       "      <td>Letting</td>\n",
       "      <td>...</td>\n",
       "      <td>SE Sussex</td>\n",
       "      <td>0</td>\n",
       "      <td>10</td>\n",
       "      <td>Oct</td>\n",
       "      <td>2020</td>\n",
       "      <td>Letting</td>\n",
       "      <td>Within Week</td>\n",
       "      <td>2020-10-13</td>\n",
       "      <td>2020-10-18</td>\n",
       "      <td>83</td>\n",
       "    </tr>\n",
       "    <tr>\n",
       "      <th>4</th>\n",
       "      <td>9209</td>\n",
       "      <td>2021-03-09 11:05:00</td>\n",
       "      <td>2021-03-11 14:05:00</td>\n",
       "      <td>2.13</td>\n",
       "      <td>51.0</td>\n",
       "      <td>Oakley Property</td>\n",
       "      <td>OAK</td>\n",
       "      <td>OakleyProperty @BrightonLets</td>\n",
       "      <td>701</td>\n",
       "      <td>Letting</td>\n",
       "      <td>...</td>\n",
       "      <td>SE Sussex</td>\n",
       "      <td>0</td>\n",
       "      <td>3</td>\n",
       "      <td>Mar</td>\n",
       "      <td>2021</td>\n",
       "      <td>Letting</td>\n",
       "      <td>Within Week</td>\n",
       "      <td>2021-03-09</td>\n",
       "      <td>2021-03-11</td>\n",
       "      <td>73</td>\n",
       "    </tr>\n",
       "  </tbody>\n",
       "</table>\n",
       "<p>5 rows × 44 columns</p>\n",
       "</div>"
      ],
      "text/plain": [
       "   request_id    request_datetime  completed_datetime  \\\n",
       "0        9215 2020-10-13 13:36:00 2020-10-18 08:52:00   \n",
       "1        8199 2020-11-26 20:33:00 2020-11-28 11:48:00   \n",
       "2        8199 2020-09-18 18:44:00 2020-09-19 14:15:00   \n",
       "3        9209 2020-10-13 13:29:00 2020-10-18 08:52:00   \n",
       "4        9209 2021-03-09 11:05:00 2021-03-11 14:05:00   \n",
       "\n",
       "   completed_duration_days  completed_duration_hours       agent_name  \\\n",
       "0                     4.80                     115.3  Oakley Property   \n",
       "1                     1.64                      39.3          Lextons   \n",
       "2                     0.81                      19.5          Lextons   \n",
       "3                     4.81                     115.4  Oakley Property   \n",
       "4                     2.13                      51.0  Oakley Property   \n",
       "\n",
       "  agent_code                   branch_name  branch_code sign_category  ...  \\\n",
       "0        OAK  OakleyProperty @BrightonLets          701       Letting  ...   \n",
       "1        LEX                 Lextons @Hove          600         Sales  ...   \n",
       "2        LEX                 Lextons @Hove          600         Sales  ...   \n",
       "3        OAK  OakleyProperty @BrightonLets          701       Letting  ...   \n",
       "4        OAK  OakleyProperty @BrightonLets          701       Letting  ...   \n",
       "\n",
       "   zone_area is_up month_no month  year work_category      lead_time  \\\n",
       "0  SE Sussex     1       10   Oct  2020       Letting    Within Week   \n",
       "1  SE Sussex     1       11   Nov  2020         Sales  Standard 48hr   \n",
       "2  SE Sussex     0        9   Sep  2020         Sales  Standard 48hr   \n",
       "3  SE Sussex     0       10   Oct  2020       Letting    Within Week   \n",
       "4  SE Sussex     0        3   Mar  2021       Letting    Within Week   \n",
       "\n",
       "  request_date  completed_date  requests_per_day  \n",
       "0   2020-10-13      2020-10-18                83  \n",
       "1   2020-11-26      2020-11-28                68  \n",
       "2   2020-09-18      2020-09-19                78  \n",
       "3   2020-10-13      2020-10-18                83  \n",
       "4   2021-03-09      2021-03-11                73  \n",
       "\n",
       "[5 rows x 44 columns]"
      ]
     },
     "execution_count": 25,
     "metadata": {},
     "output_type": "execute_result"
    }
   ],
   "source": [
    "df_saleslet1['requests_per_day'] = df_saleslet1.groupby(['request_date'])['quantity'].transform(np.size)\n",
    "df_saleslet1.head()"
   ]
  },
  {
   "cell_type": "markdown",
   "id": "da264533",
   "metadata": {},
   "source": [
    "### group by completed_date to calculate number of requests completed per day"
   ]
  },
  {
   "cell_type": "code",
   "execution_count": 26,
   "id": "269e3d5f",
   "metadata": {},
   "outputs": [
    {
     "name": "stderr",
     "output_type": "stream",
     "text": [
      "<ipython-input-26-542702851d40>:1: SettingWithCopyWarning: \n",
      "A value is trying to be set on a copy of a slice from a DataFrame.\n",
      "Try using .loc[row_indexer,col_indexer] = value instead\n",
      "\n",
      "See the caveats in the documentation: https://pandas.pydata.org/pandas-docs/stable/user_guide/indexing.html#returning-a-view-versus-a-copy\n",
      "  df_saleslet1['completed_per_day'] = df_saleslet1.groupby(['completed_date'])['quantity'].transform(np.size)\n"
     ]
    },
    {
     "data": {
      "text/html": [
       "<div>\n",
       "<style scoped>\n",
       "    .dataframe tbody tr th:only-of-type {\n",
       "        vertical-align: middle;\n",
       "    }\n",
       "\n",
       "    .dataframe tbody tr th {\n",
       "        vertical-align: top;\n",
       "    }\n",
       "\n",
       "    .dataframe thead th {\n",
       "        text-align: right;\n",
       "    }\n",
       "</style>\n",
       "<table border=\"1\" class=\"dataframe\">\n",
       "  <thead>\n",
       "    <tr style=\"text-align: right;\">\n",
       "      <th></th>\n",
       "      <th>request_id</th>\n",
       "      <th>request_datetime</th>\n",
       "      <th>completed_datetime</th>\n",
       "      <th>completed_duration_days</th>\n",
       "      <th>completed_duration_hours</th>\n",
       "      <th>agent_name</th>\n",
       "      <th>agent_code</th>\n",
       "      <th>branch_name</th>\n",
       "      <th>branch_code</th>\n",
       "      <th>sign_category</th>\n",
       "      <th>...</th>\n",
       "      <th>is_up</th>\n",
       "      <th>month_no</th>\n",
       "      <th>month</th>\n",
       "      <th>year</th>\n",
       "      <th>work_category</th>\n",
       "      <th>lead_time</th>\n",
       "      <th>request_date</th>\n",
       "      <th>completed_date</th>\n",
       "      <th>requests_per_day</th>\n",
       "      <th>completed_per_day</th>\n",
       "    </tr>\n",
       "  </thead>\n",
       "  <tbody>\n",
       "    <tr>\n",
       "      <th>0</th>\n",
       "      <td>9215</td>\n",
       "      <td>2020-10-13 13:36:00</td>\n",
       "      <td>2020-10-18 08:52:00</td>\n",
       "      <td>4.80</td>\n",
       "      <td>115.3</td>\n",
       "      <td>Oakley Property</td>\n",
       "      <td>OAK</td>\n",
       "      <td>OakleyProperty @BrightonLets</td>\n",
       "      <td>701</td>\n",
       "      <td>Letting</td>\n",
       "      <td>...</td>\n",
       "      <td>1</td>\n",
       "      <td>10</td>\n",
       "      <td>Oct</td>\n",
       "      <td>2020</td>\n",
       "      <td>Letting</td>\n",
       "      <td>Within Week</td>\n",
       "      <td>2020-10-13</td>\n",
       "      <td>2020-10-18</td>\n",
       "      <td>83</td>\n",
       "      <td>26</td>\n",
       "    </tr>\n",
       "    <tr>\n",
       "      <th>1</th>\n",
       "      <td>8199</td>\n",
       "      <td>2020-11-26 20:33:00</td>\n",
       "      <td>2020-11-28 11:48:00</td>\n",
       "      <td>1.64</td>\n",
       "      <td>39.3</td>\n",
       "      <td>Lextons</td>\n",
       "      <td>LEX</td>\n",
       "      <td>Lextons @Hove</td>\n",
       "      <td>600</td>\n",
       "      <td>Sales</td>\n",
       "      <td>...</td>\n",
       "      <td>1</td>\n",
       "      <td>11</td>\n",
       "      <td>Nov</td>\n",
       "      <td>2020</td>\n",
       "      <td>Sales</td>\n",
       "      <td>Standard 48hr</td>\n",
       "      <td>2020-11-26</td>\n",
       "      <td>2020-11-28</td>\n",
       "      <td>68</td>\n",
       "      <td>90</td>\n",
       "    </tr>\n",
       "    <tr>\n",
       "      <th>2</th>\n",
       "      <td>8199</td>\n",
       "      <td>2020-09-18 18:44:00</td>\n",
       "      <td>2020-09-19 14:15:00</td>\n",
       "      <td>0.81</td>\n",
       "      <td>19.5</td>\n",
       "      <td>Lextons</td>\n",
       "      <td>LEX</td>\n",
       "      <td>Lextons @Hove</td>\n",
       "      <td>600</td>\n",
       "      <td>Sales</td>\n",
       "      <td>...</td>\n",
       "      <td>0</td>\n",
       "      <td>9</td>\n",
       "      <td>Sep</td>\n",
       "      <td>2020</td>\n",
       "      <td>Sales</td>\n",
       "      <td>Standard 48hr</td>\n",
       "      <td>2020-09-18</td>\n",
       "      <td>2020-09-19</td>\n",
       "      <td>78</td>\n",
       "      <td>66</td>\n",
       "    </tr>\n",
       "    <tr>\n",
       "      <th>3</th>\n",
       "      <td>9209</td>\n",
       "      <td>2020-10-13 13:29:00</td>\n",
       "      <td>2020-10-18 08:52:00</td>\n",
       "      <td>4.81</td>\n",
       "      <td>115.4</td>\n",
       "      <td>Oakley Property</td>\n",
       "      <td>OAK</td>\n",
       "      <td>OakleyProperty @BrightonLets</td>\n",
       "      <td>701</td>\n",
       "      <td>Letting</td>\n",
       "      <td>...</td>\n",
       "      <td>0</td>\n",
       "      <td>10</td>\n",
       "      <td>Oct</td>\n",
       "      <td>2020</td>\n",
       "      <td>Letting</td>\n",
       "      <td>Within Week</td>\n",
       "      <td>2020-10-13</td>\n",
       "      <td>2020-10-18</td>\n",
       "      <td>83</td>\n",
       "      <td>26</td>\n",
       "    </tr>\n",
       "    <tr>\n",
       "      <th>4</th>\n",
       "      <td>9209</td>\n",
       "      <td>2021-03-09 11:05:00</td>\n",
       "      <td>2021-03-11 14:05:00</td>\n",
       "      <td>2.13</td>\n",
       "      <td>51.0</td>\n",
       "      <td>Oakley Property</td>\n",
       "      <td>OAK</td>\n",
       "      <td>OakleyProperty @BrightonLets</td>\n",
       "      <td>701</td>\n",
       "      <td>Letting</td>\n",
       "      <td>...</td>\n",
       "      <td>0</td>\n",
       "      <td>3</td>\n",
       "      <td>Mar</td>\n",
       "      <td>2021</td>\n",
       "      <td>Letting</td>\n",
       "      <td>Within Week</td>\n",
       "      <td>2021-03-09</td>\n",
       "      <td>2021-03-11</td>\n",
       "      <td>73</td>\n",
       "      <td>122</td>\n",
       "    </tr>\n",
       "  </tbody>\n",
       "</table>\n",
       "<p>5 rows × 45 columns</p>\n",
       "</div>"
      ],
      "text/plain": [
       "   request_id    request_datetime  completed_datetime  \\\n",
       "0        9215 2020-10-13 13:36:00 2020-10-18 08:52:00   \n",
       "1        8199 2020-11-26 20:33:00 2020-11-28 11:48:00   \n",
       "2        8199 2020-09-18 18:44:00 2020-09-19 14:15:00   \n",
       "3        9209 2020-10-13 13:29:00 2020-10-18 08:52:00   \n",
       "4        9209 2021-03-09 11:05:00 2021-03-11 14:05:00   \n",
       "\n",
       "   completed_duration_days  completed_duration_hours       agent_name  \\\n",
       "0                     4.80                     115.3  Oakley Property   \n",
       "1                     1.64                      39.3          Lextons   \n",
       "2                     0.81                      19.5          Lextons   \n",
       "3                     4.81                     115.4  Oakley Property   \n",
       "4                     2.13                      51.0  Oakley Property   \n",
       "\n",
       "  agent_code                   branch_name  branch_code sign_category  ...  \\\n",
       "0        OAK  OakleyProperty @BrightonLets          701       Letting  ...   \n",
       "1        LEX                 Lextons @Hove          600         Sales  ...   \n",
       "2        LEX                 Lextons @Hove          600         Sales  ...   \n",
       "3        OAK  OakleyProperty @BrightonLets          701       Letting  ...   \n",
       "4        OAK  OakleyProperty @BrightonLets          701       Letting  ...   \n",
       "\n",
       "  is_up month_no month  year work_category      lead_time request_date  \\\n",
       "0     1       10   Oct  2020       Letting    Within Week   2020-10-13   \n",
       "1     1       11   Nov  2020         Sales  Standard 48hr   2020-11-26   \n",
       "2     0        9   Sep  2020         Sales  Standard 48hr   2020-09-18   \n",
       "3     0       10   Oct  2020       Letting    Within Week   2020-10-13   \n",
       "4     0        3   Mar  2021       Letting    Within Week   2021-03-09   \n",
       "\n",
       "  completed_date  requests_per_day  completed_per_day  \n",
       "0     2020-10-18                83                 26  \n",
       "1     2020-11-28                68                 90  \n",
       "2     2020-09-19                78                 66  \n",
       "3     2020-10-18                83                 26  \n",
       "4     2021-03-11                73                122  \n",
       "\n",
       "[5 rows x 45 columns]"
      ]
     },
     "execution_count": 26,
     "metadata": {},
     "output_type": "execute_result"
    }
   ],
   "source": [
    "df_saleslet1['completed_per_day'] = df_saleslet1.groupby(['completed_date'])['quantity'].transform(np.size)\n",
    "df_saleslet1.head()"
   ]
  },
  {
   "cell_type": "markdown",
   "id": "243b4444",
   "metadata": {},
   "source": [
    "### display as histogram: number of sign requests made each day"
   ]
  },
  {
   "cell_type": "code",
   "execution_count": 27,
   "id": "f1b05f1b",
   "metadata": {},
   "outputs": [
    {
     "data": {
      "image/png": "[encoded data removed]",
      "text/plain": [
       "<Figure size 432x288 with 1 Axes>"
      ]
     },
     "metadata": {
      "needs_background": "light"
     },
     "output_type": "display_data"
    }
   ],
   "source": [
    "hist_request_per_day = sns.histplot(df_saleslet1['requests_per_day'], bins=20)\n",
    "plt.title('Number of Sign Requests Received per Day')\n",
    "plt.xlabel('Number of Requests per Day')\n",
    "\n",
    "hist_request_per_day.figure.savefig(os.path.join(vizpath,'Qu.7) Number of Sign Requests Received per Day.png'))"
   ]
  },
  {
   "cell_type": "markdown",
   "id": "d786ac4c",
   "metadata": {},
   "source": [
    "### display as histogram: number of sign request completed each day"
   ]
  },
  {
   "cell_type": "code",
   "execution_count": 28,
   "id": "bdfe2a96",
   "metadata": {},
   "outputs": [
    {
     "data": {
      "image/png": "[encoded data removed]",
      "text/plain": [
       "<Figure size 432x288 with 1 Axes>"
      ]
     },
     "metadata": {
      "needs_background": "light"
     },
     "output_type": "display_data"
    }
   ],
   "source": [
    "hist_completed_per_day = sns.histplot(df_saleslet1['completed_per_day'], bins=20)\n",
    "plt.title('Number of Sign Requests Completed per Day')\n",
    "plt.xlabel('Number of Completed Requests per Day')\n",
    "\n",
    "hist_completed_per_day.figure.savefig(os.path.join(vizpath,'Qu.8) Number of Sign Requests Completed per Day.png'))"
   ]
  },
  {
   "cell_type": "markdown",
   "id": "97fbf654",
   "metadata": {},
   "source": [
    "### review descriptive statistics"
   ]
  },
  {
   "cell_type": "code",
   "execution_count": 29,
   "id": "4b2c5098",
   "metadata": {},
   "outputs": [
    {
     "data": {
      "text/html": [
       "<div>\n",
       "<style scoped>\n",
       "    .dataframe tbody tr th:only-of-type {\n",
       "        vertical-align: middle;\n",
       "    }\n",
       "\n",
       "    .dataframe tbody tr th {\n",
       "        vertical-align: top;\n",
       "    }\n",
       "\n",
       "    .dataframe thead th {\n",
       "        text-align: right;\n",
       "    }\n",
       "</style>\n",
       "<table border=\"1\" class=\"dataframe\">\n",
       "  <thead>\n",
       "    <tr style=\"text-align: right;\">\n",
       "      <th></th>\n",
       "      <th>requests_per_day</th>\n",
       "      <th>completed_per_day</th>\n",
       "    </tr>\n",
       "  </thead>\n",
       "  <tbody>\n",
       "    <tr>\n",
       "      <th>count</th>\n",
       "      <td>26920.000000</td>\n",
       "      <td>26920.000000</td>\n",
       "    </tr>\n",
       "    <tr>\n",
       "      <th>mean</th>\n",
       "      <td>65.736701</td>\n",
       "      <td>68.990565</td>\n",
       "    </tr>\n",
       "    <tr>\n",
       "      <th>std</th>\n",
       "      <td>23.071336</td>\n",
       "      <td>29.475244</td>\n",
       "    </tr>\n",
       "    <tr>\n",
       "      <th>min</th>\n",
       "      <td>1.000000</td>\n",
       "      <td>1.000000</td>\n",
       "    </tr>\n",
       "    <tr>\n",
       "      <th>25%</th>\n",
       "      <td>53.000000</td>\n",
       "      <td>43.000000</td>\n",
       "    </tr>\n",
       "    <tr>\n",
       "      <th>50%</th>\n",
       "      <td>66.000000</td>\n",
       "      <td>70.000000</td>\n",
       "    </tr>\n",
       "    <tr>\n",
       "      <th>75%</th>\n",
       "      <td>76.000000</td>\n",
       "      <td>92.000000</td>\n",
       "    </tr>\n",
       "    <tr>\n",
       "      <th>max</th>\n",
       "      <td>169.000000</td>\n",
       "      <td>130.000000</td>\n",
       "    </tr>\n",
       "  </tbody>\n",
       "</table>\n",
       "</div>"
      ],
      "text/plain": [
       "       requests_per_day  completed_per_day\n",
       "count      26920.000000       26920.000000\n",
       "mean          65.736701          68.990565\n",
       "std           23.071336          29.475244\n",
       "min            1.000000           1.000000\n",
       "25%           53.000000          43.000000\n",
       "50%           66.000000          70.000000\n",
       "75%           76.000000          92.000000\n",
       "max          169.000000         130.000000"
      ]
     },
     "execution_count": 29,
     "metadata": {},
     "output_type": "execute_result"
    }
   ],
   "source": [
    "df_saleslet1[['requests_per_day','completed_per_day']].describe()"
   ]
  },
  {
   "cell_type": "markdown",
   "id": "7d93a660",
   "metadata": {},
   "source": [
    "### export to CSV for review"
   ]
  },
  {
   "cell_type": "code",
   "execution_count": 30,
   "id": "a87488ff",
   "metadata": {},
   "outputs": [
    {
     "data": {
      "text/plain": [
       "(26920, 45)"
      ]
     },
     "execution_count": 30,
     "metadata": {},
     "output_type": "execute_result"
    }
   ],
   "source": [
    "df_saleslet1.shape"
   ]
  },
  {
   "cell_type": "code",
   "execution_count": 31,
   "id": "072c842f",
   "metadata": {},
   "outputs": [],
   "source": [
    "df_saleslet1.to_csv(os.path.join(dataset,'stone_signs_portal_v3.2_saleslets_lead_perday - 26.920.csv'), index=False)"
   ]
  }
 ],
 "metadata": {
  "kernelspec": {
   "display_name": "Python 3",
   "language": "python",
   "name": "python3"
  },
  "language_info": {
   "codemirror_mode": {
    "name": "ipython",
    "version": 3
   },
   "file_extension": ".py",
   "mimetype": "text/x-python",
   "name": "python",
   "nbconvert_exporter": "python",
   "pygments_lexer": "ipython3",
   "version": "3.8.8"
  }
 },
 "nbformat": 4,
 "nbformat_minor": 5
}
