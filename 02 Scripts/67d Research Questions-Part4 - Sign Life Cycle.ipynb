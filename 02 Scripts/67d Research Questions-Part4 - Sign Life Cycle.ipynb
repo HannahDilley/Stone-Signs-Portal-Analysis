{
 "cells": [
  {
   "cell_type": "markdown",
   "id": "137a0d58",
   "metadata": {},
   "source": [
    "## Research Questions – Part4 – Sign Life Cycle\n",
    "1.\tImport libraries & set directory paths\n",
    "2.\tImport Portal data, check dimensions and data types\n",
    "    - Import: stone_signs_portal_v3.2_saleslets_lead_perday - 26,920.csv\n",
    "3.\tQu.11) How many signs are there in a sign life-cycle?\n",
    "    -\tCalculate the number of signs per cycle based on postcode, address_1, agent_name & sign_category.\n",
    "    -\tExclude records where sign is still up AND sign_count <3, representing incomplete cycles still below target.\n",
    "    -\tDisplay as histogram.\n",
    "    -\tCategorise cycle_count for pie chart viewing.\n",
    "4.\tExport to: stone_signs_portal_v4.0_saleslets_lifecycle_target.csv\n"
   ]
  },
  {
   "cell_type": "markdown",
   "id": "dfb595f1",
   "metadata": {},
   "source": [
    "### import libraries"
   ]
  },
  {
   "cell_type": "code",
   "execution_count": 1,
   "id": "dca40f1a",
   "metadata": {},
   "outputs": [],
   "source": [
    "import pandas as pd\n",
    "import numpy as np\n",
    "import seaborn as sns\n",
    "import matplotlib.pyplot as plt\n",
    "import matplotlib\n",
    "import os\n",
    "from datetime import date\n",
    "import datetime\n",
    "import matplotlib.patches as mpatches"
   ]
  },
  {
   "cell_type": "markdown",
   "id": "3052e3e9",
   "metadata": {},
   "source": [
    "### set directory paths"
   ]
  },
  {
   "cell_type": "code",
   "execution_count": 2,
   "id": "e6e7142f",
   "metadata": {},
   "outputs": [
    {
     "data": {
      "text/plain": [
       "'D:\\\\My Documents\\\\! Omnicompetent Ltd\\\\Career Foundry - Data Analytics\\\\Data Analytics Course\\\\60 Advanced Analytics and Dashboard Design\\\\Stone Signs Portal Analysis\\\\02 Data'"
      ]
     },
     "execution_count": 2,
     "metadata": {},
     "output_type": "execute_result"
    }
   ],
   "source": [
    "dataset = r'D:\\My Documents\\! Omnicompetent Ltd\\Career Foundry - Data Analytics\\Data Analytics Course\\60 Advanced Analytics and Dashboard Design\\Stone Signs Portal Analysis\\02 Data'\n",
    "dataset"
   ]
  },
  {
   "cell_type": "code",
   "execution_count": 3,
   "id": "c1558afe",
   "metadata": {},
   "outputs": [
    {
     "data": {
      "text/plain": [
       "'D:\\\\My Documents\\\\! Omnicompetent Ltd\\\\Career Foundry - Data Analytics\\\\Data Analytics Course\\\\60 Advanced Analytics and Dashboard Design\\\\Stone Signs Portal Analysis\\\\04 Analysis'"
      ]
     },
     "execution_count": 3,
     "metadata": {},
     "output_type": "execute_result"
    }
   ],
   "source": [
    "vizpath = r'D:\\My Documents\\! Omnicompetent Ltd\\Career Foundry - Data Analytics\\Data Analytics Course\\60 Advanced Analytics and Dashboard Design\\Stone Signs Portal Analysis\\04 Analysis'\n",
    "vizpath"
   ]
  },
  {
   "cell_type": "markdown",
   "id": "74b3fa37",
   "metadata": {},
   "source": [
    "## Import Portal Data"
   ]
  },
  {
   "cell_type": "code",
   "execution_count": 4,
   "id": "d63bf0b0",
   "metadata": {},
   "outputs": [
    {
     "name": "stderr",
     "output_type": "stream",
     "text": [
      "C:\\ProgramData\\Anaconda3\\lib\\site-packages\\IPython\\core\\interactiveshell.py:3165: DtypeWarning: Columns (33) have mixed types.Specify dtype option on import or set low_memory=False.\n",
      "  has_raised = await self.run_ast_nodes(code_ast.body, cell_name,\n"
     ]
    },
    {
     "data": {
      "text/html": [
       "<div>\n",
       "<style scoped>\n",
       "    .dataframe tbody tr th:only-of-type {\n",
       "        vertical-align: middle;\n",
       "    }\n",
       "\n",
       "    .dataframe tbody tr th {\n",
       "        vertical-align: top;\n",
       "    }\n",
       "\n",
       "    .dataframe thead th {\n",
       "        text-align: right;\n",
       "    }\n",
       "</style>\n",
       "<table border=\"1\" class=\"dataframe\">\n",
       "  <thead>\n",
       "    <tr style=\"text-align: right;\">\n",
       "      <th></th>\n",
       "      <th>request_id</th>\n",
       "      <th>request_datetime</th>\n",
       "      <th>completed_datetime</th>\n",
       "      <th>completed_duration_days</th>\n",
       "      <th>completed_duration_hours</th>\n",
       "      <th>agent_name</th>\n",
       "      <th>agent_code</th>\n",
       "      <th>branch_name</th>\n",
       "      <th>branch_code</th>\n",
       "      <th>sign_category</th>\n",
       "      <th>...</th>\n",
       "      <th>is_up</th>\n",
       "      <th>month_no</th>\n",
       "      <th>month</th>\n",
       "      <th>year</th>\n",
       "      <th>work_category</th>\n",
       "      <th>lead_time</th>\n",
       "      <th>request_date</th>\n",
       "      <th>completed_date</th>\n",
       "      <th>requests_per_day</th>\n",
       "      <th>completed_per_day</th>\n",
       "    </tr>\n",
       "  </thead>\n",
       "  <tbody>\n",
       "    <tr>\n",
       "      <th>0</th>\n",
       "      <td>9215</td>\n",
       "      <td>2020-10-13 13:36:00</td>\n",
       "      <td>2020-10-18 08:52:00</td>\n",
       "      <td>4.80</td>\n",
       "      <td>115.3</td>\n",
       "      <td>Oakley Property</td>\n",
       "      <td>OAK</td>\n",
       "      <td>OakleyProperty @BrightonLets</td>\n",
       "      <td>701</td>\n",
       "      <td>Letting</td>\n",
       "      <td>...</td>\n",
       "      <td>1</td>\n",
       "      <td>10</td>\n",
       "      <td>Oct</td>\n",
       "      <td>2020</td>\n",
       "      <td>Letting</td>\n",
       "      <td>Within Week</td>\n",
       "      <td>2020-10-13</td>\n",
       "      <td>2020-10-18</td>\n",
       "      <td>83</td>\n",
       "      <td>26</td>\n",
       "    </tr>\n",
       "    <tr>\n",
       "      <th>1</th>\n",
       "      <td>8199</td>\n",
       "      <td>2020-11-26 20:33:00</td>\n",
       "      <td>2020-11-28 11:48:00</td>\n",
       "      <td>1.64</td>\n",
       "      <td>39.3</td>\n",
       "      <td>Lextons</td>\n",
       "      <td>LEX</td>\n",
       "      <td>Lextons @Hove</td>\n",
       "      <td>600</td>\n",
       "      <td>Sales</td>\n",
       "      <td>...</td>\n",
       "      <td>1</td>\n",
       "      <td>11</td>\n",
       "      <td>Nov</td>\n",
       "      <td>2020</td>\n",
       "      <td>Sales</td>\n",
       "      <td>Standard 48hr</td>\n",
       "      <td>2020-11-26</td>\n",
       "      <td>2020-11-28</td>\n",
       "      <td>68</td>\n",
       "      <td>90</td>\n",
       "    </tr>\n",
       "    <tr>\n",
       "      <th>2</th>\n",
       "      <td>8199</td>\n",
       "      <td>2020-09-18 18:44:00</td>\n",
       "      <td>2020-09-19 14:15:00</td>\n",
       "      <td>0.81</td>\n",
       "      <td>19.5</td>\n",
       "      <td>Lextons</td>\n",
       "      <td>LEX</td>\n",
       "      <td>Lextons @Hove</td>\n",
       "      <td>600</td>\n",
       "      <td>Sales</td>\n",
       "      <td>...</td>\n",
       "      <td>0</td>\n",
       "      <td>9</td>\n",
       "      <td>Sep</td>\n",
       "      <td>2020</td>\n",
       "      <td>Sales</td>\n",
       "      <td>Standard 48hr</td>\n",
       "      <td>2020-09-18</td>\n",
       "      <td>2020-09-19</td>\n",
       "      <td>78</td>\n",
       "      <td>66</td>\n",
       "    </tr>\n",
       "    <tr>\n",
       "      <th>3</th>\n",
       "      <td>9209</td>\n",
       "      <td>2020-10-13 13:29:00</td>\n",
       "      <td>2020-10-18 08:52:00</td>\n",
       "      <td>4.81</td>\n",
       "      <td>115.4</td>\n",
       "      <td>Oakley Property</td>\n",
       "      <td>OAK</td>\n",
       "      <td>OakleyProperty @BrightonLets</td>\n",
       "      <td>701</td>\n",
       "      <td>Letting</td>\n",
       "      <td>...</td>\n",
       "      <td>0</td>\n",
       "      <td>10</td>\n",
       "      <td>Oct</td>\n",
       "      <td>2020</td>\n",
       "      <td>Letting</td>\n",
       "      <td>Within Week</td>\n",
       "      <td>2020-10-13</td>\n",
       "      <td>2020-10-18</td>\n",
       "      <td>83</td>\n",
       "      <td>26</td>\n",
       "    </tr>\n",
       "    <tr>\n",
       "      <th>4</th>\n",
       "      <td>9209</td>\n",
       "      <td>2021-03-09 11:05:00</td>\n",
       "      <td>2021-03-11 14:05:00</td>\n",
       "      <td>2.13</td>\n",
       "      <td>51.0</td>\n",
       "      <td>Oakley Property</td>\n",
       "      <td>OAK</td>\n",
       "      <td>OakleyProperty @BrightonLets</td>\n",
       "      <td>701</td>\n",
       "      <td>Letting</td>\n",
       "      <td>...</td>\n",
       "      <td>0</td>\n",
       "      <td>3</td>\n",
       "      <td>Mar</td>\n",
       "      <td>2021</td>\n",
       "      <td>Letting</td>\n",
       "      <td>Within Week</td>\n",
       "      <td>2021-03-09</td>\n",
       "      <td>2021-03-11</td>\n",
       "      <td>73</td>\n",
       "      <td>122</td>\n",
       "    </tr>\n",
       "  </tbody>\n",
       "</table>\n",
       "<p>5 rows × 45 columns</p>\n",
       "</div>"
      ],
      "text/plain": [
       "   request_id     request_datetime   completed_datetime  \\\n",
       "0        9215  2020-10-13 13:36:00  2020-10-18 08:52:00   \n",
       "1        8199  2020-11-26 20:33:00  2020-11-28 11:48:00   \n",
       "2        8199  2020-09-18 18:44:00  2020-09-19 14:15:00   \n",
       "3        9209  2020-10-13 13:29:00  2020-10-18 08:52:00   \n",
       "4        9209  2021-03-09 11:05:00  2021-03-11 14:05:00   \n",
       "\n",
       "   completed_duration_days  completed_duration_hours       agent_name  \\\n",
       "0                     4.80                     115.3  Oakley Property   \n",
       "1                     1.64                      39.3          Lextons   \n",
       "2                     0.81                      19.5          Lextons   \n",
       "3                     4.81                     115.4  Oakley Property   \n",
       "4                     2.13                      51.0  Oakley Property   \n",
       "\n",
       "  agent_code                   branch_name  branch_code sign_category  ...  \\\n",
       "0        OAK  OakleyProperty @BrightonLets          701       Letting  ...   \n",
       "1        LEX                 Lextons @Hove          600         Sales  ...   \n",
       "2        LEX                 Lextons @Hove          600         Sales  ...   \n",
       "3        OAK  OakleyProperty @BrightonLets          701       Letting  ...   \n",
       "4        OAK  OakleyProperty @BrightonLets          701       Letting  ...   \n",
       "\n",
       "  is_up  month_no month  year work_category      lead_time request_date  \\\n",
       "0     1        10   Oct  2020       Letting    Within Week   2020-10-13   \n",
       "1     1        11   Nov  2020         Sales  Standard 48hr   2020-11-26   \n",
       "2     0         9   Sep  2020         Sales  Standard 48hr   2020-09-18   \n",
       "3     0        10   Oct  2020       Letting    Within Week   2020-10-13   \n",
       "4     0         3   Mar  2021       Letting    Within Week   2021-03-09   \n",
       "\n",
       "  completed_date  requests_per_day  completed_per_day  \n",
       "0     2020-10-18                83                 26  \n",
       "1     2020-11-28                68                 90  \n",
       "2     2020-09-19                78                 66  \n",
       "3     2020-10-18                83                 26  \n",
       "4     2021-03-11                73                122  \n",
       "\n",
       "[5 rows x 45 columns]"
      ]
     },
     "execution_count": 4,
     "metadata": {},
     "output_type": "execute_result"
    }
   ],
   "source": [
    "df_saleslet = pd.read_csv(os.path.join(dataset,'stone_signs_portal_v3.2_saleslets_lead_perday - 26,920.csv'))\n",
    "df_saleslet.head()"
   ]
  },
  {
   "cell_type": "markdown",
   "id": "5c6f5f05",
   "metadata": {},
   "source": [
    "### check dimensions & data types"
   ]
  },
  {
   "cell_type": "code",
   "execution_count": 5,
   "id": "86a66a6a",
   "metadata": {},
   "outputs": [
    {
     "data": {
      "text/plain": [
       "(26920, 45)"
      ]
     },
     "execution_count": 5,
     "metadata": {},
     "output_type": "execute_result"
    }
   ],
   "source": [
    "df_saleslet.shape"
   ]
  },
  {
   "cell_type": "code",
   "execution_count": 6,
   "id": "a228b370",
   "metadata": {},
   "outputs": [
    {
     "data": {
      "text/plain": [
       "request_id                    int64\n",
       "request_datetime             object\n",
       "completed_datetime           object\n",
       "completed_duration_days     float64\n",
       "completed_duration_hours    float64\n",
       "agent_name                   object\n",
       "agent_code                   object\n",
       "branch_name                  object\n",
       "branch_code                   int64\n",
       "sign_category                object\n",
       "sign_action                  object\n",
       "board_type                  float64\n",
       "sign_type                    object\n",
       "address_1                    object\n",
       "address_2                    object\n",
       "address_3                    object\n",
       "town                         object\n",
       "postcode                     object\n",
       "latitude                    float64\n",
       "longitude                   float64\n",
       "quantity                      int64\n",
       "additional_info              object\n",
       "request_status               object\n",
       "payment_status               object\n",
       "net_charge                  float64\n",
       "vat                         float64\n",
       "gross_charge                float64\n",
       "invoice_datetime             object\n",
       "paid_datetime                object\n",
       "payment_duration_days       float64\n",
       "harvesine_distance_miles    float64\n",
       "latitude_group              float64\n",
       "longitude_group             float64\n",
       "zone                         object\n",
       "zone_area                    object\n",
       "is_up                         int64\n",
       "month_no                      int64\n",
       "month                        object\n",
       "year                          int64\n",
       "work_category                object\n",
       "lead_time                    object\n",
       "request_date                 object\n",
       "completed_date               object\n",
       "requests_per_day              int64\n",
       "completed_per_day             int64\n",
       "dtype: object"
      ]
     },
     "execution_count": 6,
     "metadata": {},
     "output_type": "execute_result"
    }
   ],
   "source": [
    "df_saleslet.dtypes"
   ]
  },
  {
   "cell_type": "markdown",
   "id": "4596273e",
   "metadata": {},
   "source": [
    "## Qu.11) How many signs in a sign life-cycle? \n",
    "        i.e., how many instructions per property?"
   ]
  },
  {
   "cell_type": "markdown",
   "id": "55b4fd26",
   "metadata": {},
   "source": [
    "### create column for cycle_count.\n",
    "Request_id is used by the Portal to link sign requests belonging to the same cycle.  However where users have created a new sign (unaware of the existing one), a new request_id is assigned.  This means that request_id is not an accurate indicatiom of the number of signs per life cycle. \n",
    "\n",
    "As a work around, Sign Life Cycle will be determined by postcode, address1, agent & sign category."
   ]
  },
  {
   "cell_type": "markdown",
   "id": "98184d79",
   "metadata": {},
   "source": [
    "#### According to Stone Signs, an expected and worthwhile life cycle consists of at least 3 signs.\n",
    "The 'is-up' flag indicates that the sign is at location.  If the sign is still up and the number of signs is less than three (i.e. life cycle is still in progress and not met target) these will be excluded from the final visualisation."
   ]
  },
  {
   "cell_type": "markdown",
   "id": "b71561dd",
   "metadata": {},
   "source": [
    "### set postcode to uppercase and address_1 to titlecase and remove commas.\n",
    "...to ensure all possible matches when grouping signs into life cyles"
   ]
  },
  {
   "cell_type": "code",
   "execution_count": 7,
   "id": "0b194550",
   "metadata": {},
   "outputs": [],
   "source": [
    "df_saleslet['postcode'] = df_saleslet['postcode'].str.upper()\n",
    "df_saleslet['address_1'] = df_saleslet['address_1'].str.title()"
   ]
  },
  {
   "cell_type": "code",
   "execution_count": 8,
   "id": "82036a2c",
   "metadata": {
    "scrolled": true
   },
   "outputs": [
    {
     "data": {
      "text/html": [
       "<div>\n",
       "<style scoped>\n",
       "    .dataframe tbody tr th:only-of-type {\n",
       "        vertical-align: middle;\n",
       "    }\n",
       "\n",
       "    .dataframe tbody tr th {\n",
       "        vertical-align: top;\n",
       "    }\n",
       "\n",
       "    .dataframe thead th {\n",
       "        text-align: right;\n",
       "    }\n",
       "</style>\n",
       "<table border=\"1\" class=\"dataframe\">\n",
       "  <thead>\n",
       "    <tr style=\"text-align: right;\">\n",
       "      <th></th>\n",
       "      <th>postcode</th>\n",
       "      <th>address_1</th>\n",
       "    </tr>\n",
       "  </thead>\n",
       "  <tbody>\n",
       "    <tr>\n",
       "      <th>0</th>\n",
       "      <td>BN1 1EL</td>\n",
       "      <td>24 Old Steine</td>\n",
       "    </tr>\n",
       "    <tr>\n",
       "      <th>1</th>\n",
       "      <td>BN1 1JG</td>\n",
       "      <td>1 Daisy Court</td>\n",
       "    </tr>\n",
       "    <tr>\n",
       "      <th>2</th>\n",
       "      <td>BN1 1JG</td>\n",
       "      <td>1 Daisy Court</td>\n",
       "    </tr>\n",
       "    <tr>\n",
       "      <th>3</th>\n",
       "      <td>BN1 1UB</td>\n",
       "      <td>11 Marlborough Place</td>\n",
       "    </tr>\n",
       "    <tr>\n",
       "      <th>4</th>\n",
       "      <td>BN1 1UB</td>\n",
       "      <td>11 Marlborough Place</td>\n",
       "    </tr>\n",
       "  </tbody>\n",
       "</table>\n",
       "</div>"
      ],
      "text/plain": [
       "  postcode             address_1\n",
       "0  BN1 1EL         24 Old Steine\n",
       "1  BN1 1JG         1 Daisy Court\n",
       "2  BN1 1JG         1 Daisy Court\n",
       "3  BN1 1UB  11 Marlborough Place\n",
       "4  BN1 1UB  11 Marlborough Place"
      ]
     },
     "execution_count": 8,
     "metadata": {},
     "output_type": "execute_result"
    }
   ],
   "source": [
    "df_saleslet['address_1'] = df_saleslet['address_1'].str.replace(',','')\n",
    "df_saleslet[['postcode','address_1']].head()"
   ]
  },
  {
   "cell_type": "markdown",
   "id": "c3730c7f",
   "metadata": {},
   "source": [
    "### to define life cycle count, group by:\n",
    "postcode, address_1, agent_name & sign_category"
   ]
  },
  {
   "cell_type": "code",
   "execution_count": 9,
   "id": "b60b3485",
   "metadata": {
    "scrolled": true
   },
   "outputs": [
    {
     "data": {
      "text/html": [
       "<div>\n",
       "<style scoped>\n",
       "    .dataframe tbody tr th:only-of-type {\n",
       "        vertical-align: middle;\n",
       "    }\n",
       "\n",
       "    .dataframe tbody tr th {\n",
       "        vertical-align: top;\n",
       "    }\n",
       "\n",
       "    .dataframe thead th {\n",
       "        text-align: right;\n",
       "    }\n",
       "</style>\n",
       "<table border=\"1\" class=\"dataframe\">\n",
       "  <thead>\n",
       "    <tr style=\"text-align: right;\">\n",
       "      <th></th>\n",
       "      <th>request_id</th>\n",
       "      <th>request_datetime</th>\n",
       "      <th>completed_datetime</th>\n",
       "      <th>completed_duration_days</th>\n",
       "      <th>completed_duration_hours</th>\n",
       "      <th>agent_name</th>\n",
       "      <th>agent_code</th>\n",
       "      <th>branch_name</th>\n",
       "      <th>branch_code</th>\n",
       "      <th>sign_category</th>\n",
       "      <th>...</th>\n",
       "      <th>month_no</th>\n",
       "      <th>month</th>\n",
       "      <th>year</th>\n",
       "      <th>work_category</th>\n",
       "      <th>lead_time</th>\n",
       "      <th>request_date</th>\n",
       "      <th>completed_date</th>\n",
       "      <th>requests_per_day</th>\n",
       "      <th>completed_per_day</th>\n",
       "      <th>cycle_count</th>\n",
       "    </tr>\n",
       "  </thead>\n",
       "  <tbody>\n",
       "    <tr>\n",
       "      <th>0</th>\n",
       "      <td>9215</td>\n",
       "      <td>2020-10-13 13:36:00</td>\n",
       "      <td>2020-10-18 08:52:00</td>\n",
       "      <td>4.80</td>\n",
       "      <td>115.3</td>\n",
       "      <td>Oakley Property</td>\n",
       "      <td>OAK</td>\n",
       "      <td>OakleyProperty @BrightonLets</td>\n",
       "      <td>701</td>\n",
       "      <td>Letting</td>\n",
       "      <td>...</td>\n",
       "      <td>10</td>\n",
       "      <td>Oct</td>\n",
       "      <td>2020</td>\n",
       "      <td>Letting</td>\n",
       "      <td>Within Week</td>\n",
       "      <td>2020-10-13</td>\n",
       "      <td>2020-10-18</td>\n",
       "      <td>83</td>\n",
       "      <td>26</td>\n",
       "      <td>1</td>\n",
       "    </tr>\n",
       "    <tr>\n",
       "      <th>1</th>\n",
       "      <td>8199</td>\n",
       "      <td>2020-11-26 20:33:00</td>\n",
       "      <td>2020-11-28 11:48:00</td>\n",
       "      <td>1.64</td>\n",
       "      <td>39.3</td>\n",
       "      <td>Lextons</td>\n",
       "      <td>LEX</td>\n",
       "      <td>Lextons @Hove</td>\n",
       "      <td>600</td>\n",
       "      <td>Sales</td>\n",
       "      <td>...</td>\n",
       "      <td>11</td>\n",
       "      <td>Nov</td>\n",
       "      <td>2020</td>\n",
       "      <td>Sales</td>\n",
       "      <td>Standard 48hr</td>\n",
       "      <td>2020-11-26</td>\n",
       "      <td>2020-11-28</td>\n",
       "      <td>68</td>\n",
       "      <td>90</td>\n",
       "      <td>2</td>\n",
       "    </tr>\n",
       "    <tr>\n",
       "      <th>2</th>\n",
       "      <td>8199</td>\n",
       "      <td>2020-09-18 18:44:00</td>\n",
       "      <td>2020-09-19 14:15:00</td>\n",
       "      <td>0.81</td>\n",
       "      <td>19.5</td>\n",
       "      <td>Lextons</td>\n",
       "      <td>LEX</td>\n",
       "      <td>Lextons @Hove</td>\n",
       "      <td>600</td>\n",
       "      <td>Sales</td>\n",
       "      <td>...</td>\n",
       "      <td>9</td>\n",
       "      <td>Sep</td>\n",
       "      <td>2020</td>\n",
       "      <td>Sales</td>\n",
       "      <td>Standard 48hr</td>\n",
       "      <td>2020-09-18</td>\n",
       "      <td>2020-09-19</td>\n",
       "      <td>78</td>\n",
       "      <td>66</td>\n",
       "      <td>2</td>\n",
       "    </tr>\n",
       "    <tr>\n",
       "      <th>3</th>\n",
       "      <td>9209</td>\n",
       "      <td>2020-10-13 13:29:00</td>\n",
       "      <td>2020-10-18 08:52:00</td>\n",
       "      <td>4.81</td>\n",
       "      <td>115.4</td>\n",
       "      <td>Oakley Property</td>\n",
       "      <td>OAK</td>\n",
       "      <td>OakleyProperty @BrightonLets</td>\n",
       "      <td>701</td>\n",
       "      <td>Letting</td>\n",
       "      <td>...</td>\n",
       "      <td>10</td>\n",
       "      <td>Oct</td>\n",
       "      <td>2020</td>\n",
       "      <td>Letting</td>\n",
       "      <td>Within Week</td>\n",
       "      <td>2020-10-13</td>\n",
       "      <td>2020-10-18</td>\n",
       "      <td>83</td>\n",
       "      <td>26</td>\n",
       "      <td>2</td>\n",
       "    </tr>\n",
       "    <tr>\n",
       "      <th>4</th>\n",
       "      <td>9209</td>\n",
       "      <td>2021-03-09 11:05:00</td>\n",
       "      <td>2021-03-11 14:05:00</td>\n",
       "      <td>2.13</td>\n",
       "      <td>51.0</td>\n",
       "      <td>Oakley Property</td>\n",
       "      <td>OAK</td>\n",
       "      <td>OakleyProperty @BrightonLets</td>\n",
       "      <td>701</td>\n",
       "      <td>Letting</td>\n",
       "      <td>...</td>\n",
       "      <td>3</td>\n",
       "      <td>Mar</td>\n",
       "      <td>2021</td>\n",
       "      <td>Letting</td>\n",
       "      <td>Within Week</td>\n",
       "      <td>2021-03-09</td>\n",
       "      <td>2021-03-11</td>\n",
       "      <td>73</td>\n",
       "      <td>122</td>\n",
       "      <td>2</td>\n",
       "    </tr>\n",
       "  </tbody>\n",
       "</table>\n",
       "<p>5 rows × 46 columns</p>\n",
       "</div>"
      ],
      "text/plain": [
       "   request_id     request_datetime   completed_datetime  \\\n",
       "0        9215  2020-10-13 13:36:00  2020-10-18 08:52:00   \n",
       "1        8199  2020-11-26 20:33:00  2020-11-28 11:48:00   \n",
       "2        8199  2020-09-18 18:44:00  2020-09-19 14:15:00   \n",
       "3        9209  2020-10-13 13:29:00  2020-10-18 08:52:00   \n",
       "4        9209  2021-03-09 11:05:00  2021-03-11 14:05:00   \n",
       "\n",
       "   completed_duration_days  completed_duration_hours       agent_name  \\\n",
       "0                     4.80                     115.3  Oakley Property   \n",
       "1                     1.64                      39.3          Lextons   \n",
       "2                     0.81                      19.5          Lextons   \n",
       "3                     4.81                     115.4  Oakley Property   \n",
       "4                     2.13                      51.0  Oakley Property   \n",
       "\n",
       "  agent_code                   branch_name  branch_code sign_category  ...  \\\n",
       "0        OAK  OakleyProperty @BrightonLets          701       Letting  ...   \n",
       "1        LEX                 Lextons @Hove          600         Sales  ...   \n",
       "2        LEX                 Lextons @Hove          600         Sales  ...   \n",
       "3        OAK  OakleyProperty @BrightonLets          701       Letting  ...   \n",
       "4        OAK  OakleyProperty @BrightonLets          701       Letting  ...   \n",
       "\n",
       "  month_no  month  year work_category      lead_time request_date  \\\n",
       "0       10    Oct  2020       Letting    Within Week   2020-10-13   \n",
       "1       11    Nov  2020         Sales  Standard 48hr   2020-11-26   \n",
       "2        9    Sep  2020         Sales  Standard 48hr   2020-09-18   \n",
       "3       10    Oct  2020       Letting    Within Week   2020-10-13   \n",
       "4        3    Mar  2021       Letting    Within Week   2021-03-09   \n",
       "\n",
       "  completed_date requests_per_day  completed_per_day  cycle_count  \n",
       "0     2020-10-18               83                 26            1  \n",
       "1     2020-11-28               68                 90            2  \n",
       "2     2020-09-19               78                 66            2  \n",
       "3     2020-10-18               83                 26            2  \n",
       "4     2021-03-11               73                122            2  \n",
       "\n",
       "[5 rows x 46 columns]"
      ]
     },
     "execution_count": 9,
     "metadata": {},
     "output_type": "execute_result"
    }
   ],
   "source": [
    "df_saleslet['cycle_count'] = df_saleslet.groupby(['postcode','address_1','agent_name','sign_category'])['quantity'].transform(np.size)\n",
    "df_saleslet.head()"
   ]
  },
  {
   "cell_type": "markdown",
   "id": "cc2a95e6",
   "metadata": {},
   "source": [
    "### export to CSV for review"
   ]
  },
  {
   "cell_type": "code",
   "execution_count": 10,
   "id": "e39e1c2a",
   "metadata": {},
   "outputs": [
    {
     "data": {
      "text/plain": [
       "(26920, 46)"
      ]
     },
     "execution_count": 10,
     "metadata": {},
     "output_type": "execute_result"
    }
   ],
   "source": [
    "df_saleslet.shape"
   ]
  },
  {
   "cell_type": "code",
   "execution_count": 11,
   "id": "20293755",
   "metadata": {},
   "outputs": [],
   "source": [
    "df_saleslet.to_csv(os.path.join(dataset,'stone_signs_portal_v3.3_saleslets_lifecycle - 26,920.csv'), index=False)"
   ]
  },
  {
   "cell_type": "markdown",
   "id": "f3280fae",
   "metadata": {},
   "source": [
    "### exclude records where sign is still up AND cycle_count<3\n",
    "These records represent an incomplete cycle that has not met minimum target.  Signs still up and >=3 are still incomplete but have met target."
   ]
  },
  {
   "cell_type": "code",
   "execution_count": 12,
   "id": "2bda777a",
   "metadata": {},
   "outputs": [
    {
     "data": {
      "text/plain": [
       "(24209, 46)"
      ]
     },
     "execution_count": 12,
     "metadata": {},
     "output_type": "execute_result"
    }
   ],
   "source": [
    "df_lifecycle = df_saleslet.loc[(df_saleslet['is_up']==0) | ((df_saleslet['is_up']==1) & (df_saleslet['cycle_count']>=3))]\n",
    "df_lifecycle.shape"
   ]
  },
  {
   "cell_type": "markdown",
   "id": "148ece1b",
   "metadata": {},
   "source": [
    "### reset_index"
   ]
  },
  {
   "cell_type": "code",
   "execution_count": 14,
   "id": "fbc68988",
   "metadata": {},
   "outputs": [
    {
     "data": {
      "text/html": [
       "<div>\n",
       "<style scoped>\n",
       "    .dataframe tbody tr th:only-of-type {\n",
       "        vertical-align: middle;\n",
       "    }\n",
       "\n",
       "    .dataframe tbody tr th {\n",
       "        vertical-align: top;\n",
       "    }\n",
       "\n",
       "    .dataframe thead th {\n",
       "        text-align: right;\n",
       "    }\n",
       "</style>\n",
       "<table border=\"1\" class=\"dataframe\">\n",
       "  <thead>\n",
       "    <tr style=\"text-align: right;\">\n",
       "      <th></th>\n",
       "      <th>request_id</th>\n",
       "      <th>request_datetime</th>\n",
       "      <th>completed_datetime</th>\n",
       "      <th>completed_duration_days</th>\n",
       "      <th>completed_duration_hours</th>\n",
       "      <th>agent_name</th>\n",
       "      <th>agent_code</th>\n",
       "      <th>branch_name</th>\n",
       "      <th>branch_code</th>\n",
       "      <th>sign_category</th>\n",
       "      <th>...</th>\n",
       "      <th>month_no</th>\n",
       "      <th>month</th>\n",
       "      <th>year</th>\n",
       "      <th>work_category</th>\n",
       "      <th>lead_time</th>\n",
       "      <th>request_date</th>\n",
       "      <th>completed_date</th>\n",
       "      <th>requests_per_day</th>\n",
       "      <th>completed_per_day</th>\n",
       "      <th>cycle_count</th>\n",
       "    </tr>\n",
       "  </thead>\n",
       "  <tbody>\n",
       "    <tr>\n",
       "      <th>0</th>\n",
       "      <td>8199</td>\n",
       "      <td>2020-09-18 18:44:00</td>\n",
       "      <td>2020-09-19 14:15:00</td>\n",
       "      <td>0.81</td>\n",
       "      <td>19.5</td>\n",
       "      <td>Lextons</td>\n",
       "      <td>LEX</td>\n",
       "      <td>Lextons @Hove</td>\n",
       "      <td>600</td>\n",
       "      <td>Sales</td>\n",
       "      <td>...</td>\n",
       "      <td>9</td>\n",
       "      <td>Sep</td>\n",
       "      <td>2020</td>\n",
       "      <td>Sales</td>\n",
       "      <td>Standard 48hr</td>\n",
       "      <td>2020-09-18</td>\n",
       "      <td>2020-09-19</td>\n",
       "      <td>78</td>\n",
       "      <td>66</td>\n",
       "      <td>2</td>\n",
       "    </tr>\n",
       "    <tr>\n",
       "      <th>1</th>\n",
       "      <td>9209</td>\n",
       "      <td>2020-10-13 13:29:00</td>\n",
       "      <td>2020-10-18 08:52:00</td>\n",
       "      <td>4.81</td>\n",
       "      <td>115.4</td>\n",
       "      <td>Oakley Property</td>\n",
       "      <td>OAK</td>\n",
       "      <td>OakleyProperty @BrightonLets</td>\n",
       "      <td>701</td>\n",
       "      <td>Letting</td>\n",
       "      <td>...</td>\n",
       "      <td>10</td>\n",
       "      <td>Oct</td>\n",
       "      <td>2020</td>\n",
       "      <td>Letting</td>\n",
       "      <td>Within Week</td>\n",
       "      <td>2020-10-13</td>\n",
       "      <td>2020-10-18</td>\n",
       "      <td>83</td>\n",
       "      <td>26</td>\n",
       "      <td>2</td>\n",
       "    </tr>\n",
       "    <tr>\n",
       "      <th>2</th>\n",
       "      <td>9209</td>\n",
       "      <td>2021-03-09 11:05:00</td>\n",
       "      <td>2021-03-11 14:05:00</td>\n",
       "      <td>2.13</td>\n",
       "      <td>51.0</td>\n",
       "      <td>Oakley Property</td>\n",
       "      <td>OAK</td>\n",
       "      <td>OakleyProperty @BrightonLets</td>\n",
       "      <td>701</td>\n",
       "      <td>Letting</td>\n",
       "      <td>...</td>\n",
       "      <td>3</td>\n",
       "      <td>Mar</td>\n",
       "      <td>2021</td>\n",
       "      <td>Letting</td>\n",
       "      <td>Within Week</td>\n",
       "      <td>2021-03-09</td>\n",
       "      <td>2021-03-11</td>\n",
       "      <td>73</td>\n",
       "      <td>122</td>\n",
       "      <td>2</td>\n",
       "    </tr>\n",
       "    <tr>\n",
       "      <th>3</th>\n",
       "      <td>9210</td>\n",
       "      <td>2020-10-13 13:30:00</td>\n",
       "      <td>2020-10-18 08:52:00</td>\n",
       "      <td>4.81</td>\n",
       "      <td>115.4</td>\n",
       "      <td>Oakley Property</td>\n",
       "      <td>OAK</td>\n",
       "      <td>OakleyProperty @BrightonLets</td>\n",
       "      <td>701</td>\n",
       "      <td>Letting</td>\n",
       "      <td>...</td>\n",
       "      <td>10</td>\n",
       "      <td>Oct</td>\n",
       "      <td>2020</td>\n",
       "      <td>Letting</td>\n",
       "      <td>Within Week</td>\n",
       "      <td>2020-10-13</td>\n",
       "      <td>2020-10-18</td>\n",
       "      <td>83</td>\n",
       "      <td>26</td>\n",
       "      <td>2</td>\n",
       "    </tr>\n",
       "    <tr>\n",
       "      <th>4</th>\n",
       "      <td>9210</td>\n",
       "      <td>2021-03-09 11:05:00</td>\n",
       "      <td>2021-03-11 14:06:00</td>\n",
       "      <td>2.13</td>\n",
       "      <td>51.0</td>\n",
       "      <td>Oakley Property</td>\n",
       "      <td>OAK</td>\n",
       "      <td>OakleyProperty @BrightonLets</td>\n",
       "      <td>701</td>\n",
       "      <td>Letting</td>\n",
       "      <td>...</td>\n",
       "      <td>3</td>\n",
       "      <td>Mar</td>\n",
       "      <td>2021</td>\n",
       "      <td>Letting</td>\n",
       "      <td>Within Week</td>\n",
       "      <td>2021-03-09</td>\n",
       "      <td>2021-03-11</td>\n",
       "      <td>73</td>\n",
       "      <td>122</td>\n",
       "      <td>2</td>\n",
       "    </tr>\n",
       "  </tbody>\n",
       "</table>\n",
       "<p>5 rows × 46 columns</p>\n",
       "</div>"
      ],
      "text/plain": [
       "   request_id     request_datetime   completed_datetime  \\\n",
       "0        8199  2020-09-18 18:44:00  2020-09-19 14:15:00   \n",
       "1        9209  2020-10-13 13:29:00  2020-10-18 08:52:00   \n",
       "2        9209  2021-03-09 11:05:00  2021-03-11 14:05:00   \n",
       "3        9210  2020-10-13 13:30:00  2020-10-18 08:52:00   \n",
       "4        9210  2021-03-09 11:05:00  2021-03-11 14:06:00   \n",
       "\n",
       "   completed_duration_days  completed_duration_hours       agent_name  \\\n",
       "0                     0.81                      19.5          Lextons   \n",
       "1                     4.81                     115.4  Oakley Property   \n",
       "2                     2.13                      51.0  Oakley Property   \n",
       "3                     4.81                     115.4  Oakley Property   \n",
       "4                     2.13                      51.0  Oakley Property   \n",
       "\n",
       "  agent_code                   branch_name  branch_code sign_category  ...  \\\n",
       "0        LEX                 Lextons @Hove          600         Sales  ...   \n",
       "1        OAK  OakleyProperty @BrightonLets          701       Letting  ...   \n",
       "2        OAK  OakleyProperty @BrightonLets          701       Letting  ...   \n",
       "3        OAK  OakleyProperty @BrightonLets          701       Letting  ...   \n",
       "4        OAK  OakleyProperty @BrightonLets          701       Letting  ...   \n",
       "\n",
       "  month_no  month  year work_category      lead_time request_date  \\\n",
       "0        9    Sep  2020         Sales  Standard 48hr   2020-09-18   \n",
       "1       10    Oct  2020       Letting    Within Week   2020-10-13   \n",
       "2        3    Mar  2021       Letting    Within Week   2021-03-09   \n",
       "3       10    Oct  2020       Letting    Within Week   2020-10-13   \n",
       "4        3    Mar  2021       Letting    Within Week   2021-03-09   \n",
       "\n",
       "  completed_date requests_per_day  completed_per_day  cycle_count  \n",
       "0     2020-09-19               78                 66            2  \n",
       "1     2020-10-18               83                 26            2  \n",
       "2     2021-03-11               73                122            2  \n",
       "3     2020-10-18               83                 26            2  \n",
       "4     2021-03-11               73                122            2  \n",
       "\n",
       "[5 rows x 46 columns]"
      ]
     },
     "execution_count": 14,
     "metadata": {},
     "output_type": "execute_result"
    }
   ],
   "source": [
    "df_lifecycle = df_lifecycle.reset_index(drop=True)\n",
    "df_lifecycle.head()"
   ]
  },
  {
   "cell_type": "markdown",
   "id": "0d894123",
   "metadata": {},
   "source": [
    "### review descriptive statistics for cycle_count - both Sales and Letting"
   ]
  },
  {
   "cell_type": "code",
   "execution_count": 15,
   "id": "9afaf0bc",
   "metadata": {},
   "outputs": [
    {
     "data": {
      "text/plain": [
       "count    24209.000000\n",
       "mean         3.469288\n",
       "std          1.912682\n",
       "min          1.000000\n",
       "25%          2.000000\n",
       "50%          3.000000\n",
       "75%          4.000000\n",
       "max         19.000000\n",
       "Name: cycle_count, dtype: float64"
      ]
     },
     "execution_count": 15,
     "metadata": {},
     "output_type": "execute_result"
    }
   ],
   "source": [
    "df_lifecycle['cycle_count'].describe()"
   ]
  },
  {
   "cell_type": "code",
   "execution_count": 16,
   "id": "bb192075",
   "metadata": {},
   "outputs": [
    {
     "data": {
      "text/plain": [
       "0    3\n",
       "dtype: int64"
      ]
     },
     "execution_count": 16,
     "metadata": {},
     "output_type": "execute_result"
    }
   ],
   "source": [
    "df_lifecycle['cycle_count'].mode()"
   ]
  },
  {
   "cell_type": "markdown",
   "id": "51e12f43",
   "metadata": {},
   "source": [
    "### compare cycle_count for Sales and letting\n",
    "create sales and letting subsets"
   ]
  },
  {
   "cell_type": "code",
   "execution_count": 17,
   "id": "76e92afa",
   "metadata": {},
   "outputs": [
    {
     "data": {
      "text/plain": [
       "(19156, 46)"
      ]
     },
     "execution_count": 17,
     "metadata": {},
     "output_type": "execute_result"
    }
   ],
   "source": [
    "df_sales = df_lifecycle.loc[df_lifecycle['sign_category']=='Sales']\n",
    "df_sales.shape"
   ]
  },
  {
   "cell_type": "code",
   "execution_count": 18,
   "id": "4f4639c2",
   "metadata": {},
   "outputs": [
    {
     "data": {
      "text/plain": [
       "(5053, 46)"
      ]
     },
     "execution_count": 18,
     "metadata": {},
     "output_type": "execute_result"
    }
   ],
   "source": [
    "df_lets = df_lifecycle.loc[df_lifecycle['sign_category']=='Letting']\n",
    "df_lets.shape"
   ]
  },
  {
   "cell_type": "markdown",
   "id": "4c51015e",
   "metadata": {},
   "source": [
    "### check record total 24,209"
   ]
  },
  {
   "cell_type": "code",
   "execution_count": 19,
   "id": "548f93b5",
   "metadata": {},
   "outputs": [
    {
     "data": {
      "text/plain": [
       "24209"
      ]
     },
     "execution_count": 19,
     "metadata": {},
     "output_type": "execute_result"
    }
   ],
   "source": [
    "19156 + 5053"
   ]
  },
  {
   "cell_type": "markdown",
   "id": "97e4f44d",
   "metadata": {},
   "source": [
    "### sales cycle count descriptive statistics"
   ]
  },
  {
   "cell_type": "code",
   "execution_count": 20,
   "id": "732ab34c",
   "metadata": {},
   "outputs": [
    {
     "data": {
      "text/plain": [
       "count    19156.000000\n",
       "mean         3.542441\n",
       "std          2.003501\n",
       "min          1.000000\n",
       "25%          2.000000\n",
       "50%          3.000000\n",
       "75%          4.000000\n",
       "max         19.000000\n",
       "Name: cycle_count, dtype: float64"
      ]
     },
     "execution_count": 20,
     "metadata": {},
     "output_type": "execute_result"
    }
   ],
   "source": [
    "df_sales['cycle_count'].describe()"
   ]
  },
  {
   "cell_type": "code",
   "execution_count": 21,
   "id": "58036461",
   "metadata": {},
   "outputs": [
    {
     "data": {
      "text/plain": [
       "0    3\n",
       "dtype: int64"
      ]
     },
     "execution_count": 21,
     "metadata": {},
     "output_type": "execute_result"
    }
   ],
   "source": [
    "df_sales['cycle_count'].mode()"
   ]
  },
  {
   "cell_type": "markdown",
   "id": "585041f1",
   "metadata": {},
   "source": [
    "### letting cycle count descriptive statistics"
   ]
  },
  {
   "cell_type": "code",
   "execution_count": 22,
   "id": "4c8f2920",
   "metadata": {},
   "outputs": [
    {
     "data": {
      "text/plain": [
       "count    5053.000000\n",
       "mean        3.191965\n",
       "std         1.487730\n",
       "min         1.000000\n",
       "25%         2.000000\n",
       "50%         3.000000\n",
       "75%         4.000000\n",
       "max        12.000000\n",
       "Name: cycle_count, dtype: float64"
      ]
     },
     "execution_count": 22,
     "metadata": {},
     "output_type": "execute_result"
    }
   ],
   "source": [
    "df_lets['cycle_count'].describe()"
   ]
  },
  {
   "cell_type": "code",
   "execution_count": 23,
   "id": "27fe6619",
   "metadata": {},
   "outputs": [
    {
     "data": {
      "text/plain": [
       "0    3\n",
       "dtype: int64"
      ]
     },
     "execution_count": 23,
     "metadata": {},
     "output_type": "execute_result"
    }
   ],
   "source": [
    "df_lets['cycle_count'].mode()"
   ]
  },
  {
   "cell_type": "markdown",
   "id": "d354c99d",
   "metadata": {},
   "source": [
    "### review value_counts for each group"
   ]
  },
  {
   "cell_type": "code",
   "execution_count": 24,
   "id": "b21898fb",
   "metadata": {},
   "outputs": [
    {
     "data": {
      "text/plain": [
       "3     5280\n",
       "2     5087\n",
       "4     3404\n",
       "5     1910\n",
       "1     1176\n",
       "6     1002\n",
       "7      490\n",
       "8      296\n",
       "9      189\n",
       "10     120\n",
       "13      39\n",
       "12      36\n",
       "11      33\n",
       "16      32\n",
       "14      28\n",
       "19      19\n",
       "15      15\n",
       "Name: cycle_count, dtype: int64"
      ]
     },
     "execution_count": 24,
     "metadata": {},
     "output_type": "execute_result"
    }
   ],
   "source": [
    "df_sales['cycle_count'].value_counts()"
   ]
  },
  {
   "cell_type": "code",
   "execution_count": 25,
   "id": "a963b5c0",
   "metadata": {},
   "outputs": [
    {
     "data": {
      "text/plain": [
       "3     1902\n",
       "2     1426\n",
       "4      608\n",
       "5      415\n",
       "1      293\n",
       "6      246\n",
       "7       84\n",
       "8       40\n",
       "9       27\n",
       "12      12\n",
       "Name: cycle_count, dtype: int64"
      ]
     },
     "execution_count": 25,
     "metadata": {},
     "output_type": "execute_result"
    }
   ],
   "source": [
    "df_lets['cycle_count'].value_counts()"
   ]
  },
  {
   "cell_type": "markdown",
   "id": "153b1f36",
   "metadata": {},
   "source": [
    "The Descriptive statistics are very similar between sales and letting except that the average number of signs per cycle is slightly higher for sales, as one might expect owing to there being a greater number of stages in the selling process compared to letting.  However Sales and Letting data will be analysed together."
   ]
  },
  {
   "cell_type": "markdown",
   "id": "e07f4cda",
   "metadata": {},
   "source": [
    "### display sales and letting sign life cycle count as histogram:"
   ]
  },
  {
   "cell_type": "code",
   "execution_count": 26,
   "id": "c9d333df",
   "metadata": {},
   "outputs": [
    {
     "data": {
      "image/png": "[encoded data removed]",
      "text/plain": [
       "<Figure size 432x288 with 1 Axes>"
      ]
     },
     "metadata": {
      "needs_background": "light"
     },
     "output_type": "display_data"
    }
   ],
   "source": [
    "sns.histplot(df_lifecycle['cycle_count'], bins=19)\n",
    "plt.title('Sales and Letting Sign Life Cycle Count')\n",
    "plt.xlabel('Number of Signs per Cycle')\n",
    "plt.ylabel(' ')\n",
    "plt.grid(True, linestyle='--')\n",
    "\n",
    "plt.savefig(os.path.join(vizpath,'Qu.9) Sales and Letting Sign Life Cycle Count.png'))"
   ]
  },
  {
   "cell_type": "markdown",
   "id": "b59f1bf1",
   "metadata": {},
   "source": [
    "## Qu.9a) Sign life cycle duration categorisation"
   ]
  },
  {
   "cell_type": "markdown",
   "id": "3c9766ae",
   "metadata": {},
   "source": [
    "### categorise cycle_count into the following areas:\n",
    "     1       Single Sign\n",
    "     2       Low Cycle\n",
    "     3 to 4  Expected Cycle\n",
    "     5 to 6  Good Cycle\n",
    "     > 6     Extended Cycle"
   ]
  },
  {
   "cell_type": "code",
   "execution_count": 27,
   "id": "a5d8f747",
   "metadata": {},
   "outputs": [
    {
     "data": {
      "text/html": [
       "<div>\n",
       "<style scoped>\n",
       "    .dataframe tbody tr th:only-of-type {\n",
       "        vertical-align: middle;\n",
       "    }\n",
       "\n",
       "    .dataframe tbody tr th {\n",
       "        vertical-align: top;\n",
       "    }\n",
       "\n",
       "    .dataframe thead th {\n",
       "        text-align: right;\n",
       "    }\n",
       "</style>\n",
       "<table border=\"1\" class=\"dataframe\">\n",
       "  <thead>\n",
       "    <tr style=\"text-align: right;\">\n",
       "      <th></th>\n",
       "      <th>request_id</th>\n",
       "      <th>request_datetime</th>\n",
       "      <th>completed_datetime</th>\n",
       "      <th>completed_duration_days</th>\n",
       "      <th>completed_duration_hours</th>\n",
       "      <th>agent_name</th>\n",
       "      <th>agent_code</th>\n",
       "      <th>branch_name</th>\n",
       "      <th>branch_code</th>\n",
       "      <th>sign_category</th>\n",
       "      <th>...</th>\n",
       "      <th>month</th>\n",
       "      <th>year</th>\n",
       "      <th>work_category</th>\n",
       "      <th>lead_time</th>\n",
       "      <th>request_date</th>\n",
       "      <th>completed_date</th>\n",
       "      <th>requests_per_day</th>\n",
       "      <th>completed_per_day</th>\n",
       "      <th>cycle_count</th>\n",
       "      <th>cycle_category</th>\n",
       "    </tr>\n",
       "  </thead>\n",
       "  <tbody>\n",
       "    <tr>\n",
       "      <th>0</th>\n",
       "      <td>8199</td>\n",
       "      <td>2020-09-18 18:44:00</td>\n",
       "      <td>2020-09-19 14:15:00</td>\n",
       "      <td>0.81</td>\n",
       "      <td>19.5</td>\n",
       "      <td>Lextons</td>\n",
       "      <td>LEX</td>\n",
       "      <td>Lextons @Hove</td>\n",
       "      <td>600</td>\n",
       "      <td>Sales</td>\n",
       "      <td>...</td>\n",
       "      <td>Sep</td>\n",
       "      <td>2020</td>\n",
       "      <td>Sales</td>\n",
       "      <td>Standard 48hr</td>\n",
       "      <td>2020-09-18</td>\n",
       "      <td>2020-09-19</td>\n",
       "      <td>78</td>\n",
       "      <td>66</td>\n",
       "      <td>2</td>\n",
       "      <td>Low Cycle</td>\n",
       "    </tr>\n",
       "    <tr>\n",
       "      <th>1</th>\n",
       "      <td>9209</td>\n",
       "      <td>2020-10-13 13:29:00</td>\n",
       "      <td>2020-10-18 08:52:00</td>\n",
       "      <td>4.81</td>\n",
       "      <td>115.4</td>\n",
       "      <td>Oakley Property</td>\n",
       "      <td>OAK</td>\n",
       "      <td>OakleyProperty @BrightonLets</td>\n",
       "      <td>701</td>\n",
       "      <td>Letting</td>\n",
       "      <td>...</td>\n",
       "      <td>Oct</td>\n",
       "      <td>2020</td>\n",
       "      <td>Letting</td>\n",
       "      <td>Within Week</td>\n",
       "      <td>2020-10-13</td>\n",
       "      <td>2020-10-18</td>\n",
       "      <td>83</td>\n",
       "      <td>26</td>\n",
       "      <td>2</td>\n",
       "      <td>Low Cycle</td>\n",
       "    </tr>\n",
       "    <tr>\n",
       "      <th>2</th>\n",
       "      <td>9209</td>\n",
       "      <td>2021-03-09 11:05:00</td>\n",
       "      <td>2021-03-11 14:05:00</td>\n",
       "      <td>2.13</td>\n",
       "      <td>51.0</td>\n",
       "      <td>Oakley Property</td>\n",
       "      <td>OAK</td>\n",
       "      <td>OakleyProperty @BrightonLets</td>\n",
       "      <td>701</td>\n",
       "      <td>Letting</td>\n",
       "      <td>...</td>\n",
       "      <td>Mar</td>\n",
       "      <td>2021</td>\n",
       "      <td>Letting</td>\n",
       "      <td>Within Week</td>\n",
       "      <td>2021-03-09</td>\n",
       "      <td>2021-03-11</td>\n",
       "      <td>73</td>\n",
       "      <td>122</td>\n",
       "      <td>2</td>\n",
       "      <td>Low Cycle</td>\n",
       "    </tr>\n",
       "    <tr>\n",
       "      <th>3</th>\n",
       "      <td>9210</td>\n",
       "      <td>2020-10-13 13:30:00</td>\n",
       "      <td>2020-10-18 08:52:00</td>\n",
       "      <td>4.81</td>\n",
       "      <td>115.4</td>\n",
       "      <td>Oakley Property</td>\n",
       "      <td>OAK</td>\n",
       "      <td>OakleyProperty @BrightonLets</td>\n",
       "      <td>701</td>\n",
       "      <td>Letting</td>\n",
       "      <td>...</td>\n",
       "      <td>Oct</td>\n",
       "      <td>2020</td>\n",
       "      <td>Letting</td>\n",
       "      <td>Within Week</td>\n",
       "      <td>2020-10-13</td>\n",
       "      <td>2020-10-18</td>\n",
       "      <td>83</td>\n",
       "      <td>26</td>\n",
       "      <td>2</td>\n",
       "      <td>Low Cycle</td>\n",
       "    </tr>\n",
       "    <tr>\n",
       "      <th>4</th>\n",
       "      <td>9210</td>\n",
       "      <td>2021-03-09 11:05:00</td>\n",
       "      <td>2021-03-11 14:06:00</td>\n",
       "      <td>2.13</td>\n",
       "      <td>51.0</td>\n",
       "      <td>Oakley Property</td>\n",
       "      <td>OAK</td>\n",
       "      <td>OakleyProperty @BrightonLets</td>\n",
       "      <td>701</td>\n",
       "      <td>Letting</td>\n",
       "      <td>...</td>\n",
       "      <td>Mar</td>\n",
       "      <td>2021</td>\n",
       "      <td>Letting</td>\n",
       "      <td>Within Week</td>\n",
       "      <td>2021-03-09</td>\n",
       "      <td>2021-03-11</td>\n",
       "      <td>73</td>\n",
       "      <td>122</td>\n",
       "      <td>2</td>\n",
       "      <td>Low Cycle</td>\n",
       "    </tr>\n",
       "  </tbody>\n",
       "</table>\n",
       "<p>5 rows × 47 columns</p>\n",
       "</div>"
      ],
      "text/plain": [
       "   request_id     request_datetime   completed_datetime  \\\n",
       "0        8199  2020-09-18 18:44:00  2020-09-19 14:15:00   \n",
       "1        9209  2020-10-13 13:29:00  2020-10-18 08:52:00   \n",
       "2        9209  2021-03-09 11:05:00  2021-03-11 14:05:00   \n",
       "3        9210  2020-10-13 13:30:00  2020-10-18 08:52:00   \n",
       "4        9210  2021-03-09 11:05:00  2021-03-11 14:06:00   \n",
       "\n",
       "   completed_duration_days  completed_duration_hours       agent_name  \\\n",
       "0                     0.81                      19.5          Lextons   \n",
       "1                     4.81                     115.4  Oakley Property   \n",
       "2                     2.13                      51.0  Oakley Property   \n",
       "3                     4.81                     115.4  Oakley Property   \n",
       "4                     2.13                      51.0  Oakley Property   \n",
       "\n",
       "  agent_code                   branch_name  branch_code sign_category  ...  \\\n",
       "0        LEX                 Lextons @Hove          600         Sales  ...   \n",
       "1        OAK  OakleyProperty @BrightonLets          701       Letting  ...   \n",
       "2        OAK  OakleyProperty @BrightonLets          701       Letting  ...   \n",
       "3        OAK  OakleyProperty @BrightonLets          701       Letting  ...   \n",
       "4        OAK  OakleyProperty @BrightonLets          701       Letting  ...   \n",
       "\n",
       "  month  year work_category      lead_time request_date completed_date  \\\n",
       "0   Sep  2020         Sales  Standard 48hr   2020-09-18     2020-09-19   \n",
       "1   Oct  2020       Letting    Within Week   2020-10-13     2020-10-18   \n",
       "2   Mar  2021       Letting    Within Week   2021-03-09     2021-03-11   \n",
       "3   Oct  2020       Letting    Within Week   2020-10-13     2020-10-18   \n",
       "4   Mar  2021       Letting    Within Week   2021-03-09     2021-03-11   \n",
       "\n",
       "  requests_per_day completed_per_day  cycle_count  cycle_category  \n",
       "0               78                66            2       Low Cycle  \n",
       "1               83                26            2       Low Cycle  \n",
       "2               73               122            2       Low Cycle  \n",
       "3               83                26            2       Low Cycle  \n",
       "4               73               122            2       Low Cycle  \n",
       "\n",
       "[5 rows x 47 columns]"
      ]
     },
     "execution_count": 27,
     "metadata": {},
     "output_type": "execute_result"
    }
   ],
   "source": [
    "df_lifecycle.loc[df_lifecycle['cycle_count']==1, 'cycle_category']='Single Sign'\n",
    "df_lifecycle.loc[df_lifecycle['cycle_count']==2, 'cycle_category']='Low Cycle'\n",
    "df_lifecycle.loc[(df_lifecycle['cycle_count']>2) & (df_lifecycle['cycle_count']<=4), 'cycle_category']='Expected Cycle'\n",
    "df_lifecycle.loc[(df_lifecycle['cycle_count']>4) & (df_lifecycle['cycle_count']<=6), 'cycle_category']='Good Cycle'\n",
    "df_lifecycle.loc[df_lifecycle['cycle_count']>6, 'cycle_category']='Extended Cycle'\n",
    "df_lifecycle.head()"
   ]
  },
  {
   "cell_type": "markdown",
   "id": "fc91dbce",
   "metadata": {},
   "source": [
    "## Display cycle_category as Pie Chart"
   ]
  },
  {
   "cell_type": "markdown",
   "id": "3ac4d58e",
   "metadata": {},
   "source": [
    "### define labels and values"
   ]
  },
  {
   "cell_type": "code",
   "execution_count": 33,
   "id": "29d46cf2",
   "metadata": {},
   "outputs": [
    {
     "data": {
      "text/plain": [
       "Expected Cycle    11194\n",
       "Low Cycle          6513\n",
       "Good Cycle         3573\n",
       "Single Sign        1469\n",
       "Extended Cycle     1460\n",
       "Name: cycle_category, dtype: int64"
      ]
     },
     "execution_count": 33,
     "metadata": {},
     "output_type": "execute_result"
    }
   ],
   "source": [
    "cycle_values = df_lifecycle['cycle_category'].value_counts()\n",
    "cycle_values"
   ]
  },
  {
   "cell_type": "code",
   "execution_count": null,
   "id": "37f4e8b6",
   "metadata": {},
   "outputs": [],
   "source": [
    "cycle_labels = ['Single','Low','Expected','Good','Extended']\n",
    "cycle_labels"
   ]
  },
  {
   "cell_type": "code",
   "execution_count": 37,
   "id": "64f9258d",
   "metadata": {},
   "outputs": [],
   "source": [
    "cycle_values = [1469,6513,11194,3573,1460]"
   ]
  },
  {
   "cell_type": "code",
   "execution_count": 43,
   "id": "a48e1907",
   "metadata": {},
   "outputs": [
    {
     "data": {
      "image/png": "[encoded data removed]",
      "text/plain": [
       "<Figure size 432x288 with 1 Axes>"
      ]
     },
     "metadata": {},
     "output_type": "display_data"
    }
   ],
   "source": [
    "sizes = cycle_values\n",
    "colors = ['orangered','darkorange','cornflowerblue','limegreen','forestgreen']\n",
    "explode = (0.2,0,0,0,0)\n",
    "labels = cycle_labels\n",
    "\n",
    "texts = plt.pie(sizes, colors=colors, explode=explode, labels=labels, autopct='%1.1f%%', textprops={'fontsize':12}, startangle=310)\n",
    "plt.axis('equal')\n",
    "plt.title('Sign Life Cycle Duration Category', fontsize=14)\n",
    "\n",
    "cycle_cate1 = mpatches.Patch(color='orangered', label='Single Sign: 1 Sign Only')\n",
    "cycle_cate2 = mpatches.Patch(color='darkorange', label='Low Cycle: 2 Signs')\n",
    "cycle_cate3 = mpatches.Patch(color='cornflowerblue', label='Expected Cycle: 3 or 4 Signs')\n",
    "cycle_cate4 = mpatches.Patch(color='limegreen', label='Good Cycle: 5 or 6 Signs')\n",
    "cycle_cate5 = mpatches.Patch(color='forestgreen', label='Extended Cycle: > 6 Signs')\n",
    "plt.legend(title='Life Cycle Category',handles=[cycle_cate1, cycle_cate2, cycle_cate3, cycle_cate4, cycle_cate5], bbox_to_anchor=(0.2, 0.4752))\n",
    "\n",
    "plt.tight_layout()\n",
    "\n",
    "plt.savefig(os.path.join(vizpath,'Qu.9a) Sign Life Cycle Duration.png'))"
   ]
  },
  {
   "cell_type": "markdown",
   "id": "6c48084a",
   "metadata": {},
   "source": [
    "### export to CSV"
   ]
  },
  {
   "cell_type": "code",
   "execution_count": 39,
   "id": "baa94228",
   "metadata": {},
   "outputs": [
    {
     "data": {
      "text/plain": [
       "(24209, 47)"
      ]
     },
     "execution_count": 39,
     "metadata": {},
     "output_type": "execute_result"
    }
   ],
   "source": [
    "df_lifecycle.shape"
   ]
  },
  {
   "cell_type": "code",
   "execution_count": 40,
   "id": "8fe1dba6",
   "metadata": {},
   "outputs": [],
   "source": [
    "df_lifecycle.to_csv(os.path.join(dataset,'stone_signs_portal_v4.0_saleslets_lifecycle_target - 24,209.csv'), index=False)"
   ]
  }
 ],
 "metadata": {
  "kernelspec": {
   "display_name": "Python 3",
   "language": "python",
   "name": "python3"
  },
  "language_info": {
   "codemirror_mode": {
    "name": "ipython",
    "version": 3
   },
   "file_extension": ".py",
   "mimetype": "text/x-python",
   "name": "python",
   "nbconvert_exporter": "python",
   "pygments_lexer": "ipython3",
   "version": "3.8.8"
  }
 },
 "nbformat": 4,
 "nbformat_minor": 5
}
