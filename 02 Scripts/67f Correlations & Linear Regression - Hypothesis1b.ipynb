{
 "cells": [
  {
   "cell_type": "markdown",
   "id": "137a0d58",
   "metadata": {},
   "source": [
    "## Correlations & Linear Regression Analysis – Hypothesis 1b\n",
    "Hypothesis 1b: The greater the number of sign request per district, the greater the number of signs completed per day..\n",
    "1.\tImport libraries & set directory paths\n",
    "2.\tImport Portal data, check dimensions and data types\n",
    "    -   Import: stone_signs_portal_v3.5_saleslets_lifecycle_district - 21,488.csv\n",
    "3.\tHypothesis1b: “The greater the number of sign requests per district, the greater the average number of signs completed per day”.\n",
    "    -\tCalculate number of signs per district\n",
    "    -\tCalculate average number of sign requests completed per day per district\n",
    "4.\tDisplay as Scatterplot\n",
    "5.\tCalculate correlation strength on subset\n",
    "6.\tLinear Regression Analysis - not really suitable for such as small number of  data points.\n",
    "    -\tCreate Numpy arrays\n",
    "    -\tSplit into Training and Test Set\n",
    "    -\tMake linear prediction\n",
    "    -\tReview summary statistics:\n",
    "        - Correlation Coefficient or Pearson's r: \n",
    "            - the strength of a relationship between the independent and dependent variable (-1 to +1)\n",
    "        - R-Squared or Coefficient of Determination: \n",
    "            - a measure of how well the regression predictions approximate the real data points (%).\n",
    "        - Root Mean Squared Error (RMSE): \n",
    "            - a single measure of predictive accuracy and explains the difference between the actual data points and the predicted data points (value relative to data, small error is better fit).\n",
    "        - Slope Coefficient:  \n",
    "            - The regression line fit to the data based on the 'rate of change of y as per X value' (%).\n",
    "    \n",
    "7.\tReview summary statistics showed the R-squared value to be negative, indicating that the regression model does not fit the data.  No further work relevant on this area."
   ]
  },
  {
   "cell_type": "markdown",
   "id": "dfb595f1",
   "metadata": {},
   "source": [
    "### import libraries"
   ]
  },
  {
   "cell_type": "code",
   "execution_count": 1,
   "id": "dca40f1a",
   "metadata": {},
   "outputs": [],
   "source": [
    "import pandas as pd\n",
    "import numpy as np\n",
    "import seaborn as sns\n",
    "import matplotlib.pyplot as plt\n",
    "import matplotlib\n",
    "import os\n",
    "import sklearn\n",
    "from sklearn.model_selection import train_test_split \n",
    "from sklearn.linear_model import LinearRegression\n",
    "from sklearn.metrics import mean_squared_error, r2_score"
   ]
  },
  {
   "cell_type": "markdown",
   "id": "3052e3e9",
   "metadata": {},
   "source": [
    "### set directory paths"
   ]
  },
  {
   "cell_type": "code",
   "execution_count": 2,
   "id": "e6e7142f",
   "metadata": {},
   "outputs": [
    {
     "data": {
      "text/plain": [
       "'D:\\\\My Documents\\\\! Omnicompetent Ltd\\\\Career Foundry - Data Analytics\\\\Data Analytics Course\\\\60 Advanced Analytics and Dashboard Design\\\\Stone Signs Portal Analysis\\\\02 Data'"
      ]
     },
     "execution_count": 2,
     "metadata": {},
     "output_type": "execute_result"
    }
   ],
   "source": [
    "dataset = r'D:\\My Documents\\! Omnicompetent Ltd\\Career Foundry - Data Analytics\\Data Analytics Course\\60 Advanced Analytics and Dashboard Design\\Stone Signs Portal Analysis\\02 Data'\n",
    "dataset"
   ]
  },
  {
   "cell_type": "code",
   "execution_count": 3,
   "id": "67662e80",
   "metadata": {},
   "outputs": [
    {
     "data": {
      "text/plain": [
       "'D:\\\\My Documents\\\\! Omnicompetent Ltd\\\\Career Foundry - Data Analytics\\\\Data Analytics Course\\\\60 Advanced Analytics and Dashboard Design\\\\Stone Signs Portal Analysis\\\\04 Analysis'"
      ]
     },
     "execution_count": 3,
     "metadata": {},
     "output_type": "execute_result"
    }
   ],
   "source": [
    "vizpath = r'D:\\My Documents\\! Omnicompetent Ltd\\Career Foundry - Data Analytics\\Data Analytics Course\\60 Advanced Analytics and Dashboard Design\\Stone Signs Portal Analysis\\04 Analysis'\n",
    "vizpath"
   ]
  },
  {
   "cell_type": "markdown",
   "id": "74b3fa37",
   "metadata": {},
   "source": [
    "## import dataset: Sales and Letting with District"
   ]
  },
  {
   "cell_type": "code",
   "execution_count": 4,
   "id": "d63bf0b0",
   "metadata": {},
   "outputs": [
    {
     "data": {
      "text/html": [
       "<div>\n",
       "<style scoped>\n",
       "    .dataframe tbody tr th:only-of-type {\n",
       "        vertical-align: middle;\n",
       "    }\n",
       "\n",
       "    .dataframe tbody tr th {\n",
       "        vertical-align: top;\n",
       "    }\n",
       "\n",
       "    .dataframe thead th {\n",
       "        text-align: right;\n",
       "    }\n",
       "</style>\n",
       "<table border=\"1\" class=\"dataframe\">\n",
       "  <thead>\n",
       "    <tr style=\"text-align: right;\">\n",
       "      <th></th>\n",
       "      <th>request_id</th>\n",
       "      <th>request_datetime</th>\n",
       "      <th>completed_datetime</th>\n",
       "      <th>completed_duration_days</th>\n",
       "      <th>completed_duration_hours</th>\n",
       "      <th>agent_name</th>\n",
       "      <th>agent_code</th>\n",
       "      <th>branch_name</th>\n",
       "      <th>branch_code</th>\n",
       "      <th>sign_category</th>\n",
       "      <th>...</th>\n",
       "      <th>work_category</th>\n",
       "      <th>lead_time</th>\n",
       "      <th>request_date</th>\n",
       "      <th>completed_date</th>\n",
       "      <th>requests_per_day</th>\n",
       "      <th>completed_per_day</th>\n",
       "      <th>cycle_count</th>\n",
       "      <th>district</th>\n",
       "      <th>signs_per_district</th>\n",
       "      <th>average_completion_days</th>\n",
       "    </tr>\n",
       "  </thead>\n",
       "  <tbody>\n",
       "    <tr>\n",
       "      <th>0</th>\n",
       "      <td>9215</td>\n",
       "      <td>13/10/2020 13:36</td>\n",
       "      <td>18/10/2020 08:52</td>\n",
       "      <td>4.80</td>\n",
       "      <td>115.3</td>\n",
       "      <td>Oakley Property</td>\n",
       "      <td>OAK</td>\n",
       "      <td>OakleyProperty @BrightonLets</td>\n",
       "      <td>701</td>\n",
       "      <td>Letting</td>\n",
       "      <td>...</td>\n",
       "      <td>Letting</td>\n",
       "      <td>Within Week</td>\n",
       "      <td>13/10/2020</td>\n",
       "      <td>18/10/2020</td>\n",
       "      <td>83</td>\n",
       "      <td>26</td>\n",
       "      <td>1</td>\n",
       "      <td>BRIGHTON AND HOVE</td>\n",
       "      <td>5483</td>\n",
       "      <td>1.688152</td>\n",
       "    </tr>\n",
       "    <tr>\n",
       "      <th>1</th>\n",
       "      <td>9209</td>\n",
       "      <td>13/10/2020 13:29</td>\n",
       "      <td>18/10/2020 08:52</td>\n",
       "      <td>4.81</td>\n",
       "      <td>115.4</td>\n",
       "      <td>Oakley Property</td>\n",
       "      <td>OAK</td>\n",
       "      <td>OakleyProperty @BrightonLets</td>\n",
       "      <td>701</td>\n",
       "      <td>Letting</td>\n",
       "      <td>...</td>\n",
       "      <td>Letting</td>\n",
       "      <td>Within Week</td>\n",
       "      <td>13/10/2020</td>\n",
       "      <td>18/10/2020</td>\n",
       "      <td>83</td>\n",
       "      <td>26</td>\n",
       "      <td>2</td>\n",
       "      <td>BRIGHTON AND HOVE</td>\n",
       "      <td>5483</td>\n",
       "      <td>1.688152</td>\n",
       "    </tr>\n",
       "    <tr>\n",
       "      <th>2</th>\n",
       "      <td>9209</td>\n",
       "      <td>09/03/2021 11:05</td>\n",
       "      <td>11/03/2021 14:05</td>\n",
       "      <td>2.13</td>\n",
       "      <td>51.0</td>\n",
       "      <td>Oakley Property</td>\n",
       "      <td>OAK</td>\n",
       "      <td>OakleyProperty @BrightonLets</td>\n",
       "      <td>701</td>\n",
       "      <td>Letting</td>\n",
       "      <td>...</td>\n",
       "      <td>Letting</td>\n",
       "      <td>Within Week</td>\n",
       "      <td>09/03/2021</td>\n",
       "      <td>11/03/2021</td>\n",
       "      <td>73</td>\n",
       "      <td>122</td>\n",
       "      <td>2</td>\n",
       "      <td>BRIGHTON AND HOVE</td>\n",
       "      <td>5483</td>\n",
       "      <td>1.688152</td>\n",
       "    </tr>\n",
       "    <tr>\n",
       "      <th>3</th>\n",
       "      <td>12238</td>\n",
       "      <td>26/02/2021 10:39</td>\n",
       "      <td>28/02/2021 07:54</td>\n",
       "      <td>1.89</td>\n",
       "      <td>45.3</td>\n",
       "      <td>Oakley Property</td>\n",
       "      <td>OAK</td>\n",
       "      <td>OakleyProperty @BrightonSales</td>\n",
       "      <td>702</td>\n",
       "      <td>Sales</td>\n",
       "      <td>...</td>\n",
       "      <td>Sales</td>\n",
       "      <td>Standard 48hr</td>\n",
       "      <td>26/02/2021</td>\n",
       "      <td>28/02/2021</td>\n",
       "      <td>75</td>\n",
       "      <td>17</td>\n",
       "      <td>1</td>\n",
       "      <td>BRIGHTON AND HOVE</td>\n",
       "      <td>5483</td>\n",
       "      <td>1.688152</td>\n",
       "    </tr>\n",
       "    <tr>\n",
       "      <th>4</th>\n",
       "      <td>9210</td>\n",
       "      <td>13/10/2020 13:30</td>\n",
       "      <td>18/10/2020 08:52</td>\n",
       "      <td>4.81</td>\n",
       "      <td>115.4</td>\n",
       "      <td>Oakley Property</td>\n",
       "      <td>OAK</td>\n",
       "      <td>OakleyProperty @BrightonLets</td>\n",
       "      <td>701</td>\n",
       "      <td>Letting</td>\n",
       "      <td>...</td>\n",
       "      <td>Letting</td>\n",
       "      <td>Within Week</td>\n",
       "      <td>13/10/2020</td>\n",
       "      <td>18/10/2020</td>\n",
       "      <td>83</td>\n",
       "      <td>26</td>\n",
       "      <td>2</td>\n",
       "      <td>BRIGHTON AND HOVE</td>\n",
       "      <td>5483</td>\n",
       "      <td>1.688152</td>\n",
       "    </tr>\n",
       "  </tbody>\n",
       "</table>\n",
       "<p>5 rows × 49 columns</p>\n",
       "</div>"
      ],
      "text/plain": [
       "   request_id  request_datetime completed_datetime  completed_duration_days  \\\n",
       "0        9215  13/10/2020 13:36   18/10/2020 08:52                     4.80   \n",
       "1        9209  13/10/2020 13:29   18/10/2020 08:52                     4.81   \n",
       "2        9209  09/03/2021 11:05   11/03/2021 14:05                     2.13   \n",
       "3       12238  26/02/2021 10:39   28/02/2021 07:54                     1.89   \n",
       "4        9210  13/10/2020 13:30   18/10/2020 08:52                     4.81   \n",
       "\n",
       "   completed_duration_hours       agent_name agent_code  \\\n",
       "0                     115.3  Oakley Property        OAK   \n",
       "1                     115.4  Oakley Property        OAK   \n",
       "2                      51.0  Oakley Property        OAK   \n",
       "3                      45.3  Oakley Property        OAK   \n",
       "4                     115.4  Oakley Property        OAK   \n",
       "\n",
       "                     branch_name  branch_code sign_category  ...  \\\n",
       "0   OakleyProperty @BrightonLets          701       Letting  ...   \n",
       "1   OakleyProperty @BrightonLets          701       Letting  ...   \n",
       "2   OakleyProperty @BrightonLets          701       Letting  ...   \n",
       "3  OakleyProperty @BrightonSales          702         Sales  ...   \n",
       "4   OakleyProperty @BrightonLets          701       Letting  ...   \n",
       "\n",
       "  work_category      lead_time request_date completed_date requests_per_day  \\\n",
       "0       Letting    Within Week   13/10/2020     18/10/2020               83   \n",
       "1       Letting    Within Week   13/10/2020     18/10/2020               83   \n",
       "2       Letting    Within Week   09/03/2021     11/03/2021               73   \n",
       "3         Sales  Standard 48hr   26/02/2021     28/02/2021               75   \n",
       "4       Letting    Within Week   13/10/2020     18/10/2020               83   \n",
       "\n",
       "  completed_per_day cycle_count           district  signs_per_district  \\\n",
       "0                26           1  BRIGHTON AND HOVE                5483   \n",
       "1                26           2  BRIGHTON AND HOVE                5483   \n",
       "2               122           2  BRIGHTON AND HOVE                5483   \n",
       "3                17           1  BRIGHTON AND HOVE                5483   \n",
       "4                26           2  BRIGHTON AND HOVE                5483   \n",
       "\n",
       "   average_completion_days  \n",
       "0                 1.688152  \n",
       "1                 1.688152  \n",
       "2                 1.688152  \n",
       "3                 1.688152  \n",
       "4                 1.688152  \n",
       "\n",
       "[5 rows x 49 columns]"
      ]
     },
     "execution_count": 4,
     "metadata": {},
     "output_type": "execute_result"
    }
   ],
   "source": [
    "df_saleslet = pd.read_csv(os.path.join(dataset,'stone_signs_portal_v3.5_saleslets_lifecycle_district - 21,488.csv'))\n",
    "df_saleslet.head()"
   ]
  },
  {
   "cell_type": "markdown",
   "id": "5c6f5f05",
   "metadata": {},
   "source": [
    "### check dimensions & data types"
   ]
  },
  {
   "cell_type": "code",
   "execution_count": 5,
   "id": "86a66a6a",
   "metadata": {},
   "outputs": [
    {
     "data": {
      "text/plain": [
       "(21488, 49)"
      ]
     },
     "execution_count": 5,
     "metadata": {},
     "output_type": "execute_result"
    }
   ],
   "source": [
    "df_saleslet.shape"
   ]
  },
  {
   "cell_type": "code",
   "execution_count": 6,
   "id": "a228b370",
   "metadata": {
    "scrolled": true
   },
   "outputs": [
    {
     "data": {
      "text/plain": [
       "request_id                    int64\n",
       "request_datetime             object\n",
       "completed_datetime           object\n",
       "completed_duration_days     float64\n",
       "completed_duration_hours    float64\n",
       "agent_name                   object\n",
       "agent_code                   object\n",
       "branch_name                  object\n",
       "branch_code                   int64\n",
       "sign_category                object\n",
       "sign_action                  object\n",
       "board_type                  float64\n",
       "sign_type                    object\n",
       "address_1                    object\n",
       "address_2                    object\n",
       "address_3                    object\n",
       "town                         object\n",
       "postcode                     object\n",
       "latitude                    float64\n",
       "longitude                   float64\n",
       "quantity                      int64\n",
       "additional_info              object\n",
       "request_status               object\n",
       "payment_status               object\n",
       "net_charge                  float64\n",
       "vat                         float64\n",
       "gross_charge                float64\n",
       "invoice_datetime             object\n",
       "paid_datetime                object\n",
       "payment_duration_days       float64\n",
       "haversine_distance_miles    float64\n",
       "latitude_group              float64\n",
       "longitude_group             float64\n",
       "zone                          int64\n",
       "zone_area                    object\n",
       "is_up                         int64\n",
       "month_no                      int64\n",
       "month                        object\n",
       "year                          int64\n",
       "work_category                object\n",
       "lead_time                    object\n",
       "request_date                 object\n",
       "completed_date               object\n",
       "requests_per_day              int64\n",
       "completed_per_day             int64\n",
       "cycle_count                   int64\n",
       "district                     object\n",
       "signs_per_district            int64\n",
       "average_completion_days     float64\n",
       "dtype: object"
      ]
     },
     "execution_count": 6,
     "metadata": {},
     "output_type": "execute_result"
    }
   ],
   "source": [
    "df_saleslet.dtypes"
   ]
  },
  {
   "cell_type": "markdown",
   "id": "1acac56c",
   "metadata": {},
   "source": [
    "## Hypothesis 1b: \n",
    "The greater the number of sign requests per district, the greater the average number of signs completed per day."
   ]
  },
  {
   "cell_type": "markdown",
   "id": "13b8fb3b",
   "metadata": {},
   "source": [
    "### calculate average number of signs completed per day"
   ]
  },
  {
   "cell_type": "code",
   "execution_count": 9,
   "id": "f3a62b75",
   "metadata": {},
   "outputs": [
    {
     "data": {
      "text/html": [
       "<div>\n",
       "<style scoped>\n",
       "    .dataframe tbody tr th:only-of-type {\n",
       "        vertical-align: middle;\n",
       "    }\n",
       "\n",
       "    .dataframe tbody tr th {\n",
       "        vertical-align: top;\n",
       "    }\n",
       "\n",
       "    .dataframe thead th {\n",
       "        text-align: right;\n",
       "    }\n",
       "</style>\n",
       "<table border=\"1\" class=\"dataframe\">\n",
       "  <thead>\n",
       "    <tr style=\"text-align: right;\">\n",
       "      <th></th>\n",
       "      <th>request_id</th>\n",
       "      <th>request_datetime</th>\n",
       "      <th>completed_datetime</th>\n",
       "      <th>completed_duration_days</th>\n",
       "      <th>completed_duration_hours</th>\n",
       "      <th>agent_name</th>\n",
       "      <th>agent_code</th>\n",
       "      <th>branch_name</th>\n",
       "      <th>branch_code</th>\n",
       "      <th>sign_category</th>\n",
       "      <th>...</th>\n",
       "      <th>lead_time</th>\n",
       "      <th>request_date</th>\n",
       "      <th>completed_date</th>\n",
       "      <th>requests_per_day</th>\n",
       "      <th>completed_per_day</th>\n",
       "      <th>cycle_count</th>\n",
       "      <th>district</th>\n",
       "      <th>signs_per_district</th>\n",
       "      <th>average_completion_days</th>\n",
       "      <th>avg_signs_completed_day</th>\n",
       "    </tr>\n",
       "  </thead>\n",
       "  <tbody>\n",
       "    <tr>\n",
       "      <th>0</th>\n",
       "      <td>9215</td>\n",
       "      <td>13/10/2020 13:36</td>\n",
       "      <td>18/10/2020 08:52</td>\n",
       "      <td>4.80</td>\n",
       "      <td>115.3</td>\n",
       "      <td>Oakley Property</td>\n",
       "      <td>OAK</td>\n",
       "      <td>OakleyProperty @BrightonLets</td>\n",
       "      <td>701</td>\n",
       "      <td>Letting</td>\n",
       "      <td>...</td>\n",
       "      <td>Within Week</td>\n",
       "      <td>13/10/2020</td>\n",
       "      <td>18/10/2020</td>\n",
       "      <td>83</td>\n",
       "      <td>26</td>\n",
       "      <td>1</td>\n",
       "      <td>BRIGHTON AND HOVE</td>\n",
       "      <td>5483</td>\n",
       "      <td>1.688152</td>\n",
       "      <td>78.24658</td>\n",
       "    </tr>\n",
       "    <tr>\n",
       "      <th>1</th>\n",
       "      <td>9209</td>\n",
       "      <td>13/10/2020 13:29</td>\n",
       "      <td>18/10/2020 08:52</td>\n",
       "      <td>4.81</td>\n",
       "      <td>115.4</td>\n",
       "      <td>Oakley Property</td>\n",
       "      <td>OAK</td>\n",
       "      <td>OakleyProperty @BrightonLets</td>\n",
       "      <td>701</td>\n",
       "      <td>Letting</td>\n",
       "      <td>...</td>\n",
       "      <td>Within Week</td>\n",
       "      <td>13/10/2020</td>\n",
       "      <td>18/10/2020</td>\n",
       "      <td>83</td>\n",
       "      <td>26</td>\n",
       "      <td>2</td>\n",
       "      <td>BRIGHTON AND HOVE</td>\n",
       "      <td>5483</td>\n",
       "      <td>1.688152</td>\n",
       "      <td>78.24658</td>\n",
       "    </tr>\n",
       "    <tr>\n",
       "      <th>2</th>\n",
       "      <td>9209</td>\n",
       "      <td>09/03/2021 11:05</td>\n",
       "      <td>11/03/2021 14:05</td>\n",
       "      <td>2.13</td>\n",
       "      <td>51.0</td>\n",
       "      <td>Oakley Property</td>\n",
       "      <td>OAK</td>\n",
       "      <td>OakleyProperty @BrightonLets</td>\n",
       "      <td>701</td>\n",
       "      <td>Letting</td>\n",
       "      <td>...</td>\n",
       "      <td>Within Week</td>\n",
       "      <td>09/03/2021</td>\n",
       "      <td>11/03/2021</td>\n",
       "      <td>73</td>\n",
       "      <td>122</td>\n",
       "      <td>2</td>\n",
       "      <td>BRIGHTON AND HOVE</td>\n",
       "      <td>5483</td>\n",
       "      <td>1.688152</td>\n",
       "      <td>78.24658</td>\n",
       "    </tr>\n",
       "    <tr>\n",
       "      <th>3</th>\n",
       "      <td>12238</td>\n",
       "      <td>26/02/2021 10:39</td>\n",
       "      <td>28/02/2021 07:54</td>\n",
       "      <td>1.89</td>\n",
       "      <td>45.3</td>\n",
       "      <td>Oakley Property</td>\n",
       "      <td>OAK</td>\n",
       "      <td>OakleyProperty @BrightonSales</td>\n",
       "      <td>702</td>\n",
       "      <td>Sales</td>\n",
       "      <td>...</td>\n",
       "      <td>Standard 48hr</td>\n",
       "      <td>26/02/2021</td>\n",
       "      <td>28/02/2021</td>\n",
       "      <td>75</td>\n",
       "      <td>17</td>\n",
       "      <td>1</td>\n",
       "      <td>BRIGHTON AND HOVE</td>\n",
       "      <td>5483</td>\n",
       "      <td>1.688152</td>\n",
       "      <td>78.24658</td>\n",
       "    </tr>\n",
       "    <tr>\n",
       "      <th>4</th>\n",
       "      <td>9210</td>\n",
       "      <td>13/10/2020 13:30</td>\n",
       "      <td>18/10/2020 08:52</td>\n",
       "      <td>4.81</td>\n",
       "      <td>115.4</td>\n",
       "      <td>Oakley Property</td>\n",
       "      <td>OAK</td>\n",
       "      <td>OakleyProperty @BrightonLets</td>\n",
       "      <td>701</td>\n",
       "      <td>Letting</td>\n",
       "      <td>...</td>\n",
       "      <td>Within Week</td>\n",
       "      <td>13/10/2020</td>\n",
       "      <td>18/10/2020</td>\n",
       "      <td>83</td>\n",
       "      <td>26</td>\n",
       "      <td>2</td>\n",
       "      <td>BRIGHTON AND HOVE</td>\n",
       "      <td>5483</td>\n",
       "      <td>1.688152</td>\n",
       "      <td>78.24658</td>\n",
       "    </tr>\n",
       "  </tbody>\n",
       "</table>\n",
       "<p>5 rows × 50 columns</p>\n",
       "</div>"
      ],
      "text/plain": [
       "   request_id  request_datetime completed_datetime  completed_duration_days  \\\n",
       "0        9215  13/10/2020 13:36   18/10/2020 08:52                     4.80   \n",
       "1        9209  13/10/2020 13:29   18/10/2020 08:52                     4.81   \n",
       "2        9209  09/03/2021 11:05   11/03/2021 14:05                     2.13   \n",
       "3       12238  26/02/2021 10:39   28/02/2021 07:54                     1.89   \n",
       "4        9210  13/10/2020 13:30   18/10/2020 08:52                     4.81   \n",
       "\n",
       "   completed_duration_hours       agent_name agent_code  \\\n",
       "0                     115.3  Oakley Property        OAK   \n",
       "1                     115.4  Oakley Property        OAK   \n",
       "2                      51.0  Oakley Property        OAK   \n",
       "3                      45.3  Oakley Property        OAK   \n",
       "4                     115.4  Oakley Property        OAK   \n",
       "\n",
       "                     branch_name  branch_code sign_category  ...  \\\n",
       "0   OakleyProperty @BrightonLets          701       Letting  ...   \n",
       "1   OakleyProperty @BrightonLets          701       Letting  ...   \n",
       "2   OakleyProperty @BrightonLets          701       Letting  ...   \n",
       "3  OakleyProperty @BrightonSales          702         Sales  ...   \n",
       "4   OakleyProperty @BrightonLets          701       Letting  ...   \n",
       "\n",
       "       lead_time  request_date completed_date requests_per_day  \\\n",
       "0    Within Week    13/10/2020     18/10/2020               83   \n",
       "1    Within Week    13/10/2020     18/10/2020               83   \n",
       "2    Within Week    09/03/2021     11/03/2021               73   \n",
       "3  Standard 48hr    26/02/2021     28/02/2021               75   \n",
       "4    Within Week    13/10/2020     18/10/2020               83   \n",
       "\n",
       "  completed_per_day cycle_count           district signs_per_district  \\\n",
       "0                26           1  BRIGHTON AND HOVE               5483   \n",
       "1                26           2  BRIGHTON AND HOVE               5483   \n",
       "2               122           2  BRIGHTON AND HOVE               5483   \n",
       "3                17           1  BRIGHTON AND HOVE               5483   \n",
       "4                26           2  BRIGHTON AND HOVE               5483   \n",
       "\n",
       "   average_completion_days  avg_signs_completed_day  \n",
       "0                 1.688152                 78.24658  \n",
       "1                 1.688152                 78.24658  \n",
       "2                 1.688152                 78.24658  \n",
       "3                 1.688152                 78.24658  \n",
       "4                 1.688152                 78.24658  \n",
       "\n",
       "[5 rows x 50 columns]"
      ]
     },
     "execution_count": 9,
     "metadata": {},
     "output_type": "execute_result"
    }
   ],
   "source": [
    "df_saleslet['avg_signs_completed_day'] = df_saleslet.groupby(['district']) ['completed_per_day'].transform(np.mean)\n",
    "df_saleslet.head()"
   ]
  },
  {
   "cell_type": "markdown",
   "id": "9e524f8a",
   "metadata": {},
   "source": [
    "### display as scatterplot"
   ]
  },
  {
   "cell_type": "code",
   "execution_count": 10,
   "id": "d7aeb821",
   "metadata": {},
   "outputs": [
    {
     "data": {
      "image/png": "[encoded data removed]",
      "text/plain": [
       "<Figure size 360x360 with 1 Axes>"
      ]
     },
     "metadata": {
      "needs_background": "light"
     },
     "output_type": "display_data"
    }
   ],
   "source": [
    "sns.lmplot(x= 'signs_per_district', y= 'avg_signs_completed_day', data= df_saleslet)\n",
    "\n",
    "plt.title('Sign Requests per District V Avg. Completed per Day')\n",
    "plt.xlabel('No. of Signs per District')\n",
    "plt.ylabel('No. of Signs Completed per Day')\n",
    "plt.tight_layout()\n",
    "\n",
    "plt.savefig(os.path.join(vizpath,'H1b) Sign Requests per District V Average Completed per Day.png'))"
   ]
  },
  {
   "cell_type": "markdown",
   "id": "acd3c17d",
   "metadata": {},
   "source": [
    "The graph shows a mild positive correlation between the number of signs request per district and the average number of signs requests completed per day."
   ]
  },
  {
   "cell_type": "markdown",
   "id": "029ab010",
   "metadata": {},
   "source": [
    "### export to CSV"
   ]
  },
  {
   "cell_type": "code",
   "execution_count": 11,
   "id": "54a34b4f",
   "metadata": {},
   "outputs": [
    {
     "data": {
      "text/plain": [
       "(21488, 50)"
      ]
     },
     "execution_count": 11,
     "metadata": {},
     "output_type": "execute_result"
    }
   ],
   "source": [
    "df_saleslet.shape"
   ]
  },
  {
   "cell_type": "code",
   "execution_count": 12,
   "id": "19d3f93e",
   "metadata": {},
   "outputs": [],
   "source": [
    "df_saleslet.to_csv(os.path.join(dataset,'stone_signs_portal_v3.6_saleslets_lifecycle_district - 21,488.csv'), index=False)"
   ]
  },
  {
   "cell_type": "markdown",
   "id": "f190645a",
   "metadata": {},
   "source": [
    "### display correlation strength \n",
    "    create sub set containing 'signs_per_district' & 'avg_signs_completed_day'"
   ]
  },
  {
   "cell_type": "code",
   "execution_count": 13,
   "id": "ff9fd19c",
   "metadata": {},
   "outputs": [
    {
     "data": {
      "text/html": [
       "<div>\n",
       "<style scoped>\n",
       "    .dataframe tbody tr th:only-of-type {\n",
       "        vertical-align: middle;\n",
       "    }\n",
       "\n",
       "    .dataframe tbody tr th {\n",
       "        vertical-align: top;\n",
       "    }\n",
       "\n",
       "    .dataframe thead th {\n",
       "        text-align: right;\n",
       "    }\n",
       "</style>\n",
       "<table border=\"1\" class=\"dataframe\">\n",
       "  <thead>\n",
       "    <tr style=\"text-align: right;\">\n",
       "      <th></th>\n",
       "      <th>signs_per_district</th>\n",
       "      <th>avg_signs_completed_day</th>\n",
       "    </tr>\n",
       "  </thead>\n",
       "  <tbody>\n",
       "    <tr>\n",
       "      <th>0</th>\n",
       "      <td>5483</td>\n",
       "      <td>78.24658</td>\n",
       "    </tr>\n",
       "    <tr>\n",
       "      <th>1</th>\n",
       "      <td>5483</td>\n",
       "      <td>78.24658</td>\n",
       "    </tr>\n",
       "    <tr>\n",
       "      <th>2</th>\n",
       "      <td>5483</td>\n",
       "      <td>78.24658</td>\n",
       "    </tr>\n",
       "    <tr>\n",
       "      <th>3</th>\n",
       "      <td>5483</td>\n",
       "      <td>78.24658</td>\n",
       "    </tr>\n",
       "    <tr>\n",
       "      <th>4</th>\n",
       "      <td>5483</td>\n",
       "      <td>78.24658</td>\n",
       "    </tr>\n",
       "  </tbody>\n",
       "</table>\n",
       "</div>"
      ],
      "text/plain": [
       "   signs_per_district  avg_signs_completed_day\n",
       "0                5483                 78.24658\n",
       "1                5483                 78.24658\n",
       "2                5483                 78.24658\n",
       "3                5483                 78.24658\n",
       "4                5483                 78.24658"
      ]
     },
     "execution_count": 13,
     "metadata": {},
     "output_type": "execute_result"
    }
   ],
   "source": [
    "df_district_complete = df_saleslet[['signs_per_district','avg_signs_completed_day']]\n",
    "df_district_complete.head()"
   ]
  },
  {
   "cell_type": "markdown",
   "id": "79e85c0d",
   "metadata": {},
   "source": [
    "### remove duplicates"
   ]
  },
  {
   "cell_type": "code",
   "execution_count": 14,
   "id": "7cd6962d",
   "metadata": {},
   "outputs": [
    {
     "data": {
      "text/plain": [
       "(21488, 2)"
      ]
     },
     "execution_count": 14,
     "metadata": {},
     "output_type": "execute_result"
    }
   ],
   "source": [
    "df_district_complete.shape"
   ]
  },
  {
   "cell_type": "code",
   "execution_count": 15,
   "id": "f668af7a",
   "metadata": {},
   "outputs": [
    {
     "data": {
      "text/plain": [
       "(14, 2)"
      ]
     },
     "execution_count": 15,
     "metadata": {},
     "output_type": "execute_result"
    }
   ],
   "source": [
    "df_district_complete = df_district_complete.drop_duplicates()\n",
    "df_district_complete.shape"
   ]
  },
  {
   "cell_type": "code",
   "execution_count": 16,
   "id": "366143dc",
   "metadata": {
    "collapsed": true
   },
   "outputs": [
    {
     "data": {
      "image/png": "[encoded data removed]",
      "text/plain": [
       "<Figure size 720x720 with 1 Axes>"
      ]
     },
     "metadata": {
      "needs_background": "light"
     },
     "output_type": "display_data"
    }
   ],
   "source": [
    "fig_size,axis = plt.subplots(figsize=(10,10))"
   ]
  },
  {
   "cell_type": "code",
   "execution_count": 17,
   "id": "8c757935",
   "metadata": {},
   "outputs": [
    {
     "data": {
      "image/png": "[encoded data removed]",
      "text/plain": [
       "<Figure size 720x720 with 2 Axes>"
      ]
     },
     "execution_count": 17,
     "metadata": {},
     "output_type": "execute_result"
    }
   ],
   "source": [
    "corr_district_complete = sns.heatmap(df_district_complete.corr(), annot= True, ax= axis)\n",
    "corr_district_complete.figure"
   ]
  },
  {
   "cell_type": "markdown",
   "id": "4890a5a1",
   "metadata": {},
   "source": [
    "Correlation strength between the number of sign requests per District and the number of signs completed per day is +0.35, a moderate relationship."
   ]
  },
  {
   "cell_type": "markdown",
   "id": "b6d5f348",
   "metadata": {},
   "source": [
    "### export subset for review"
   ]
  },
  {
   "cell_type": "code",
   "execution_count": 29,
   "id": "5e3d485b",
   "metadata": {},
   "outputs": [],
   "source": [
    "df_district_complete.to_csv(os.path.join(dataset,'x_district_complete_day - 14.csv'), index=False)"
   ]
  },
  {
   "cell_type": "markdown",
   "id": "6a2ffe88",
   "metadata": {},
   "source": [
    "# Linear Regression Analysis\n",
    "NB: There are not actually enough data points to carry out an effective linear regression.  The recommended number of data points hsould exceed 5,000 for effective model training.  However, the following script covers the Linear Regression process."
   ]
  },
  {
   "cell_type": "markdown",
   "id": "40da42bb",
   "metadata": {},
   "source": [
    "### reshape the data points into NumPy arrays, and place in seperate objects X (independent) and y (dependent)"
   ]
  },
  {
   "cell_type": "code",
   "execution_count": 18,
   "id": "c16edd07",
   "metadata": {},
   "outputs": [
    {
     "data": {
      "text/plain": [
       "array([[5483],\n",
       "       [3442],\n",
       "       [5351],\n",
       "       [2374],\n",
       "       [3449],\n",
       "       [ 332],\n",
       "       [   3],\n",
       "       [  29],\n",
       "       [  23],\n",
       "       [   7],\n",
       "       [ 982],\n",
       "       [   7],\n",
       "       [   3],\n",
       "       [   3]], dtype=int64)"
      ]
     },
     "execution_count": 18,
     "metadata": {},
     "output_type": "execute_result"
    }
   ],
   "source": [
    "X = df_district_complete['signs_per_district'].values.reshape(-1,1)\n",
    "X"
   ]
  },
  {
   "cell_type": "code",
   "execution_count": 19,
   "id": "b8df0b89",
   "metadata": {},
   "outputs": [
    {
     "data": {
      "text/plain": [
       "array([[78.24658034],\n",
       "       [76.98692621],\n",
       "       [61.01214726],\n",
       "       [58.77295703],\n",
       "       [70.06407654],\n",
       "       [55.17771084],\n",
       "       [72.        ],\n",
       "       [68.44827586],\n",
       "       [56.08695652],\n",
       "       [70.85714286],\n",
       "       [58.44501018],\n",
       "       [39.85714286],\n",
       "       [58.66666667],\n",
       "       [17.        ]])"
      ]
     },
     "execution_count": 19,
     "metadata": {},
     "output_type": "execute_result"
    }
   ],
   "source": [
    "y = df_district_complete['avg_signs_completed_day'].values.reshape(-1,1)\n",
    "y"
   ]
  },
  {
   "cell_type": "markdown",
   "id": "1cd5aea5",
   "metadata": {},
   "source": [
    "### split X and y data into Training and Test sets - 70:30"
   ]
  },
  {
   "cell_type": "code",
   "execution_count": 20,
   "id": "e3ed3545",
   "metadata": {},
   "outputs": [],
   "source": [
    "X_train, X_test, y_train, y_test = train_test_split(X, y, test_size=0.3, random_state=0)"
   ]
  },
  {
   "cell_type": "markdown",
   "id": "bb0ec298",
   "metadata": {},
   "source": [
    "### create a regression line to fit into the Training set"
   ]
  },
  {
   "cell_type": "code",
   "execution_count": 21,
   "id": "8fffde5f",
   "metadata": {},
   "outputs": [
    {
     "data": {
      "text/plain": [
       "LinearRegression()"
      ]
     },
     "execution_count": 21,
     "metadata": {},
     "output_type": "execute_result"
    }
   ],
   "source": [
    "regression = LinearRegression()\n",
    "regression.fit(X_train, y_train)"
   ]
  },
  {
   "cell_type": "markdown",
   "id": "636dc5ef",
   "metadata": {},
   "source": [
    "Data is now trained on the Training set and must now be tested on the Test set."
   ]
  },
  {
   "cell_type": "markdown",
   "id": "d546825f",
   "metadata": {},
   "source": [
    "### predict the values of y (Dependent) using X (Independent) on the Test set"
   ]
  },
  {
   "cell_type": "code",
   "execution_count": 22,
   "id": "129415c5",
   "metadata": {},
   "outputs": [],
   "source": [
    "y_predicted = regression.predict(X_test)"
   ]
  },
  {
   "cell_type": "markdown",
   "id": "3a83904f",
   "metadata": {},
   "source": [
    "### create a plot that shows the regression line from the model Test set"
   ]
  },
  {
   "cell_type": "code",
   "execution_count": 24,
   "id": "e61781a6",
   "metadata": {},
   "outputs": [
    {
     "data": {
      "image/png": "[encoded data removed]",
      "text/plain": [
       "<Figure size 432x288 with 1 Axes>"
      ]
     },
     "metadata": {
      "needs_background": "light"
     },
     "output_type": "display_data"
    }
   ],
   "source": [
    "plot_test = plt\n",
    "plot_test.scatter(X_test, y_test, color='gray', s = 15)\n",
    "plot_test.plot(X_test, y_predicted, color='red', linewidth =3)\n",
    "\n",
    "plot_test.title('Sign Requests per District Vs Average Completed per Day (Test set)')\n",
    "plot_test.xlabel('No. of Sign Request per District')\n",
    "plot_test.ylabel('Average No. Completed per Day')\n",
    "\n",
    "plt.savefig(os.path.join(vizpath,'H1b) Sign Requests per District V Completion Duration (Test Set).png'))"
   ]
  },
  {
   "cell_type": "markdown",
   "id": "c8d21374",
   "metadata": {},
   "source": [
    "### calculate the summary statistics for the above plot"
   ]
  },
  {
   "cell_type": "markdown",
   "id": "5b4c4d75",
   "metadata": {},
   "source": [
    "  - 1)\tCorrelation Coefficient or Pearson's r: the strength of a relationship between the independent and dependent variable (-1 to +1)\n",
    "  - 2)\tR-Squared or Coefficient of Determination: a measure of how well the regression predictions approximate the real data points (%).\n",
    "  - 3)\tRoot Mean Squared Error (RMSE): a single measure of predictive accuracy and explains the difference between the actual data points and the predicted data points (value relative to data, small error is better fit).\n",
    "  - 4)\tSlope Coefficient:  The regression line fit to the data based on the 'rate of change of y as per X value' (%)."
   ]
  },
  {
   "cell_type": "code",
   "execution_count": 25,
   "id": "776e3d60",
   "metadata": {},
   "outputs": [
    {
     "data": {
      "text/plain": [
       "-0.3063158372510837"
      ]
     },
     "execution_count": 25,
     "metadata": {},
     "output_type": "execute_result"
    }
   ],
   "source": [
    "r2 = r2_score(y_test, y_predicted)\n",
    "r2"
   ]
  },
  {
   "cell_type": "code",
   "execution_count": 26,
   "id": "ddad9873",
   "metadata": {},
   "outputs": [
    {
     "data": {
      "text/plain": [
       "174.30557019734223"
      ]
     },
     "execution_count": 26,
     "metadata": {},
     "output_type": "execute_result"
    }
   ],
   "source": [
    "mse = mean_squared_error(y_test, y_predicted)\n",
    "mse"
   ]
  },
  {
   "cell_type": "markdown",
   "id": "24ce68f2",
   "metadata": {},
   "source": [
    "### print the predictive model statistics to assess the performance"
   ]
  },
  {
   "cell_type": "code",
   "execution_count": 27,
   "id": "a388eabd",
   "metadata": {},
   "outputs": [
    {
     "name": "stdout",
     "output_type": "stream",
     "text": [
      "R2 Score:  -0.3063158372510837\n",
      "Mean Squared Error (in units2):  174.30557019734223\n",
      "Slope Coefficient: [[0.00483346]]\n"
     ]
    }
   ],
   "source": [
    "print('R2 Score: ', r2)\n",
    "print('Mean Squared Error (in units2): ', mse)\n",
    "print('Slope Coefficient:' ,regression.coef_)"
   ]
  },
  {
   "cell_type": "markdown",
   "id": "216f888b",
   "metadata": {},
   "source": [
    "#### Interpretation:\n",
    "  - A ngeative result for R-Squared mean the model does not follow the trend of the data, and renders the other statistic values useless, no further work required here."
   ]
  },
  {
   "cell_type": "markdown",
   "id": "25f4fa44",
   "metadata": {},
   "source": [
    "### a review of actual values vs predicted values shows the model is no good"
   ]
  },
  {
   "cell_type": "code",
   "execution_count": 28,
   "id": "155bf788",
   "metadata": {},
   "outputs": [
    {
     "data": {
      "text/html": [
       "<div>\n",
       "<style scoped>\n",
       "    .dataframe tbody tr th:only-of-type {\n",
       "        vertical-align: middle;\n",
       "    }\n",
       "\n",
       "    .dataframe tbody tr th {\n",
       "        vertical-align: top;\n",
       "    }\n",
       "\n",
       "    .dataframe thead th {\n",
       "        text-align: right;\n",
       "    }\n",
       "</style>\n",
       "<table border=\"1\" class=\"dataframe\">\n",
       "  <thead>\n",
       "    <tr style=\"text-align: right;\">\n",
       "      <th></th>\n",
       "      <th>Actual</th>\n",
       "      <th>Predicted</th>\n",
       "    </tr>\n",
       "  </thead>\n",
       "  <tbody>\n",
       "    <tr>\n",
       "      <th>0</th>\n",
       "      <td>56.086957</td>\n",
       "      <td>53.603812</td>\n",
       "    </tr>\n",
       "    <tr>\n",
       "      <th>1</th>\n",
       "      <td>72.000000</td>\n",
       "      <td>53.507143</td>\n",
       "    </tr>\n",
       "    <tr>\n",
       "      <th>2</th>\n",
       "      <td>70.064077</td>\n",
       "      <td>70.163260</td>\n",
       "    </tr>\n",
       "    <tr>\n",
       "      <th>3</th>\n",
       "      <td>39.857143</td>\n",
       "      <td>53.526477</td>\n",
       "    </tr>\n",
       "    <tr>\n",
       "      <th>4</th>\n",
       "      <td>61.012147</td>\n",
       "      <td>79.356508</td>\n",
       "    </tr>\n",
       "  </tbody>\n",
       "</table>\n",
       "</div>"
      ],
      "text/plain": [
       "      Actual  Predicted\n",
       "0  56.086957  53.603812\n",
       "1  72.000000  53.507143\n",
       "2  70.064077  70.163260\n",
       "3  39.857143  53.526477\n",
       "4  61.012147  79.356508"
      ]
     },
     "execution_count": 28,
     "metadata": {},
     "output_type": "execute_result"
    }
   ],
   "source": [
    "data = pd.DataFrame({'Actual': y_test.flatten(), 'Predicted': y_predicted.flatten()})\n",
    "data"
   ]
  }
 ],
 "metadata": {
  "kernelspec": {
   "display_name": "Python 3",
   "language": "python",
   "name": "python3"
  },
  "language_info": {
   "codemirror_mode": {
    "name": "ipython",
    "version": 3
   },
   "file_extension": ".py",
   "mimetype": "text/x-python",
   "name": "python",
   "nbconvert_exporter": "python",
   "pygments_lexer": "ipython3",
   "version": "3.8.8"
  }
 },
 "nbformat": 4,
 "nbformat_minor": 5
}
