{
 "cells": [
  {
   "cell_type": "markdown",
   "id": "137a0d58",
   "metadata": {},
   "source": [
    "## Research Questions – Part1 – Overall\n",
    "  1.\tImport libraries & set directory paths\n",
    "  2.\tImport Portal data, check dimensions and data types (stone_signs_portal_v2.0_zones.csv)\n",
    "  3.\tChange datetime string columns to datetime data types\n",
    "            Address research questions:\n",
    "            •\tQu.1) How much revenue has been generated since Portal conception? \n",
    "                -\t1st January 2020 to 31st Aug 2021 - 20 months.\n",
    "            •\tQu.2) Compare revenue generate in 2020 to revenue in 2021.\n",
    "            •\tQu.3) Compare the average amount of revenue generate over a month for 2020 and 2021\n",
    "            •\tQu.4) What is the average daily revenue generated?\n",
    "                -\tDisplay as bar chart - monthly revenue for 2020 and 2021\n",
    "            •\tQu.5) How do the different areas compare in terms of work request?\n",
    "                -\tSales, Letting, Sponsorship, Commercial, Maintenance.\n",
    "                -\tDisplay as pie chart % contribution to revenue\n",
    "                -\tExport to: stone_signs_portal_v2.1_month_workcate.csv"
   ]
  },
  {
   "cell_type": "markdown",
   "id": "dfb595f1",
   "metadata": {},
   "source": [
    "### import libraries"
   ]
  },
  {
   "cell_type": "code",
   "execution_count": 1,
   "id": "dca40f1a",
   "metadata": {},
   "outputs": [],
   "source": [
    "import pandas as pd\n",
    "import numpy as np\n",
    "import seaborn as sns\n",
    "import matplotlib.pyplot as plt\n",
    "import matplotlib\n",
    "import os\n",
    "from datetime import date\n",
    "import datetime\n",
    "import matplotlib.patches as mpatches"
   ]
  },
  {
   "cell_type": "markdown",
   "id": "3052e3e9",
   "metadata": {},
   "source": [
    "### set directory paths"
   ]
  },
  {
   "cell_type": "code",
   "execution_count": 2,
   "id": "e6e7142f",
   "metadata": {},
   "outputs": [
    {
     "data": {
      "text/plain": [
       "'D:\\\\My Documents\\\\! Omnicompetent Ltd\\\\Career Foundry - Data Analytics\\\\Data Analytics Course\\\\60 Advanced Analytics and Dashboard Design\\\\Stone Signs Portal Analysis\\\\02 Data'"
      ]
     },
     "execution_count": 2,
     "metadata": {},
     "output_type": "execute_result"
    }
   ],
   "source": [
    "dataset = r'D:\\My Documents\\! Omnicompetent Ltd\\Career Foundry - Data Analytics\\Data Analytics Course\\60 Advanced Analytics and Dashboard Design\\Stone Signs Portal Analysis\\02 Data'\n",
    "dataset"
   ]
  },
  {
   "cell_type": "code",
   "execution_count": 3,
   "id": "c1558afe",
   "metadata": {},
   "outputs": [
    {
     "data": {
      "text/plain": [
       "'D:\\\\My Documents\\\\! Omnicompetent Ltd\\\\Career Foundry - Data Analytics\\\\Data Analytics Course\\\\60 Advanced Analytics and Dashboard Design\\\\Stone Signs Portal Analysis\\\\04 Analysis'"
      ]
     },
     "execution_count": 3,
     "metadata": {},
     "output_type": "execute_result"
    }
   ],
   "source": [
    "vizpath = r'D:\\My Documents\\! Omnicompetent Ltd\\Career Foundry - Data Analytics\\Data Analytics Course\\60 Advanced Analytics and Dashboard Design\\Stone Signs Portal Analysis\\04 Analysis'\n",
    "vizpath"
   ]
  },
  {
   "cell_type": "markdown",
   "id": "74b3fa37",
   "metadata": {},
   "source": [
    "## Import Portal Data"
   ]
  },
  {
   "cell_type": "code",
   "execution_count": 4,
   "id": "d63bf0b0",
   "metadata": {},
   "outputs": [
    {
     "data": {
      "text/html": [
       "<div>\n",
       "<style scoped>\n",
       "    .dataframe tbody tr th:only-of-type {\n",
       "        vertical-align: middle;\n",
       "    }\n",
       "\n",
       "    .dataframe tbody tr th {\n",
       "        vertical-align: top;\n",
       "    }\n",
       "\n",
       "    .dataframe thead th {\n",
       "        text-align: right;\n",
       "    }\n",
       "</style>\n",
       "<table border=\"1\" class=\"dataframe\">\n",
       "  <thead>\n",
       "    <tr style=\"text-align: right;\">\n",
       "      <th></th>\n",
       "      <th>request_id</th>\n",
       "      <th>request_datetime</th>\n",
       "      <th>completed_datetime</th>\n",
       "      <th>completed_duration_days</th>\n",
       "      <th>completed_duration_hours</th>\n",
       "      <th>agent_name</th>\n",
       "      <th>agent_code</th>\n",
       "      <th>branch_name</th>\n",
       "      <th>branch_code</th>\n",
       "      <th>sign_category</th>\n",
       "      <th>...</th>\n",
       "      <th>gross_charge</th>\n",
       "      <th>invoice_datetime</th>\n",
       "      <th>paid_datetime</th>\n",
       "      <th>payment_duration_days</th>\n",
       "      <th>harvesine_distance_miles</th>\n",
       "      <th>latitude_group</th>\n",
       "      <th>longitude_group</th>\n",
       "      <th>zone</th>\n",
       "      <th>zone_area</th>\n",
       "      <th>is_up</th>\n",
       "    </tr>\n",
       "  </thead>\n",
       "  <tbody>\n",
       "    <tr>\n",
       "      <th>0</th>\n",
       "      <td>9215</td>\n",
       "      <td>13/10/2020 13:36</td>\n",
       "      <td>18/10/2020 08:52</td>\n",
       "      <td>4.80</td>\n",
       "      <td>115.3</td>\n",
       "      <td>Oakley Property</td>\n",
       "      <td>OAK</td>\n",
       "      <td>OakleyProperty @BrightonLets</td>\n",
       "      <td>701</td>\n",
       "      <td>Letting</td>\n",
       "      <td>...</td>\n",
       "      <td>4.80</td>\n",
       "      <td>29/10/2020 21:40</td>\n",
       "      <td>10/12/2020 15:50</td>\n",
       "      <td>41.8</td>\n",
       "      <td>3508.926836</td>\n",
       "      <td>1.0</td>\n",
       "      <td>2.0</td>\n",
       "      <td>12</td>\n",
       "      <td>SE Sussex</td>\n",
       "      <td>1</td>\n",
       "    </tr>\n",
       "    <tr>\n",
       "      <th>1</th>\n",
       "      <td>8199</td>\n",
       "      <td>26/11/2020 20:33</td>\n",
       "      <td>28/11/2020 11:48</td>\n",
       "      <td>1.64</td>\n",
       "      <td>39.3</td>\n",
       "      <td>Lextons</td>\n",
       "      <td>LEX</td>\n",
       "      <td>Lextons @Hove</td>\n",
       "      <td>600</td>\n",
       "      <td>Sales</td>\n",
       "      <td>...</td>\n",
       "      <td>4.62</td>\n",
       "      <td>29/11/2020 12:48</td>\n",
       "      <td>05/02/2021 19:16</td>\n",
       "      <td>68.3</td>\n",
       "      <td>3508.978003</td>\n",
       "      <td>1.0</td>\n",
       "      <td>2.0</td>\n",
       "      <td>12</td>\n",
       "      <td>SE Sussex</td>\n",
       "      <td>1</td>\n",
       "    </tr>\n",
       "    <tr>\n",
       "      <th>2</th>\n",
       "      <td>7783</td>\n",
       "      <td>04/09/2020 20:18</td>\n",
       "      <td>05/09/2020 08:09</td>\n",
       "      <td>0.49</td>\n",
       "      <td>11.9</td>\n",
       "      <td>Lextons</td>\n",
       "      <td>LEX</td>\n",
       "      <td>Lextons @Hove</td>\n",
       "      <td>600</td>\n",
       "      <td>Sales</td>\n",
       "      <td>...</td>\n",
       "      <td>0.00</td>\n",
       "      <td>29/09/2020 20:26</td>\n",
       "      <td>10/12/2020 15:46</td>\n",
       "      <td>71.8</td>\n",
       "      <td>3508.978003</td>\n",
       "      <td>1.0</td>\n",
       "      <td>2.0</td>\n",
       "      <td>12</td>\n",
       "      <td>SE Sussex</td>\n",
       "      <td>0</td>\n",
       "    </tr>\n",
       "    <tr>\n",
       "      <th>3</th>\n",
       "      <td>8199</td>\n",
       "      <td>18/09/2020 18:44</td>\n",
       "      <td>19/09/2020 14:15</td>\n",
       "      <td>0.81</td>\n",
       "      <td>19.5</td>\n",
       "      <td>Lextons</td>\n",
       "      <td>LEX</td>\n",
       "      <td>Lextons @Hove</td>\n",
       "      <td>600</td>\n",
       "      <td>Sales</td>\n",
       "      <td>...</td>\n",
       "      <td>4.62</td>\n",
       "      <td>29/09/2020 20:26</td>\n",
       "      <td>10/12/2020 15:46</td>\n",
       "      <td>71.8</td>\n",
       "      <td>3508.978003</td>\n",
       "      <td>1.0</td>\n",
       "      <td>2.0</td>\n",
       "      <td>12</td>\n",
       "      <td>SE Sussex</td>\n",
       "      <td>0</td>\n",
       "    </tr>\n",
       "    <tr>\n",
       "      <th>4</th>\n",
       "      <td>9209</td>\n",
       "      <td>13/10/2020 13:29</td>\n",
       "      <td>18/10/2020 08:52</td>\n",
       "      <td>4.81</td>\n",
       "      <td>115.4</td>\n",
       "      <td>Oakley Property</td>\n",
       "      <td>OAK</td>\n",
       "      <td>OakleyProperty @BrightonLets</td>\n",
       "      <td>701</td>\n",
       "      <td>Letting</td>\n",
       "      <td>...</td>\n",
       "      <td>4.80</td>\n",
       "      <td>29/10/2020 21:40</td>\n",
       "      <td>10/12/2020 15:50</td>\n",
       "      <td>41.8</td>\n",
       "      <td>3509.207113</td>\n",
       "      <td>1.0</td>\n",
       "      <td>2.0</td>\n",
       "      <td>12</td>\n",
       "      <td>SE Sussex</td>\n",
       "      <td>0</td>\n",
       "    </tr>\n",
       "  </tbody>\n",
       "</table>\n",
       "<p>5 rows × 36 columns</p>\n",
       "</div>"
      ],
      "text/plain": [
       "   request_id  request_datetime completed_datetime  completed_duration_days  \\\n",
       "0        9215  13/10/2020 13:36   18/10/2020 08:52                     4.80   \n",
       "1        8199  26/11/2020 20:33   28/11/2020 11:48                     1.64   \n",
       "2        7783  04/09/2020 20:18   05/09/2020 08:09                     0.49   \n",
       "3        8199  18/09/2020 18:44   19/09/2020 14:15                     0.81   \n",
       "4        9209  13/10/2020 13:29   18/10/2020 08:52                     4.81   \n",
       "\n",
       "   completed_duration_hours       agent_name agent_code  \\\n",
       "0                     115.3  Oakley Property        OAK   \n",
       "1                      39.3          Lextons        LEX   \n",
       "2                      11.9          Lextons        LEX   \n",
       "3                      19.5          Lextons        LEX   \n",
       "4                     115.4  Oakley Property        OAK   \n",
       "\n",
       "                    branch_name  branch_code sign_category  ... gross_charge  \\\n",
       "0  OakleyProperty @BrightonLets          701       Letting  ...         4.80   \n",
       "1                 Lextons @Hove          600         Sales  ...         4.62   \n",
       "2                 Lextons @Hove          600         Sales  ...         0.00   \n",
       "3                 Lextons @Hove          600         Sales  ...         4.62   \n",
       "4  OakleyProperty @BrightonLets          701       Letting  ...         4.80   \n",
       "\n",
       "   invoice_datetime     paid_datetime payment_duration_days  \\\n",
       "0  29/10/2020 21:40  10/12/2020 15:50                  41.8   \n",
       "1  29/11/2020 12:48  05/02/2021 19:16                  68.3   \n",
       "2  29/09/2020 20:26  10/12/2020 15:46                  71.8   \n",
       "3  29/09/2020 20:26  10/12/2020 15:46                  71.8   \n",
       "4  29/10/2020 21:40  10/12/2020 15:50                  41.8   \n",
       "\n",
       "  harvesine_distance_miles latitude_group longitude_group zone  zone_area  \\\n",
       "0              3508.926836            1.0             2.0   12  SE Sussex   \n",
       "1              3508.978003            1.0             2.0   12  SE Sussex   \n",
       "2              3508.978003            1.0             2.0   12  SE Sussex   \n",
       "3              3508.978003            1.0             2.0   12  SE Sussex   \n",
       "4              3509.207113            1.0             2.0   12  SE Sussex   \n",
       "\n",
       "   is_up  \n",
       "0      1  \n",
       "1      1  \n",
       "2      0  \n",
       "3      0  \n",
       "4      0  \n",
       "\n",
       "[5 rows x 36 columns]"
      ]
     },
     "execution_count": 4,
     "metadata": {},
     "output_type": "execute_result"
    }
   ],
   "source": [
    "df_portal = pd.read_csv(os.path.join(dataset,'stone_signs_portal_v2.0_zones.csv'))\n",
    "df_portal.head()"
   ]
  },
  {
   "cell_type": "markdown",
   "id": "5c6f5f05",
   "metadata": {},
   "source": [
    "### check dimensions & data types"
   ]
  },
  {
   "cell_type": "code",
   "execution_count": 5,
   "id": "86a66a6a",
   "metadata": {},
   "outputs": [
    {
     "data": {
      "text/plain": [
       "(29255, 36)"
      ]
     },
     "execution_count": 5,
     "metadata": {},
     "output_type": "execute_result"
    }
   ],
   "source": [
    "df_portal.shape"
   ]
  },
  {
   "cell_type": "code",
   "execution_count": 6,
   "id": "a228b370",
   "metadata": {},
   "outputs": [
    {
     "data": {
      "text/plain": [
       "request_id                    int64\n",
       "request_datetime             object\n",
       "completed_datetime           object\n",
       "completed_duration_days     float64\n",
       "completed_duration_hours    float64\n",
       "agent_name                   object\n",
       "agent_code                   object\n",
       "branch_name                  object\n",
       "branch_code                   int64\n",
       "sign_category                object\n",
       "sign_action                  object\n",
       "board_type                   object\n",
       "sign_type                    object\n",
       "address_1                    object\n",
       "address_2                    object\n",
       "address_3                    object\n",
       "town                         object\n",
       "postcode                     object\n",
       "latitude                    float64\n",
       "longitude                   float64\n",
       "quantity                      int64\n",
       "additional_info              object\n",
       "request_status               object\n",
       "payment_status               object\n",
       "net_charge                  float64\n",
       "vat                         float64\n",
       "gross_charge                float64\n",
       "invoice_datetime             object\n",
       "paid_datetime                object\n",
       "payment_duration_days       float64\n",
       "harvesine_distance_miles    float64\n",
       "latitude_group              float64\n",
       "longitude_group             float64\n",
       "zone                         object\n",
       "zone_area                    object\n",
       "is_up                         int64\n",
       "dtype: object"
      ]
     },
     "execution_count": 6,
     "metadata": {},
     "output_type": "execute_result"
    }
   ],
   "source": [
    "df_portal.dtypes"
   ]
  },
  {
   "cell_type": "markdown",
   "id": "7c904a8e",
   "metadata": {},
   "source": [
    "### convert datetime columns from string to datetime data type"
   ]
  },
  {
   "cell_type": "code",
   "execution_count": 7,
   "id": "8cbed9fd",
   "metadata": {},
   "outputs": [
    {
     "data": {
      "text/plain": [
       "request_id                           int64\n",
       "request_datetime            datetime64[ns]\n",
       "completed_datetime          datetime64[ns]\n",
       "completed_duration_days            float64\n",
       "completed_duration_hours           float64\n",
       "agent_name                          object\n",
       "agent_code                          object\n",
       "branch_name                         object\n",
       "branch_code                          int64\n",
       "sign_category                       object\n",
       "sign_action                         object\n",
       "board_type                          object\n",
       "sign_type                           object\n",
       "address_1                           object\n",
       "address_2                           object\n",
       "address_3                           object\n",
       "town                                object\n",
       "postcode                            object\n",
       "latitude                           float64\n",
       "longitude                          float64\n",
       "quantity                             int64\n",
       "additional_info                     object\n",
       "request_status                      object\n",
       "payment_status                      object\n",
       "net_charge                         float64\n",
       "vat                                float64\n",
       "gross_charge                       float64\n",
       "invoice_datetime            datetime64[ns]\n",
       "paid_datetime               datetime64[ns]\n",
       "payment_duration_days              float64\n",
       "harvesine_distance_miles           float64\n",
       "latitude_group                     float64\n",
       "longitude_group                    float64\n",
       "zone                                object\n",
       "zone_area                           object\n",
       "is_up                                int64\n",
       "dtype: object"
      ]
     },
     "execution_count": 7,
     "metadata": {},
     "output_type": "execute_result"
    }
   ],
   "source": [
    "df_portal['request_datetime'] = pd.to_datetime(df_portal['request_datetime'], format='%d/%m/%Y %H:%M')\n",
    "df_portal['completed_datetime'] = pd.to_datetime(df_portal['completed_datetime'], format='%d/%m/%Y %H:%M')\n",
    "df_portal['invoice_datetime'] = pd.to_datetime(df_portal['invoice_datetime'], format='%d/%m/%Y %H:%M')\n",
    "df_portal['paid_datetime'] = pd.to_datetime(df_portal['paid_datetime'], format='%d/%m/%Y %H:%M')\n",
    "df_portal.dtypes"
   ]
  },
  {
   "cell_type": "markdown",
   "id": "55bd9a22",
   "metadata": {},
   "source": [
    "## Research Questions"
   ]
  },
  {
   "cell_type": "markdown",
   "id": "fb376c25",
   "metadata": {},
   "source": [
    "## Qu.1)  How much revenue has been generated since Portal conception?\n",
    "    1st January 2020 to 31st Aug 2021 (20 months)"
   ]
  },
  {
   "cell_type": "code",
   "execution_count": 8,
   "id": "86eec345",
   "metadata": {},
   "outputs": [
    {
     "data": {
      "text/plain": [
       "111826.94999999998"
      ]
     },
     "execution_count": 8,
     "metadata": {},
     "output_type": "execute_result"
    }
   ],
   "source": [
    "total_revenue = df_portal['net_charge'].sum()\n",
    "total_revenue"
   ]
  },
  {
   "cell_type": "code",
   "execution_count": 9,
   "id": "a8c0dfb8",
   "metadata": {},
   "outputs": [
    {
     "data": {
      "text/plain": [
       "5591.347499999999"
      ]
     },
     "execution_count": 9,
     "metadata": {},
     "output_type": "execute_result"
    }
   ],
   "source": [
    "per_month = total_revenue/20\n",
    "per_month"
   ]
  },
  {
   "cell_type": "markdown",
   "id": "d1917295",
   "metadata": {},
   "source": [
    "## Qu.2) Compare revenue generate in 2020 to revenue in 2021."
   ]
  },
  {
   "cell_type": "markdown",
   "id": "e153ed04",
   "metadata": {},
   "source": [
    "### create subsets"
   ]
  },
  {
   "cell_type": "code",
   "execution_count": 10,
   "id": "86650973",
   "metadata": {},
   "outputs": [
    {
     "data": {
      "text/plain": [
       "(17667, 36)"
      ]
     },
     "execution_count": 10,
     "metadata": {},
     "output_type": "execute_result"
    }
   ],
   "source": [
    "df_2020 = df_portal.loc[df_portal['completed_datetime']< '2021-01-01 00:00:00']\n",
    "df_2020.shape"
   ]
  },
  {
   "cell_type": "code",
   "execution_count": 11,
   "id": "3523baa3",
   "metadata": {},
   "outputs": [
    {
     "data": {
      "text/plain": [
       "(11540, 36)"
      ]
     },
     "execution_count": 11,
     "metadata": {},
     "output_type": "execute_result"
    }
   ],
   "source": [
    "df_2021 = df_portal.loc[df_portal['completed_datetime']>= '2021-01-01 00:00:00']\n",
    "df_2021.shape"
   ]
  },
  {
   "cell_type": "markdown",
   "id": "71dc4f42",
   "metadata": {},
   "source": [
    "### check number of records totals 29,225 (less 48 pending requests) = 29,207"
   ]
  },
  {
   "cell_type": "code",
   "execution_count": 12,
   "id": "e13df8f7",
   "metadata": {},
   "outputs": [
    {
     "data": {
      "text/plain": [
       "29207"
      ]
     },
     "execution_count": 12,
     "metadata": {},
     "output_type": "execute_result"
    }
   ],
   "source": [
    "17667 + 11540"
   ]
  },
  {
   "cell_type": "markdown",
   "id": "b5175a4b",
   "metadata": {},
   "source": [
    "### calculate annual revenue: 12 months for 2020 and 8 months for 2021"
   ]
  },
  {
   "cell_type": "code",
   "execution_count": 13,
   "id": "893bf3b5",
   "metadata": {},
   "outputs": [
    {
     "data": {
      "text/plain": [
       "66897.49999999999"
      ]
     },
     "execution_count": 13,
     "metadata": {},
     "output_type": "execute_result"
    }
   ],
   "source": [
    "revenue_2020 = df_2020['net_charge'].sum()\n",
    "revenue_2020"
   ]
  },
  {
   "cell_type": "code",
   "execution_count": 14,
   "id": "d172c6fd",
   "metadata": {},
   "outputs": [
    {
     "data": {
      "text/plain": [
       "44929.45"
      ]
     },
     "execution_count": 14,
     "metadata": {},
     "output_type": "execute_result"
    }
   ],
   "source": [
    "revenue_2021 = df_2021['net_charge'].sum()\n",
    "revenue_2021"
   ]
  },
  {
   "cell_type": "markdown",
   "id": "e1ec78ee",
   "metadata": {},
   "source": [
    "### check revenue figures total £111,827"
   ]
  },
  {
   "cell_type": "code",
   "execution_count": 15,
   "id": "aec6c946",
   "metadata": {},
   "outputs": [
    {
     "data": {
      "text/plain": [
       "111826.94999999998"
      ]
     },
     "execution_count": 15,
     "metadata": {},
     "output_type": "execute_result"
    }
   ],
   "source": [
    "revenue_2020 + revenue_2021"
   ]
  },
  {
   "cell_type": "markdown",
   "id": "8275123d",
   "metadata": {},
   "source": [
    "## Qu.3) Compare the average amount of revenue generate over a month for 2020 and 2021"
   ]
  },
  {
   "cell_type": "code",
   "execution_count": 16,
   "id": "c545029c",
   "metadata": {},
   "outputs": [
    {
     "data": {
      "text/plain": [
       "5574.791666666665"
      ]
     },
     "execution_count": 16,
     "metadata": {},
     "output_type": "execute_result"
    }
   ],
   "source": [
    "revenue_2020/12"
   ]
  },
  {
   "cell_type": "code",
   "execution_count": 17,
   "id": "34b2b151",
   "metadata": {},
   "outputs": [
    {
     "data": {
      "text/plain": [
       "5616.18125"
      ]
     },
     "execution_count": 17,
     "metadata": {},
     "output_type": "execute_result"
    }
   ],
   "source": [
    "revenue_2021/8"
   ]
  },
  {
   "cell_type": "markdown",
   "id": "136f1750",
   "metadata": {},
   "source": [
    "## Qu.4) What is the average daily revenue generated?"
   ]
  },
  {
   "cell_type": "code",
   "execution_count": 18,
   "id": "a5e2dae0",
   "metadata": {},
   "outputs": [
    {
     "data": {
      "text/plain": [
       "183.28082191780817"
      ]
     },
     "execution_count": 18,
     "metadata": {},
     "output_type": "execute_result"
    }
   ],
   "source": [
    "revenue_2020/365"
   ]
  },
  {
   "cell_type": "code",
   "execution_count": 19,
   "id": "dd3462ed",
   "metadata": {},
   "outputs": [
    {
     "data": {
      "text/plain": [
       "184.89485596707817"
      ]
     },
     "execution_count": 19,
     "metadata": {},
     "output_type": "execute_result"
    }
   ],
   "source": [
    "revenue_2021/243"
   ]
  },
  {
   "cell_type": "markdown",
   "id": "0631a809",
   "metadata": {},
   "source": [
    "## Create graph to show revenue by month for 2020 & 2021"
   ]
  },
  {
   "cell_type": "markdown",
   "id": "eb38ad79",
   "metadata": {},
   "source": [
    "### create new columns for month, month_no & year\n",
    "        exclude incomplete requests as this will affect the data type of the resulting columns"
   ]
  },
  {
   "cell_type": "code",
   "execution_count": 8,
   "id": "9bf6e896",
   "metadata": {},
   "outputs": [
    {
     "data": {
      "text/plain": [
       "(29207, 36)"
      ]
     },
     "execution_count": 8,
     "metadata": {},
     "output_type": "execute_result"
    }
   ],
   "source": [
    "df_portal = df_portal[pd.notnull(df_portal['completed_datetime'])]\n",
    "df_portal.shape"
   ]
  },
  {
   "cell_type": "code",
   "execution_count": 9,
   "id": "027507f2",
   "metadata": {},
   "outputs": [
    {
     "data": {
      "text/html": [
       "<div>\n",
       "<style scoped>\n",
       "    .dataframe tbody tr th:only-of-type {\n",
       "        vertical-align: middle;\n",
       "    }\n",
       "\n",
       "    .dataframe tbody tr th {\n",
       "        vertical-align: top;\n",
       "    }\n",
       "\n",
       "    .dataframe thead th {\n",
       "        text-align: right;\n",
       "    }\n",
       "</style>\n",
       "<table border=\"1\" class=\"dataframe\">\n",
       "  <thead>\n",
       "    <tr style=\"text-align: right;\">\n",
       "      <th></th>\n",
       "      <th>request_id</th>\n",
       "      <th>request_datetime</th>\n",
       "      <th>completed_datetime</th>\n",
       "      <th>completed_duration_days</th>\n",
       "      <th>completed_duration_hours</th>\n",
       "      <th>agent_name</th>\n",
       "      <th>agent_code</th>\n",
       "      <th>branch_name</th>\n",
       "      <th>branch_code</th>\n",
       "      <th>sign_category</th>\n",
       "      <th>...</th>\n",
       "      <th>payment_duration_days</th>\n",
       "      <th>harvesine_distance_miles</th>\n",
       "      <th>latitude_group</th>\n",
       "      <th>longitude_group</th>\n",
       "      <th>zone</th>\n",
       "      <th>zone_area</th>\n",
       "      <th>is_up</th>\n",
       "      <th>month_no</th>\n",
       "      <th>month</th>\n",
       "      <th>year</th>\n",
       "    </tr>\n",
       "  </thead>\n",
       "  <tbody>\n",
       "    <tr>\n",
       "      <th>0</th>\n",
       "      <td>9215</td>\n",
       "      <td>2020-10-13 13:36:00</td>\n",
       "      <td>2020-10-18 08:52:00</td>\n",
       "      <td>4.80</td>\n",
       "      <td>115.3</td>\n",
       "      <td>Oakley Property</td>\n",
       "      <td>OAK</td>\n",
       "      <td>OakleyProperty @BrightonLets</td>\n",
       "      <td>701</td>\n",
       "      <td>Letting</td>\n",
       "      <td>...</td>\n",
       "      <td>41.8</td>\n",
       "      <td>3508.926836</td>\n",
       "      <td>1.0</td>\n",
       "      <td>2.0</td>\n",
       "      <td>12</td>\n",
       "      <td>SE Sussex</td>\n",
       "      <td>1</td>\n",
       "      <td>10</td>\n",
       "      <td>Oct</td>\n",
       "      <td>2020</td>\n",
       "    </tr>\n",
       "    <tr>\n",
       "      <th>1</th>\n",
       "      <td>8199</td>\n",
       "      <td>2020-11-26 20:33:00</td>\n",
       "      <td>2020-11-28 11:48:00</td>\n",
       "      <td>1.64</td>\n",
       "      <td>39.3</td>\n",
       "      <td>Lextons</td>\n",
       "      <td>LEX</td>\n",
       "      <td>Lextons @Hove</td>\n",
       "      <td>600</td>\n",
       "      <td>Sales</td>\n",
       "      <td>...</td>\n",
       "      <td>68.3</td>\n",
       "      <td>3508.978003</td>\n",
       "      <td>1.0</td>\n",
       "      <td>2.0</td>\n",
       "      <td>12</td>\n",
       "      <td>SE Sussex</td>\n",
       "      <td>1</td>\n",
       "      <td>11</td>\n",
       "      <td>Nov</td>\n",
       "      <td>2020</td>\n",
       "    </tr>\n",
       "    <tr>\n",
       "      <th>2</th>\n",
       "      <td>7783</td>\n",
       "      <td>2020-09-04 20:18:00</td>\n",
       "      <td>2020-09-05 08:09:00</td>\n",
       "      <td>0.49</td>\n",
       "      <td>11.9</td>\n",
       "      <td>Lextons</td>\n",
       "      <td>LEX</td>\n",
       "      <td>Lextons @Hove</td>\n",
       "      <td>600</td>\n",
       "      <td>Sales</td>\n",
       "      <td>...</td>\n",
       "      <td>71.8</td>\n",
       "      <td>3508.978003</td>\n",
       "      <td>1.0</td>\n",
       "      <td>2.0</td>\n",
       "      <td>12</td>\n",
       "      <td>SE Sussex</td>\n",
       "      <td>0</td>\n",
       "      <td>9</td>\n",
       "      <td>Sep</td>\n",
       "      <td>2020</td>\n",
       "    </tr>\n",
       "    <tr>\n",
       "      <th>3</th>\n",
       "      <td>8199</td>\n",
       "      <td>2020-09-18 18:44:00</td>\n",
       "      <td>2020-09-19 14:15:00</td>\n",
       "      <td>0.81</td>\n",
       "      <td>19.5</td>\n",
       "      <td>Lextons</td>\n",
       "      <td>LEX</td>\n",
       "      <td>Lextons @Hove</td>\n",
       "      <td>600</td>\n",
       "      <td>Sales</td>\n",
       "      <td>...</td>\n",
       "      <td>71.8</td>\n",
       "      <td>3508.978003</td>\n",
       "      <td>1.0</td>\n",
       "      <td>2.0</td>\n",
       "      <td>12</td>\n",
       "      <td>SE Sussex</td>\n",
       "      <td>0</td>\n",
       "      <td>9</td>\n",
       "      <td>Sep</td>\n",
       "      <td>2020</td>\n",
       "    </tr>\n",
       "    <tr>\n",
       "      <th>4</th>\n",
       "      <td>9209</td>\n",
       "      <td>2020-10-13 13:29:00</td>\n",
       "      <td>2020-10-18 08:52:00</td>\n",
       "      <td>4.81</td>\n",
       "      <td>115.4</td>\n",
       "      <td>Oakley Property</td>\n",
       "      <td>OAK</td>\n",
       "      <td>OakleyProperty @BrightonLets</td>\n",
       "      <td>701</td>\n",
       "      <td>Letting</td>\n",
       "      <td>...</td>\n",
       "      <td>41.8</td>\n",
       "      <td>3509.207113</td>\n",
       "      <td>1.0</td>\n",
       "      <td>2.0</td>\n",
       "      <td>12</td>\n",
       "      <td>SE Sussex</td>\n",
       "      <td>0</td>\n",
       "      <td>10</td>\n",
       "      <td>Oct</td>\n",
       "      <td>2020</td>\n",
       "    </tr>\n",
       "  </tbody>\n",
       "</table>\n",
       "<p>5 rows × 39 columns</p>\n",
       "</div>"
      ],
      "text/plain": [
       "   request_id    request_datetime  completed_datetime  \\\n",
       "0        9215 2020-10-13 13:36:00 2020-10-18 08:52:00   \n",
       "1        8199 2020-11-26 20:33:00 2020-11-28 11:48:00   \n",
       "2        7783 2020-09-04 20:18:00 2020-09-05 08:09:00   \n",
       "3        8199 2020-09-18 18:44:00 2020-09-19 14:15:00   \n",
       "4        9209 2020-10-13 13:29:00 2020-10-18 08:52:00   \n",
       "\n",
       "   completed_duration_days  completed_duration_hours       agent_name  \\\n",
       "0                     4.80                     115.3  Oakley Property   \n",
       "1                     1.64                      39.3          Lextons   \n",
       "2                     0.49                      11.9          Lextons   \n",
       "3                     0.81                      19.5          Lextons   \n",
       "4                     4.81                     115.4  Oakley Property   \n",
       "\n",
       "  agent_code                   branch_name  branch_code sign_category  ...  \\\n",
       "0        OAK  OakleyProperty @BrightonLets          701       Letting  ...   \n",
       "1        LEX                 Lextons @Hove          600         Sales  ...   \n",
       "2        LEX                 Lextons @Hove          600         Sales  ...   \n",
       "3        LEX                 Lextons @Hove          600         Sales  ...   \n",
       "4        OAK  OakleyProperty @BrightonLets          701       Letting  ...   \n",
       "\n",
       "  payment_duration_days harvesine_distance_miles latitude_group  \\\n",
       "0                  41.8              3508.926836            1.0   \n",
       "1                  68.3              3508.978003            1.0   \n",
       "2                  71.8              3508.978003            1.0   \n",
       "3                  71.8              3508.978003            1.0   \n",
       "4                  41.8              3509.207113            1.0   \n",
       "\n",
       "  longitude_group zone  zone_area is_up month_no  month  year  \n",
       "0             2.0   12  SE Sussex     1       10    Oct  2020  \n",
       "1             2.0   12  SE Sussex     1       11    Nov  2020  \n",
       "2             2.0   12  SE Sussex     0        9    Sep  2020  \n",
       "3             2.0   12  SE Sussex     0        9    Sep  2020  \n",
       "4             2.0   12  SE Sussex     0       10    Oct  2020  \n",
       "\n",
       "[5 rows x 39 columns]"
      ]
     },
     "execution_count": 9,
     "metadata": {},
     "output_type": "execute_result"
    }
   ],
   "source": [
    "df_portal['month_no'] = df_portal['completed_datetime'].dt.month\n",
    "df_portal['month'] = df_portal['completed_datetime'].dt.strftime('%b')\n",
    "df_portal['year'] = df_portal['completed_datetime'].dt.year\n",
    "df_portal.head()"
   ]
  },
  {
   "cell_type": "markdown",
   "id": "d79bfa9e",
   "metadata": {},
   "source": [
    "#### NB: if nulls are present in the dataframe when datetime conversions are made, the resulting column data type will be a float meaning that month_no and year will have a decimal place."
   ]
  },
  {
   "cell_type": "markdown",
   "id": "e6a93043",
   "metadata": {},
   "source": [
    "### create multi bar chart"
   ]
  },
  {
   "cell_type": "code",
   "execution_count": 10,
   "id": "f2a0bfe5",
   "metadata": {},
   "outputs": [
    {
     "data": {
      "image/png": "[encoded data removed]",
      "text/plain": [
       "<Figure size 432x288 with 1 Axes>"
      ]
     },
     "metadata": {
      "needs_background": "light"
     },
     "output_type": "display_data"
    }
   ],
   "source": [
    "month_rev_bar = df_portal.groupby(['month_no','year']) ['net_charge'].sum().unstack('year')\n",
    "month_rev_bar.plot.bar(stacked=False)\n",
    "\n",
    "plt.title('Stone Signs Monthly Revenue in 2020 and 2021')\n",
    "plt.xlabel('')\n",
    "plt.ylabel('Monthly Revenue in £')\n",
    "\n",
    "plt.xticks([0,1,2,3,4,5,6,7,8,9,10,11], ['Jan','Feb','Mar','Apr','May','Jun','Jul','Aug','Sep','Oct','Nov','Dec'])\n",
    "plt.grid(True, linestyle='--')\n",
    "plt.legend(title='')\n",
    "\n",
    "plt.savefig(os.path.join(vizpath,'Qu.4) Stone Sign Revenue by Month for 2020 & 2021.png'))"
   ]
  },
  {
   "cell_type": "markdown",
   "id": "3e3f9a81",
   "metadata": {},
   "source": [
    "#### Note: There may be a slightly lower revenue indication for August owing to the data cut being taken on the afternoon of the 31-08-2021."
   ]
  },
  {
   "cell_type": "markdown",
   "id": "1b5072a3",
   "metadata": {},
   "source": [
    "## Qu.5) How do the different areas compare in terms of work request?\n",
    "    - Sales\n",
    "    - Letting\n",
    "    - Sponsorship\n",
    "    - Commercial\n",
    "    - Maintenance: Flag Change over, Displosal of Flag Tops, New Posts"
   ]
  },
  {
   "cell_type": "markdown",
   "id": "e80e965b",
   "metadata": {},
   "source": [
    "### remove records where net_charge is zero as these are likely to be duplicate requests"
   ]
  },
  {
   "cell_type": "code",
   "execution_count": 11,
   "id": "36e9574c",
   "metadata": {},
   "outputs": [
    {
     "data": {
      "text/plain": [
       "(28900, 39)"
      ]
     },
     "execution_count": 11,
     "metadata": {},
     "output_type": "execute_result"
    }
   ],
   "source": [
    "df_portal = df_portal.loc[df_portal['net_charge']>0]\n",
    "df_portal.shape"
   ]
  },
  {
   "cell_type": "markdown",
   "id": "eae21c4c",
   "metadata": {},
   "source": [
    "### create new column to merge maintenance items"
   ]
  },
  {
   "cell_type": "code",
   "execution_count": 12,
   "id": "8e9871af",
   "metadata": {},
   "outputs": [],
   "source": [
    "maintain = ['Change Over','Disposal of Flag Tops','New Posts']"
   ]
  },
  {
   "cell_type": "code",
   "execution_count": 13,
   "id": "23685265",
   "metadata": {},
   "outputs": [
    {
     "data": {
      "text/html": [
       "<div>\n",
       "<style scoped>\n",
       "    .dataframe tbody tr th:only-of-type {\n",
       "        vertical-align: middle;\n",
       "    }\n",
       "\n",
       "    .dataframe tbody tr th {\n",
       "        vertical-align: top;\n",
       "    }\n",
       "\n",
       "    .dataframe thead th {\n",
       "        text-align: right;\n",
       "    }\n",
       "</style>\n",
       "<table border=\"1\" class=\"dataframe\">\n",
       "  <thead>\n",
       "    <tr style=\"text-align: right;\">\n",
       "      <th></th>\n",
       "      <th>request_id</th>\n",
       "      <th>request_datetime</th>\n",
       "      <th>completed_datetime</th>\n",
       "      <th>completed_duration_days</th>\n",
       "      <th>completed_duration_hours</th>\n",
       "      <th>agent_name</th>\n",
       "      <th>agent_code</th>\n",
       "      <th>branch_name</th>\n",
       "      <th>branch_code</th>\n",
       "      <th>sign_category</th>\n",
       "      <th>...</th>\n",
       "      <th>harvesine_distance_miles</th>\n",
       "      <th>latitude_group</th>\n",
       "      <th>longitude_group</th>\n",
       "      <th>zone</th>\n",
       "      <th>zone_area</th>\n",
       "      <th>is_up</th>\n",
       "      <th>month_no</th>\n",
       "      <th>month</th>\n",
       "      <th>year</th>\n",
       "      <th>work_category</th>\n",
       "    </tr>\n",
       "  </thead>\n",
       "  <tbody>\n",
       "    <tr>\n",
       "      <th>0</th>\n",
       "      <td>9215</td>\n",
       "      <td>2020-10-13 13:36:00</td>\n",
       "      <td>2020-10-18 08:52:00</td>\n",
       "      <td>4.80</td>\n",
       "      <td>115.3</td>\n",
       "      <td>Oakley Property</td>\n",
       "      <td>OAK</td>\n",
       "      <td>OakleyProperty @BrightonLets</td>\n",
       "      <td>701</td>\n",
       "      <td>Letting</td>\n",
       "      <td>...</td>\n",
       "      <td>3508.926836</td>\n",
       "      <td>1.0</td>\n",
       "      <td>2.0</td>\n",
       "      <td>12</td>\n",
       "      <td>SE Sussex</td>\n",
       "      <td>1</td>\n",
       "      <td>10</td>\n",
       "      <td>Oct</td>\n",
       "      <td>2020</td>\n",
       "      <td>Letting</td>\n",
       "    </tr>\n",
       "    <tr>\n",
       "      <th>1</th>\n",
       "      <td>8199</td>\n",
       "      <td>2020-11-26 20:33:00</td>\n",
       "      <td>2020-11-28 11:48:00</td>\n",
       "      <td>1.64</td>\n",
       "      <td>39.3</td>\n",
       "      <td>Lextons</td>\n",
       "      <td>LEX</td>\n",
       "      <td>Lextons @Hove</td>\n",
       "      <td>600</td>\n",
       "      <td>Sales</td>\n",
       "      <td>...</td>\n",
       "      <td>3508.978003</td>\n",
       "      <td>1.0</td>\n",
       "      <td>2.0</td>\n",
       "      <td>12</td>\n",
       "      <td>SE Sussex</td>\n",
       "      <td>1</td>\n",
       "      <td>11</td>\n",
       "      <td>Nov</td>\n",
       "      <td>2020</td>\n",
       "      <td>Sales</td>\n",
       "    </tr>\n",
       "    <tr>\n",
       "      <th>3</th>\n",
       "      <td>8199</td>\n",
       "      <td>2020-09-18 18:44:00</td>\n",
       "      <td>2020-09-19 14:15:00</td>\n",
       "      <td>0.81</td>\n",
       "      <td>19.5</td>\n",
       "      <td>Lextons</td>\n",
       "      <td>LEX</td>\n",
       "      <td>Lextons @Hove</td>\n",
       "      <td>600</td>\n",
       "      <td>Sales</td>\n",
       "      <td>...</td>\n",
       "      <td>3508.978003</td>\n",
       "      <td>1.0</td>\n",
       "      <td>2.0</td>\n",
       "      <td>12</td>\n",
       "      <td>SE Sussex</td>\n",
       "      <td>0</td>\n",
       "      <td>9</td>\n",
       "      <td>Sep</td>\n",
       "      <td>2020</td>\n",
       "      <td>Sales</td>\n",
       "    </tr>\n",
       "    <tr>\n",
       "      <th>4</th>\n",
       "      <td>9209</td>\n",
       "      <td>2020-10-13 13:29:00</td>\n",
       "      <td>2020-10-18 08:52:00</td>\n",
       "      <td>4.81</td>\n",
       "      <td>115.4</td>\n",
       "      <td>Oakley Property</td>\n",
       "      <td>OAK</td>\n",
       "      <td>OakleyProperty @BrightonLets</td>\n",
       "      <td>701</td>\n",
       "      <td>Letting</td>\n",
       "      <td>...</td>\n",
       "      <td>3509.207113</td>\n",
       "      <td>1.0</td>\n",
       "      <td>2.0</td>\n",
       "      <td>12</td>\n",
       "      <td>SE Sussex</td>\n",
       "      <td>0</td>\n",
       "      <td>10</td>\n",
       "      <td>Oct</td>\n",
       "      <td>2020</td>\n",
       "      <td>Letting</td>\n",
       "    </tr>\n",
       "    <tr>\n",
       "      <th>5</th>\n",
       "      <td>9209</td>\n",
       "      <td>2021-03-09 11:05:00</td>\n",
       "      <td>2021-03-11 14:05:00</td>\n",
       "      <td>2.13</td>\n",
       "      <td>51.0</td>\n",
       "      <td>Oakley Property</td>\n",
       "      <td>OAK</td>\n",
       "      <td>OakleyProperty @BrightonLets</td>\n",
       "      <td>701</td>\n",
       "      <td>Letting</td>\n",
       "      <td>...</td>\n",
       "      <td>3509.207113</td>\n",
       "      <td>1.0</td>\n",
       "      <td>2.0</td>\n",
       "      <td>12</td>\n",
       "      <td>SE Sussex</td>\n",
       "      <td>0</td>\n",
       "      <td>3</td>\n",
       "      <td>Mar</td>\n",
       "      <td>2021</td>\n",
       "      <td>Letting</td>\n",
       "    </tr>\n",
       "  </tbody>\n",
       "</table>\n",
       "<p>5 rows × 40 columns</p>\n",
       "</div>"
      ],
      "text/plain": [
       "   request_id    request_datetime  completed_datetime  \\\n",
       "0        9215 2020-10-13 13:36:00 2020-10-18 08:52:00   \n",
       "1        8199 2020-11-26 20:33:00 2020-11-28 11:48:00   \n",
       "3        8199 2020-09-18 18:44:00 2020-09-19 14:15:00   \n",
       "4        9209 2020-10-13 13:29:00 2020-10-18 08:52:00   \n",
       "5        9209 2021-03-09 11:05:00 2021-03-11 14:05:00   \n",
       "\n",
       "   completed_duration_days  completed_duration_hours       agent_name  \\\n",
       "0                     4.80                     115.3  Oakley Property   \n",
       "1                     1.64                      39.3          Lextons   \n",
       "3                     0.81                      19.5          Lextons   \n",
       "4                     4.81                     115.4  Oakley Property   \n",
       "5                     2.13                      51.0  Oakley Property   \n",
       "\n",
       "  agent_code                   branch_name  branch_code sign_category  ...  \\\n",
       "0        OAK  OakleyProperty @BrightonLets          701       Letting  ...   \n",
       "1        LEX                 Lextons @Hove          600         Sales  ...   \n",
       "3        LEX                 Lextons @Hove          600         Sales  ...   \n",
       "4        OAK  OakleyProperty @BrightonLets          701       Letting  ...   \n",
       "5        OAK  OakleyProperty @BrightonLets          701       Letting  ...   \n",
       "\n",
       "  harvesine_distance_miles latitude_group longitude_group zone  zone_area  \\\n",
       "0              3508.926836            1.0             2.0   12  SE Sussex   \n",
       "1              3508.978003            1.0             2.0   12  SE Sussex   \n",
       "3              3508.978003            1.0             2.0   12  SE Sussex   \n",
       "4              3509.207113            1.0             2.0   12  SE Sussex   \n",
       "5              3509.207113            1.0             2.0   12  SE Sussex   \n",
       "\n",
       "  is_up month_no month  year  work_category  \n",
       "0     1       10   Oct  2020        Letting  \n",
       "1     1       11   Nov  2020          Sales  \n",
       "3     0        9   Sep  2020          Sales  \n",
       "4     0       10   Oct  2020        Letting  \n",
       "5     0        3   Mar  2021        Letting  \n",
       "\n",
       "[5 rows x 40 columns]"
      ]
     },
     "execution_count": 13,
     "metadata": {},
     "output_type": "execute_result"
    }
   ],
   "source": [
    "df_portal.loc[df_portal['sign_category'] == 'Sales', 'work_category'] = 'Sales'\n",
    "df_portal.loc[df_portal['sign_category'] == 'Letting', 'work_category'] = 'Letting'\n",
    "df_portal.loc[df_portal['sign_category'] == 'Sponsorship', 'work_category'] = 'Sponsorship'\n",
    "df_portal.loc[df_portal['sign_category'] == 'Commercial', 'work_category'] = 'Commercial'\n",
    "df_portal.loc[df_portal['sign_category'].isin (maintain), 'work_category'] = 'Maintenance'\n",
    "df_portal.head()"
   ]
  },
  {
   "cell_type": "markdown",
   "id": "d1acf559",
   "metadata": {},
   "source": [
    "### check values counts"
   ]
  },
  {
   "cell_type": "code",
   "execution_count": 14,
   "id": "f6596811",
   "metadata": {},
   "outputs": [
    {
     "data": {
      "text/plain": [
       "Commercial      1307\n",
       "Letting         5673\n",
       "Maintenance       42\n",
       "Sales          21800\n",
       "Sponsorship       78\n",
       "Name: work_category, dtype: int64"
      ]
     },
     "execution_count": 14,
     "metadata": {},
     "output_type": "execute_result"
    }
   ],
   "source": [
    "df_portal['work_category'].value_counts().sort_index()"
   ]
  },
  {
   "cell_type": "markdown",
   "id": "155df764",
   "metadata": {},
   "source": [
    "### calculate revenue per work category"
   ]
  },
  {
   "cell_type": "code",
   "execution_count": 15,
   "id": "14d9e0a9",
   "metadata": {},
   "outputs": [
    {
     "data": {
      "text/plain": [
       "work_category\n",
       "Commercial      5818.50\n",
       "Letting        21579.30\n",
       "Maintenance      803.50\n",
       "Sales          82631.05\n",
       "Sponsorship      994.60\n",
       "Name: net_charge, dtype: float64"
      ]
     },
     "execution_count": 15,
     "metadata": {},
     "output_type": "execute_result"
    }
   ],
   "source": [
    "category_rev = df_portal.groupby(df_portal['work_category'])['net_charge'].sum()\n",
    "category_rev"
   ]
  },
  {
   "cell_type": "markdown",
   "id": "f5a8b9a9",
   "metadata": {},
   "source": [
    "## Display as Pie Chart"
   ]
  },
  {
   "cell_type": "markdown",
   "id": "6e970fba",
   "metadata": {},
   "source": [
    "### define labels and value order"
   ]
  },
  {
   "cell_type": "code",
   "execution_count": 16,
   "id": "a5e951a3",
   "metadata": {},
   "outputs": [],
   "source": [
    "pie_label = ['Commercial','Letting','Maintenance','Sales','Sponsorship']"
   ]
  },
  {
   "cell_type": "code",
   "execution_count": 17,
   "id": "65230ee1",
   "metadata": {},
   "outputs": [
    {
     "data": {
      "image/png": "[encoded data removed]",
      "text/plain": [
       "<Figure size 432x288 with 1 Axes>"
      ]
     },
     "metadata": {},
     "output_type": "display_data"
    }
   ],
   "source": [
    "sizes = category_rev\n",
    "colors = ['darkorange','indianred','limegreen','cornflowerblue','gold']\n",
    "explode = (0, 0, 0.2, 0, 0.2)\n",
    "labels = pie_label\n",
    "\n",
    "texts = plt.pie(sizes, colors=colors, explode=explode, labels=labels, autopct='%1.0f%%', textprops={'fontsize':12}, startangle=-90)\n",
    "\n",
    "plt.axis('equal')\n",
    "plt.title('Distribution Work by Category', fontsize=14)\n",
    "plt.tight_layout()\n",
    "\n",
    "plt.savefig(os.path.join(vizpath,'Distribution of Work Category by Category.png'))"
   ]
  },
  {
   "cell_type": "markdown",
   "id": "cd4b5dd1",
   "metadata": {},
   "source": [
    "#### Comments:\n",
    "    1) Maintenance items have recently been added as a function within the Portal and so have only been on the 'books' for 6-8 weeks.\n",
    "    2) Sponsorship tends to be seasonal and used for sporting and social events.  The pandemic has been resposible for the low activity in this area.\n",
    "    3) Commercial request have historically been few and far between.\n",
    "#### Decision to create subset of Sales and Letting for further analysis.  This 93% of the work load reflects typical activity on a day-to-day basis."
   ]
  },
  {
   "cell_type": "markdown",
   "id": "53ef376d",
   "metadata": {},
   "source": [
    "### export current changes to CSV"
   ]
  },
  {
   "cell_type": "code",
   "execution_count": 18,
   "id": "2f145ce2",
   "metadata": {},
   "outputs": [],
   "source": [
    "df_portal.to_csv(os.path.join(dataset,'stone_signs_portal_v2.1_month_workcate.csv'), index=False)"
   ]
  },
  {
   "cell_type": "code",
   "execution_count": 19,
   "id": "55037af9",
   "metadata": {},
   "outputs": [
    {
     "data": {
      "text/plain": [
       "(28900, 40)"
      ]
     },
     "execution_count": 19,
     "metadata": {},
     "output_type": "execute_result"
    }
   ],
   "source": [
    "df_portal.shape"
   ]
  }
 ],
 "metadata": {
  "kernelspec": {
   "display_name": "Python 3",
   "language": "python",
   "name": "python3"
  },
  "language_info": {
   "codemirror_mode": {
    "name": "ipython",
    "version": 3
   },
   "file_extension": ".py",
   "mimetype": "text/x-python",
   "name": "python",
   "nbconvert_exporter": "python",
   "pygments_lexer": "ipython3",
   "version": "3.8.8"
  }
 },
 "nbformat": 4,
 "nbformat_minor": 5
}
