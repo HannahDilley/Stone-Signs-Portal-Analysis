{
 "cells": [
  {
   "cell_type": "markdown",
   "id": "137a0d58",
   "metadata": {},
   "source": [
    "## Correlations & Linear Regression Analysis – Hypothesis 2\n",
    "Hypothesis 2: Properties with a lower selling price have a greater number of signs per life cycle.\n",
    "1.\tImport libraries & set directory paths\n",
    "2.\tImport Portal data, check dimensions and data types\n",
    "    - Import: stone_signs_portal_v6.1_sold_price - 9,312.csv\n",
    "3.\tQuestion: Does house sale price have an effect on how many signs will be in the sign life cycle?\n",
    "    (where the sign life cycle is the number of sign changes at a property).\n",
    "    \n",
    "Hypothesis1: “Properties with a lower selling price have a greater number of signs per life cycle”.\n",
    "\n",
    "4.\tLinear Regression Analysis\n",
    "    -\tCreate Numpy arrays\n",
    "    -\tSplit into Training and Test Set\n",
    "    -\tMake linear prediction\n",
    "5.\tReview summary statistics: \n",
    "\n",
    "    Correlation Coefficient or Pearson's r: \n",
    "     - the strength of a relationship between the independent and dependent variable (-1 to +1)\n",
    "        \n",
    "    R-Squared or Coefficient of Determination: \n",
    "     - a measure of how well the regression predictions approximate the real data points (%).\n",
    "        \n",
    "    Root Mean Squared Error (RMSE): \n",
    "     - a single measure of predictive accuracy and explains the difference between the actual data points and the predicted data points (value relative to data, small error is better fit).\n",
    "        \n",
    "    Slope Coefficient:  \n",
    "     - The regression line fit to the data based on the 'rate of change of y as per X value' (%).\n",
    "\n",
    "\n",
    "**When R-Squares is a negative value, this means that the model does not fit the data, and so predictions cannot be made.\n"
   ]
  },
  {
   "cell_type": "markdown",
   "id": "dfb595f1",
   "metadata": {},
   "source": [
    "### import libraries"
   ]
  },
  {
   "cell_type": "code",
   "execution_count": 1,
   "id": "dca40f1a",
   "metadata": {},
   "outputs": [],
   "source": [
    "import pandas as pd\n",
    "import numpy as np\n",
    "import seaborn as sns\n",
    "import matplotlib.pyplot as plt\n",
    "import matplotlib\n",
    "import os\n",
    "import sklearn\n",
    "from sklearn.model_selection import train_test_split \n",
    "from sklearn.linear_model import LinearRegression\n",
    "from sklearn.metrics import mean_squared_error, r2_score"
   ]
  },
  {
   "cell_type": "markdown",
   "id": "3052e3e9",
   "metadata": {},
   "source": [
    "### set directory paths"
   ]
  },
  {
   "cell_type": "code",
   "execution_count": 2,
   "id": "e6e7142f",
   "metadata": {},
   "outputs": [
    {
     "data": {
      "text/plain": [
       "'D:\\\\My Documents\\\\! Omnicompetent Ltd\\\\Career Foundry - Data Analytics\\\\Data Analytics Course\\\\60 Advanced Analytics and Dashboard Design\\\\Stone Signs Portal Analysis\\\\02 Data'"
      ]
     },
     "execution_count": 2,
     "metadata": {},
     "output_type": "execute_result"
    }
   ],
   "source": [
    "dataset = r'D:\\My Documents\\! Omnicompetent Ltd\\Career Foundry - Data Analytics\\Data Analytics Course\\60 Advanced Analytics and Dashboard Design\\Stone Signs Portal Analysis\\02 Data'\n",
    "dataset"
   ]
  },
  {
   "cell_type": "code",
   "execution_count": 3,
   "id": "67662e80",
   "metadata": {},
   "outputs": [
    {
     "data": {
      "text/plain": [
       "'D:\\\\My Documents\\\\! Omnicompetent Ltd\\\\Career Foundry - Data Analytics\\\\Data Analytics Course\\\\60 Advanced Analytics and Dashboard Design\\\\Stone Signs Portal Analysis\\\\04 Analysis'"
      ]
     },
     "execution_count": 3,
     "metadata": {},
     "output_type": "execute_result"
    }
   ],
   "source": [
    "vizpath = r'D:\\My Documents\\! Omnicompetent Ltd\\Career Foundry - Data Analytics\\Data Analytics Course\\60 Advanced Analytics and Dashboard Design\\Stone Signs Portal Analysis\\04 Analysis'\n",
    "vizpath"
   ]
  },
  {
   "cell_type": "markdown",
   "id": "74b3fa37",
   "metadata": {},
   "source": [
    "## import dataset\n",
    "Sales only and completed cycles where property has been sold & registered with land registry"
   ]
  },
  {
   "cell_type": "code",
   "execution_count": 4,
   "id": "d63bf0b0",
   "metadata": {},
   "outputs": [
    {
     "data": {
      "text/html": [
       "<div>\n",
       "<style scoped>\n",
       "    .dataframe tbody tr th:only-of-type {\n",
       "        vertical-align: middle;\n",
       "    }\n",
       "\n",
       "    .dataframe tbody tr th {\n",
       "        vertical-align: top;\n",
       "    }\n",
       "\n",
       "    .dataframe thead th {\n",
       "        text-align: right;\n",
       "    }\n",
       "</style>\n",
       "<table border=\"1\" class=\"dataframe\">\n",
       "  <thead>\n",
       "    <tr style=\"text-align: right;\">\n",
       "      <th></th>\n",
       "      <th>request_id</th>\n",
       "      <th>request_datetime</th>\n",
       "      <th>completed_datetime</th>\n",
       "      <th>completed_duration_days</th>\n",
       "      <th>completed_duration_hours</th>\n",
       "      <th>agent_name</th>\n",
       "      <th>agent_code</th>\n",
       "      <th>branch_name</th>\n",
       "      <th>branch_code</th>\n",
       "      <th>sign_category</th>\n",
       "      <th>...</th>\n",
       "      <th>transfer_date</th>\n",
       "      <th>property_type</th>\n",
       "      <th>new_property</th>\n",
       "      <th>ppd_addr1</th>\n",
       "      <th>ppd_addr2</th>\n",
       "      <th>road_name</th>\n",
       "      <th>locality</th>\n",
       "      <th>town_city</th>\n",
       "      <th>district</th>\n",
       "      <th>county</th>\n",
       "    </tr>\n",
       "  </thead>\n",
       "  <tbody>\n",
       "    <tr>\n",
       "      <th>0</th>\n",
       "      <td>8371</td>\n",
       "      <td>25/09/2020 13:32</td>\n",
       "      <td>26/09/2020 14:29</td>\n",
       "      <td>1.04</td>\n",
       "      <td>25.0</td>\n",
       "      <td>Truemans</td>\n",
       "      <td>TRU</td>\n",
       "      <td>Truemans @Hove</td>\n",
       "      <td>450</td>\n",
       "      <td>Sales</td>\n",
       "      <td>...</td>\n",
       "      <td>27/05/2020 00:00</td>\n",
       "      <td>F</td>\n",
       "      <td>N</td>\n",
       "      <td>THEOBALD HOUSE</td>\n",
       "      <td>FLAT 57</td>\n",
       "      <td>BLACKMAN STREET</td>\n",
       "      <td>NaN</td>\n",
       "      <td>BRIGHTON</td>\n",
       "      <td>BRIGHTON AND HOVE</td>\n",
       "      <td>BRIGHTON AND HOVE</td>\n",
       "    </tr>\n",
       "    <tr>\n",
       "      <th>1</th>\n",
       "      <td>8371</td>\n",
       "      <td>25/09/2020 13:32</td>\n",
       "      <td>26/09/2020 14:29</td>\n",
       "      <td>1.04</td>\n",
       "      <td>25.0</td>\n",
       "      <td>Truemans</td>\n",
       "      <td>TRU</td>\n",
       "      <td>Truemans @Hove</td>\n",
       "      <td>450</td>\n",
       "      <td>Sales</td>\n",
       "      <td>...</td>\n",
       "      <td>17/03/2021 00:00</td>\n",
       "      <td>F</td>\n",
       "      <td>N</td>\n",
       "      <td>THEOBALD HOUSE</td>\n",
       "      <td>FLAT 61</td>\n",
       "      <td>BLACKMAN STREET</td>\n",
       "      <td>NaN</td>\n",
       "      <td>BRIGHTON</td>\n",
       "      <td>BRIGHTON AND HOVE</td>\n",
       "      <td>BRIGHTON AND HOVE</td>\n",
       "    </tr>\n",
       "    <tr>\n",
       "      <th>2</th>\n",
       "      <td>6729</td>\n",
       "      <td>01/08/2020 16:18</td>\n",
       "      <td>02/08/2020 10:56</td>\n",
       "      <td>0.78</td>\n",
       "      <td>18.6</td>\n",
       "      <td>Weatherill Property Group</td>\n",
       "      <td>WEA</td>\n",
       "      <td>WeatherillProperty @Hangleton</td>\n",
       "      <td>640</td>\n",
       "      <td>Sales</td>\n",
       "      <td>...</td>\n",
       "      <td>05/02/2021 00:00</td>\n",
       "      <td>D</td>\n",
       "      <td>N</td>\n",
       "      <td>68</td>\n",
       "      <td>NaN</td>\n",
       "      <td>MILLCROFT</td>\n",
       "      <td>NaN</td>\n",
       "      <td>BRIGHTON</td>\n",
       "      <td>BRIGHTON AND HOVE</td>\n",
       "      <td>BRIGHTON AND HOVE</td>\n",
       "    </tr>\n",
       "    <tr>\n",
       "      <th>3</th>\n",
       "      <td>6729</td>\n",
       "      <td>05/02/2021 15:00</td>\n",
       "      <td>06/02/2021 11:25</td>\n",
       "      <td>0.85</td>\n",
       "      <td>20.4</td>\n",
       "      <td>Weatherill Property Group</td>\n",
       "      <td>WEA</td>\n",
       "      <td>WeatherillProperty @Hangleton</td>\n",
       "      <td>640</td>\n",
       "      <td>Sales</td>\n",
       "      <td>...</td>\n",
       "      <td>05/02/2021 00:00</td>\n",
       "      <td>D</td>\n",
       "      <td>N</td>\n",
       "      <td>68</td>\n",
       "      <td>NaN</td>\n",
       "      <td>MILLCROFT</td>\n",
       "      <td>NaN</td>\n",
       "      <td>BRIGHTON</td>\n",
       "      <td>BRIGHTON AND HOVE</td>\n",
       "      <td>BRIGHTON AND HOVE</td>\n",
       "    </tr>\n",
       "    <tr>\n",
       "      <th>4</th>\n",
       "      <td>5592</td>\n",
       "      <td>30/06/2020 06:49</td>\n",
       "      <td>01/07/2020 10:23</td>\n",
       "      <td>1.15</td>\n",
       "      <td>27.6</td>\n",
       "      <td>John Hoole</td>\n",
       "      <td>JHO</td>\n",
       "      <td>JohnHoole @Brighton</td>\n",
       "      <td>700</td>\n",
       "      <td>Sales</td>\n",
       "      <td>...</td>\n",
       "      <td>13/10/2020 00:00</td>\n",
       "      <td>F</td>\n",
       "      <td>N</td>\n",
       "      <td>11</td>\n",
       "      <td>GROUND FLOOR FLAT</td>\n",
       "      <td>EXETER STREET</td>\n",
       "      <td>NaN</td>\n",
       "      <td>BRIGHTON</td>\n",
       "      <td>BRIGHTON AND HOVE</td>\n",
       "      <td>BRIGHTON AND HOVE</td>\n",
       "    </tr>\n",
       "  </tbody>\n",
       "</table>\n",
       "<p>5 rows × 60 columns</p>\n",
       "</div>"
      ],
      "text/plain": [
       "   request_id  request_datetime completed_datetime  completed_duration_days  \\\n",
       "0        8371  25/09/2020 13:32   26/09/2020 14:29                     1.04   \n",
       "1        8371  25/09/2020 13:32   26/09/2020 14:29                     1.04   \n",
       "2        6729  01/08/2020 16:18   02/08/2020 10:56                     0.78   \n",
       "3        6729  05/02/2021 15:00   06/02/2021 11:25                     0.85   \n",
       "4        5592  30/06/2020 06:49   01/07/2020 10:23                     1.15   \n",
       "\n",
       "   completed_duration_hours                 agent_name agent_code  \\\n",
       "0                      25.0                   Truemans        TRU   \n",
       "1                      25.0                   Truemans        TRU   \n",
       "2                      18.6  Weatherill Property Group        WEA   \n",
       "3                      20.4  Weatherill Property Group        WEA   \n",
       "4                      27.6                 John Hoole        JHO   \n",
       "\n",
       "                     branch_name  branch_code sign_category  ...  \\\n",
       "0                 Truemans @Hove          450         Sales  ...   \n",
       "1                 Truemans @Hove          450         Sales  ...   \n",
       "2  WeatherillProperty @Hangleton          640         Sales  ...   \n",
       "3  WeatherillProperty @Hangleton          640         Sales  ...   \n",
       "4            JohnHoole @Brighton          700         Sales  ...   \n",
       "\n",
       "      transfer_date  property_type new_property       ppd_addr1  \\\n",
       "0  27/05/2020 00:00              F            N  THEOBALD HOUSE   \n",
       "1  17/03/2021 00:00              F            N  THEOBALD HOUSE   \n",
       "2  05/02/2021 00:00              D            N              68   \n",
       "3  05/02/2021 00:00              D            N              68   \n",
       "4  13/10/2020 00:00              F            N              11   \n",
       "\n",
       "           ppd_addr2        road_name locality town_city           district  \\\n",
       "0            FLAT 57  BLACKMAN STREET      NaN  BRIGHTON  BRIGHTON AND HOVE   \n",
       "1            FLAT 61  BLACKMAN STREET      NaN  BRIGHTON  BRIGHTON AND HOVE   \n",
       "2                NaN        MILLCROFT      NaN  BRIGHTON  BRIGHTON AND HOVE   \n",
       "3                NaN        MILLCROFT      NaN  BRIGHTON  BRIGHTON AND HOVE   \n",
       "4  GROUND FLOOR FLAT    EXETER STREET      NaN  BRIGHTON  BRIGHTON AND HOVE   \n",
       "\n",
       "              county  \n",
       "0  BRIGHTON AND HOVE  \n",
       "1  BRIGHTON AND HOVE  \n",
       "2  BRIGHTON AND HOVE  \n",
       "3  BRIGHTON AND HOVE  \n",
       "4  BRIGHTON AND HOVE  \n",
       "\n",
       "[5 rows x 60 columns]"
      ]
     },
     "execution_count": 4,
     "metadata": {},
     "output_type": "execute_result"
    }
   ],
   "source": [
    "df_sale_price = pd.read_csv(os.path.join(dataset,'stone_signs_portal_v6.1_sold_price - 9,312.csv'))\n",
    "df_sale_price.head()"
   ]
  },
  {
   "cell_type": "markdown",
   "id": "5c6f5f05",
   "metadata": {},
   "source": [
    "### check dimensions & data types"
   ]
  },
  {
   "cell_type": "code",
   "execution_count": 5,
   "id": "86a66a6a",
   "metadata": {},
   "outputs": [
    {
     "data": {
      "text/plain": [
       "(9312, 60)"
      ]
     },
     "execution_count": 5,
     "metadata": {},
     "output_type": "execute_result"
    }
   ],
   "source": [
    "df_sale_price.shape"
   ]
  },
  {
   "cell_type": "code",
   "execution_count": 6,
   "id": "a228b370",
   "metadata": {},
   "outputs": [
    {
     "data": {
      "text/plain": [
       "request_id                    int64\n",
       "request_datetime             object\n",
       "completed_datetime           object\n",
       "completed_duration_days     float64\n",
       "completed_duration_hours    float64\n",
       "agent_name                   object\n",
       "agent_code                   object\n",
       "branch_name                  object\n",
       "branch_code                   int64\n",
       "sign_category                object\n",
       "sign_action                  object\n",
       "board_type                  float64\n",
       "sign_type                    object\n",
       "portal_addr1                 object\n",
       "portal_addr2                 object\n",
       "portal_addr3                 object\n",
       "town                         object\n",
       "postcode                     object\n",
       "latitude                    float64\n",
       "longitude                   float64\n",
       "quantity                      int64\n",
       "additional_info              object\n",
       "request_status               object\n",
       "payment_status               object\n",
       "net_charge                  float64\n",
       "vat                         float64\n",
       "gross_charge                float64\n",
       "invoice_datetime             object\n",
       "paid_datetime                object\n",
       "payment_duration_days       float64\n",
       "haversine_distance_miles    float64\n",
       "latitude_group                int64\n",
       "longitude_group               int64\n",
       "zone                          int64\n",
       "zone_area                    object\n",
       "is_up                         int64\n",
       "month_no                      int64\n",
       "month                        object\n",
       "year                          int64\n",
       "work_category                object\n",
       "lead_time                    object\n",
       "request_date                 object\n",
       "completed_date               object\n",
       "invoice_date                 object\n",
       "paid_date                    object\n",
       "requests_per_day              int64\n",
       "completed_per_day             int64\n",
       "cycle_count                   int64\n",
       "cycle_category               object\n",
       "sale_price                    int64\n",
       "transfer_date                object\n",
       "property_type                object\n",
       "new_property                 object\n",
       "ppd_addr1                    object\n",
       "ppd_addr2                    object\n",
       "road_name                    object\n",
       "locality                     object\n",
       "town_city                    object\n",
       "district                     object\n",
       "county                       object\n",
       "dtype: object"
      ]
     },
     "execution_count": 6,
     "metadata": {},
     "output_type": "execute_result"
    }
   ],
   "source": [
    "df_sale_price.dtypes"
   ]
  },
  {
   "cell_type": "markdown",
   "id": "e6c93e73",
   "metadata": {},
   "source": [
    "### H2: Properties with a lower selling price have a greater number of signs per life cycle."
   ]
  },
  {
   "cell_type": "code",
   "execution_count": 8,
   "id": "72c2eada",
   "metadata": {
    "scrolled": false
   },
   "outputs": [
    {
     "data": {
      "image/png": "[encoded data removed]",
      "text/plain": [
       "<Figure size 360x360 with 1 Axes>"
      ]
     },
     "metadata": {
      "needs_background": "light"
     },
     "output_type": "display_data"
    }
   ],
   "source": [
    "sns.lmplot(x= 'sale_price', y= 'cycle_count', data= df_sale_price)\n",
    "\n",
    "plt.title('House Price V No. of Signs per Life Cycle')\n",
    "plt.xlabel('House Price (£ million)')\n",
    "plt.ylabel('No. of Signs per Life Cycle')\n",
    "plt.tight_layout()\n",
    "\n",
    "plt.savefig(os.path.join(vizpath,'H2) House Price V No. of Signs per Life Cycle.png'))"
   ]
  },
  {
   "cell_type": "markdown",
   "id": "f9806ce8",
   "metadata": {},
   "source": [
    "The graph show an almost zero linear correlation between house price and the number of signs per life cycle."
   ]
  },
  {
   "cell_type": "markdown",
   "id": "6a2ffe88",
   "metadata": {},
   "source": [
    "## Linear Regression Analysis"
   ]
  },
  {
   "cell_type": "markdown",
   "id": "40da42bb",
   "metadata": {},
   "source": [
    "### reshape the data points into NumPy arrays, and place in seperate objects X (independent) and y (dependent)"
   ]
  },
  {
   "cell_type": "code",
   "execution_count": 8,
   "id": "c16edd07",
   "metadata": {},
   "outputs": [
    {
     "data": {
      "text/plain": [
       "array([[147000],\n",
       "       [285000],\n",
       "       [535000],\n",
       "       ...,\n",
       "       [245000],\n",
       "       [245000],\n",
       "       [530000]], dtype=int64)"
      ]
     },
     "execution_count": 8,
     "metadata": {},
     "output_type": "execute_result"
    }
   ],
   "source": [
    "X = df_sale_price['sale_price'].values.reshape(-1,1)\n",
    "X"
   ]
  },
  {
   "cell_type": "code",
   "execution_count": 9,
   "id": "b8df0b89",
   "metadata": {},
   "outputs": [
    {
     "data": {
      "text/plain": [
       "array([[3],\n",
       "       [3],\n",
       "       [2],\n",
       "       ...,\n",
       "       [4],\n",
       "       [4],\n",
       "       [1]], dtype=int64)"
      ]
     },
     "execution_count": 9,
     "metadata": {},
     "output_type": "execute_result"
    }
   ],
   "source": [
    "y = df_sale_price['cycle_count'].values.reshape(-1,1)\n",
    "y"
   ]
  },
  {
   "cell_type": "markdown",
   "id": "1cd5aea5",
   "metadata": {},
   "source": [
    "### split X and y data into Training and Test sets - 70:30"
   ]
  },
  {
   "cell_type": "code",
   "execution_count": 10,
   "id": "e3ed3545",
   "metadata": {},
   "outputs": [],
   "source": [
    "X_train, X_test, y_train, y_test = train_test_split(X, y, test_size=0.3, random_state=0)"
   ]
  },
  {
   "cell_type": "markdown",
   "id": "bb0ec298",
   "metadata": {},
   "source": [
    "### create a regression line to fit into the Training set"
   ]
  },
  {
   "cell_type": "code",
   "execution_count": 11,
   "id": "8fffde5f",
   "metadata": {},
   "outputs": [
    {
     "data": {
      "text/plain": [
       "LinearRegression()"
      ]
     },
     "execution_count": 11,
     "metadata": {},
     "output_type": "execute_result"
    }
   ],
   "source": [
    "regression = LinearRegression()\n",
    "regression.fit(X_train, y_train)"
   ]
  },
  {
   "cell_type": "markdown",
   "id": "636dc5ef",
   "metadata": {},
   "source": [
    "Data is now trained on the Training set and must now be tested on the Test set."
   ]
  },
  {
   "cell_type": "markdown",
   "id": "d546825f",
   "metadata": {},
   "source": [
    "### predict the values of y (Dependent) using X (Independent) on the Test set"
   ]
  },
  {
   "cell_type": "code",
   "execution_count": 12,
   "id": "129415c5",
   "metadata": {},
   "outputs": [],
   "source": [
    "y_predicted = regression.predict(X_test)"
   ]
  },
  {
   "cell_type": "markdown",
   "id": "3a83904f",
   "metadata": {},
   "source": [
    "### create a plot that shows the regression line from the model Test set"
   ]
  },
  {
   "cell_type": "code",
   "execution_count": 25,
   "id": "e61781a6",
   "metadata": {},
   "outputs": [
    {
     "data": {
      "image/png": "[encoded data removed]",
      "text/plain": [
       "<Figure size 432x288 with 1 Axes>"
      ]
     },
     "metadata": {
      "needs_background": "light"
     },
     "output_type": "display_data"
    }
   ],
   "source": [
    "plot_test = plt\n",
    "plot_test.scatter(X_test, y_test, color='gray', s = 15)\n",
    "plot_test.plot(X_test, y_predicted, color='red', linewidth =3)\n",
    "\n",
    "plot_test.title('House Price V No. of Signs per Life Cycle (Test set)')\n",
    "plot_test.xlabel('House Price (£ million)')\n",
    "plot_test.ylabel('No. of Signs')\n",
    "\n",
    "plt.savefig(os.path.join(vizpath,'H2) House Sale Price V No. of Signs per Life Cycle (Test set).png'))"
   ]
  },
  {
   "cell_type": "markdown",
   "id": "c8d21374",
   "metadata": {},
   "source": [
    "### calculate the summary statistics for the above plot\n",
    "  - 1)\tCorrelation Coefficient or Pearson's r: \n",
    "        - the strength of a relationship between the independent and dependent variable (-1 to +1)\n",
    "        \n",
    "  - 2)\tR-Squared or Coefficient of Determination: \n",
    "        - a measure of how well the regression predictions approximate the real data points (%).\n",
    "        \n",
    "  - 3)\tRoot Mean Squared Error (RMSE): \n",
    "        - a single measure of predictive accuracy that explains the difference between the actual data points and the predicted data points (value relative to data, small error is better fit).\n",
    "        \n",
    "  - 4)\tSlope Coefficient:  \n",
    "        - The regression line fit to the data based on the 'rate of change of y as per X value' (%)."
   ]
  },
  {
   "cell_type": "code",
   "execution_count": 14,
   "id": "4f4e8b61",
   "metadata": {},
   "outputs": [
    {
     "data": {
      "text/plain": [
       "-0.0012932881062566182"
      ]
     },
     "execution_count": 14,
     "metadata": {},
     "output_type": "execute_result"
    }
   ],
   "source": [
    "r2 = r2_score(y_test, y_predicted)\n",
    "r2"
   ]
  },
  {
   "cell_type": "code",
   "execution_count": 15,
   "id": "ddad9873",
   "metadata": {},
   "outputs": [
    {
     "data": {
      "text/plain": [
       "3.2031988261701057"
      ]
     },
     "execution_count": 15,
     "metadata": {},
     "output_type": "execute_result"
    }
   ],
   "source": [
    "mse = mean_squared_error(y_test, y_predicted)\n",
    "mse"
   ]
  },
  {
   "cell_type": "markdown",
   "id": "24ce68f2",
   "metadata": {},
   "source": [
    "### print the predictive model statistics to assess the performance"
   ]
  },
  {
   "cell_type": "code",
   "execution_count": 16,
   "id": "a388eabd",
   "metadata": {},
   "outputs": [
    {
     "name": "stdout",
     "output_type": "stream",
     "text": [
      "R2 Score:  -0.0012932881062566182\n",
      "Mean Squared Error (in units2):  3.2031988261701057\n",
      "Slope Coefficient: [[1.16256602e-07]]\n"
     ]
    }
   ],
   "source": [
    "print('R2 Score: ', r2)\n",
    "print('Mean Squared Error (in units2): ', mse)\n",
    "print('Slope Coefficient:' ,regression.coef_)"
   ]
  },
  {
   "cell_type": "markdown",
   "id": "216f888b",
   "metadata": {},
   "source": [
    "#### Interpretation:\n",
    "  - If R-Squared is a negative value this means that the model does not fit the data, and therefore cannot be used for predictions."
   ]
  },
  {
   "cell_type": "markdown",
   "id": "d0ef781c",
   "metadata": {},
   "source": [
    "### confirm lack of prediction with data values: actual vs predicted"
   ]
  },
  {
   "cell_type": "code",
   "execution_count": 17,
   "id": "5cfadced",
   "metadata": {
    "scrolled": true
   },
   "outputs": [
    {
     "data": {
      "text/html": [
       "<div>\n",
       "<style scoped>\n",
       "    .dataframe tbody tr th:only-of-type {\n",
       "        vertical-align: middle;\n",
       "    }\n",
       "\n",
       "    .dataframe tbody tr th {\n",
       "        vertical-align: top;\n",
       "    }\n",
       "\n",
       "    .dataframe thead th {\n",
       "        text-align: right;\n",
       "    }\n",
       "</style>\n",
       "<table border=\"1\" class=\"dataframe\">\n",
       "  <thead>\n",
       "    <tr style=\"text-align: right;\">\n",
       "      <th></th>\n",
       "      <th>Actual</th>\n",
       "      <th>Predicted</th>\n",
       "    </tr>\n",
       "  </thead>\n",
       "  <tbody>\n",
       "    <tr>\n",
       "      <th>0</th>\n",
       "      <td>2</td>\n",
       "      <td>3.422193</td>\n",
       "    </tr>\n",
       "    <tr>\n",
       "      <th>1</th>\n",
       "      <td>2</td>\n",
       "      <td>3.409986</td>\n",
       "    </tr>\n",
       "    <tr>\n",
       "      <th>2</th>\n",
       "      <td>3</td>\n",
       "      <td>3.440794</td>\n",
       "    </tr>\n",
       "    <tr>\n",
       "      <th>3</th>\n",
       "      <td>5</td>\n",
       "      <td>3.423355</td>\n",
       "    </tr>\n",
       "    <tr>\n",
       "      <th>4</th>\n",
       "      <td>1</td>\n",
       "      <td>3.394873</td>\n",
       "    </tr>\n",
       "    <tr>\n",
       "      <th>5</th>\n",
       "      <td>4</td>\n",
       "      <td>3.418705</td>\n",
       "    </tr>\n",
       "    <tr>\n",
       "      <th>6</th>\n",
       "      <td>2</td>\n",
       "      <td>3.410858</td>\n",
       "    </tr>\n",
       "    <tr>\n",
       "      <th>7</th>\n",
       "      <td>2</td>\n",
       "      <td>3.385223</td>\n",
       "    </tr>\n",
       "    <tr>\n",
       "      <th>8</th>\n",
       "      <td>3</td>\n",
       "      <td>3.409405</td>\n",
       "    </tr>\n",
       "    <tr>\n",
       "      <th>9</th>\n",
       "      <td>2</td>\n",
       "      <td>3.410567</td>\n",
       "    </tr>\n",
       "    <tr>\n",
       "      <th>10</th>\n",
       "      <td>1</td>\n",
       "      <td>3.399290</td>\n",
       "    </tr>\n",
       "    <tr>\n",
       "      <th>11</th>\n",
       "      <td>2</td>\n",
       "      <td>3.407079</td>\n",
       "    </tr>\n",
       "    <tr>\n",
       "      <th>12</th>\n",
       "      <td>4</td>\n",
       "      <td>3.408068</td>\n",
       "    </tr>\n",
       "    <tr>\n",
       "      <th>13</th>\n",
       "      <td>1</td>\n",
       "      <td>3.400104</td>\n",
       "    </tr>\n",
       "    <tr>\n",
       "      <th>14</th>\n",
       "      <td>2</td>\n",
       "      <td>3.426552</td>\n",
       "    </tr>\n",
       "    <tr>\n",
       "      <th>15</th>\n",
       "      <td>2</td>\n",
       "      <td>3.431493</td>\n",
       "    </tr>\n",
       "    <tr>\n",
       "      <th>16</th>\n",
       "      <td>3</td>\n",
       "      <td>3.398186</td>\n",
       "    </tr>\n",
       "    <tr>\n",
       "      <th>17</th>\n",
       "      <td>3</td>\n",
       "      <td>3.436144</td>\n",
       "    </tr>\n",
       "    <tr>\n",
       "      <th>18</th>\n",
       "      <td>5</td>\n",
       "      <td>3.406208</td>\n",
       "    </tr>\n",
       "    <tr>\n",
       "      <th>19</th>\n",
       "      <td>4</td>\n",
       "      <td>3.400104</td>\n",
       "    </tr>\n",
       "    <tr>\n",
       "      <th>20</th>\n",
       "      <td>3</td>\n",
       "      <td>3.399523</td>\n",
       "    </tr>\n",
       "    <tr>\n",
       "      <th>21</th>\n",
       "      <td>2</td>\n",
       "      <td>3.400685</td>\n",
       "    </tr>\n",
       "    <tr>\n",
       "      <th>22</th>\n",
       "      <td>2</td>\n",
       "      <td>3.395221</td>\n",
       "    </tr>\n",
       "    <tr>\n",
       "      <th>23</th>\n",
       "      <td>2</td>\n",
       "      <td>3.415217</td>\n",
       "    </tr>\n",
       "    <tr>\n",
       "      <th>24</th>\n",
       "      <td>1</td>\n",
       "      <td>3.406498</td>\n",
       "    </tr>\n",
       "    <tr>\n",
       "      <th>25</th>\n",
       "      <td>5</td>\n",
       "      <td>3.394291</td>\n",
       "    </tr>\n",
       "    <tr>\n",
       "      <th>26</th>\n",
       "      <td>4</td>\n",
       "      <td>3.437887</td>\n",
       "    </tr>\n",
       "    <tr>\n",
       "      <th>27</th>\n",
       "      <td>5</td>\n",
       "      <td>3.440358</td>\n",
       "    </tr>\n",
       "    <tr>\n",
       "      <th>28</th>\n",
       "      <td>5</td>\n",
       "      <td>3.429168</td>\n",
       "    </tr>\n",
       "    <tr>\n",
       "      <th>29</th>\n",
       "      <td>1</td>\n",
       "      <td>3.400104</td>\n",
       "    </tr>\n",
       "  </tbody>\n",
       "</table>\n",
       "</div>"
      ],
      "text/plain": [
       "    Actual  Predicted\n",
       "0        2   3.422193\n",
       "1        2   3.409986\n",
       "2        3   3.440794\n",
       "3        5   3.423355\n",
       "4        1   3.394873\n",
       "5        4   3.418705\n",
       "6        2   3.410858\n",
       "7        2   3.385223\n",
       "8        3   3.409405\n",
       "9        2   3.410567\n",
       "10       1   3.399290\n",
       "11       2   3.407079\n",
       "12       4   3.408068\n",
       "13       1   3.400104\n",
       "14       2   3.426552\n",
       "15       2   3.431493\n",
       "16       3   3.398186\n",
       "17       3   3.436144\n",
       "18       5   3.406208\n",
       "19       4   3.400104\n",
       "20       3   3.399523\n",
       "21       2   3.400685\n",
       "22       2   3.395221\n",
       "23       2   3.415217\n",
       "24       1   3.406498\n",
       "25       5   3.394291\n",
       "26       4   3.437887\n",
       "27       5   3.440358\n",
       "28       5   3.429168\n",
       "29       1   3.400104"
      ]
     },
     "execution_count": 17,
     "metadata": {},
     "output_type": "execute_result"
    }
   ],
   "source": [
    "data = pd.DataFrame({'Actual': y_test.flatten(), 'Predicted': y_predicted.flatten()})\n",
    "data.head(30)"
   ]
  },
  {
   "cell_type": "code",
   "execution_count": 18,
   "id": "4aedf8c1",
   "metadata": {},
   "outputs": [],
   "source": [
    "y_predicted_train = regression.predict(X_train)"
   ]
  },
  {
   "cell_type": "markdown",
   "id": "1624c139",
   "metadata": {},
   "source": [
    "### compare statistics"
   ]
  },
  {
   "cell_type": "code",
   "execution_count": 19,
   "id": "db628a50",
   "metadata": {},
   "outputs": [],
   "source": [
    "mse_y = mean_squared_error(y_train, y_predicted_train)\n",
    "r2_y = r2_score(y_train, y_predicted_train)"
   ]
  },
  {
   "cell_type": "code",
   "execution_count": 20,
   "id": "731aaac3",
   "metadata": {},
   "outputs": [
    {
     "name": "stdout",
     "output_type": "stream",
     "text": [
      "R2 score:  0.00012646022870321794\n",
      "Mean squared error:  3.113191798012369\n",
      "Slope: [[1.16256602e-07]]\n"
     ]
    }
   ],
   "source": [
    "print('R2 score: ', r2_y)\n",
    "print('Mean squared error: ', mse_y)\n",
    "print('Slope:' ,regression.coef_)"
   ]
  },
  {
   "cell_type": "markdown",
   "id": "c6317080",
   "metadata": {},
   "source": [
    "Results are similar and still not a good prediction."
   ]
  },
  {
   "cell_type": "markdown",
   "id": "c9d6b40a",
   "metadata": {},
   "source": [
    "### show as visualisation"
   ]
  },
  {
   "cell_type": "code",
   "execution_count": 24,
   "id": "ca07b87b",
   "metadata": {},
   "outputs": [
    {
     "data": {
      "image/png": "[encoded data removed]",
      "text/plain": [
       "<Figure size 432x288 with 1 Axes>"
      ]
     },
     "metadata": {
      "needs_background": "light"
     },
     "output_type": "display_data"
    }
   ],
   "source": [
    "plot_train = plt\n",
    "plot_train.scatter(X_train, y_train, color='green', s = 15)\n",
    "plot_train.plot(X_train, y_predicted_train, color='red', linewidth =3)\n",
    "\n",
    "plot_train.title('House Price V No. of Signs per Life Cycle (Training set)')\n",
    "plot_train.xlabel('House Price (£ million)')\n",
    "plot_train.ylabel('No. of Signs')\n",
    "\n",
    "plt.savefig(os.path.join(vizpath,'H2) House Sale Price V No. of Signs per Life Cycle (Training set).png'))"
   ]
  },
  {
   "cell_type": "markdown",
   "id": "34585139",
   "metadata": {},
   "source": [
    "### add columns signs_per_district"
   ]
  },
  {
   "cell_type": "code",
   "execution_count": 23,
   "id": "45a9ee37",
   "metadata": {},
   "outputs": [
    {
     "data": {
      "text/html": [
       "<div>\n",
       "<style scoped>\n",
       "    .dataframe tbody tr th:only-of-type {\n",
       "        vertical-align: middle;\n",
       "    }\n",
       "\n",
       "    .dataframe tbody tr th {\n",
       "        vertical-align: top;\n",
       "    }\n",
       "\n",
       "    .dataframe thead th {\n",
       "        text-align: right;\n",
       "    }\n",
       "</style>\n",
       "<table border=\"1\" class=\"dataframe\">\n",
       "  <thead>\n",
       "    <tr style=\"text-align: right;\">\n",
       "      <th></th>\n",
       "      <th>request_id</th>\n",
       "      <th>request_datetime</th>\n",
       "      <th>completed_datetime</th>\n",
       "      <th>completed_duration_days</th>\n",
       "      <th>completed_duration_hours</th>\n",
       "      <th>agent_name</th>\n",
       "      <th>agent_code</th>\n",
       "      <th>branch_name</th>\n",
       "      <th>branch_code</th>\n",
       "      <th>sign_category</th>\n",
       "      <th>...</th>\n",
       "      <th>property_type</th>\n",
       "      <th>new_property</th>\n",
       "      <th>ppd_addr1</th>\n",
       "      <th>ppd_addr2</th>\n",
       "      <th>road_name</th>\n",
       "      <th>locality</th>\n",
       "      <th>town_city</th>\n",
       "      <th>district</th>\n",
       "      <th>county</th>\n",
       "      <th>signs_per_district</th>\n",
       "    </tr>\n",
       "  </thead>\n",
       "  <tbody>\n",
       "    <tr>\n",
       "      <th>0</th>\n",
       "      <td>8371</td>\n",
       "      <td>25/09/2020 13:32</td>\n",
       "      <td>26/09/2020 14:29</td>\n",
       "      <td>1.04</td>\n",
       "      <td>25.0</td>\n",
       "      <td>Truemans</td>\n",
       "      <td>TRU</td>\n",
       "      <td>Truemans @Hove</td>\n",
       "      <td>450</td>\n",
       "      <td>Sales</td>\n",
       "      <td>...</td>\n",
       "      <td>F</td>\n",
       "      <td>N</td>\n",
       "      <td>THEOBALD HOUSE</td>\n",
       "      <td>FLAT 57</td>\n",
       "      <td>BLACKMAN STREET</td>\n",
       "      <td>NaN</td>\n",
       "      <td>BRIGHTON</td>\n",
       "      <td>BRIGHTON AND HOVE</td>\n",
       "      <td>BRIGHTON AND HOVE</td>\n",
       "      <td>2281</td>\n",
       "    </tr>\n",
       "    <tr>\n",
       "      <th>1</th>\n",
       "      <td>8371</td>\n",
       "      <td>25/09/2020 13:32</td>\n",
       "      <td>26/09/2020 14:29</td>\n",
       "      <td>1.04</td>\n",
       "      <td>25.0</td>\n",
       "      <td>Truemans</td>\n",
       "      <td>TRU</td>\n",
       "      <td>Truemans @Hove</td>\n",
       "      <td>450</td>\n",
       "      <td>Sales</td>\n",
       "      <td>...</td>\n",
       "      <td>F</td>\n",
       "      <td>N</td>\n",
       "      <td>THEOBALD HOUSE</td>\n",
       "      <td>FLAT 61</td>\n",
       "      <td>BLACKMAN STREET</td>\n",
       "      <td>NaN</td>\n",
       "      <td>BRIGHTON</td>\n",
       "      <td>BRIGHTON AND HOVE</td>\n",
       "      <td>BRIGHTON AND HOVE</td>\n",
       "      <td>2281</td>\n",
       "    </tr>\n",
       "    <tr>\n",
       "      <th>2</th>\n",
       "      <td>6729</td>\n",
       "      <td>01/08/2020 16:18</td>\n",
       "      <td>02/08/2020 10:56</td>\n",
       "      <td>0.78</td>\n",
       "      <td>18.6</td>\n",
       "      <td>Weatherill Property Group</td>\n",
       "      <td>WEA</td>\n",
       "      <td>WeatherillProperty @Hangleton</td>\n",
       "      <td>640</td>\n",
       "      <td>Sales</td>\n",
       "      <td>...</td>\n",
       "      <td>D</td>\n",
       "      <td>N</td>\n",
       "      <td>68</td>\n",
       "      <td>NaN</td>\n",
       "      <td>MILLCROFT</td>\n",
       "      <td>NaN</td>\n",
       "      <td>BRIGHTON</td>\n",
       "      <td>BRIGHTON AND HOVE</td>\n",
       "      <td>BRIGHTON AND HOVE</td>\n",
       "      <td>2281</td>\n",
       "    </tr>\n",
       "    <tr>\n",
       "      <th>3</th>\n",
       "      <td>6729</td>\n",
       "      <td>05/02/2021 15:00</td>\n",
       "      <td>06/02/2021 11:25</td>\n",
       "      <td>0.85</td>\n",
       "      <td>20.4</td>\n",
       "      <td>Weatherill Property Group</td>\n",
       "      <td>WEA</td>\n",
       "      <td>WeatherillProperty @Hangleton</td>\n",
       "      <td>640</td>\n",
       "      <td>Sales</td>\n",
       "      <td>...</td>\n",
       "      <td>D</td>\n",
       "      <td>N</td>\n",
       "      <td>68</td>\n",
       "      <td>NaN</td>\n",
       "      <td>MILLCROFT</td>\n",
       "      <td>NaN</td>\n",
       "      <td>BRIGHTON</td>\n",
       "      <td>BRIGHTON AND HOVE</td>\n",
       "      <td>BRIGHTON AND HOVE</td>\n",
       "      <td>2281</td>\n",
       "    </tr>\n",
       "    <tr>\n",
       "      <th>4</th>\n",
       "      <td>5592</td>\n",
       "      <td>30/06/2020 06:49</td>\n",
       "      <td>01/07/2020 10:23</td>\n",
       "      <td>1.15</td>\n",
       "      <td>27.6</td>\n",
       "      <td>John Hoole</td>\n",
       "      <td>JHO</td>\n",
       "      <td>JohnHoole @Brighton</td>\n",
       "      <td>700</td>\n",
       "      <td>Sales</td>\n",
       "      <td>...</td>\n",
       "      <td>F</td>\n",
       "      <td>N</td>\n",
       "      <td>11</td>\n",
       "      <td>GROUND FLOOR FLAT</td>\n",
       "      <td>EXETER STREET</td>\n",
       "      <td>NaN</td>\n",
       "      <td>BRIGHTON</td>\n",
       "      <td>BRIGHTON AND HOVE</td>\n",
       "      <td>BRIGHTON AND HOVE</td>\n",
       "      <td>2281</td>\n",
       "    </tr>\n",
       "  </tbody>\n",
       "</table>\n",
       "<p>5 rows × 61 columns</p>\n",
       "</div>"
      ],
      "text/plain": [
       "   request_id  request_datetime completed_datetime  completed_duration_days  \\\n",
       "0        8371  25/09/2020 13:32   26/09/2020 14:29                     1.04   \n",
       "1        8371  25/09/2020 13:32   26/09/2020 14:29                     1.04   \n",
       "2        6729  01/08/2020 16:18   02/08/2020 10:56                     0.78   \n",
       "3        6729  05/02/2021 15:00   06/02/2021 11:25                     0.85   \n",
       "4        5592  30/06/2020 06:49   01/07/2020 10:23                     1.15   \n",
       "\n",
       "   completed_duration_hours                 agent_name agent_code  \\\n",
       "0                      25.0                   Truemans        TRU   \n",
       "1                      25.0                   Truemans        TRU   \n",
       "2                      18.6  Weatherill Property Group        WEA   \n",
       "3                      20.4  Weatherill Property Group        WEA   \n",
       "4                      27.6                 John Hoole        JHO   \n",
       "\n",
       "                     branch_name  branch_code sign_category  ...  \\\n",
       "0                 Truemans @Hove          450         Sales  ...   \n",
       "1                 Truemans @Hove          450         Sales  ...   \n",
       "2  WeatherillProperty @Hangleton          640         Sales  ...   \n",
       "3  WeatherillProperty @Hangleton          640         Sales  ...   \n",
       "4            JohnHoole @Brighton          700         Sales  ...   \n",
       "\n",
       "  property_type  new_property       ppd_addr1          ppd_addr2  \\\n",
       "0             F             N  THEOBALD HOUSE            FLAT 57   \n",
       "1             F             N  THEOBALD HOUSE            FLAT 61   \n",
       "2             D             N              68                NaN   \n",
       "3             D             N              68                NaN   \n",
       "4             F             N              11  GROUND FLOOR FLAT   \n",
       "\n",
       "         road_name locality town_city           district             county  \\\n",
       "0  BLACKMAN STREET      NaN  BRIGHTON  BRIGHTON AND HOVE  BRIGHTON AND HOVE   \n",
       "1  BLACKMAN STREET      NaN  BRIGHTON  BRIGHTON AND HOVE  BRIGHTON AND HOVE   \n",
       "2        MILLCROFT      NaN  BRIGHTON  BRIGHTON AND HOVE  BRIGHTON AND HOVE   \n",
       "3        MILLCROFT      NaN  BRIGHTON  BRIGHTON AND HOVE  BRIGHTON AND HOVE   \n",
       "4    EXETER STREET      NaN  BRIGHTON  BRIGHTON AND HOVE  BRIGHTON AND HOVE   \n",
       "\n",
       "   signs_per_district  \n",
       "0                2281  \n",
       "1                2281  \n",
       "2                2281  \n",
       "3                2281  \n",
       "4                2281  \n",
       "\n",
       "[5 rows x 61 columns]"
      ]
     },
     "execution_count": 23,
     "metadata": {},
     "output_type": "execute_result"
    }
   ],
   "source": [
    "df_sale_price['signs_per_district'] = df_sale_price.groupby(['district']) ['quantity'].transform(np.sum)\n",
    "df_sale_price.head()"
   ]
  },
  {
   "cell_type": "markdown",
   "id": "6bd1cf98",
   "metadata": {},
   "source": [
    "### export to CSV"
   ]
  },
  {
   "cell_type": "code",
   "execution_count": 24,
   "id": "f8d1e1e2",
   "metadata": {},
   "outputs": [
    {
     "data": {
      "text/plain": [
       "(9312, 61)"
      ]
     },
     "execution_count": 24,
     "metadata": {},
     "output_type": "execute_result"
    }
   ],
   "source": [
    "df_sale_price.shape"
   ]
  },
  {
   "cell_type": "code",
   "execution_count": 25,
   "id": "560b9113",
   "metadata": {},
   "outputs": [],
   "source": [
    "df_sale_price.to_csv(os.path.join(dataset,'stone_signs_portal_v6.2_sold_price - 9,312.csv'), index=False)"
   ]
  }
 ],
 "metadata": {
  "kernelspec": {
   "display_name": "Python 3",
   "language": "python",
   "name": "python3"
  },
  "language_info": {
   "codemirror_mode": {
    "name": "ipython",
    "version": 3
   },
   "file_extension": ".py",
   "mimetype": "text/x-python",
   "name": "python",
   "nbconvert_exporter": "python",
   "pygments_lexer": "ipython3",
   "version": "3.8.8"
  }
 },
 "nbformat": 4,
 "nbformat_minor": 5
}
