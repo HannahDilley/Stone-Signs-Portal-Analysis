{
 "cells": [
  {
   "cell_type": "markdown",
   "id": "137a0d58",
   "metadata": {},
   "source": [
    "## Research Questions – Part5 – Sold Price Prep\n",
    "  1.\tImport libraries & set directory paths\n",
    "  2.\tImport Portal data, check dimensions and data types\n",
    "        Import: stone_signs_portal_v3.3_saleslets_lifecycle.csv\n",
    "  3.\tQu.12) What effect does house price have on Stone Signs business?\n",
    "        -\tCreate subset for sales only data where life cycle is complete (is_up=0)\n",
    "        -\tImport PPD: ppd_BN_PO_RH_2020-21_v1.1.csv\n",
    "        -\tUppercase address field in Portal to match PPD data for later combining of dataframes\n",
    "        -\tRemove commas from address\n",
    "        -\tSplit Portal address1 and address2 fields into separate columns\n",
    "        -\tDrop excess columns & join to main Sales dataframe.\n",
    "        -\tSplit PPD address1 into two parts based on , delimiter & add to PPD dataframe\n",
    "        -\tRename df columns to unique names across both dataframes\n",
    "        -\tReplace null values with placeholder, use different place holder for each df, or they will be seen as ‘a match’.\n",
    "  4.\tCarrying out combining, changing column names to match for key columns.\n",
    "        Addr1:\n",
    "        -\tdf_add1 = df_sales['postcode','address_1'] & df_ppd['postcode','address_1']\n",
    "        Part1:\n",
    "        -\tdf_11 = df_sales['postcode','addr_split1'] & df_ppd['postcode','house1']\n",
    "        -\tdf_21 = df_sales['postcode','addr_split2'] & df_ppd['postcode','house1']\n",
    "        -\tdf_31 = df_sales['postcode','addr_split3'] & df_ppd['postcode','house1']\n",
    "        -\tdf_41 = df_sales['postcode','addr_split4'] & df_ppd['postcode','house1']\n",
    "        -\tdf_51 = df_sales['postcode','addr_split5'] & df_ppd['postcode','house1']\n",
    "        -\tdf_61 = df_sales['postcode','addr_split6'] & df_ppd['postcode','house1']\n",
    "        Part2:\n",
    "        -\tdf_12 = df_sales['postcode','addr_split1'] & df_ppd['postcode','house2']\n",
    "        -\tdf_22 = df_sales['postcode','addr_split2'] & df_ppd['postcode','house2']\n",
    "        -\tdf_32 = df_sales['postcode','addr_split3'] & df_ppd['postcode','house2']\n",
    "        -\tdf_42 = df_sales['postcode','addr_split4'] & df_ppd['postcode','house2']\n",
    "        -\tdf_52 = df_sales['postcode','addr_split5'] & df_ppd['postcode','house2']\n",
    "        -\tdf_62 = df_sales['postcode','addr_split6'] & df_ppd['postcode','house2']\n",
    "  5.\tDrop redundant and mis-match columns from each merge group so that they can all been combined.\n",
    "  6.\tRepeat first combining (Addr1) owing to mismatch columns, compared to other groups.\n",
    "        -\tdf_add1 = df_sales['postcode','address_1'] & df_ppd['postcode','address_1']\n",
    "        -\tMake copy of key column PPD_address1 to preserve column after combining.\n",
    "  7.\tCombine to product final dataframe contain Sales signage and House Price information.\n",
    "  8.\tExport to: stone_signs_portal_v6.1_sold_price.csv"
   ]
  },
  {
   "cell_type": "markdown",
   "id": "dfb595f1",
   "metadata": {},
   "source": [
    "### import libraries"
   ]
  },
  {
   "cell_type": "code",
   "execution_count": 1,
   "id": "dca40f1a",
   "metadata": {},
   "outputs": [],
   "source": [
    "import pandas as pd\n",
    "import numpy as np\n",
    "import seaborn as sns\n",
    "import matplotlib.pyplot as plt\n",
    "import matplotlib\n",
    "import os"
   ]
  },
  {
   "cell_type": "markdown",
   "id": "3052e3e9",
   "metadata": {},
   "source": [
    "### set directory paths"
   ]
  },
  {
   "cell_type": "code",
   "execution_count": 2,
   "id": "e6e7142f",
   "metadata": {},
   "outputs": [
    {
     "data": {
      "text/plain": [
       "'D:\\\\My Documents\\\\! Omnicompetent Ltd\\\\Career Foundry - Data Analytics\\\\Data Analytics Course\\\\60 Advanced Analytics and Dashboard Design\\\\Stone Signs Portal Analysis\\\\02 Data'"
      ]
     },
     "execution_count": 2,
     "metadata": {},
     "output_type": "execute_result"
    }
   ],
   "source": [
    "dataset = r'D:\\My Documents\\! Omnicompetent Ltd\\Career Foundry - Data Analytics\\Data Analytics Course\\60 Advanced Analytics and Dashboard Design\\Stone Signs Portal Analysis\\02 Data'\n",
    "dataset"
   ]
  },
  {
   "cell_type": "code",
   "execution_count": 3,
   "id": "962249fd",
   "metadata": {},
   "outputs": [
    {
     "data": {
      "text/plain": [
       "'D:\\\\My Documents\\\\! Omnicompetent Ltd\\\\Career Foundry - Data Analytics\\\\Data Analytics Course\\\\60 Advanced Analytics and Dashboard Design\\\\Stone Signs Portal Analysis\\\\04 Analysis'"
      ]
     },
     "execution_count": 3,
     "metadata": {},
     "output_type": "execute_result"
    }
   ],
   "source": [
    "vizpath = r'D:\\My Documents\\! Omnicompetent Ltd\\Career Foundry - Data Analytics\\Data Analytics Course\\60 Advanced Analytics and Dashboard Design\\Stone Signs Portal Analysis\\04 Analysis'\n",
    "vizpath"
   ]
  },
  {
   "cell_type": "markdown",
   "id": "74b3fa37",
   "metadata": {},
   "source": [
    "## Import Portal Data"
   ]
  },
  {
   "cell_type": "code",
   "execution_count": 4,
   "id": "d63bf0b0",
   "metadata": {},
   "outputs": [
    {
     "name": "stderr",
     "output_type": "stream",
     "text": [
      "C:\\ProgramData\\Anaconda3\\lib\\site-packages\\IPython\\core\\interactiveshell.py:3165: DtypeWarning: Columns (33) have mixed types.Specify dtype option on import or set low_memory=False.\n",
      "  has_raised = await self.run_ast_nodes(code_ast.body, cell_name,\n"
     ]
    },
    {
     "data": {
      "text/html": [
       "<div>\n",
       "<style scoped>\n",
       "    .dataframe tbody tr th:only-of-type {\n",
       "        vertical-align: middle;\n",
       "    }\n",
       "\n",
       "    .dataframe tbody tr th {\n",
       "        vertical-align: top;\n",
       "    }\n",
       "\n",
       "    .dataframe thead th {\n",
       "        text-align: right;\n",
       "    }\n",
       "</style>\n",
       "<table border=\"1\" class=\"dataframe\">\n",
       "  <thead>\n",
       "    <tr style=\"text-align: right;\">\n",
       "      <th></th>\n",
       "      <th>request_id</th>\n",
       "      <th>request_datetime</th>\n",
       "      <th>completed_datetime</th>\n",
       "      <th>completed_duration_days</th>\n",
       "      <th>completed_duration_hours</th>\n",
       "      <th>agent_name</th>\n",
       "      <th>agent_code</th>\n",
       "      <th>branch_name</th>\n",
       "      <th>branch_code</th>\n",
       "      <th>sign_category</th>\n",
       "      <th>...</th>\n",
       "      <th>year</th>\n",
       "      <th>work_category</th>\n",
       "      <th>lead_time</th>\n",
       "      <th>request_date</th>\n",
       "      <th>completed_date</th>\n",
       "      <th>invoice_date</th>\n",
       "      <th>paid_date</th>\n",
       "      <th>requests_per_day</th>\n",
       "      <th>completed_per_day</th>\n",
       "      <th>cycle_count</th>\n",
       "    </tr>\n",
       "  </thead>\n",
       "  <tbody>\n",
       "    <tr>\n",
       "      <th>0</th>\n",
       "      <td>9215</td>\n",
       "      <td>2020-10-13 13:36:00</td>\n",
       "      <td>2020-10-18 08:52:00</td>\n",
       "      <td>4.80</td>\n",
       "      <td>115.3</td>\n",
       "      <td>Oakley Property</td>\n",
       "      <td>OAK</td>\n",
       "      <td>OakleyProperty @BrightonLets</td>\n",
       "      <td>701</td>\n",
       "      <td>Letting</td>\n",
       "      <td>...</td>\n",
       "      <td>2020</td>\n",
       "      <td>Letting</td>\n",
       "      <td>Within Week</td>\n",
       "      <td>2020-10-13</td>\n",
       "      <td>2020-10-18</td>\n",
       "      <td>2020-10-29</td>\n",
       "      <td>2020-12-10</td>\n",
       "      <td>83</td>\n",
       "      <td>26</td>\n",
       "      <td>1</td>\n",
       "    </tr>\n",
       "    <tr>\n",
       "      <th>1</th>\n",
       "      <td>8199</td>\n",
       "      <td>2020-11-26 20:33:00</td>\n",
       "      <td>2020-11-28 11:48:00</td>\n",
       "      <td>1.64</td>\n",
       "      <td>39.3</td>\n",
       "      <td>Lextons</td>\n",
       "      <td>LEX</td>\n",
       "      <td>Lextons @Hove</td>\n",
       "      <td>600</td>\n",
       "      <td>Sales</td>\n",
       "      <td>...</td>\n",
       "      <td>2020</td>\n",
       "      <td>Sales</td>\n",
       "      <td>Standard 48hr</td>\n",
       "      <td>2020-11-26</td>\n",
       "      <td>2020-11-28</td>\n",
       "      <td>2020-11-29</td>\n",
       "      <td>2021-02-05</td>\n",
       "      <td>68</td>\n",
       "      <td>90</td>\n",
       "      <td>2</td>\n",
       "    </tr>\n",
       "    <tr>\n",
       "      <th>2</th>\n",
       "      <td>8199</td>\n",
       "      <td>2020-09-18 18:44:00</td>\n",
       "      <td>2020-09-19 14:15:00</td>\n",
       "      <td>0.81</td>\n",
       "      <td>19.5</td>\n",
       "      <td>Lextons</td>\n",
       "      <td>LEX</td>\n",
       "      <td>Lextons @Hove</td>\n",
       "      <td>600</td>\n",
       "      <td>Sales</td>\n",
       "      <td>...</td>\n",
       "      <td>2020</td>\n",
       "      <td>Sales</td>\n",
       "      <td>Standard 48hr</td>\n",
       "      <td>2020-09-18</td>\n",
       "      <td>2020-09-19</td>\n",
       "      <td>2020-09-29</td>\n",
       "      <td>2020-12-10</td>\n",
       "      <td>78</td>\n",
       "      <td>66</td>\n",
       "      <td>2</td>\n",
       "    </tr>\n",
       "    <tr>\n",
       "      <th>3</th>\n",
       "      <td>9209</td>\n",
       "      <td>2020-10-13 13:29:00</td>\n",
       "      <td>2020-10-18 08:52:00</td>\n",
       "      <td>4.81</td>\n",
       "      <td>115.4</td>\n",
       "      <td>Oakley Property</td>\n",
       "      <td>OAK</td>\n",
       "      <td>OakleyProperty @BrightonLets</td>\n",
       "      <td>701</td>\n",
       "      <td>Letting</td>\n",
       "      <td>...</td>\n",
       "      <td>2020</td>\n",
       "      <td>Letting</td>\n",
       "      <td>Within Week</td>\n",
       "      <td>2020-10-13</td>\n",
       "      <td>2020-10-18</td>\n",
       "      <td>2020-10-29</td>\n",
       "      <td>2020-12-10</td>\n",
       "      <td>83</td>\n",
       "      <td>26</td>\n",
       "      <td>2</td>\n",
       "    </tr>\n",
       "    <tr>\n",
       "      <th>4</th>\n",
       "      <td>9209</td>\n",
       "      <td>2021-03-09 11:05:00</td>\n",
       "      <td>2021-03-11 14:05:00</td>\n",
       "      <td>2.13</td>\n",
       "      <td>51.0</td>\n",
       "      <td>Oakley Property</td>\n",
       "      <td>OAK</td>\n",
       "      <td>OakleyProperty @BrightonLets</td>\n",
       "      <td>701</td>\n",
       "      <td>Letting</td>\n",
       "      <td>...</td>\n",
       "      <td>2021</td>\n",
       "      <td>Letting</td>\n",
       "      <td>Within Week</td>\n",
       "      <td>2021-03-09</td>\n",
       "      <td>2021-03-11</td>\n",
       "      <td>2021-03-31</td>\n",
       "      <td>2021-04-26</td>\n",
       "      <td>73</td>\n",
       "      <td>122</td>\n",
       "      <td>2</td>\n",
       "    </tr>\n",
       "  </tbody>\n",
       "</table>\n",
       "<p>5 rows × 48 columns</p>\n",
       "</div>"
      ],
      "text/plain": [
       "   request_id     request_datetime   completed_datetime  \\\n",
       "0        9215  2020-10-13 13:36:00  2020-10-18 08:52:00   \n",
       "1        8199  2020-11-26 20:33:00  2020-11-28 11:48:00   \n",
       "2        8199  2020-09-18 18:44:00  2020-09-19 14:15:00   \n",
       "3        9209  2020-10-13 13:29:00  2020-10-18 08:52:00   \n",
       "4        9209  2021-03-09 11:05:00  2021-03-11 14:05:00   \n",
       "\n",
       "   completed_duration_days  completed_duration_hours       agent_name  \\\n",
       "0                     4.80                     115.3  Oakley Property   \n",
       "1                     1.64                      39.3          Lextons   \n",
       "2                     0.81                      19.5          Lextons   \n",
       "3                     4.81                     115.4  Oakley Property   \n",
       "4                     2.13                      51.0  Oakley Property   \n",
       "\n",
       "  agent_code                   branch_name  branch_code sign_category  ...  \\\n",
       "0        OAK  OakleyProperty @BrightonLets          701       Letting  ...   \n",
       "1        LEX                 Lextons @Hove          600         Sales  ...   \n",
       "2        LEX                 Lextons @Hove          600         Sales  ...   \n",
       "3        OAK  OakleyProperty @BrightonLets          701       Letting  ...   \n",
       "4        OAK  OakleyProperty @BrightonLets          701       Letting  ...   \n",
       "\n",
       "   year  work_category      lead_time request_date completed_date  \\\n",
       "0  2020        Letting    Within Week   2020-10-13     2020-10-18   \n",
       "1  2020          Sales  Standard 48hr   2020-11-26     2020-11-28   \n",
       "2  2020          Sales  Standard 48hr   2020-09-18     2020-09-19   \n",
       "3  2020        Letting    Within Week   2020-10-13     2020-10-18   \n",
       "4  2021        Letting    Within Week   2021-03-09     2021-03-11   \n",
       "\n",
       "  invoice_date   paid_date requests_per_day  completed_per_day  cycle_count  \n",
       "0   2020-10-29  2020-12-10               83                 26            1  \n",
       "1   2020-11-29  2021-02-05               68                 90            2  \n",
       "2   2020-09-29  2020-12-10               78                 66            2  \n",
       "3   2020-10-29  2020-12-10               83                 26            2  \n",
       "4   2021-03-31  2021-04-26               73                122            2  \n",
       "\n",
       "[5 rows x 48 columns]"
      ]
     },
     "execution_count": 4,
     "metadata": {},
     "output_type": "execute_result"
    }
   ],
   "source": [
    "df_lifecycle = pd.read_csv(os.path.join(dataset,'stone_signs_portal_v3.3_saleslets_lifecycle.csv'))\n",
    "df_lifecycle.head()"
   ]
  },
  {
   "cell_type": "markdown",
   "id": "5c6f5f05",
   "metadata": {},
   "source": [
    "### check dimensions & data types"
   ]
  },
  {
   "cell_type": "code",
   "execution_count": 5,
   "id": "86a66a6a",
   "metadata": {},
   "outputs": [
    {
     "data": {
      "text/plain": [
       "(26920, 48)"
      ]
     },
     "execution_count": 5,
     "metadata": {},
     "output_type": "execute_result"
    }
   ],
   "source": [
    "df_lifecycle.shape"
   ]
  },
  {
   "cell_type": "code",
   "execution_count": 6,
   "id": "a228b370",
   "metadata": {},
   "outputs": [
    {
     "data": {
      "text/plain": [
       "request_id                    int64\n",
       "request_datetime             object\n",
       "completed_datetime           object\n",
       "completed_duration_days     float64\n",
       "completed_duration_hours    float64\n",
       "agent_name                   object\n",
       "agent_code                   object\n",
       "branch_name                  object\n",
       "branch_code                   int64\n",
       "sign_category                object\n",
       "sign_action                  object\n",
       "board_type                  float64\n",
       "sign_type                    object\n",
       "address_1                    object\n",
       "address_2                    object\n",
       "address_3                    object\n",
       "town                         object\n",
       "postcode                     object\n",
       "latitude                    float64\n",
       "longitude                   float64\n",
       "quantity                      int64\n",
       "additional_info              object\n",
       "request_status               object\n",
       "payment_status               object\n",
       "net_charge                  float64\n",
       "vat                         float64\n",
       "gross_charge                float64\n",
       "invoice_datetime             object\n",
       "paid_datetime                object\n",
       "payment_duration_days       float64\n",
       "harvesine_distance_miles    float64\n",
       "latitude_group              float64\n",
       "longitude_group             float64\n",
       "zone                         object\n",
       "zone_area                    object\n",
       "is_up                         int64\n",
       "month_no                      int64\n",
       "month                        object\n",
       "year                          int64\n",
       "work_category                object\n",
       "lead_time                    object\n",
       "request_date                 object\n",
       "completed_date               object\n",
       "invoice_date                 object\n",
       "paid_date                    object\n",
       "requests_per_day              int64\n",
       "completed_per_day             int64\n",
       "cycle_count                   int64\n",
       "dtype: object"
      ]
     },
     "execution_count": 6,
     "metadata": {},
     "output_type": "execute_result"
    }
   ],
   "source": [
    "df_lifecycle.dtypes"
   ]
  },
  {
   "cell_type": "markdown",
   "id": "45a7054a",
   "metadata": {},
   "source": [
    "## Qu.12) What effect does house price have on Stone Sign business?"
   ]
  },
  {
   "cell_type": "markdown",
   "id": "1c65db5b",
   "metadata": {},
   "source": [
    "### create subset for sales ecords with completed cycles"
   ]
  },
  {
   "cell_type": "code",
   "execution_count": 7,
   "id": "fd6a7786",
   "metadata": {},
   "outputs": [
    {
     "data": {
      "text/plain": [
       "(17243, 49)"
      ]
     },
     "execution_count": 7,
     "metadata": {},
     "output_type": "execute_result"
    }
   ],
   "source": [
    "df_sales = df_lifecycle.loc[(df_lifecycle['sign_category']=='Sales') & (df_lifecycle['is_up']==0)]\n",
    "df_sales.shape"
   ]
  },
  {
   "cell_type": "markdown",
   "id": "3fd3f680",
   "metadata": {},
   "source": [
    "### import PPD data"
   ]
  },
  {
   "cell_type": "code",
   "execution_count": 8,
   "id": "fa63ee02",
   "metadata": {},
   "outputs": [
    {
     "data": {
      "text/html": [
       "<div>\n",
       "<style scoped>\n",
       "    .dataframe tbody tr th:only-of-type {\n",
       "        vertical-align: middle;\n",
       "    }\n",
       "\n",
       "    .dataframe tbody tr th {\n",
       "        vertical-align: top;\n",
       "    }\n",
       "\n",
       "    .dataframe thead th {\n",
       "        text-align: right;\n",
       "    }\n",
       "</style>\n",
       "<table border=\"1\" class=\"dataframe\">\n",
       "  <thead>\n",
       "    <tr style=\"text-align: right;\">\n",
       "      <th></th>\n",
       "      <th>unique_id</th>\n",
       "      <th>sale_price</th>\n",
       "      <th>transfer_date</th>\n",
       "      <th>postcode</th>\n",
       "      <th>property_type</th>\n",
       "      <th>new_property</th>\n",
       "      <th>free_lease</th>\n",
       "      <th>address_1</th>\n",
       "      <th>address_2</th>\n",
       "      <th>road_name</th>\n",
       "      <th>locality</th>\n",
       "      <th>town_city</th>\n",
       "      <th>district</th>\n",
       "      <th>county</th>\n",
       "    </tr>\n",
       "  </thead>\n",
       "  <tbody>\n",
       "    <tr>\n",
       "      <th>0</th>\n",
       "      <td>{B5755FFD-ED91-7D01-E053-6C04A8C036B6}</td>\n",
       "      <td>312500</td>\n",
       "      <td>2020-10-07 00:00</td>\n",
       "      <td>BN7 1HD</td>\n",
       "      <td>T</td>\n",
       "      <td>N</td>\n",
       "      <td>F</td>\n",
       "      <td>51</td>\n",
       "      <td>NaN</td>\n",
       "      <td>WARREN DRIVE</td>\n",
       "      <td>NaN</td>\n",
       "      <td>LEWES</td>\n",
       "      <td>LEWES</td>\n",
       "      <td>EAST SUSSEX</td>\n",
       "    </tr>\n",
       "    <tr>\n",
       "      <th>1</th>\n",
       "      <td>{B5755FFD-ED92-7D01-E053-6C04A8C036B6}</td>\n",
       "      <td>420000</td>\n",
       "      <td>2020-08-25 00:00</td>\n",
       "      <td>BN26 5UP</td>\n",
       "      <td>S</td>\n",
       "      <td>N</td>\n",
       "      <td>F</td>\n",
       "      <td>LABURNUM COTTAGE</td>\n",
       "      <td>NaN</td>\n",
       "      <td>SLOE LANE</td>\n",
       "      <td>ALFRISTON</td>\n",
       "      <td>POLEGATE</td>\n",
       "      <td>WEALDEN</td>\n",
       "      <td>EAST SUSSEX</td>\n",
       "    </tr>\n",
       "    <tr>\n",
       "      <th>2</th>\n",
       "      <td>{B5755FFD-ED93-7D01-E053-6C04A8C036B6}</td>\n",
       "      <td>710000</td>\n",
       "      <td>2020-10-02 00:00</td>\n",
       "      <td>BN3 4PB</td>\n",
       "      <td>S</td>\n",
       "      <td>N</td>\n",
       "      <td>F</td>\n",
       "      <td>6</td>\n",
       "      <td>NaN</td>\n",
       "      <td>BRITTANY ROAD</td>\n",
       "      <td>NaN</td>\n",
       "      <td>HOVE</td>\n",
       "      <td>BRIGHTON AND HOVE</td>\n",
       "      <td>BRIGHTON AND HOVE</td>\n",
       "    </tr>\n",
       "    <tr>\n",
       "      <th>3</th>\n",
       "      <td>{B5755FFD-ED94-7D01-E053-6C04A8C036B6}</td>\n",
       "      <td>485000</td>\n",
       "      <td>2020-09-29 00:00</td>\n",
       "      <td>BN2 9UW</td>\n",
       "      <td>T</td>\n",
       "      <td>N</td>\n",
       "      <td>F</td>\n",
       "      <td>8</td>\n",
       "      <td>NaN</td>\n",
       "      <td>TORONTO TERRACE</td>\n",
       "      <td>NaN</td>\n",
       "      <td>BRIGHTON</td>\n",
       "      <td>BRIGHTON AND HOVE</td>\n",
       "      <td>BRIGHTON AND HOVE</td>\n",
       "    </tr>\n",
       "    <tr>\n",
       "      <th>4</th>\n",
       "      <td>{B5755FFD-ED95-7D01-E053-6C04A8C036B6}</td>\n",
       "      <td>320000</td>\n",
       "      <td>2020-09-25 00:00</td>\n",
       "      <td>BN10 7AY</td>\n",
       "      <td>S</td>\n",
       "      <td>N</td>\n",
       "      <td>F</td>\n",
       "      <td>19</td>\n",
       "      <td>NaN</td>\n",
       "      <td>HIGHVIEW ROAD</td>\n",
       "      <td>TELSCOMBE CLIFFS</td>\n",
       "      <td>PEACEHAVEN</td>\n",
       "      <td>LEWES</td>\n",
       "      <td>EAST SUSSEX</td>\n",
       "    </tr>\n",
       "  </tbody>\n",
       "</table>\n",
       "</div>"
      ],
      "text/plain": [
       "                                unique_id  sale_price     transfer_date  \\\n",
       "0  {B5755FFD-ED91-7D01-E053-6C04A8C036B6}      312500  2020-10-07 00:00   \n",
       "1  {B5755FFD-ED92-7D01-E053-6C04A8C036B6}      420000  2020-08-25 00:00   \n",
       "2  {B5755FFD-ED93-7D01-E053-6C04A8C036B6}      710000  2020-10-02 00:00   \n",
       "3  {B5755FFD-ED94-7D01-E053-6C04A8C036B6}      485000  2020-09-29 00:00   \n",
       "4  {B5755FFD-ED95-7D01-E053-6C04A8C036B6}      320000  2020-09-25 00:00   \n",
       "\n",
       "   postcode property_type new_property free_lease         address_1 address_2  \\\n",
       "0   BN7 1HD             T            N          F                51       NaN   \n",
       "1  BN26 5UP             S            N          F  LABURNUM COTTAGE       NaN   \n",
       "2   BN3 4PB             S            N          F                 6       NaN   \n",
       "3   BN2 9UW             T            N          F                 8       NaN   \n",
       "4  BN10 7AY             S            N          F                19       NaN   \n",
       "\n",
       "         road_name          locality   town_city           district  \\\n",
       "0     WARREN DRIVE               NaN       LEWES              LEWES   \n",
       "1        SLOE LANE         ALFRISTON    POLEGATE            WEALDEN   \n",
       "2    BRITTANY ROAD               NaN        HOVE  BRIGHTON AND HOVE   \n",
       "3  TORONTO TERRACE               NaN    BRIGHTON  BRIGHTON AND HOVE   \n",
       "4    HIGHVIEW ROAD  TELSCOMBE CLIFFS  PEACEHAVEN              LEWES   \n",
       "\n",
       "              county  \n",
       "0        EAST SUSSEX  \n",
       "1        EAST SUSSEX  \n",
       "2  BRIGHTON AND HOVE  \n",
       "3  BRIGHTON AND HOVE  \n",
       "4        EAST SUSSEX  "
      ]
     },
     "execution_count": 8,
     "metadata": {},
     "output_type": "execute_result"
    }
   ],
   "source": [
    "df_ppd = pd.read_csv(os.path.join(dataset,'ppd_BN_PO_RH_2020-21_v1.1.csv'))\n",
    "df_ppd.head()"
   ]
  },
  {
   "cell_type": "markdown",
   "id": "2b03b147",
   "metadata": {},
   "source": [
    "### check dimensions and columns"
   ]
  },
  {
   "cell_type": "code",
   "execution_count": 9,
   "id": "ea894aec",
   "metadata": {},
   "outputs": [
    {
     "data": {
      "text/plain": [
       "(45317, 14)"
      ]
     },
     "execution_count": 9,
     "metadata": {},
     "output_type": "execute_result"
    }
   ],
   "source": [
    "df_ppd.shape"
   ]
  },
  {
   "cell_type": "code",
   "execution_count": 10,
   "id": "e977f133",
   "metadata": {},
   "outputs": [
    {
     "data": {
      "text/plain": [
       "unique_id        object\n",
       "sale_price        int64\n",
       "transfer_date    object\n",
       "postcode         object\n",
       "property_type    object\n",
       "new_property     object\n",
       "free_lease       object\n",
       "address_1        object\n",
       "address_2        object\n",
       "road_name        object\n",
       "locality         object\n",
       "town_city        object\n",
       "district         object\n",
       "county           object\n",
       "dtype: object"
      ]
     },
     "execution_count": 10,
     "metadata": {},
     "output_type": "execute_result"
    }
   ],
   "source": [
    "df_ppd.dtypes"
   ]
  },
  {
   "cell_type": "markdown",
   "id": "a8dc7a50",
   "metadata": {},
   "source": [
    "### drop excess columns from PPD"
   ]
  },
  {
   "cell_type": "code",
   "execution_count": 11,
   "id": "327c9d01",
   "metadata": {},
   "outputs": [],
   "source": [
    "df_ppd = df_ppd.drop(columns=['unique_id','free_lease'])"
   ]
  },
  {
   "cell_type": "markdown",
   "id": "d512f909",
   "metadata": {},
   "source": [
    "### upper case Portal address columns to match PPD dataset\n",
    "    Also remove commas in Portal Sales data.\n",
    "    Split Portal address lines 1 & 2 to extract house number to match PPD"
   ]
  },
  {
   "cell_type": "code",
   "execution_count": 12,
   "id": "99e4b2e5",
   "metadata": {},
   "outputs": [
    {
     "name": "stderr",
     "output_type": "stream",
     "text": [
      "<ipython-input-12-c55e49cd0a13>:1: SettingWithCopyWarning: \n",
      "A value is trying to be set on a copy of a slice from a DataFrame.\n",
      "Try using .loc[row_indexer,col_indexer] = value instead\n",
      "\n",
      "See the caveats in the documentation: https://pandas.pydata.org/pandas-docs/stable/user_guide/indexing.html#returning-a-view-versus-a-copy\n",
      "  df_sales['address_1'] = df_sales['address_1'].str.upper()\n",
      "<ipython-input-12-c55e49cd0a13>:2: SettingWithCopyWarning: \n",
      "A value is trying to be set on a copy of a slice from a DataFrame.\n",
      "Try using .loc[row_indexer,col_indexer] = value instead\n",
      "\n",
      "See the caveats in the documentation: https://pandas.pydata.org/pandas-docs/stable/user_guide/indexing.html#returning-a-view-versus-a-copy\n",
      "  df_sales['address_2'] = df_sales['address_2'].str.upper()\n",
      "<ipython-input-12-c55e49cd0a13>:3: SettingWithCopyWarning: \n",
      "A value is trying to be set on a copy of a slice from a DataFrame.\n",
      "Try using .loc[row_indexer,col_indexer] = value instead\n",
      "\n",
      "See the caveats in the documentation: https://pandas.pydata.org/pandas-docs/stable/user_guide/indexing.html#returning-a-view-versus-a-copy\n",
      "  df_sales['address_3'] = df_sales['address_3'].str.upper()\n"
     ]
    }
   ],
   "source": [
    "df_sales['address_1'] = df_sales['address_1'].str.upper()\n",
    "df_sales['address_2'] = df_sales['address_2'].str.upper()\n",
    "df_sales['address_3'] = df_sales['address_3'].str.upper()"
   ]
  },
  {
   "cell_type": "code",
   "execution_count": 13,
   "id": "2d8581e6",
   "metadata": {},
   "outputs": [
    {
     "data": {
      "text/html": [
       "<div>\n",
       "<style scoped>\n",
       "    .dataframe tbody tr th:only-of-type {\n",
       "        vertical-align: middle;\n",
       "    }\n",
       "\n",
       "    .dataframe tbody tr th {\n",
       "        vertical-align: top;\n",
       "    }\n",
       "\n",
       "    .dataframe thead th {\n",
       "        text-align: right;\n",
       "    }\n",
       "</style>\n",
       "<table border=\"1\" class=\"dataframe\">\n",
       "  <thead>\n",
       "    <tr style=\"text-align: right;\">\n",
       "      <th></th>\n",
       "      <th>address_1</th>\n",
       "      <th>address_2</th>\n",
       "      <th>address_3</th>\n",
       "    </tr>\n",
       "  </thead>\n",
       "  <tbody>\n",
       "    <tr>\n",
       "      <th>0</th>\n",
       "      <td>1 DAISY COURT</td>\n",
       "      <td>65 MIDDLE STREET</td>\n",
       "      <td>NaN</td>\n",
       "    </tr>\n",
       "    <tr>\n",
       "      <th>5</th>\n",
       "      <td>FLAT 1  12 MARLBOROUGH PLACE</td>\n",
       "      <td>BRIGHTON</td>\n",
       "      <td>NaN</td>\n",
       "    </tr>\n",
       "    <tr>\n",
       "      <th>6</th>\n",
       "      <td>FLAT 1  12 MARLBOROUGH PLACE</td>\n",
       "      <td>BRIGHTON</td>\n",
       "      <td>NaN</td>\n",
       "    </tr>\n",
       "    <tr>\n",
       "      <th>7</th>\n",
       "      <td>OAKLEY OFFICE</td>\n",
       "      <td>NaN</td>\n",
       "      <td>NaN</td>\n",
       "    </tr>\n",
       "    <tr>\n",
       "      <th>8</th>\n",
       "      <td>OAKLEY OFFICE</td>\n",
       "      <td>NaN</td>\n",
       "      <td>NaN</td>\n",
       "    </tr>\n",
       "  </tbody>\n",
       "</table>\n",
       "</div>"
      ],
      "text/plain": [
       "                      address_1         address_2 address_3\n",
       "0                 1 DAISY COURT  65 MIDDLE STREET       NaN\n",
       "5  FLAT 1  12 MARLBOROUGH PLACE          BRIGHTON       NaN\n",
       "6  FLAT 1  12 MARLBOROUGH PLACE          BRIGHTON       NaN\n",
       "7                 OAKLEY OFFICE               NaN       NaN\n",
       "8                 OAKLEY OFFICE               NaN       NaN"
      ]
     },
     "execution_count": 13,
     "metadata": {},
     "output_type": "execute_result"
    }
   ],
   "source": [
    "df_sales[['address_1','address_2','address_3']].head(5)"
   ]
  },
  {
   "cell_type": "code",
   "execution_count": 14,
   "id": "3eae45e4",
   "metadata": {},
   "outputs": [
    {
     "data": {
      "text/html": [
       "<div>\n",
       "<style scoped>\n",
       "    .dataframe tbody tr th:only-of-type {\n",
       "        vertical-align: middle;\n",
       "    }\n",
       "\n",
       "    .dataframe tbody tr th {\n",
       "        vertical-align: top;\n",
       "    }\n",
       "\n",
       "    .dataframe thead th {\n",
       "        text-align: right;\n",
       "    }\n",
       "</style>\n",
       "<table border=\"1\" class=\"dataframe\">\n",
       "  <thead>\n",
       "    <tr style=\"text-align: right;\">\n",
       "      <th></th>\n",
       "      <th>address_1</th>\n",
       "      <th>address_2</th>\n",
       "      <th>address_3</th>\n",
       "    </tr>\n",
       "  </thead>\n",
       "  <tbody>\n",
       "    <tr>\n",
       "      <th>0</th>\n",
       "      <td>1 DAISY COURT</td>\n",
       "      <td>65 MIDDLE STREET</td>\n",
       "      <td>NaN</td>\n",
       "    </tr>\n",
       "    <tr>\n",
       "      <th>5</th>\n",
       "      <td>FLAT 1  12 MARLBOROUGH PLACE</td>\n",
       "      <td>BRIGHTON</td>\n",
       "      <td>NaN</td>\n",
       "    </tr>\n",
       "    <tr>\n",
       "      <th>6</th>\n",
       "      <td>FLAT 1  12 MARLBOROUGH PLACE</td>\n",
       "      <td>BRIGHTON</td>\n",
       "      <td>NaN</td>\n",
       "    </tr>\n",
       "    <tr>\n",
       "      <th>7</th>\n",
       "      <td>OAKLEY OFFICE</td>\n",
       "      <td>NaN</td>\n",
       "      <td>NaN</td>\n",
       "    </tr>\n",
       "    <tr>\n",
       "      <th>8</th>\n",
       "      <td>OAKLEY OFFICE</td>\n",
       "      <td>NaN</td>\n",
       "      <td>NaN</td>\n",
       "    </tr>\n",
       "  </tbody>\n",
       "</table>\n",
       "</div>"
      ],
      "text/plain": [
       "                      address_1         address_2 address_3\n",
       "0                 1 DAISY COURT  65 MIDDLE STREET       NaN\n",
       "5  FLAT 1  12 MARLBOROUGH PLACE          BRIGHTON       NaN\n",
       "6  FLAT 1  12 MARLBOROUGH PLACE          BRIGHTON       NaN\n",
       "7                 OAKLEY OFFICE               NaN       NaN\n",
       "8                 OAKLEY OFFICE               NaN       NaN"
      ]
     },
     "execution_count": 14,
     "metadata": {},
     "output_type": "execute_result"
    }
   ],
   "source": [
    "df_sales[['address_1','address_2','address_3']].head(5)"
   ]
  },
  {
   "cell_type": "markdown",
   "id": "77f55096",
   "metadata": {},
   "source": [
    "### replace commas with space"
   ]
  },
  {
   "cell_type": "code",
   "execution_count": 15,
   "id": "151b0c97",
   "metadata": {},
   "outputs": [
    {
     "name": "stderr",
     "output_type": "stream",
     "text": [
      "<ipython-input-15-1be52ba6d3c8>:1: SettingWithCopyWarning: \n",
      "A value is trying to be set on a copy of a slice from a DataFrame.\n",
      "Try using .loc[row_indexer,col_indexer] = value instead\n",
      "\n",
      "See the caveats in the documentation: https://pandas.pydata.org/pandas-docs/stable/user_guide/indexing.html#returning-a-view-versus-a-copy\n",
      "  df_sales['address_1'] = df_sales['address_1'].str.replace(',','')\n",
      "<ipython-input-15-1be52ba6d3c8>:2: SettingWithCopyWarning: \n",
      "A value is trying to be set on a copy of a slice from a DataFrame.\n",
      "Try using .loc[row_indexer,col_indexer] = value instead\n",
      "\n",
      "See the caveats in the documentation: https://pandas.pydata.org/pandas-docs/stable/user_guide/indexing.html#returning-a-view-versus-a-copy\n",
      "  df_sales['address_2'] = df_sales['address_2'].str.replace(',','')\n",
      "<ipython-input-15-1be52ba6d3c8>:3: SettingWithCopyWarning: \n",
      "A value is trying to be set on a copy of a slice from a DataFrame.\n",
      "Try using .loc[row_indexer,col_indexer] = value instead\n",
      "\n",
      "See the caveats in the documentation: https://pandas.pydata.org/pandas-docs/stable/user_guide/indexing.html#returning-a-view-versus-a-copy\n",
      "  df_sales['address_3'] = df_sales['address_3'].str.replace(',','')\n"
     ]
    }
   ],
   "source": [
    "df_sales['address_1'] = df_sales['address_1'].str.replace(',','')\n",
    "df_sales['address_2'] = df_sales['address_2'].str.replace(',','')\n",
    "df_sales['address_3'] = df_sales['address_3'].str.replace(',','')"
   ]
  },
  {
   "cell_type": "markdown",
   "id": "8ad5fc44",
   "metadata": {},
   "source": [
    "## split address_1"
   ]
  },
  {
   "cell_type": "code",
   "execution_count": 16,
   "id": "475c3b87",
   "metadata": {},
   "outputs": [
    {
     "data": {
      "text/html": [
       "<div>\n",
       "<style scoped>\n",
       "    .dataframe tbody tr th:only-of-type {\n",
       "        vertical-align: middle;\n",
       "    }\n",
       "\n",
       "    .dataframe tbody tr th {\n",
       "        vertical-align: top;\n",
       "    }\n",
       "\n",
       "    .dataframe thead th {\n",
       "        text-align: right;\n",
       "    }\n",
       "</style>\n",
       "<table border=\"1\" class=\"dataframe\">\n",
       "  <thead>\n",
       "    <tr style=\"text-align: right;\">\n",
       "      <th></th>\n",
       "      <th>0</th>\n",
       "      <th>1</th>\n",
       "      <th>2</th>\n",
       "      <th>3</th>\n",
       "      <th>4</th>\n",
       "      <th>5</th>\n",
       "      <th>6</th>\n",
       "      <th>7</th>\n",
       "      <th>8</th>\n",
       "    </tr>\n",
       "  </thead>\n",
       "  <tbody>\n",
       "    <tr>\n",
       "      <th>0</th>\n",
       "      <td>1</td>\n",
       "      <td>DAISY</td>\n",
       "      <td>COURT</td>\n",
       "      <td>NaN</td>\n",
       "      <td>NaN</td>\n",
       "      <td>NaN</td>\n",
       "      <td>NaN</td>\n",
       "      <td>NaN</td>\n",
       "      <td>NaN</td>\n",
       "    </tr>\n",
       "    <tr>\n",
       "      <th>5</th>\n",
       "      <td>FLAT</td>\n",
       "      <td>1</td>\n",
       "      <td></td>\n",
       "      <td>12</td>\n",
       "      <td>MARLBOROUGH</td>\n",
       "      <td>PLACE</td>\n",
       "      <td>NaN</td>\n",
       "      <td>NaN</td>\n",
       "      <td>NaN</td>\n",
       "    </tr>\n",
       "    <tr>\n",
       "      <th>6</th>\n",
       "      <td>FLAT</td>\n",
       "      <td>1</td>\n",
       "      <td></td>\n",
       "      <td>12</td>\n",
       "      <td>MARLBOROUGH</td>\n",
       "      <td>PLACE</td>\n",
       "      <td>NaN</td>\n",
       "      <td>NaN</td>\n",
       "      <td>NaN</td>\n",
       "    </tr>\n",
       "    <tr>\n",
       "      <th>7</th>\n",
       "      <td>OAKLEY</td>\n",
       "      <td>OFFICE</td>\n",
       "      <td>NaN</td>\n",
       "      <td>NaN</td>\n",
       "      <td>NaN</td>\n",
       "      <td>NaN</td>\n",
       "      <td>NaN</td>\n",
       "      <td>NaN</td>\n",
       "      <td>NaN</td>\n",
       "    </tr>\n",
       "    <tr>\n",
       "      <th>8</th>\n",
       "      <td>OAKLEY</td>\n",
       "      <td>OFFICE</td>\n",
       "      <td>NaN</td>\n",
       "      <td>NaN</td>\n",
       "      <td>NaN</td>\n",
       "      <td>NaN</td>\n",
       "      <td>NaN</td>\n",
       "      <td>NaN</td>\n",
       "      <td>NaN</td>\n",
       "    </tr>\n",
       "  </tbody>\n",
       "</table>\n",
       "</div>"
      ],
      "text/plain": [
       "        0       1      2    3            4      5    6    7    8\n",
       "0       1   DAISY  COURT  NaN          NaN    NaN  NaN  NaN  NaN\n",
       "5    FLAT       1          12  MARLBOROUGH  PLACE  NaN  NaN  NaN\n",
       "6    FLAT       1          12  MARLBOROUGH  PLACE  NaN  NaN  NaN\n",
       "7  OAKLEY  OFFICE    NaN  NaN          NaN    NaN  NaN  NaN  NaN\n",
       "8  OAKLEY  OFFICE    NaN  NaN          NaN    NaN  NaN  NaN  NaN"
      ]
     },
     "execution_count": 16,
     "metadata": {},
     "output_type": "execute_result"
    }
   ],
   "source": [
    "df_addr1_split = df_sales['address_1'].apply(lambda x: pd.Series(x.split(' ')))\n",
    "df_addr1_split.head()"
   ]
  },
  {
   "cell_type": "markdown",
   "id": "590323d9",
   "metadata": {},
   "source": [
    "### check population of df_addr1_split"
   ]
  },
  {
   "cell_type": "code",
   "execution_count": 17,
   "id": "00481dd7",
   "metadata": {},
   "outputs": [
    {
     "data": {
      "text/plain": [
       "(17243, 9)"
      ]
     },
     "execution_count": 17,
     "metadata": {},
     "output_type": "execute_result"
    }
   ],
   "source": [
    "df_addr1_split.shape"
   ]
  },
  {
   "cell_type": "code",
   "execution_count": 18,
   "id": "bed9a261",
   "metadata": {},
   "outputs": [
    {
     "data": {
      "text/plain": [
       "0        0\n",
       "1      875\n",
       "2     2094\n",
       "3    14868\n",
       "4    16758\n",
       "5    17146\n",
       "6    17232\n",
       "7    17233\n",
       "8    17241\n",
       "dtype: int64"
      ]
     },
     "execution_count": 18,
     "metadata": {},
     "output_type": "execute_result"
    }
   ],
   "source": [
    "df_addr1_split.isnull().sum()"
   ]
  },
  {
   "cell_type": "markdown",
   "id": "5e73cc77",
   "metadata": {},
   "source": [
    "#### based on the above null counts, will only keep columns 0 ,1, 2 & 3"
   ]
  },
  {
   "cell_type": "markdown",
   "id": "94e9f76d",
   "metadata": {},
   "source": [
    "### drop excess columns of address1 split"
   ]
  },
  {
   "cell_type": "code",
   "execution_count": 19,
   "id": "9cdb83db",
   "metadata": {},
   "outputs": [
    {
     "data": {
      "text/html": [
       "<div>\n",
       "<style scoped>\n",
       "    .dataframe tbody tr th:only-of-type {\n",
       "        vertical-align: middle;\n",
       "    }\n",
       "\n",
       "    .dataframe tbody tr th {\n",
       "        vertical-align: top;\n",
       "    }\n",
       "\n",
       "    .dataframe thead th {\n",
       "        text-align: right;\n",
       "    }\n",
       "</style>\n",
       "<table border=\"1\" class=\"dataframe\">\n",
       "  <thead>\n",
       "    <tr style=\"text-align: right;\">\n",
       "      <th></th>\n",
       "      <th>0</th>\n",
       "      <th>1</th>\n",
       "      <th>2</th>\n",
       "      <th>3</th>\n",
       "    </tr>\n",
       "  </thead>\n",
       "  <tbody>\n",
       "    <tr>\n",
       "      <th>0</th>\n",
       "      <td>1</td>\n",
       "      <td>DAISY</td>\n",
       "      <td>COURT</td>\n",
       "      <td>NaN</td>\n",
       "    </tr>\n",
       "    <tr>\n",
       "      <th>5</th>\n",
       "      <td>FLAT</td>\n",
       "      <td>1</td>\n",
       "      <td></td>\n",
       "      <td>12</td>\n",
       "    </tr>\n",
       "    <tr>\n",
       "      <th>6</th>\n",
       "      <td>FLAT</td>\n",
       "      <td>1</td>\n",
       "      <td></td>\n",
       "      <td>12</td>\n",
       "    </tr>\n",
       "    <tr>\n",
       "      <th>7</th>\n",
       "      <td>OAKLEY</td>\n",
       "      <td>OFFICE</td>\n",
       "      <td>NaN</td>\n",
       "      <td>NaN</td>\n",
       "    </tr>\n",
       "    <tr>\n",
       "      <th>8</th>\n",
       "      <td>OAKLEY</td>\n",
       "      <td>OFFICE</td>\n",
       "      <td>NaN</td>\n",
       "      <td>NaN</td>\n",
       "    </tr>\n",
       "  </tbody>\n",
       "</table>\n",
       "</div>"
      ],
      "text/plain": [
       "        0       1      2    3\n",
       "0       1   DAISY  COURT  NaN\n",
       "5    FLAT       1          12\n",
       "6    FLAT       1          12\n",
       "7  OAKLEY  OFFICE    NaN  NaN\n",
       "8  OAKLEY  OFFICE    NaN  NaN"
      ]
     },
     "execution_count": 19,
     "metadata": {},
     "output_type": "execute_result"
    }
   ],
   "source": [
    "df_addr1_split = df_addr1_split.drop(columns=[4,5,6,7,8])\n",
    "df_addr1_split.head()"
   ]
  },
  {
   "cell_type": "markdown",
   "id": "15cbd885",
   "metadata": {},
   "source": [
    "## Repeat address split for address_2\n",
    "    issue with code not working on null values in address_2 which were not  an for the mandatory address_1 field."
   ]
  },
  {
   "cell_type": "markdown",
   "id": "6ae806e4",
   "metadata": {},
   "source": [
    "### replace null with \"none\" for address_2"
   ]
  },
  {
   "cell_type": "code",
   "execution_count": 20,
   "id": "f586ee04",
   "metadata": {},
   "outputs": [
    {
     "name": "stderr",
     "output_type": "stream",
     "text": [
      "<ipython-input-20-3e790358efe6>:1: SettingWithCopyWarning: \n",
      "A value is trying to be set on a copy of a slice from a DataFrame.\n",
      "Try using .loc[row_indexer,col_indexer] = value instead\n",
      "\n",
      "See the caveats in the documentation: https://pandas.pydata.org/pandas-docs/stable/user_guide/indexing.html#returning-a-view-versus-a-copy\n",
      "  df_sales['address_2'] = df_sales['address_2'].fillna('none')\n"
     ]
    }
   ],
   "source": [
    "df_sales['address_2'] = df_sales['address_2'].fillna('none')"
   ]
  },
  {
   "cell_type": "code",
   "execution_count": 21,
   "id": "73c37746",
   "metadata": {},
   "outputs": [
    {
     "data": {
      "text/plain": [
       "0"
      ]
     },
     "execution_count": 21,
     "metadata": {},
     "output_type": "execute_result"
    }
   ],
   "source": [
    "df_sales['address_2'].isnull().sum()"
   ]
  },
  {
   "cell_type": "code",
   "execution_count": 22,
   "id": "60fd6de1",
   "metadata": {},
   "outputs": [
    {
     "data": {
      "text/plain": [
       "0     65 MIDDLE STREET\n",
       "5             BRIGHTON\n",
       "6             BRIGHTON\n",
       "7                 none\n",
       "8                 none\n",
       "11                none\n",
       "12                none\n",
       "16                none\n",
       "20                none\n",
       "21                none\n",
       "23                none\n",
       "24                none\n",
       "30            BRIGHTON\n",
       "33                none\n",
       "34                none\n",
       "35                none\n",
       "36                none\n",
       "37                none\n",
       "38                none\n",
       "39                none\n",
       "40                none\n",
       "41                none\n",
       "42                none\n",
       "43            BRIGHTON\n",
       "44            BRIGHTON\n",
       "54     BLACKMAN STREET\n",
       "55     BLACKMAN STREET\n",
       "61                none\n",
       "62                none\n",
       "67                none\n",
       "Name: address_2, dtype: object"
      ]
     },
     "execution_count": 22,
     "metadata": {},
     "output_type": "execute_result"
    }
   ],
   "source": [
    "df_sales['address_2'].head(30)"
   ]
  },
  {
   "cell_type": "markdown",
   "id": "3727d806",
   "metadata": {},
   "source": [
    "### now column can be split on space charcater"
   ]
  },
  {
   "cell_type": "code",
   "execution_count": 23,
   "id": "dcd3f89b",
   "metadata": {},
   "outputs": [
    {
     "data": {
      "text/html": [
       "<div>\n",
       "<style scoped>\n",
       "    .dataframe tbody tr th:only-of-type {\n",
       "        vertical-align: middle;\n",
       "    }\n",
       "\n",
       "    .dataframe tbody tr th {\n",
       "        vertical-align: top;\n",
       "    }\n",
       "\n",
       "    .dataframe thead th {\n",
       "        text-align: right;\n",
       "    }\n",
       "</style>\n",
       "<table border=\"1\" class=\"dataframe\">\n",
       "  <thead>\n",
       "    <tr style=\"text-align: right;\">\n",
       "      <th></th>\n",
       "      <th>0</th>\n",
       "      <th>1</th>\n",
       "      <th>2</th>\n",
       "      <th>3</th>\n",
       "    </tr>\n",
       "  </thead>\n",
       "  <tbody>\n",
       "    <tr>\n",
       "      <th>0</th>\n",
       "      <td>65</td>\n",
       "      <td>MIDDLE</td>\n",
       "      <td>STREET</td>\n",
       "      <td>NaN</td>\n",
       "    </tr>\n",
       "    <tr>\n",
       "      <th>5</th>\n",
       "      <td>BRIGHTON</td>\n",
       "      <td>NaN</td>\n",
       "      <td>NaN</td>\n",
       "      <td>NaN</td>\n",
       "    </tr>\n",
       "    <tr>\n",
       "      <th>6</th>\n",
       "      <td>BRIGHTON</td>\n",
       "      <td>NaN</td>\n",
       "      <td>NaN</td>\n",
       "      <td>NaN</td>\n",
       "    </tr>\n",
       "    <tr>\n",
       "      <th>7</th>\n",
       "      <td>none</td>\n",
       "      <td>NaN</td>\n",
       "      <td>NaN</td>\n",
       "      <td>NaN</td>\n",
       "    </tr>\n",
       "    <tr>\n",
       "      <th>8</th>\n",
       "      <td>none</td>\n",
       "      <td>NaN</td>\n",
       "      <td>NaN</td>\n",
       "      <td>NaN</td>\n",
       "    </tr>\n",
       "  </tbody>\n",
       "</table>\n",
       "</div>"
      ],
      "text/plain": [
       "          0       1       2    3\n",
       "0        65  MIDDLE  STREET  NaN\n",
       "5  BRIGHTON     NaN     NaN  NaN\n",
       "6  BRIGHTON     NaN     NaN  NaN\n",
       "7      none     NaN     NaN  NaN\n",
       "8      none     NaN     NaN  NaN"
      ]
     },
     "execution_count": 23,
     "metadata": {},
     "output_type": "execute_result"
    }
   ],
   "source": [
    "df_addr2_split = df_sales['address_2'].apply(lambda x: pd.Series(x.split(' ')))\n",
    "df_addr2_split.head()"
   ]
  },
  {
   "cell_type": "markdown",
   "id": "0ed049dd",
   "metadata": {},
   "source": [
    "### check population of df_addr2_split"
   ]
  },
  {
   "cell_type": "code",
   "execution_count": 24,
   "id": "13acc449",
   "metadata": {},
   "outputs": [
    {
     "data": {
      "text/plain": [
       "(17243, 4)"
      ]
     },
     "execution_count": 24,
     "metadata": {},
     "output_type": "execute_result"
    }
   ],
   "source": [
    "df_addr1_split.shape"
   ]
  },
  {
   "cell_type": "code",
   "execution_count": 25,
   "id": "4533b675",
   "metadata": {},
   "outputs": [
    {
     "data": {
      "text/plain": [
       "0        0\n",
       "1    13862\n",
       "2    16305\n",
       "3    17125\n",
       "dtype: int64"
      ]
     },
     "execution_count": 25,
     "metadata": {},
     "output_type": "execute_result"
    }
   ],
   "source": [
    "df_addr2_split.isnull().sum()"
   ]
  },
  {
   "cell_type": "markdown",
   "id": "f38acd6c",
   "metadata": {},
   "source": [
    "### drop excess columns 2 & 3"
   ]
  },
  {
   "cell_type": "code",
   "execution_count": 26,
   "id": "bd057e31",
   "metadata": {},
   "outputs": [
    {
     "data": {
      "text/html": [
       "<div>\n",
       "<style scoped>\n",
       "    .dataframe tbody tr th:only-of-type {\n",
       "        vertical-align: middle;\n",
       "    }\n",
       "\n",
       "    .dataframe tbody tr th {\n",
       "        vertical-align: top;\n",
       "    }\n",
       "\n",
       "    .dataframe thead th {\n",
       "        text-align: right;\n",
       "    }\n",
       "</style>\n",
       "<table border=\"1\" class=\"dataframe\">\n",
       "  <thead>\n",
       "    <tr style=\"text-align: right;\">\n",
       "      <th></th>\n",
       "      <th>0</th>\n",
       "      <th>1</th>\n",
       "    </tr>\n",
       "  </thead>\n",
       "  <tbody>\n",
       "    <tr>\n",
       "      <th>0</th>\n",
       "      <td>65</td>\n",
       "      <td>MIDDLE</td>\n",
       "    </tr>\n",
       "    <tr>\n",
       "      <th>5</th>\n",
       "      <td>BRIGHTON</td>\n",
       "      <td>NaN</td>\n",
       "    </tr>\n",
       "    <tr>\n",
       "      <th>6</th>\n",
       "      <td>BRIGHTON</td>\n",
       "      <td>NaN</td>\n",
       "    </tr>\n",
       "    <tr>\n",
       "      <th>7</th>\n",
       "      <td>none</td>\n",
       "      <td>NaN</td>\n",
       "    </tr>\n",
       "    <tr>\n",
       "      <th>8</th>\n",
       "      <td>none</td>\n",
       "      <td>NaN</td>\n",
       "    </tr>\n",
       "  </tbody>\n",
       "</table>\n",
       "</div>"
      ],
      "text/plain": [
       "          0       1\n",
       "0        65  MIDDLE\n",
       "5  BRIGHTON     NaN\n",
       "6  BRIGHTON     NaN\n",
       "7      none     NaN\n",
       "8      none     NaN"
      ]
     },
     "execution_count": 26,
     "metadata": {},
     "output_type": "execute_result"
    }
   ],
   "source": [
    "df_addr2_split = df_addr2_split.drop(columns=[2,3])\n",
    "df_addr2_split.head()"
   ]
  },
  {
   "cell_type": "markdown",
   "id": "274e2be9",
   "metadata": {},
   "source": [
    "## Add address split column to df_sales dataframe"
   ]
  },
  {
   "cell_type": "code",
   "execution_count": 27,
   "id": "e920b978",
   "metadata": {},
   "outputs": [
    {
     "name": "stderr",
     "output_type": "stream",
     "text": [
      "C:\\ProgramData\\Anaconda3\\lib\\site-packages\\pandas\\core\\frame.py:3191: SettingWithCopyWarning: \n",
      "A value is trying to be set on a copy of a slice from a DataFrame.\n",
      "Try using .loc[row_indexer,col_indexer] = value instead\n",
      "\n",
      "See the caveats in the documentation: https://pandas.pydata.org/pandas-docs/stable/user_guide/indexing.html#returning-a-view-versus-a-copy\n",
      "  self[k1] = value[k2]\n"
     ]
    }
   ],
   "source": [
    "df_sales[['addr_split1','addr_split2','addr_split3','addr_split4']] = df_addr1_split"
   ]
  },
  {
   "cell_type": "code",
   "execution_count": 28,
   "id": "6ba57c72",
   "metadata": {},
   "outputs": [],
   "source": [
    "df_sales[['addr_split5','addr_split6']] = df_addr2_split"
   ]
  },
  {
   "cell_type": "code",
   "execution_count": 29,
   "id": "218d8106",
   "metadata": {},
   "outputs": [
    {
     "data": {
      "text/plain": [
       "request_id                    int64\n",
       "request_datetime             object\n",
       "completed_datetime           object\n",
       "completed_duration_days     float64\n",
       "completed_duration_hours    float64\n",
       "agent_name                   object\n",
       "agent_code                   object\n",
       "branch_name                  object\n",
       "branch_code                   int64\n",
       "sign_category                object\n",
       "sign_action                  object\n",
       "board_type                  float64\n",
       "sign_type                    object\n",
       "address_1                    object\n",
       "address_2                    object\n",
       "address_3                    object\n",
       "town                         object\n",
       "postcode                     object\n",
       "latitude                    float64\n",
       "longitude                   float64\n",
       "quantity                      int64\n",
       "additional_info              object\n",
       "request_status               object\n",
       "payment_status               object\n",
       "net_charge                  float64\n",
       "vat                         float64\n",
       "gross_charge                float64\n",
       "invoice_datetime             object\n",
       "paid_datetime                object\n",
       "payment_duration_days       float64\n",
       "harvesine_distance_miles    float64\n",
       "latitude_group              float64\n",
       "longitude_group             float64\n",
       "zone                          int64\n",
       "zone_area                    object\n",
       "is_up                         int64\n",
       "month_no                      int64\n",
       "month                        object\n",
       "year                          int64\n",
       "work_category                object\n",
       "lead_time                    object\n",
       "request_date                 object\n",
       "completed_date               object\n",
       "invoice_date                 object\n",
       "paid_date                    object\n",
       "requests_per_day              int64\n",
       "completed_per_day             int64\n",
       "cycle_count                   int64\n",
       "cycle_category               object\n",
       "addr_split1                  object\n",
       "addr_split2                  object\n",
       "addr_split3                  object\n",
       "addr_split4                  object\n",
       "addr_split5                  object\n",
       "addr_split6                  object\n",
       "dtype: object"
      ]
     },
     "execution_count": 29,
     "metadata": {},
     "output_type": "execute_result"
    }
   ],
   "source": [
    "df_sales.dtypes"
   ]
  },
  {
   "cell_type": "markdown",
   "id": "07f22c91",
   "metadata": {},
   "source": [
    "## export to CSV for review"
   ]
  },
  {
   "cell_type": "code",
   "execution_count": 30,
   "id": "9859dd97",
   "metadata": {},
   "outputs": [],
   "source": [
    "df_sales.to_csv(os.path.join(dataset,'stone_signs_portal_v6.0_sales_address_split.csv'), index=False)"
   ]
  },
  {
   "cell_type": "code",
   "execution_count": 102,
   "id": "9ada1642",
   "metadata": {},
   "outputs": [
    {
     "data": {
      "text/plain": [
       "(17243, 55)"
      ]
     },
     "execution_count": 102,
     "metadata": {},
     "output_type": "execute_result"
    }
   ],
   "source": [
    "df_sales.shape"
   ]
  },
  {
   "cell_type": "markdown",
   "id": "f6654eac",
   "metadata": {},
   "source": [
    "## The dataframes are to be matched on postcode and house number.\n",
    "The PPD data is government data and so has a more predictable format.  This is why the Portal data address lines have been split to extract the house number.  It could be in any of the six addr_split columns."
   ]
  },
  {
   "cell_type": "markdown",
   "id": "736c829b",
   "metadata": {},
   "source": [
    "### PPD address_1 contains some examples of the house name and number in the same cell, e.g. \"NICHE PLACE, 6\".  \n",
    "    Split at comma"
   ]
  },
  {
   "cell_type": "code",
   "execution_count": 31,
   "id": "717d3603",
   "metadata": {},
   "outputs": [
    {
     "data": {
      "text/html": [
       "<div>\n",
       "<style scoped>\n",
       "    .dataframe tbody tr th:only-of-type {\n",
       "        vertical-align: middle;\n",
       "    }\n",
       "\n",
       "    .dataframe tbody tr th {\n",
       "        vertical-align: top;\n",
       "    }\n",
       "\n",
       "    .dataframe thead th {\n",
       "        text-align: right;\n",
       "    }\n",
       "</style>\n",
       "<table border=\"1\" class=\"dataframe\">\n",
       "  <thead>\n",
       "    <tr style=\"text-align: right;\">\n",
       "      <th></th>\n",
       "      <th>0</th>\n",
       "      <th>1</th>\n",
       "    </tr>\n",
       "  </thead>\n",
       "  <tbody>\n",
       "    <tr>\n",
       "      <th>0</th>\n",
       "      <td>51</td>\n",
       "      <td>NaN</td>\n",
       "    </tr>\n",
       "    <tr>\n",
       "      <th>1</th>\n",
       "      <td>LABURNUM COTTAGE</td>\n",
       "      <td>NaN</td>\n",
       "    </tr>\n",
       "    <tr>\n",
       "      <th>2</th>\n",
       "      <td>6</td>\n",
       "      <td>NaN</td>\n",
       "    </tr>\n",
       "    <tr>\n",
       "      <th>3</th>\n",
       "      <td>8</td>\n",
       "      <td>NaN</td>\n",
       "    </tr>\n",
       "    <tr>\n",
       "      <th>4</th>\n",
       "      <td>19</td>\n",
       "      <td>NaN</td>\n",
       "    </tr>\n",
       "  </tbody>\n",
       "</table>\n",
       "</div>"
      ],
      "text/plain": [
       "                  0    1\n",
       "0                51  NaN\n",
       "1  LABURNUM COTTAGE  NaN\n",
       "2                 6  NaN\n",
       "3                 8  NaN\n",
       "4                19  NaN"
      ]
     },
     "execution_count": 31,
     "metadata": {},
     "output_type": "execute_result"
    }
   ],
   "source": [
    "df_house_no = df_ppd['address_1'].apply(lambda x: pd.Series(x.split(', ')))\n",
    "df_house_no.head()"
   ]
  },
  {
   "cell_type": "code",
   "execution_count": 32,
   "id": "e06bf47a",
   "metadata": {},
   "outputs": [],
   "source": [
    "df_house_no.to_clipboard(())"
   ]
  },
  {
   "cell_type": "markdown",
   "id": "650e0d93",
   "metadata": {},
   "source": [
    "### check df_house_no for population"
   ]
  },
  {
   "cell_type": "code",
   "execution_count": 33,
   "id": "facdf89a",
   "metadata": {},
   "outputs": [
    {
     "data": {
      "text/plain": [
       "(45317, 2)"
      ]
     },
     "execution_count": 33,
     "metadata": {},
     "output_type": "execute_result"
    }
   ],
   "source": [
    "df_house_no.shape"
   ]
  },
  {
   "cell_type": "code",
   "execution_count": 34,
   "id": "3f75c753",
   "metadata": {},
   "outputs": [
    {
     "data": {
      "text/plain": [
       "0        0\n",
       "1    43217\n",
       "dtype: int64"
      ]
     },
     "execution_count": 34,
     "metadata": {},
     "output_type": "execute_result"
    }
   ],
   "source": [
    "df_house_no.isnull().sum()"
   ]
  },
  {
   "cell_type": "markdown",
   "id": "e4af57e5",
   "metadata": {},
   "source": [
    "### add to main PPD dataframe as new columns"
   ]
  },
  {
   "cell_type": "code",
   "execution_count": 35,
   "id": "74b158fd",
   "metadata": {},
   "outputs": [
    {
     "data": {
      "text/html": [
       "<div>\n",
       "<style scoped>\n",
       "    .dataframe tbody tr th:only-of-type {\n",
       "        vertical-align: middle;\n",
       "    }\n",
       "\n",
       "    .dataframe tbody tr th {\n",
       "        vertical-align: top;\n",
       "    }\n",
       "\n",
       "    .dataframe thead th {\n",
       "        text-align: right;\n",
       "    }\n",
       "</style>\n",
       "<table border=\"1\" class=\"dataframe\">\n",
       "  <thead>\n",
       "    <tr style=\"text-align: right;\">\n",
       "      <th></th>\n",
       "      <th>sale_price</th>\n",
       "      <th>transfer_date</th>\n",
       "      <th>postcode</th>\n",
       "      <th>property_type</th>\n",
       "      <th>new_property</th>\n",
       "      <th>address_1</th>\n",
       "      <th>address_2</th>\n",
       "      <th>road_name</th>\n",
       "      <th>locality</th>\n",
       "      <th>town_city</th>\n",
       "      <th>district</th>\n",
       "      <th>county</th>\n",
       "      <th>house1</th>\n",
       "      <th>house2</th>\n",
       "    </tr>\n",
       "  </thead>\n",
       "  <tbody>\n",
       "    <tr>\n",
       "      <th>0</th>\n",
       "      <td>312500</td>\n",
       "      <td>2020-10-07 00:00</td>\n",
       "      <td>BN7 1HD</td>\n",
       "      <td>T</td>\n",
       "      <td>N</td>\n",
       "      <td>51</td>\n",
       "      <td>NaN</td>\n",
       "      <td>WARREN DRIVE</td>\n",
       "      <td>NaN</td>\n",
       "      <td>LEWES</td>\n",
       "      <td>LEWES</td>\n",
       "      <td>EAST SUSSEX</td>\n",
       "      <td>51</td>\n",
       "      <td>NaN</td>\n",
       "    </tr>\n",
       "    <tr>\n",
       "      <th>1</th>\n",
       "      <td>420000</td>\n",
       "      <td>2020-08-25 00:00</td>\n",
       "      <td>BN26 5UP</td>\n",
       "      <td>S</td>\n",
       "      <td>N</td>\n",
       "      <td>LABURNUM COTTAGE</td>\n",
       "      <td>NaN</td>\n",
       "      <td>SLOE LANE</td>\n",
       "      <td>ALFRISTON</td>\n",
       "      <td>POLEGATE</td>\n",
       "      <td>WEALDEN</td>\n",
       "      <td>EAST SUSSEX</td>\n",
       "      <td>LABURNUM COTTAGE</td>\n",
       "      <td>NaN</td>\n",
       "    </tr>\n",
       "    <tr>\n",
       "      <th>2</th>\n",
       "      <td>710000</td>\n",
       "      <td>2020-10-02 00:00</td>\n",
       "      <td>BN3 4PB</td>\n",
       "      <td>S</td>\n",
       "      <td>N</td>\n",
       "      <td>6</td>\n",
       "      <td>NaN</td>\n",
       "      <td>BRITTANY ROAD</td>\n",
       "      <td>NaN</td>\n",
       "      <td>HOVE</td>\n",
       "      <td>BRIGHTON AND HOVE</td>\n",
       "      <td>BRIGHTON AND HOVE</td>\n",
       "      <td>6</td>\n",
       "      <td>NaN</td>\n",
       "    </tr>\n",
       "    <tr>\n",
       "      <th>3</th>\n",
       "      <td>485000</td>\n",
       "      <td>2020-09-29 00:00</td>\n",
       "      <td>BN2 9UW</td>\n",
       "      <td>T</td>\n",
       "      <td>N</td>\n",
       "      <td>8</td>\n",
       "      <td>NaN</td>\n",
       "      <td>TORONTO TERRACE</td>\n",
       "      <td>NaN</td>\n",
       "      <td>BRIGHTON</td>\n",
       "      <td>BRIGHTON AND HOVE</td>\n",
       "      <td>BRIGHTON AND HOVE</td>\n",
       "      <td>8</td>\n",
       "      <td>NaN</td>\n",
       "    </tr>\n",
       "    <tr>\n",
       "      <th>4</th>\n",
       "      <td>320000</td>\n",
       "      <td>2020-09-25 00:00</td>\n",
       "      <td>BN10 7AY</td>\n",
       "      <td>S</td>\n",
       "      <td>N</td>\n",
       "      <td>19</td>\n",
       "      <td>NaN</td>\n",
       "      <td>HIGHVIEW ROAD</td>\n",
       "      <td>TELSCOMBE CLIFFS</td>\n",
       "      <td>PEACEHAVEN</td>\n",
       "      <td>LEWES</td>\n",
       "      <td>EAST SUSSEX</td>\n",
       "      <td>19</td>\n",
       "      <td>NaN</td>\n",
       "    </tr>\n",
       "  </tbody>\n",
       "</table>\n",
       "</div>"
      ],
      "text/plain": [
       "   sale_price     transfer_date  postcode property_type new_property  \\\n",
       "0      312500  2020-10-07 00:00   BN7 1HD             T            N   \n",
       "1      420000  2020-08-25 00:00  BN26 5UP             S            N   \n",
       "2      710000  2020-10-02 00:00   BN3 4PB             S            N   \n",
       "3      485000  2020-09-29 00:00   BN2 9UW             T            N   \n",
       "4      320000  2020-09-25 00:00  BN10 7AY             S            N   \n",
       "\n",
       "          address_1 address_2        road_name          locality   town_city  \\\n",
       "0                51       NaN     WARREN DRIVE               NaN       LEWES   \n",
       "1  LABURNUM COTTAGE       NaN        SLOE LANE         ALFRISTON    POLEGATE   \n",
       "2                 6       NaN    BRITTANY ROAD               NaN        HOVE   \n",
       "3                 8       NaN  TORONTO TERRACE               NaN    BRIGHTON   \n",
       "4                19       NaN    HIGHVIEW ROAD  TELSCOMBE CLIFFS  PEACEHAVEN   \n",
       "\n",
       "            district             county            house1 house2  \n",
       "0              LEWES        EAST SUSSEX                51    NaN  \n",
       "1            WEALDEN        EAST SUSSEX  LABURNUM COTTAGE    NaN  \n",
       "2  BRIGHTON AND HOVE  BRIGHTON AND HOVE                 6    NaN  \n",
       "3  BRIGHTON AND HOVE  BRIGHTON AND HOVE                 8    NaN  \n",
       "4              LEWES        EAST SUSSEX                19    NaN  "
      ]
     },
     "execution_count": 35,
     "metadata": {},
     "output_type": "execute_result"
    }
   ],
   "source": [
    "df_ppd[['house1','house2']] = df_house_no\n",
    "df_ppd.head()"
   ]
  },
  {
   "cell_type": "markdown",
   "id": "d7606320",
   "metadata": {},
   "source": [
    "### replace null values in house_2 with different placemarker from Portal nulls\n",
    "    so that they won't be seen as a match."
   ]
  },
  {
   "cell_type": "code",
   "execution_count": 36,
   "id": "45eded7c",
   "metadata": {},
   "outputs": [],
   "source": [
    "df_ppd['house2'] = df_ppd['house2'].fillna(\"empty\")"
   ]
  },
  {
   "cell_type": "code",
   "execution_count": 37,
   "id": "646aa4ad",
   "metadata": {},
   "outputs": [
    {
     "data": {
      "text/plain": [
       "house1    0\n",
       "house2    0\n",
       "dtype: int64"
      ]
     },
     "execution_count": 37,
     "metadata": {},
     "output_type": "execute_result"
    }
   ],
   "source": [
    "df_ppd[['house1','house2']].isnull().sum()"
   ]
  },
  {
   "cell_type": "markdown",
   "id": "6309ba13",
   "metadata": {},
   "source": [
    "## Combine dataframes into seperate dataframe subsets as follows:\n",
    "\n",
    "    df_add1 = df_sales['postcode','address_1'] & df_ppd['postcode','address_1']\n",
    "    \n",
    "    df_11 = df_sales['postcode','addr_split1'] & df_ppd['postcode','house1']\n",
    "    df_21 = df_sales['postcode','addr_split2'] & df_ppd['postcode','house1']\n",
    "    df_31 = df_sales['postcode','addr_split3'] & df_ppd['postcode','house1']\n",
    "    df_41 = df_sales['postcode','addr_split4'] & df_ppd['postcode','house1']\n",
    "    df_51 = df_sales['postcode','addr_split5'] & df_ppd['postcode','house1']\n",
    "    df_61 = df_sales['postcode','addr_split6'] & df_ppd['postcode','house1']\n",
    "    \n",
    "    df_12 = df_sales['postcode','addr_split1'] & df_ppd['postcode','house2']\n",
    "    df_22 = df_sales['postcode','addr_split2'] & df_ppd['postcode','house2']\n",
    "    df_32 = df_sales['postcode','addr_split3'] & df_ppd['postcode','house2']\n",
    "    df_42 = df_sales['postcode','addr_split4'] & df_ppd['postcode','house2']\n",
    "    df_52 = df_sales['postcode','addr_split5'] & df_ppd['postcode','house2']\n",
    "    df_62 = df_sales['postcode','addr_split6'] & df_ppd['postcode','house2']"
   ]
  },
  {
   "cell_type": "markdown",
   "id": "571a7010",
   "metadata": {},
   "source": [
    "### rename columns to unique name across both dataframes, except for postcode"
   ]
  },
  {
   "cell_type": "code",
   "execution_count": 38,
   "id": "8f30c924",
   "metadata": {},
   "outputs": [
    {
     "data": {
      "text/plain": [
       "request_id                    int64\n",
       "request_datetime             object\n",
       "completed_datetime           object\n",
       "completed_duration_days     float64\n",
       "completed_duration_hours    float64\n",
       "agent_name                   object\n",
       "agent_code                   object\n",
       "branch_name                  object\n",
       "branch_code                   int64\n",
       "sign_category                object\n",
       "sign_action                  object\n",
       "board_type                  float64\n",
       "sign_type                    object\n",
       "address_1                    object\n",
       "address_2                    object\n",
       "address_3                    object\n",
       "town                         object\n",
       "postcode                     object\n",
       "latitude                    float64\n",
       "longitude                   float64\n",
       "quantity                      int64\n",
       "additional_info              object\n",
       "request_status               object\n",
       "payment_status               object\n",
       "net_charge                  float64\n",
       "vat                         float64\n",
       "gross_charge                float64\n",
       "invoice_datetime             object\n",
       "paid_datetime                object\n",
       "payment_duration_days       float64\n",
       "harvesine_distance_miles    float64\n",
       "latitude_group              float64\n",
       "longitude_group             float64\n",
       "zone                          int64\n",
       "zone_area                    object\n",
       "is_up                         int64\n",
       "month_no                      int64\n",
       "month                        object\n",
       "year                          int64\n",
       "work_category                object\n",
       "lead_time                    object\n",
       "request_date                 object\n",
       "completed_date               object\n",
       "invoice_date                 object\n",
       "paid_date                    object\n",
       "requests_per_day              int64\n",
       "completed_per_day             int64\n",
       "cycle_count                   int64\n",
       "cycle_category               object\n",
       "addr_split1                  object\n",
       "addr_split2                  object\n",
       "addr_split3                  object\n",
       "addr_split4                  object\n",
       "addr_split5                  object\n",
       "addr_split6                  object\n",
       "dtype: object"
      ]
     },
     "execution_count": 38,
     "metadata": {},
     "output_type": "execute_result"
    }
   ],
   "source": [
    "df_sales.dtypes"
   ]
  },
  {
   "cell_type": "code",
   "execution_count": 39,
   "id": "cb4cf955",
   "metadata": {},
   "outputs": [],
   "source": [
    "df_sales = df_sales.rename(columns = {'address_1':'portal_addr1'})\n",
    "df_sales = df_sales.rename(columns = {'address_2':'portal_addr2'})\n",
    "df_sales = df_sales.rename(columns = {'address_3':'portal_addr3'})"
   ]
  },
  {
   "cell_type": "code",
   "execution_count": 40,
   "id": "bb3ec516",
   "metadata": {},
   "outputs": [
    {
     "data": {
      "text/plain": [
       "request_id                    int64\n",
       "request_datetime             object\n",
       "completed_datetime           object\n",
       "completed_duration_days     float64\n",
       "completed_duration_hours    float64\n",
       "agent_name                   object\n",
       "agent_code                   object\n",
       "branch_name                  object\n",
       "branch_code                   int64\n",
       "sign_category                object\n",
       "sign_action                  object\n",
       "board_type                  float64\n",
       "sign_type                    object\n",
       "portal_addr1                 object\n",
       "portal_addr2                 object\n",
       "portal_addr3                 object\n",
       "town                         object\n",
       "postcode                     object\n",
       "latitude                    float64\n",
       "longitude                   float64\n",
       "quantity                      int64\n",
       "additional_info              object\n",
       "request_status               object\n",
       "payment_status               object\n",
       "net_charge                  float64\n",
       "vat                         float64\n",
       "gross_charge                float64\n",
       "invoice_datetime             object\n",
       "paid_datetime                object\n",
       "payment_duration_days       float64\n",
       "harvesine_distance_miles    float64\n",
       "latitude_group              float64\n",
       "longitude_group             float64\n",
       "zone                          int64\n",
       "zone_area                    object\n",
       "is_up                         int64\n",
       "month_no                      int64\n",
       "month                        object\n",
       "year                          int64\n",
       "work_category                object\n",
       "lead_time                    object\n",
       "request_date                 object\n",
       "completed_date               object\n",
       "invoice_date                 object\n",
       "paid_date                    object\n",
       "requests_per_day              int64\n",
       "completed_per_day             int64\n",
       "cycle_count                   int64\n",
       "cycle_category               object\n",
       "addr_split1                  object\n",
       "addr_split2                  object\n",
       "addr_split3                  object\n",
       "addr_split4                  object\n",
       "addr_split5                  object\n",
       "addr_split6                  object\n",
       "dtype: object"
      ]
     },
     "execution_count": 40,
     "metadata": {},
     "output_type": "execute_result"
    }
   ],
   "source": [
    "df_sales.dtypes"
   ]
  },
  {
   "cell_type": "code",
   "execution_count": 41,
   "id": "43562b04",
   "metadata": {},
   "outputs": [
    {
     "data": {
      "text/plain": [
       "sale_price        int64\n",
       "transfer_date    object\n",
       "postcode         object\n",
       "property_type    object\n",
       "new_property     object\n",
       "address_1        object\n",
       "address_2        object\n",
       "road_name        object\n",
       "locality         object\n",
       "town_city        object\n",
       "district         object\n",
       "county           object\n",
       "house1           object\n",
       "house2           object\n",
       "dtype: object"
      ]
     },
     "execution_count": 41,
     "metadata": {},
     "output_type": "execute_result"
    }
   ],
   "source": [
    "df_ppd.dtypes"
   ]
  },
  {
   "cell_type": "code",
   "execution_count": 42,
   "id": "0890d924",
   "metadata": {},
   "outputs": [],
   "source": [
    "df_ppd = df_ppd.rename(columns = {'address_1':'ppd_addr1'})\n",
    "df_ppd = df_ppd.rename(columns = {'address_2':'ppd_addr2'})"
   ]
  },
  {
   "cell_type": "code",
   "execution_count": 43,
   "id": "c98f093d",
   "metadata": {},
   "outputs": [
    {
     "data": {
      "text/plain": [
       "sale_price        int64\n",
       "transfer_date    object\n",
       "postcode         object\n",
       "property_type    object\n",
       "new_property     object\n",
       "ppd_addr1        object\n",
       "ppd_addr2        object\n",
       "road_name        object\n",
       "locality         object\n",
       "town_city        object\n",
       "district         object\n",
       "county           object\n",
       "house1           object\n",
       "house2           object\n",
       "dtype: object"
      ]
     },
     "execution_count": 43,
     "metadata": {},
     "output_type": "execute_result"
    }
   ],
   "source": [
    "df_ppd.dtypes"
   ]
  },
  {
   "cell_type": "markdown",
   "id": "55e16684",
   "metadata": {},
   "source": [
    "### export PPD to CSV"
   ]
  },
  {
   "cell_type": "code",
   "execution_count": 44,
   "id": "68716b97",
   "metadata": {},
   "outputs": [],
   "source": [
    "df_ppd.to_csv(os.path.join(dataset,'ppd_2020-21_v2.0_addr_split.csv'), index=False)"
   ]
  },
  {
   "cell_type": "code",
   "execution_count": 45,
   "id": "92b361cc",
   "metadata": {},
   "outputs": [
    {
     "data": {
      "text/plain": [
       "(45317, 14)"
      ]
     },
     "execution_count": 45,
     "metadata": {},
     "output_type": "execute_result"
    }
   ],
   "source": [
    "df_ppd.shape"
   ]
  },
  {
   "cell_type": "markdown",
   "id": "16d3f896",
   "metadata": {},
   "source": [
    "### copy column ppd_addr1 to preserve the column structure for each type of combine\n",
    "    1) copy ppd_addr1 column to a series\n",
    "    2) add series as new column in df_ppd\n",
    "        column name to match df_sales['portal_addr1'] ready for combining"
   ]
  },
  {
   "cell_type": "code",
   "execution_count": 46,
   "id": "e6984791",
   "metadata": {},
   "outputs": [
    {
     "data": {
      "text/plain": [
       "0                      51\n",
       "1        LABURNUM COTTAGE\n",
       "2                       6\n",
       "3                       8\n",
       "4                      19\n",
       "               ...       \n",
       "45312                  67\n",
       "45313                  64\n",
       "45314                  11\n",
       "45315                  71\n",
       "45316                  82\n",
       "Name: ppd_addr1, Length: 45317, dtype: object"
      ]
     },
     "execution_count": 46,
     "metadata": {},
     "output_type": "execute_result"
    }
   ],
   "source": [
    "ppd_addr1 = df_ppd['ppd_addr1']\n",
    "ppd_addr1"
   ]
  },
  {
   "cell_type": "code",
   "execution_count": 47,
   "id": "85ce9dc8",
   "metadata": {},
   "outputs": [
    {
     "data": {
      "text/html": [
       "<div>\n",
       "<style scoped>\n",
       "    .dataframe tbody tr th:only-of-type {\n",
       "        vertical-align: middle;\n",
       "    }\n",
       "\n",
       "    .dataframe tbody tr th {\n",
       "        vertical-align: top;\n",
       "    }\n",
       "\n",
       "    .dataframe thead th {\n",
       "        text-align: right;\n",
       "    }\n",
       "</style>\n",
       "<table border=\"1\" class=\"dataframe\">\n",
       "  <thead>\n",
       "    <tr style=\"text-align: right;\">\n",
       "      <th></th>\n",
       "      <th>sale_price</th>\n",
       "      <th>transfer_date</th>\n",
       "      <th>postcode</th>\n",
       "      <th>property_type</th>\n",
       "      <th>new_property</th>\n",
       "      <th>ppd_addr1</th>\n",
       "      <th>ppd_addr2</th>\n",
       "      <th>road_name</th>\n",
       "      <th>locality</th>\n",
       "      <th>town_city</th>\n",
       "      <th>district</th>\n",
       "      <th>county</th>\n",
       "      <th>house1</th>\n",
       "      <th>house2</th>\n",
       "      <th>portal_addr1</th>\n",
       "    </tr>\n",
       "  </thead>\n",
       "  <tbody>\n",
       "    <tr>\n",
       "      <th>0</th>\n",
       "      <td>312500</td>\n",
       "      <td>2020-10-07 00:00</td>\n",
       "      <td>BN7 1HD</td>\n",
       "      <td>T</td>\n",
       "      <td>N</td>\n",
       "      <td>51</td>\n",
       "      <td>NaN</td>\n",
       "      <td>WARREN DRIVE</td>\n",
       "      <td>NaN</td>\n",
       "      <td>LEWES</td>\n",
       "      <td>LEWES</td>\n",
       "      <td>EAST SUSSEX</td>\n",
       "      <td>51</td>\n",
       "      <td>empty</td>\n",
       "      <td>51</td>\n",
       "    </tr>\n",
       "    <tr>\n",
       "      <th>1</th>\n",
       "      <td>420000</td>\n",
       "      <td>2020-08-25 00:00</td>\n",
       "      <td>BN26 5UP</td>\n",
       "      <td>S</td>\n",
       "      <td>N</td>\n",
       "      <td>LABURNUM COTTAGE</td>\n",
       "      <td>NaN</td>\n",
       "      <td>SLOE LANE</td>\n",
       "      <td>ALFRISTON</td>\n",
       "      <td>POLEGATE</td>\n",
       "      <td>WEALDEN</td>\n",
       "      <td>EAST SUSSEX</td>\n",
       "      <td>LABURNUM COTTAGE</td>\n",
       "      <td>empty</td>\n",
       "      <td>LABURNUM COTTAGE</td>\n",
       "    </tr>\n",
       "    <tr>\n",
       "      <th>2</th>\n",
       "      <td>710000</td>\n",
       "      <td>2020-10-02 00:00</td>\n",
       "      <td>BN3 4PB</td>\n",
       "      <td>S</td>\n",
       "      <td>N</td>\n",
       "      <td>6</td>\n",
       "      <td>NaN</td>\n",
       "      <td>BRITTANY ROAD</td>\n",
       "      <td>NaN</td>\n",
       "      <td>HOVE</td>\n",
       "      <td>BRIGHTON AND HOVE</td>\n",
       "      <td>BRIGHTON AND HOVE</td>\n",
       "      <td>6</td>\n",
       "      <td>empty</td>\n",
       "      <td>6</td>\n",
       "    </tr>\n",
       "    <tr>\n",
       "      <th>3</th>\n",
       "      <td>485000</td>\n",
       "      <td>2020-09-29 00:00</td>\n",
       "      <td>BN2 9UW</td>\n",
       "      <td>T</td>\n",
       "      <td>N</td>\n",
       "      <td>8</td>\n",
       "      <td>NaN</td>\n",
       "      <td>TORONTO TERRACE</td>\n",
       "      <td>NaN</td>\n",
       "      <td>BRIGHTON</td>\n",
       "      <td>BRIGHTON AND HOVE</td>\n",
       "      <td>BRIGHTON AND HOVE</td>\n",
       "      <td>8</td>\n",
       "      <td>empty</td>\n",
       "      <td>8</td>\n",
       "    </tr>\n",
       "    <tr>\n",
       "      <th>4</th>\n",
       "      <td>320000</td>\n",
       "      <td>2020-09-25 00:00</td>\n",
       "      <td>BN10 7AY</td>\n",
       "      <td>S</td>\n",
       "      <td>N</td>\n",
       "      <td>19</td>\n",
       "      <td>NaN</td>\n",
       "      <td>HIGHVIEW ROAD</td>\n",
       "      <td>TELSCOMBE CLIFFS</td>\n",
       "      <td>PEACEHAVEN</td>\n",
       "      <td>LEWES</td>\n",
       "      <td>EAST SUSSEX</td>\n",
       "      <td>19</td>\n",
       "      <td>empty</td>\n",
       "      <td>19</td>\n",
       "    </tr>\n",
       "  </tbody>\n",
       "</table>\n",
       "</div>"
      ],
      "text/plain": [
       "   sale_price     transfer_date  postcode property_type new_property  \\\n",
       "0      312500  2020-10-07 00:00   BN7 1HD             T            N   \n",
       "1      420000  2020-08-25 00:00  BN26 5UP             S            N   \n",
       "2      710000  2020-10-02 00:00   BN3 4PB             S            N   \n",
       "3      485000  2020-09-29 00:00   BN2 9UW             T            N   \n",
       "4      320000  2020-09-25 00:00  BN10 7AY             S            N   \n",
       "\n",
       "          ppd_addr1 ppd_addr2        road_name          locality   town_city  \\\n",
       "0                51       NaN     WARREN DRIVE               NaN       LEWES   \n",
       "1  LABURNUM COTTAGE       NaN        SLOE LANE         ALFRISTON    POLEGATE   \n",
       "2                 6       NaN    BRITTANY ROAD               NaN        HOVE   \n",
       "3                 8       NaN  TORONTO TERRACE               NaN    BRIGHTON   \n",
       "4                19       NaN    HIGHVIEW ROAD  TELSCOMBE CLIFFS  PEACEHAVEN   \n",
       "\n",
       "            district             county            house1 house2  \\\n",
       "0              LEWES        EAST SUSSEX                51  empty   \n",
       "1            WEALDEN        EAST SUSSEX  LABURNUM COTTAGE  empty   \n",
       "2  BRIGHTON AND HOVE  BRIGHTON AND HOVE                 6  empty   \n",
       "3  BRIGHTON AND HOVE  BRIGHTON AND HOVE                 8  empty   \n",
       "4              LEWES        EAST SUSSEX                19  empty   \n",
       "\n",
       "       portal_addr1  \n",
       "0                51  \n",
       "1  LABURNUM COTTAGE  \n",
       "2                 6  \n",
       "3                 8  \n",
       "4                19  "
      ]
     },
     "execution_count": 47,
     "metadata": {},
     "output_type": "execute_result"
    }
   ],
   "source": [
    "df_ppd['portal_addr1'] = ppd_addr1\n",
    "df_ppd.head()"
   ]
  },
  {
   "cell_type": "markdown",
   "id": "e7c505b9",
   "metadata": {},
   "source": [
    "## Combine Dataframes"
   ]
  },
  {
   "cell_type": "markdown",
   "id": "09b07916",
   "metadata": {},
   "source": [
    "### check for null values in df_sales[addr_split] columns 1 to 6 replace with \"none\""
   ]
  },
  {
   "cell_type": "code",
   "execution_count": 48,
   "id": "a60dd2a0",
   "metadata": {},
   "outputs": [
    {
     "data": {
      "text/plain": [
       "addr_split1        0\n",
       "addr_split2      875\n",
       "addr_split3     2094\n",
       "addr_split4    14868\n",
       "addr_split5        0\n",
       "addr_split6    13862\n",
       "dtype: int64"
      ]
     },
     "execution_count": 48,
     "metadata": {},
     "output_type": "execute_result"
    }
   ],
   "source": [
    "df_sales[['addr_split1','addr_split2','addr_split3','addr_split4','addr_split5','addr_split6']].isnull().sum()"
   ]
  },
  {
   "cell_type": "code",
   "execution_count": 49,
   "id": "d96f7498",
   "metadata": {},
   "outputs": [],
   "source": [
    "df_sales['addr_split2'] = df_sales['addr_split2'].fillna(\"none\")\n",
    "df_sales['addr_split3'] = df_sales['addr_split3'].fillna(\"none\")\n",
    "df_sales['addr_split4'] = df_sales['addr_split4'].fillna(\"none\")\n",
    "df_sales['addr_split6'] = df_sales['addr_split6'].fillna(\"none\")                                 "
   ]
  },
  {
   "cell_type": "code",
   "execution_count": 50,
   "id": "d2959c9e",
   "metadata": {},
   "outputs": [
    {
     "data": {
      "text/plain": [
       "addr_split1    0\n",
       "addr_split2    0\n",
       "addr_split3    0\n",
       "addr_split4    0\n",
       "addr_split5    0\n",
       "addr_split6    0\n",
       "dtype: int64"
      ]
     },
     "execution_count": 50,
     "metadata": {},
     "output_type": "execute_result"
    }
   ],
   "source": [
    "df_sales[['addr_split1','addr_split2','addr_split3','addr_split4','addr_split5','addr_split6']].isnull().sum()"
   ]
  },
  {
   "cell_type": "markdown",
   "id": "0da6207d",
   "metadata": {},
   "source": [
    "### check for any values in df_ppd[house] columns 1&2"
   ]
  },
  {
   "cell_type": "code",
   "execution_count": 51,
   "id": "c59b7b07",
   "metadata": {},
   "outputs": [
    {
     "data": {
      "text/plain": [
       "house1    0\n",
       "house2    0\n",
       "dtype: int64"
      ]
     },
     "execution_count": 51,
     "metadata": {},
     "output_type": "execute_result"
    }
   ],
   "source": [
    "df_ppd[['house1','house2']].isnull().sum()"
   ]
  },
  {
   "cell_type": "markdown",
   "id": "0d5a0cd8",
   "metadata": {},
   "source": [
    "### df_add1 = df_sales['postcode','address_1'] & df_ppd['postcode','address_1']\n",
    "    key columns already set: postcode & portal_addr1"
   ]
  },
  {
   "cell_type": "code",
   "execution_count": 52,
   "id": "efeccb86",
   "metadata": {},
   "outputs": [
    {
     "data": {
      "text/plain": [
       "sale_price        int64\n",
       "transfer_date    object\n",
       "postcode         object\n",
       "property_type    object\n",
       "new_property     object\n",
       "ppd_addr1        object\n",
       "ppd_addr2        object\n",
       "road_name        object\n",
       "locality         object\n",
       "town_city        object\n",
       "district         object\n",
       "county           object\n",
       "house1           object\n",
       "house2           object\n",
       "portal_addr1     object\n",
       "dtype: object"
      ]
     },
     "execution_count": 52,
     "metadata": {},
     "output_type": "execute_result"
    }
   ],
   "source": [
    "df_ppd.dtypes"
   ]
  },
  {
   "cell_type": "code",
   "execution_count": 53,
   "id": "1b09c0d4",
   "metadata": {},
   "outputs": [
    {
     "data": {
      "text/plain": [
       "request_id                    int64\n",
       "request_datetime             object\n",
       "completed_datetime           object\n",
       "completed_duration_days     float64\n",
       "completed_duration_hours    float64\n",
       "agent_name                   object\n",
       "agent_code                   object\n",
       "branch_name                  object\n",
       "branch_code                   int64\n",
       "sign_category                object\n",
       "sign_action                  object\n",
       "board_type                  float64\n",
       "sign_type                    object\n",
       "portal_addr1                 object\n",
       "portal_addr2                 object\n",
       "portal_addr3                 object\n",
       "town                         object\n",
       "postcode                     object\n",
       "latitude                    float64\n",
       "longitude                   float64\n",
       "quantity                      int64\n",
       "additional_info              object\n",
       "request_status               object\n",
       "payment_status               object\n",
       "net_charge                  float64\n",
       "vat                         float64\n",
       "gross_charge                float64\n",
       "invoice_datetime             object\n",
       "paid_datetime                object\n",
       "payment_duration_days       float64\n",
       "harvesine_distance_miles    float64\n",
       "latitude_group              float64\n",
       "longitude_group             float64\n",
       "zone                          int64\n",
       "zone_area                    object\n",
       "is_up                         int64\n",
       "month_no                      int64\n",
       "month                        object\n",
       "year                          int64\n",
       "work_category                object\n",
       "lead_time                    object\n",
       "request_date                 object\n",
       "completed_date               object\n",
       "invoice_date                 object\n",
       "paid_date                    object\n",
       "requests_per_day              int64\n",
       "completed_per_day             int64\n",
       "cycle_count                   int64\n",
       "cycle_category               object\n",
       "addr_split1                  object\n",
       "addr_split2                  object\n",
       "addr_split3                  object\n",
       "addr_split4                  object\n",
       "addr_split5                  object\n",
       "addr_split6                  object\n",
       "dtype: object"
      ]
     },
     "execution_count": 53,
     "metadata": {},
     "output_type": "execute_result"
    }
   ],
   "source": [
    "df_sales.dtypes"
   ]
  },
  {
   "cell_type": "code",
   "execution_count": 54,
   "id": "166e0b2d",
   "metadata": {},
   "outputs": [
    {
     "data": {
      "text/plain": [
       "(713, 68)"
      ]
     },
     "execution_count": 54,
     "metadata": {},
     "output_type": "execute_result"
    }
   ],
   "source": [
    "df_add1 = df_sales.merge(df_ppd, on=['postcode','portal_addr1'])\n",
    "df_add1.shape"
   ]
  },
  {
   "cell_type": "markdown",
   "id": "71e22e6f",
   "metadata": {},
   "source": [
    "### export for review"
   ]
  },
  {
   "cell_type": "code",
   "execution_count": 55,
   "id": "7f74e1c9",
   "metadata": {},
   "outputs": [],
   "source": [
    "df_add1.to_csv(os.path.join(dataset,'x_combine_add1.csv'), index=False)"
   ]
  },
  {
   "cell_type": "markdown",
   "id": "362699ed",
   "metadata": {},
   "source": [
    "### df_11 = df_sales['postcode','addr_split1'] & df_ppd['postcode','house1']\n",
    "    set key column names"
   ]
  },
  {
   "cell_type": "code",
   "execution_count": 56,
   "id": "e8e0d0a8",
   "metadata": {},
   "outputs": [],
   "source": [
    "df_ppd = df_ppd.rename(columns = {'house1':'addr_split1'})"
   ]
  },
  {
   "cell_type": "code",
   "execution_count": 57,
   "id": "02d7c347",
   "metadata": {},
   "outputs": [
    {
     "data": {
      "text/plain": [
       "(7933, 68)"
      ]
     },
     "execution_count": 57,
     "metadata": {},
     "output_type": "execute_result"
    }
   ],
   "source": [
    "df_11 = df_sales.merge(df_ppd, on=['postcode','addr_split1'])\n",
    "df_11.shape"
   ]
  },
  {
   "cell_type": "markdown",
   "id": "41528373",
   "metadata": {},
   "source": [
    "### df_21 = df_sales['postcode','addr_split2'] & df_ppd['postcode','house1']\n",
    "    rename key column"
   ]
  },
  {
   "cell_type": "code",
   "execution_count": 58,
   "id": "508ea62d",
   "metadata": {},
   "outputs": [
    {
     "data": {
      "text/plain": [
       "sale_price        int64\n",
       "transfer_date    object\n",
       "postcode         object\n",
       "property_type    object\n",
       "new_property     object\n",
       "ppd_addr1        object\n",
       "ppd_addr2        object\n",
       "road_name        object\n",
       "locality         object\n",
       "town_city        object\n",
       "district         object\n",
       "county           object\n",
       "addr_split2      object\n",
       "house2           object\n",
       "portal_addr1     object\n",
       "dtype: object"
      ]
     },
     "execution_count": 58,
     "metadata": {},
     "output_type": "execute_result"
    }
   ],
   "source": [
    "df_ppd = df_ppd.rename(columns = {'addr_split1':'addr_split2'})\n",
    "df_ppd.dtypes"
   ]
  },
  {
   "cell_type": "code",
   "execution_count": 59,
   "id": "aae79621",
   "metadata": {},
   "outputs": [
    {
     "data": {
      "text/plain": [
       "(169, 68)"
      ]
     },
     "execution_count": 59,
     "metadata": {},
     "output_type": "execute_result"
    }
   ],
   "source": [
    "df_21 = df_sales.merge(df_ppd, on=['postcode','addr_split2'])\n",
    "df_21.shape"
   ]
  },
  {
   "cell_type": "markdown",
   "id": "f3d2c3e6",
   "metadata": {},
   "source": [
    "### df_31 = df_sales['postcode','addr_split3'] & df_ppd['postcode','house1']\n",
    "    rename key column"
   ]
  },
  {
   "cell_type": "code",
   "execution_count": 60,
   "id": "049d2427",
   "metadata": {},
   "outputs": [
    {
     "data": {
      "text/plain": [
       "sale_price        int64\n",
       "transfer_date    object\n",
       "postcode         object\n",
       "property_type    object\n",
       "new_property     object\n",
       "ppd_addr1        object\n",
       "ppd_addr2        object\n",
       "road_name        object\n",
       "locality         object\n",
       "town_city        object\n",
       "district         object\n",
       "county           object\n",
       "addr_split3      object\n",
       "house2           object\n",
       "portal_addr1     object\n",
       "dtype: object"
      ]
     },
     "execution_count": 60,
     "metadata": {},
     "output_type": "execute_result"
    }
   ],
   "source": [
    "df_ppd = df_ppd.rename(columns = {'addr_split2':'addr_split3'})\n",
    "df_ppd.dtypes"
   ]
  },
  {
   "cell_type": "code",
   "execution_count": 61,
   "id": "b3908ab3",
   "metadata": {},
   "outputs": [
    {
     "data": {
      "text/plain": [
       "(173, 68)"
      ]
     },
     "execution_count": 61,
     "metadata": {},
     "output_type": "execute_result"
    }
   ],
   "source": [
    "df_31 = df_sales.merge(df_ppd, on=['postcode','addr_split3'])\n",
    "df_31.shape"
   ]
  },
  {
   "cell_type": "markdown",
   "id": "a6c8b9a9",
   "metadata": {},
   "source": [
    "### df_41 = df_sales['postcode','addr_split4'] & df_ppd['postcode','house1']"
   ]
  },
  {
   "cell_type": "code",
   "execution_count": 62,
   "id": "9b6e5208",
   "metadata": {},
   "outputs": [
    {
     "data": {
      "text/plain": [
       "sale_price        int64\n",
       "transfer_date    object\n",
       "postcode         object\n",
       "property_type    object\n",
       "new_property     object\n",
       "ppd_addr1        object\n",
       "ppd_addr2        object\n",
       "road_name        object\n",
       "locality         object\n",
       "town_city        object\n",
       "district         object\n",
       "county           object\n",
       "addr_split4      object\n",
       "house2           object\n",
       "portal_addr1     object\n",
       "dtype: object"
      ]
     },
     "execution_count": 62,
     "metadata": {},
     "output_type": "execute_result"
    }
   ],
   "source": [
    "df_ppd = df_ppd.rename(columns = {'addr_split3':'addr_split4'})\n",
    "df_ppd.dtypes"
   ]
  },
  {
   "cell_type": "code",
   "execution_count": 63,
   "id": "5c5a4cb3",
   "metadata": {},
   "outputs": [
    {
     "data": {
      "text/plain": [
       "(17, 68)"
      ]
     },
     "execution_count": 63,
     "metadata": {},
     "output_type": "execute_result"
    }
   ],
   "source": [
    "df_41 = df_sales.merge(df_ppd, on=['postcode','addr_split4'])\n",
    "df_41.shape"
   ]
  },
  {
   "cell_type": "markdown",
   "id": "ce494c6e",
   "metadata": {},
   "source": [
    "### df_51 = df_sales['postcode','addr_split5'] & df_ppd['postcode','house1']\n",
    "    set key columns"
   ]
  },
  {
   "cell_type": "code",
   "execution_count": 64,
   "id": "a407a5c5",
   "metadata": {},
   "outputs": [
    {
     "data": {
      "text/plain": [
       "sale_price        int64\n",
       "transfer_date    object\n",
       "postcode         object\n",
       "property_type    object\n",
       "new_property     object\n",
       "ppd_addr1        object\n",
       "ppd_addr2        object\n",
       "road_name        object\n",
       "locality         object\n",
       "town_city        object\n",
       "district         object\n",
       "county           object\n",
       "addr_split5      object\n",
       "house2           object\n",
       "portal_addr1     object\n",
       "dtype: object"
      ]
     },
     "execution_count": 64,
     "metadata": {},
     "output_type": "execute_result"
    }
   ],
   "source": [
    "df_ppd = df_ppd.rename(columns = {'addr_split4':'addr_split5'})\n",
    "df_ppd.dtypes"
   ]
  },
  {
   "cell_type": "code",
   "execution_count": 65,
   "id": "14f4a9dd",
   "metadata": {},
   "outputs": [
    {
     "data": {
      "text/plain": [
       "(148, 68)"
      ]
     },
     "execution_count": 65,
     "metadata": {},
     "output_type": "execute_result"
    }
   ],
   "source": [
    "df_51 = df_sales.merge(df_ppd, on=['postcode','addr_split5'])\n",
    "df_51.shape"
   ]
  },
  {
   "cell_type": "markdown",
   "id": "96146298",
   "metadata": {},
   "source": [
    "### df_61 = df_sales['postcode','addr_split6'] & df_ppd['postcode','house1']\n",
    "    set key columns"
   ]
  },
  {
   "cell_type": "code",
   "execution_count": 66,
   "id": "9284df82",
   "metadata": {},
   "outputs": [
    {
     "data": {
      "text/plain": [
       "sale_price        int64\n",
       "transfer_date    object\n",
       "postcode         object\n",
       "property_type    object\n",
       "new_property     object\n",
       "ppd_addr1        object\n",
       "ppd_addr2        object\n",
       "road_name        object\n",
       "locality         object\n",
       "town_city        object\n",
       "district         object\n",
       "county           object\n",
       "addr_split6      object\n",
       "house2           object\n",
       "portal_addr1     object\n",
       "dtype: object"
      ]
     },
     "execution_count": 66,
     "metadata": {},
     "output_type": "execute_result"
    }
   ],
   "source": [
    "df_ppd = df_ppd.rename(columns = {'addr_split5':'addr_split6'})\n",
    "df_ppd.dtypes"
   ]
  },
  {
   "cell_type": "code",
   "execution_count": 67,
   "id": "ee4c0709",
   "metadata": {},
   "outputs": [
    {
     "data": {
      "text/plain": [
       "(0, 68)"
      ]
     },
     "execution_count": 67,
     "metadata": {},
     "output_type": "execute_result"
    }
   ],
   "source": [
    "df_61 = df_sales.merge(df_ppd, on=['postcode','addr_split6'])\n",
    "df_61.shape"
   ]
  },
  {
   "cell_type": "markdown",
   "id": "ddef644c",
   "metadata": {},
   "source": [
    "## combine merged subsets (so far) as they all have the same columns.\n",
    "    and export for review"
   ]
  },
  {
   "cell_type": "code",
   "execution_count": 68,
   "id": "b6cc2018",
   "metadata": {},
   "outputs": [
    {
     "data": {
      "text/plain": [
       "(8440, 68)"
      ]
     },
     "execution_count": 68,
     "metadata": {},
     "output_type": "execute_result"
    }
   ],
   "source": [
    "df_part1 = df_11.append([df_21, df_31, df_41, df_51, df_61])\n",
    "df_part1.shape"
   ]
  },
  {
   "cell_type": "code",
   "execution_count": 69,
   "id": "c74584f7",
   "metadata": {},
   "outputs": [],
   "source": [
    "df_part1.to_csv(os.path.join(dataset,'x_combining_part1.csv'), index=False)"
   ]
  },
  {
   "cell_type": "markdown",
   "id": "5191e4b6",
   "metadata": {},
   "source": [
    "### return column names to original"
   ]
  },
  {
   "cell_type": "code",
   "execution_count": 70,
   "id": "4dd344ef",
   "metadata": {},
   "outputs": [
    {
     "data": {
      "text/plain": [
       "sale_price        int64\n",
       "transfer_date    object\n",
       "postcode         object\n",
       "property_type    object\n",
       "new_property     object\n",
       "ppd_addr1        object\n",
       "ppd_addr2        object\n",
       "road_name        object\n",
       "locality         object\n",
       "town_city        object\n",
       "district         object\n",
       "county           object\n",
       "house1           object\n",
       "house2           object\n",
       "portal_addr1     object\n",
       "dtype: object"
      ]
     },
     "execution_count": 70,
     "metadata": {},
     "output_type": "execute_result"
    }
   ],
   "source": [
    "df_ppd = df_ppd.rename(columns = {'addr_split6':'house1'})\n",
    "df_ppd.dtypes"
   ]
  },
  {
   "cell_type": "markdown",
   "id": "331fe6ba",
   "metadata": {},
   "source": [
    "## Continue with second part of house split."
   ]
  },
  {
   "cell_type": "markdown",
   "id": "e368db77",
   "metadata": {},
   "source": [
    "### df_12 = df_sales['postcode','addr_split1'] & df_ppd['postcode','house2']\n",
    "    set key columns"
   ]
  },
  {
   "cell_type": "code",
   "execution_count": 71,
   "id": "60c8c312",
   "metadata": {},
   "outputs": [
    {
     "data": {
      "text/plain": [
       "sale_price        int64\n",
       "transfer_date    object\n",
       "postcode         object\n",
       "property_type    object\n",
       "new_property     object\n",
       "ppd_addr1        object\n",
       "ppd_addr2        object\n",
       "road_name        object\n",
       "locality         object\n",
       "town_city        object\n",
       "district         object\n",
       "county           object\n",
       "house1           object\n",
       "addr_split1      object\n",
       "portal_addr1     object\n",
       "dtype: object"
      ]
     },
     "execution_count": 71,
     "metadata": {},
     "output_type": "execute_result"
    }
   ],
   "source": [
    "df_ppd = df_ppd.rename(columns = {'house2':'addr_split1'})\n",
    "df_ppd.dtypes"
   ]
  },
  {
   "cell_type": "code",
   "execution_count": 72,
   "id": "8ebabf82",
   "metadata": {},
   "outputs": [
    {
     "data": {
      "text/plain": [
       "(45, 68)"
      ]
     },
     "execution_count": 72,
     "metadata": {},
     "output_type": "execute_result"
    }
   ],
   "source": [
    "df_12 = df_sales.merge(df_ppd, on=['postcode','addr_split1'])\n",
    "df_12.shape"
   ]
  },
  {
   "cell_type": "markdown",
   "id": "9b28353c",
   "metadata": {},
   "source": [
    "### df_22 = df_sales['postcode','addr_split2'] & df_ppd['postcode','house2']\n",
    "    set key columns"
   ]
  },
  {
   "cell_type": "code",
   "execution_count": 73,
   "id": "60b6d1e2",
   "metadata": {},
   "outputs": [
    {
     "data": {
      "text/plain": [
       "sale_price        int64\n",
       "transfer_date    object\n",
       "postcode         object\n",
       "property_type    object\n",
       "new_property     object\n",
       "ppd_addr1        object\n",
       "ppd_addr2        object\n",
       "road_name        object\n",
       "locality         object\n",
       "town_city        object\n",
       "district         object\n",
       "county           object\n",
       "house1           object\n",
       "addr_split2      object\n",
       "portal_addr1     object\n",
       "dtype: object"
      ]
     },
     "execution_count": 73,
     "metadata": {},
     "output_type": "execute_result"
    }
   ],
   "source": [
    "df_ppd = df_ppd.rename(columns = {'addr_split1':'addr_split2'})\n",
    "df_ppd.dtypes"
   ]
  },
  {
   "cell_type": "code",
   "execution_count": 74,
   "id": "7f25980f",
   "metadata": {},
   "outputs": [
    {
     "data": {
      "text/plain": [
       "(3, 68)"
      ]
     },
     "execution_count": 74,
     "metadata": {},
     "output_type": "execute_result"
    }
   ],
   "source": [
    "df_22 = df_sales.merge(df_ppd, on=['postcode','addr_split2'])\n",
    "df_22.shape"
   ]
  },
  {
   "cell_type": "markdown",
   "id": "3deefba9",
   "metadata": {},
   "source": [
    "### df_32 = df_sales['postcode','addr_split3'] & df_ppd['postcode','house2']\n",
    "    set key columns"
   ]
  },
  {
   "cell_type": "code",
   "execution_count": 75,
   "id": "e4a32371",
   "metadata": {},
   "outputs": [
    {
     "data": {
      "text/plain": [
       "sale_price        int64\n",
       "transfer_date    object\n",
       "postcode         object\n",
       "property_type    object\n",
       "new_property     object\n",
       "ppd_addr1        object\n",
       "ppd_addr2        object\n",
       "road_name        object\n",
       "locality         object\n",
       "town_city        object\n",
       "district         object\n",
       "county           object\n",
       "house1           object\n",
       "addr_split3      object\n",
       "portal_addr1     object\n",
       "dtype: object"
      ]
     },
     "execution_count": 75,
     "metadata": {},
     "output_type": "execute_result"
    }
   ],
   "source": [
    "df_ppd = df_ppd.rename(columns = {'addr_split2':'addr_split3'})\n",
    "df_ppd.dtypes"
   ]
  },
  {
   "cell_type": "code",
   "execution_count": 76,
   "id": "6ab0e4a2",
   "metadata": {},
   "outputs": [
    {
     "data": {
      "text/plain": [
       "(7, 68)"
      ]
     },
     "execution_count": 76,
     "metadata": {},
     "output_type": "execute_result"
    }
   ],
   "source": [
    "df_32 = df_sales.merge(df_ppd, on=['postcode','addr_split3'])\n",
    "df_32.shape"
   ]
  },
  {
   "cell_type": "markdown",
   "id": "29cc2d8b",
   "metadata": {},
   "source": [
    "### df_42 = df_sales['postcode','addr_split4'] & df_ppd['postcode','house2']\n",
    "    set key columns"
   ]
  },
  {
   "cell_type": "code",
   "execution_count": 77,
   "id": "073b6267",
   "metadata": {},
   "outputs": [
    {
     "data": {
      "text/plain": [
       "sale_price        int64\n",
       "transfer_date    object\n",
       "postcode         object\n",
       "property_type    object\n",
       "new_property     object\n",
       "ppd_addr1        object\n",
       "ppd_addr2        object\n",
       "road_name        object\n",
       "locality         object\n",
       "town_city        object\n",
       "district         object\n",
       "county           object\n",
       "house1           object\n",
       "addr_split4      object\n",
       "portal_addr1     object\n",
       "dtype: object"
      ]
     },
     "execution_count": 77,
     "metadata": {},
     "output_type": "execute_result"
    }
   ],
   "source": [
    "df_ppd = df_ppd.rename(columns = {'addr_split3':'addr_split4'})\n",
    "df_ppd.dtypes"
   ]
  },
  {
   "cell_type": "code",
   "execution_count": 78,
   "id": "d8aecc65",
   "metadata": {},
   "outputs": [
    {
     "data": {
      "text/plain": [
       "(0, 68)"
      ]
     },
     "execution_count": 78,
     "metadata": {},
     "output_type": "execute_result"
    }
   ],
   "source": [
    "df_42 = df_sales.merge(df_ppd, on=['postcode','addr_split4'])\n",
    "df_42.shape"
   ]
  },
  {
   "cell_type": "markdown",
   "id": "3c4aaae0",
   "metadata": {},
   "source": [
    "### df_52 = df_sales['postcode','addr_split5'] & df_ppd['postcode','house2']\n",
    "    set key columns"
   ]
  },
  {
   "cell_type": "code",
   "execution_count": 79,
   "id": "a18f690a",
   "metadata": {},
   "outputs": [
    {
     "data": {
      "text/plain": [
       "sale_price        int64\n",
       "transfer_date    object\n",
       "postcode         object\n",
       "property_type    object\n",
       "new_property     object\n",
       "ppd_addr1        object\n",
       "ppd_addr2        object\n",
       "road_name        object\n",
       "locality         object\n",
       "town_city        object\n",
       "district         object\n",
       "county           object\n",
       "house1           object\n",
       "addr_split5      object\n",
       "portal_addr1     object\n",
       "dtype: object"
      ]
     },
     "execution_count": 79,
     "metadata": {},
     "output_type": "execute_result"
    }
   ],
   "source": [
    "df_ppd = df_ppd.rename(columns = {'addr_split4':'addr_split5'})\n",
    "df_ppd.dtypes"
   ]
  },
  {
   "cell_type": "code",
   "execution_count": 80,
   "id": "d09d0d28",
   "metadata": {},
   "outputs": [
    {
     "data": {
      "text/plain": [
       "(104, 68)"
      ]
     },
     "execution_count": 80,
     "metadata": {},
     "output_type": "execute_result"
    }
   ],
   "source": [
    "df_52 = df_sales.merge(df_ppd, on=['postcode','addr_split5'])\n",
    "df_52.shape"
   ]
  },
  {
   "cell_type": "markdown",
   "id": "730f77dc",
   "metadata": {},
   "source": [
    "### df_62 = df_sales['postcode','addr_split6'] & df_ppd['postcode','house2']\n",
    "    set key columns"
   ]
  },
  {
   "cell_type": "code",
   "execution_count": 81,
   "id": "557e7230",
   "metadata": {},
   "outputs": [
    {
     "data": {
      "text/plain": [
       "sale_price        int64\n",
       "transfer_date    object\n",
       "postcode         object\n",
       "property_type    object\n",
       "new_property     object\n",
       "ppd_addr1        object\n",
       "ppd_addr2        object\n",
       "road_name        object\n",
       "locality         object\n",
       "town_city        object\n",
       "district         object\n",
       "county           object\n",
       "house1           object\n",
       "addr_split6      object\n",
       "portal_addr1     object\n",
       "dtype: object"
      ]
     },
     "execution_count": 81,
     "metadata": {},
     "output_type": "execute_result"
    }
   ],
   "source": [
    "df_ppd = df_ppd.rename(columns = {'addr_split5':'addr_split6'})\n",
    "df_ppd.dtypes"
   ]
  },
  {
   "cell_type": "code",
   "execution_count": 82,
   "id": "06a5f78e",
   "metadata": {},
   "outputs": [
    {
     "data": {
      "text/plain": [
       "(0, 68)"
      ]
     },
     "execution_count": 82,
     "metadata": {},
     "output_type": "execute_result"
    }
   ],
   "source": [
    "df_62 = df_sales.merge(df_ppd, on=['postcode','addr_split6'])\n",
    "df_62.shape"
   ]
  },
  {
   "cell_type": "markdown",
   "id": "1cad0aa5",
   "metadata": {},
   "source": [
    "### combine second set of subsets and export for review"
   ]
  },
  {
   "cell_type": "code",
   "execution_count": 83,
   "id": "405c4292",
   "metadata": {},
   "outputs": [
    {
     "data": {
      "text/plain": [
       "(159, 68)"
      ]
     },
     "execution_count": 83,
     "metadata": {},
     "output_type": "execute_result"
    }
   ],
   "source": [
    "df_part2 = df_12.append([df_22, df_32, df_42, df_52, df_62])\n",
    "df_part2.shape"
   ]
  },
  {
   "cell_type": "code",
   "execution_count": 84,
   "id": "1bf5c719",
   "metadata": {},
   "outputs": [],
   "source": [
    "df_part2.to_csv(os.path.join(dataset,'x_combining_part2.csv'), index=False)"
   ]
  },
  {
   "cell_type": "markdown",
   "id": "ee0b2f47",
   "metadata": {},
   "source": [
    "## Drop redundant and mismatched columns so all three groups can be combined into new dataframe, copy to clipboard for review"
   ]
  },
  {
   "cell_type": "code",
   "execution_count": 85,
   "id": "68d6a651",
   "metadata": {},
   "outputs": [],
   "source": [
    "column_add1 = df_add1.dtypes\n",
    "column_add1.to_clipboard()"
   ]
  },
  {
   "cell_type": "code",
   "execution_count": 86,
   "id": "14486d2d",
   "metadata": {},
   "outputs": [],
   "source": [
    "column_part1 = df_part1.dtypes\n",
    "column_part1.to_clipboard()"
   ]
  },
  {
   "cell_type": "code",
   "execution_count": 87,
   "id": "9706c2e5",
   "metadata": {},
   "outputs": [],
   "source": [
    "column_part2 = df_part2.dtypes\n",
    "column_part2.to_clipboard()"
   ]
  },
  {
   "cell_type": "code",
   "execution_count": 88,
   "id": "c0ff80db",
   "metadata": {},
   "outputs": [
    {
     "data": {
      "text/plain": [
       "request_id                    int64\n",
       "request_datetime             object\n",
       "completed_datetime           object\n",
       "completed_duration_days     float64\n",
       "completed_duration_hours    float64\n",
       "agent_name                   object\n",
       "agent_code                   object\n",
       "branch_name                  object\n",
       "branch_code                   int64\n",
       "sign_category                object\n",
       "sign_action                  object\n",
       "board_type                  float64\n",
       "sign_type                    object\n",
       "portal_addr1                 object\n",
       "portal_addr2                 object\n",
       "portal_addr3                 object\n",
       "town                         object\n",
       "postcode                     object\n",
       "latitude                    float64\n",
       "longitude                   float64\n",
       "quantity                      int64\n",
       "additional_info              object\n",
       "request_status               object\n",
       "payment_status               object\n",
       "net_charge                  float64\n",
       "vat                         float64\n",
       "gross_charge                float64\n",
       "invoice_datetime             object\n",
       "paid_datetime                object\n",
       "payment_duration_days       float64\n",
       "harvesine_distance_miles    float64\n",
       "latitude_group              float64\n",
       "longitude_group             float64\n",
       "zone                          int64\n",
       "zone_area                    object\n",
       "is_up                         int64\n",
       "month_no                      int64\n",
       "month                        object\n",
       "year                          int64\n",
       "work_category                object\n",
       "lead_time                    object\n",
       "request_date                 object\n",
       "completed_date               object\n",
       "invoice_date                 object\n",
       "paid_date                    object\n",
       "requests_per_day              int64\n",
       "completed_per_day             int64\n",
       "cycle_count                   int64\n",
       "cycle_category               object\n",
       "sale_price                    int64\n",
       "transfer_date                object\n",
       "property_type                object\n",
       "new_property                 object\n",
       "ppd_addr1                    object\n",
       "ppd_addr2                    object\n",
       "road_name                    object\n",
       "locality                     object\n",
       "town_city                    object\n",
       "district                     object\n",
       "county                       object\n",
       "dtype: object"
      ]
     },
     "execution_count": 88,
     "metadata": {},
     "output_type": "execute_result"
    }
   ],
   "source": [
    "df_add1 = df_add1.drop(columns=['addr_split1','addr_split2','addr_split3','addr_split4','addr_split5','addr_split6'])\n",
    "df_add1 = df_add1.drop(columns=['house1','house2'])\n",
    "df_add1.dtypes"
   ]
  },
  {
   "cell_type": "code",
   "execution_count": 93,
   "id": "439162e3",
   "metadata": {},
   "outputs": [
    {
     "data": {
      "text/plain": [
       "request_id                    int64\n",
       "request_datetime             object\n",
       "completed_datetime           object\n",
       "completed_duration_days     float64\n",
       "completed_duration_hours    float64\n",
       "agent_name                   object\n",
       "agent_code                   object\n",
       "branch_name                  object\n",
       "branch_code                   int64\n",
       "sign_category                object\n",
       "sign_action                  object\n",
       "board_type                  float64\n",
       "sign_type                    object\n",
       "portal_addr1_x               object\n",
       "portal_addr2                 object\n",
       "portal_addr3                 object\n",
       "town                         object\n",
       "postcode                     object\n",
       "latitude                    float64\n",
       "longitude                   float64\n",
       "quantity                      int64\n",
       "additional_info              object\n",
       "request_status               object\n",
       "payment_status               object\n",
       "net_charge                  float64\n",
       "vat                         float64\n",
       "gross_charge                float64\n",
       "invoice_datetime             object\n",
       "paid_datetime                object\n",
       "payment_duration_days       float64\n",
       "harvesine_distance_miles    float64\n",
       "latitude_group              float64\n",
       "longitude_group             float64\n",
       "zone                          int64\n",
       "zone_area                    object\n",
       "is_up                         int64\n",
       "month_no                      int64\n",
       "month                        object\n",
       "year                          int64\n",
       "work_category                object\n",
       "lead_time                    object\n",
       "request_date                 object\n",
       "completed_date               object\n",
       "invoice_date                 object\n",
       "paid_date                    object\n",
       "requests_per_day              int64\n",
       "completed_per_day             int64\n",
       "cycle_count                   int64\n",
       "cycle_category               object\n",
       "sale_price                    int64\n",
       "transfer_date                object\n",
       "property_type                object\n",
       "new_property                 object\n",
       "ppd_addr1                    object\n",
       "ppd_addr2                    object\n",
       "road_name                    object\n",
       "locality                     object\n",
       "town_city                    object\n",
       "district                     object\n",
       "county                       object\n",
       "dtype: object"
      ]
     },
     "execution_count": 93,
     "metadata": {},
     "output_type": "execute_result"
    }
   ],
   "source": [
    "df_part1 = df_part1.drop(columns=['addr_split1','addr_split2','addr_split3','addr_split4','addr_split5','addr_split6'])\n",
    "df_part1 = df_part1.drop(columns=['house2','portal_addr1_y'])\n",
    "df_part1.dtypes"
   ]
  },
  {
   "cell_type": "code",
   "execution_count": 89,
   "id": "65ad84bb",
   "metadata": {},
   "outputs": [
    {
     "data": {
      "text/plain": [
       "request_id                    int64\n",
       "request_datetime             object\n",
       "completed_datetime           object\n",
       "completed_duration_days     float64\n",
       "completed_duration_hours    float64\n",
       "agent_name                   object\n",
       "agent_code                   object\n",
       "branch_name                  object\n",
       "branch_code                   int64\n",
       "sign_category                object\n",
       "sign_action                  object\n",
       "board_type                  float64\n",
       "sign_type                    object\n",
       "portal_addr1_x               object\n",
       "portal_addr2                 object\n",
       "portal_addr3                 object\n",
       "town                         object\n",
       "postcode                     object\n",
       "latitude                    float64\n",
       "longitude                   float64\n",
       "quantity                      int64\n",
       "additional_info              object\n",
       "request_status               object\n",
       "payment_status               object\n",
       "net_charge                  float64\n",
       "vat                         float64\n",
       "gross_charge                float64\n",
       "invoice_datetime             object\n",
       "paid_datetime                object\n",
       "payment_duration_days       float64\n",
       "harvesine_distance_miles    float64\n",
       "latitude_group              float64\n",
       "longitude_group             float64\n",
       "zone                          int64\n",
       "zone_area                    object\n",
       "is_up                         int64\n",
       "month_no                      int64\n",
       "month                        object\n",
       "year                          int64\n",
       "work_category                object\n",
       "lead_time                    object\n",
       "request_date                 object\n",
       "completed_date               object\n",
       "invoice_date                 object\n",
       "paid_date                    object\n",
       "requests_per_day              int64\n",
       "completed_per_day             int64\n",
       "cycle_count                   int64\n",
       "cycle_category               object\n",
       "sale_price                    int64\n",
       "transfer_date                object\n",
       "property_type                object\n",
       "new_property                 object\n",
       "ppd_addr1                    object\n",
       "ppd_addr2                    object\n",
       "road_name                    object\n",
       "locality                     object\n",
       "town_city                    object\n",
       "district                     object\n",
       "county                       object\n",
       "dtype: object"
      ]
     },
     "execution_count": 89,
     "metadata": {},
     "output_type": "execute_result"
    }
   ],
   "source": [
    "df_part2 = df_part2.drop(columns=['addr_split1','addr_split2','addr_split3','addr_split4','addr_split5','addr_split6'])\n",
    "df_part2 = df_part2.drop(columns=['house1','portal_addr1_y'])\n",
    "df_part2.dtypes"
   ]
  },
  {
   "cell_type": "markdown",
   "id": "8c63e068",
   "metadata": {},
   "source": [
    "### recopy to clipboard for final review"
   ]
  },
  {
   "cell_type": "code",
   "execution_count": 90,
   "id": "7e0ba4cb",
   "metadata": {},
   "outputs": [],
   "source": [
    "column_add1 = df_add1.dtypes\n",
    "column_add1.to_clipboard()"
   ]
  },
  {
   "cell_type": "code",
   "execution_count": 94,
   "id": "17d99827",
   "metadata": {},
   "outputs": [],
   "source": [
    "column_part1 = df_part1.dtypes\n",
    "column_part1.to_clipboard()"
   ]
  },
  {
   "cell_type": "code",
   "execution_count": 95,
   "id": "08e1a6c6",
   "metadata": {},
   "outputs": [],
   "source": [
    "column_part2 = df_part2.dtypes\n",
    "column_part2.to_clipboard()"
   ]
  },
  {
   "cell_type": "markdown",
   "id": "e19401d4",
   "metadata": {},
   "source": [
    "### rename column portal_addr1_x to portal_addr in df_part1 & df_part2"
   ]
  },
  {
   "cell_type": "code",
   "execution_count": 97,
   "id": "c1e094d3",
   "metadata": {},
   "outputs": [
    {
     "data": {
      "text/plain": [
       "Index(['request_id', 'request_datetime', 'completed_datetime',\n",
       "       'completed_duration_days', 'completed_duration_hours', 'agent_name',\n",
       "       'agent_code', 'branch_name', 'branch_code', 'sign_category',\n",
       "       'sign_action', 'board_type', 'sign_type', 'portal_addr1',\n",
       "       'portal_addr2', 'portal_addr3', 'town', 'postcode', 'latitude',\n",
       "       'longitude', 'quantity', 'additional_info', 'request_status',\n",
       "       'payment_status', 'net_charge', 'vat', 'gross_charge',\n",
       "       'invoice_datetime', 'paid_datetime', 'payment_duration_days',\n",
       "       'harvesine_distance_miles', 'latitude_group', 'longitude_group', 'zone',\n",
       "       'zone_area', 'is_up', 'month_no', 'month', 'year', 'work_category',\n",
       "       'lead_time', 'request_date', 'completed_date', 'invoice_date',\n",
       "       'paid_date', 'requests_per_day', 'completed_per_day', 'cycle_count',\n",
       "       'cycle_category', 'sale_price', 'transfer_date', 'property_type',\n",
       "       'new_property', 'ppd_addr1', 'ppd_addr2', 'road_name', 'locality',\n",
       "       'town_city', 'district', 'county'],\n",
       "      dtype='object')"
      ]
     },
     "execution_count": 97,
     "metadata": {},
     "output_type": "execute_result"
    }
   ],
   "source": [
    "df_part1 = df_part1.rename(columns={'portal_addr1_x':'portal_addr1'})\n",
    "df_part1.columns"
   ]
  },
  {
   "cell_type": "code",
   "execution_count": 98,
   "id": "0e12eeab",
   "metadata": {},
   "outputs": [
    {
     "data": {
      "text/plain": [
       "Index(['request_id', 'request_datetime', 'completed_datetime',\n",
       "       'completed_duration_days', 'completed_duration_hours', 'agent_name',\n",
       "       'agent_code', 'branch_name', 'branch_code', 'sign_category',\n",
       "       'sign_action', 'board_type', 'sign_type', 'portal_addr1',\n",
       "       'portal_addr2', 'portal_addr3', 'town', 'postcode', 'latitude',\n",
       "       'longitude', 'quantity', 'additional_info', 'request_status',\n",
       "       'payment_status', 'net_charge', 'vat', 'gross_charge',\n",
       "       'invoice_datetime', 'paid_datetime', 'payment_duration_days',\n",
       "       'harvesine_distance_miles', 'latitude_group', 'longitude_group', 'zone',\n",
       "       'zone_area', 'is_up', 'month_no', 'month', 'year', 'work_category',\n",
       "       'lead_time', 'request_date', 'completed_date', 'invoice_date',\n",
       "       'paid_date', 'requests_per_day', 'completed_per_day', 'cycle_count',\n",
       "       'cycle_category', 'sale_price', 'transfer_date', 'property_type',\n",
       "       'new_property', 'ppd_addr1', 'ppd_addr2', 'road_name', 'locality',\n",
       "       'town_city', 'district', 'county'],\n",
       "      dtype='object')"
      ]
     },
     "execution_count": 98,
     "metadata": {},
     "output_type": "execute_result"
    }
   ],
   "source": [
    "df_part2 = df_part2.rename(columns={'portal_addr1_x':'portal_addr1'})\n",
    "df_part2.columns"
   ]
  },
  {
   "cell_type": "markdown",
   "id": "d3983de8",
   "metadata": {},
   "source": [
    "## Now ready to join all three subsets df_add1, df_part1 & df_part2"
   ]
  },
  {
   "cell_type": "code",
   "execution_count": 99,
   "id": "80081b5f",
   "metadata": {},
   "outputs": [
    {
     "data": {
      "text/plain": [
       "(9312, 60)"
      ]
     },
     "execution_count": 99,
     "metadata": {},
     "output_type": "execute_result"
    }
   ],
   "source": [
    "df_sales_ppd = df_add1.append([df_part1, df_part2])\n",
    "df_sales_ppd.shape"
   ]
  },
  {
   "cell_type": "markdown",
   "id": "a5797e30",
   "metadata": {},
   "source": [
    "#### Based on the work involved this is a releavtively good result, 54% of the Portal data containing sales and completed cycles has been retained."
   ]
  },
  {
   "cell_type": "markdown",
   "id": "06557a16",
   "metadata": {},
   "source": [
    "## export for review"
   ]
  },
  {
   "cell_type": "code",
   "execution_count": 101,
   "id": "2abbccfa",
   "metadata": {},
   "outputs": [],
   "source": [
    "df_sales_ppd.to_csv(os.path.join(dataset,'stone_signs_portal_v6.1_sold_price - 9,312.csv'), index=False)"
   ]
  }
 ],
 "metadata": {
  "kernelspec": {
   "display_name": "Python 3",
   "language": "python",
   "name": "python3"
  },
  "language_info": {
   "codemirror_mode": {
    "name": "ipython",
    "version": 3
   },
   "file_extension": ".py",
   "mimetype": "text/x-python",
   "name": "python",
   "nbconvert_exporter": "python",
   "pygments_lexer": "ipython3",
   "version": "3.8.8"
  }
 },
 "nbformat": 4,
 "nbformat_minor": 5
}
