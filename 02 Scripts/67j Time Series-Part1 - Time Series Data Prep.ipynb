{
 "cells": [
  {
   "cell_type": "markdown",
   "id": "137a0d58",
   "metadata": {},
   "source": [
    "### Time Series – Part1 – Data Prep\n",
    "1.\tImport libraries & set directory paths\n",
    "2.\tImport dataset and check dimensions and columns.\n",
    "    -\tImport: stone_signs_portal_v1.1 - 29,255.csv\n",
    "3.\tFilter to retain Sales & Letting data only.\n",
    "4.\tCreate subset for time series data: request_datetime & quantity\n",
    "5.\tConverting date strings to datatime\n",
    "6.\tExtracting date only from datatime & convert from string to date\n",
    "7.\tCalculate number of requests per day\n",
    "8.\tConvert to Time Series\n",
    "9.\tAddress missing dates from Time Series:\n",
    "    -\tCreate list of missing dates.\n",
    "    -\tConvert to dataframe.\n",
    "    -\tCombine original Time Series with missing dates using append( ) function.\n",
    "10.\tDisplay Time series plot, and export to file.\n",
    "11.\tTime Series Decomposition & Observations\n",
    "12.\tFilter data to exclude 1st Pandemic lockdown in preparation of Stationising the data.\n",
    "    -\t1st June 2020 to 31st Aug 2021\n",
    "    -\tExport to: time_series_requests_per_day_from_Jun2020.csv"
   ]
  },
  {
   "cell_type": "markdown",
   "id": "dfb595f1",
   "metadata": {},
   "source": [
    "### import libraries"
   ]
  },
  {
   "cell_type": "code",
   "execution_count": 1,
   "id": "dca40f1a",
   "metadata": {},
   "outputs": [],
   "source": [
    "import pandas as pd\n",
    "import numpy as np\n",
    "import os\n",
    "\n",
    "import seaborn as sns\n",
    "import matplotlib\n",
    "import matplotlib.pyplot as plt\n",
    "\n",
    "# The use of .api also import the public access versin of statsmodels\n",
    "# statsmodels handles statistical models\n",
    "import statsmodels.api as sm\n",
    "\n",
    "# Import warnings & disable deprecation warnings that could indicate, for instance, a suspended library or feature. \n",
    "    # These are more relevant to developers and very seldom to analysts.\n",
    "import warnings\n",
    "warnings.filterwarnings(\"ignore\")\n",
    "\n",
    "import quandl\n",
    "\n",
    "# 'fivethirtyeight' is a styling option for how your plots will appear.\n",
    "    # More examples:\n",
    "    # https://matplotlib.org/3.2.1/tutorials/introductory/customizing.html\n",
    "    # https://matplotlib.org/3.1.0/gallery/style_sheets/fivethirtyeight.html\n",
    "plt.style.use('fivethirtyeight')"
   ]
  },
  {
   "cell_type": "markdown",
   "id": "3052e3e9",
   "metadata": {},
   "source": [
    "### set directory paths"
   ]
  },
  {
   "cell_type": "code",
   "execution_count": 2,
   "id": "e6e7142f",
   "metadata": {},
   "outputs": [
    {
     "data": {
      "text/plain": [
       "'D:\\\\My Documents\\\\! Omnicompetent Ltd\\\\Career Foundry - Data Analytics\\\\Data Analytics Course\\\\60 Advanced Analytics and Dashboard Design\\\\Stone Signs Portal Analysis\\\\02 Data'"
      ]
     },
     "execution_count": 2,
     "metadata": {},
     "output_type": "execute_result"
    }
   ],
   "source": [
    "dataset = r'D:\\My Documents\\! Omnicompetent Ltd\\Career Foundry - Data Analytics\\Data Analytics Course\\60 Advanced Analytics and Dashboard Design\\Stone Signs Portal Analysis\\02 Data'\n",
    "dataset"
   ]
  },
  {
   "cell_type": "code",
   "execution_count": 3,
   "id": "c1558afe",
   "metadata": {},
   "outputs": [
    {
     "data": {
      "text/plain": [
       "'D:\\\\My Documents\\\\! Omnicompetent Ltd\\\\Career Foundry - Data Analytics\\\\Data Analytics Course\\\\60 Advanced Analytics and Dashboard Design\\\\Stone Signs Portal Analysis\\\\04 Analysis'"
      ]
     },
     "execution_count": 3,
     "metadata": {},
     "output_type": "execute_result"
    }
   ],
   "source": [
    "vizpath = r'D:\\My Documents\\! Omnicompetent Ltd\\Career Foundry - Data Analytics\\Data Analytics Course\\60 Advanced Analytics and Dashboard Design\\Stone Signs Portal Analysis\\04 Analysis'\n",
    "vizpath"
   ]
  },
  {
   "cell_type": "markdown",
   "id": "74b3fa37",
   "metadata": {},
   "source": [
    "## Import Portal Data\n",
    "    an early version containing 29,255 records"
   ]
  },
  {
   "cell_type": "code",
   "execution_count": 4,
   "id": "d63bf0b0",
   "metadata": {},
   "outputs": [
    {
     "data": {
      "text/html": [
       "<div>\n",
       "<style scoped>\n",
       "    .dataframe tbody tr th:only-of-type {\n",
       "        vertical-align: middle;\n",
       "    }\n",
       "\n",
       "    .dataframe tbody tr th {\n",
       "        vertical-align: top;\n",
       "    }\n",
       "\n",
       "    .dataframe thead th {\n",
       "        text-align: right;\n",
       "    }\n",
       "</style>\n",
       "<table border=\"1\" class=\"dataframe\">\n",
       "  <thead>\n",
       "    <tr style=\"text-align: right;\">\n",
       "      <th></th>\n",
       "      <th>request_id</th>\n",
       "      <th>request_datetime</th>\n",
       "      <th>completed_datetime</th>\n",
       "      <th>completed_duration_days</th>\n",
       "      <th>completed_duration_hours</th>\n",
       "      <th>agent_name</th>\n",
       "      <th>agent_code</th>\n",
       "      <th>branch_name</th>\n",
       "      <th>branch_code</th>\n",
       "      <th>sign_category</th>\n",
       "      <th>...</th>\n",
       "      <th>quantity</th>\n",
       "      <th>additional_info</th>\n",
       "      <th>request_status</th>\n",
       "      <th>payment_status</th>\n",
       "      <th>net_charge</th>\n",
       "      <th>vat</th>\n",
       "      <th>gross_charge</th>\n",
       "      <th>invoice_datetime</th>\n",
       "      <th>paid_datetime</th>\n",
       "      <th>payment_duration_days</th>\n",
       "    </tr>\n",
       "  </thead>\n",
       "  <tbody>\n",
       "    <tr>\n",
       "      <th>0</th>\n",
       "      <td>332</td>\n",
       "      <td>02/01/2020 09:18</td>\n",
       "      <td>02/01/2020 15:55</td>\n",
       "      <td>0.28</td>\n",
       "      <td>6.6</td>\n",
       "      <td>Hyman Hill</td>\n",
       "      <td>HYH</td>\n",
       "      <td>HymanHill @Shoreham-by-Sea</td>\n",
       "      <td>530</td>\n",
       "      <td>Sales</td>\n",
       "      <td>...</td>\n",
       "      <td>1</td>\n",
       "      <td>two boards please as on corner plot with one b...</td>\n",
       "      <td>Completed</td>\n",
       "      <td>Paid</td>\n",
       "      <td>3.85</td>\n",
       "      <td>0.77</td>\n",
       "      <td>4.62</td>\n",
       "      <td>01/02/2020 15:46</td>\n",
       "      <td>26/02/2020 19:13</td>\n",
       "      <td>25.1</td>\n",
       "    </tr>\n",
       "    <tr>\n",
       "      <th>1</th>\n",
       "      <td>334</td>\n",
       "      <td>02/01/2020 10:32</td>\n",
       "      <td>02/01/2020 14:47</td>\n",
       "      <td>0.18</td>\n",
       "      <td>4.3</td>\n",
       "      <td>Michael Jones</td>\n",
       "      <td>MCJ</td>\n",
       "      <td>MichaelJones @LancingSales(&amp;Bacon)</td>\n",
       "      <td>502</td>\n",
       "      <td>Sales</td>\n",
       "      <td>...</td>\n",
       "      <td>1</td>\n",
       "      <td>NaN</td>\n",
       "      <td>Completed</td>\n",
       "      <td>Paid</td>\n",
       "      <td>3.80</td>\n",
       "      <td>0.76</td>\n",
       "      <td>4.56</td>\n",
       "      <td>01/02/2020 17:02</td>\n",
       "      <td>29/02/2020 10:27</td>\n",
       "      <td>27.7</td>\n",
       "    </tr>\n",
       "    <tr>\n",
       "      <th>2</th>\n",
       "      <td>335</td>\n",
       "      <td>02/01/2020 10:40</td>\n",
       "      <td>04/01/2020 12:20</td>\n",
       "      <td>2.07</td>\n",
       "      <td>49.7</td>\n",
       "      <td>zz Symonds &amp; Reading</td>\n",
       "      <td>ZZ4</td>\n",
       "      <td>zz Symonds&amp;Reading @Ferring</td>\n",
       "      <td>350</td>\n",
       "      <td>Sales</td>\n",
       "      <td>...</td>\n",
       "      <td>1</td>\n",
       "      <td>NaN</td>\n",
       "      <td>Completed</td>\n",
       "      <td>Paid</td>\n",
       "      <td>3.80</td>\n",
       "      <td>0.76</td>\n",
       "      <td>4.56</td>\n",
       "      <td>01/02/2020 17:13</td>\n",
       "      <td>26/02/2020 19:12</td>\n",
       "      <td>25.1</td>\n",
       "    </tr>\n",
       "    <tr>\n",
       "      <th>3</th>\n",
       "      <td>336</td>\n",
       "      <td>02/01/2020 10:58</td>\n",
       "      <td>02/01/2020 14:42</td>\n",
       "      <td>0.16</td>\n",
       "      <td>3.7</td>\n",
       "      <td>Michael Jones</td>\n",
       "      <td>MCJ</td>\n",
       "      <td>MichaelJones @LancingSales(&amp;Bacon)</td>\n",
       "      <td>502</td>\n",
       "      <td>Sales</td>\n",
       "      <td>...</td>\n",
       "      <td>1</td>\n",
       "      <td>NaN</td>\n",
       "      <td>Completed</td>\n",
       "      <td>Paid</td>\n",
       "      <td>3.80</td>\n",
       "      <td>0.76</td>\n",
       "      <td>4.56</td>\n",
       "      <td>01/02/2020 17:02</td>\n",
       "      <td>29/02/2020 10:27</td>\n",
       "      <td>27.7</td>\n",
       "    </tr>\n",
       "    <tr>\n",
       "      <th>4</th>\n",
       "      <td>337</td>\n",
       "      <td>02/01/2020 11:10</td>\n",
       "      <td>03/01/2020 16:10</td>\n",
       "      <td>1.21</td>\n",
       "      <td>29.0</td>\n",
       "      <td>Rowland Gorringe</td>\n",
       "      <td>ROW</td>\n",
       "      <td>RowlandGorringe @Seaford</td>\n",
       "      <td>950</td>\n",
       "      <td>Sales</td>\n",
       "      <td>...</td>\n",
       "      <td>1</td>\n",
       "      <td>NaN</td>\n",
       "      <td>Completed</td>\n",
       "      <td>Paid</td>\n",
       "      <td>3.80</td>\n",
       "      <td>0.76</td>\n",
       "      <td>4.56</td>\n",
       "      <td>01/02/2020 17:06</td>\n",
       "      <td>29/02/2020 10:27</td>\n",
       "      <td>27.7</td>\n",
       "    </tr>\n",
       "  </tbody>\n",
       "</table>\n",
       "<p>5 rows × 30 columns</p>\n",
       "</div>"
      ],
      "text/plain": [
       "   request_id  request_datetime completed_datetime  completed_duration_days  \\\n",
       "0         332  02/01/2020 09:18   02/01/2020 15:55                     0.28   \n",
       "1         334  02/01/2020 10:32   02/01/2020 14:47                     0.18   \n",
       "2         335  02/01/2020 10:40   04/01/2020 12:20                     2.07   \n",
       "3         336  02/01/2020 10:58   02/01/2020 14:42                     0.16   \n",
       "4         337  02/01/2020 11:10   03/01/2020 16:10                     1.21   \n",
       "\n",
       "   completed_duration_hours            agent_name agent_code  \\\n",
       "0                       6.6            Hyman Hill        HYH   \n",
       "1                       4.3         Michael Jones        MCJ   \n",
       "2                      49.7  zz Symonds & Reading        ZZ4   \n",
       "3                       3.7         Michael Jones        MCJ   \n",
       "4                      29.0      Rowland Gorringe        ROW   \n",
       "\n",
       "                          branch_name  branch_code sign_category  ...  \\\n",
       "0          HymanHill @Shoreham-by-Sea          530         Sales  ...   \n",
       "1  MichaelJones @LancingSales(&Bacon)          502         Sales  ...   \n",
       "2         zz Symonds&Reading @Ferring          350         Sales  ...   \n",
       "3  MichaelJones @LancingSales(&Bacon)          502         Sales  ...   \n",
       "4            RowlandGorringe @Seaford          950         Sales  ...   \n",
       "\n",
       "  quantity                                    additional_info request_status  \\\n",
       "0        1  two boards please as on corner plot with one b...      Completed   \n",
       "1        1                                                NaN      Completed   \n",
       "2        1                                                NaN      Completed   \n",
       "3        1                                                NaN      Completed   \n",
       "4        1                                                NaN      Completed   \n",
       "\n",
       "  payment_status net_charge   vat gross_charge  invoice_datetime  \\\n",
       "0           Paid       3.85  0.77         4.62  01/02/2020 15:46   \n",
       "1           Paid       3.80  0.76         4.56  01/02/2020 17:02   \n",
       "2           Paid       3.80  0.76         4.56  01/02/2020 17:13   \n",
       "3           Paid       3.80  0.76         4.56  01/02/2020 17:02   \n",
       "4           Paid       3.80  0.76         4.56  01/02/2020 17:06   \n",
       "\n",
       "      paid_datetime  payment_duration_days  \n",
       "0  26/02/2020 19:13                   25.1  \n",
       "1  29/02/2020 10:27                   27.7  \n",
       "2  26/02/2020 19:12                   25.1  \n",
       "3  29/02/2020 10:27                   27.7  \n",
       "4  29/02/2020 10:27                   27.7  \n",
       "\n",
       "[5 rows x 30 columns]"
      ]
     },
     "execution_count": 4,
     "metadata": {},
     "output_type": "execute_result"
    }
   ],
   "source": [
    "df_portal = pd.read_csv(os.path.join(dataset,'stone_signs_portal_v1.1 - 29,255.csv'))\n",
    "df_portal.head()"
   ]
  },
  {
   "cell_type": "markdown",
   "id": "5c6f5f05",
   "metadata": {},
   "source": [
    "### check dimensions & data types"
   ]
  },
  {
   "cell_type": "code",
   "execution_count": 5,
   "id": "86a66a6a",
   "metadata": {},
   "outputs": [
    {
     "data": {
      "text/plain": [
       "(29255, 30)"
      ]
     },
     "execution_count": 5,
     "metadata": {},
     "output_type": "execute_result"
    }
   ],
   "source": [
    "df_portal.shape"
   ]
  },
  {
   "cell_type": "code",
   "execution_count": 6,
   "id": "a228b370",
   "metadata": {},
   "outputs": [
    {
     "data": {
      "text/plain": [
       "request_id                    int64\n",
       "request_datetime             object\n",
       "completed_datetime           object\n",
       "completed_duration_days     float64\n",
       "completed_duration_hours    float64\n",
       "agent_name                   object\n",
       "agent_code                   object\n",
       "branch_name                  object\n",
       "branch_code                   int64\n",
       "sign_category                object\n",
       "sign_action                  object\n",
       "board_type                   object\n",
       "sign_type                    object\n",
       "address_1                    object\n",
       "address_2                    object\n",
       "address_3                    object\n",
       "town                         object\n",
       "postcode                     object\n",
       "latitude                    float64\n",
       "longitude                   float64\n",
       "quantity                      int64\n",
       "additional_info              object\n",
       "request_status               object\n",
       "payment_status               object\n",
       "net_charge                  float64\n",
       "vat                         float64\n",
       "gross_charge                float64\n",
       "invoice_datetime             object\n",
       "paid_datetime                object\n",
       "payment_duration_days       float64\n",
       "dtype: object"
      ]
     },
     "execution_count": 6,
     "metadata": {},
     "output_type": "execute_result"
    }
   ],
   "source": [
    "df_portal.dtypes"
   ]
  },
  {
   "cell_type": "markdown",
   "id": "a085d755",
   "metadata": {},
   "source": [
    "### extract Sales and Letting requests only\n",
    "    as these request are made by customer, \n",
    "    and other ad hoc items are added to the system for invoicing purposes."
   ]
  },
  {
   "cell_type": "code",
   "execution_count": 7,
   "id": "2f57da97",
   "metadata": {},
   "outputs": [
    {
     "data": {
      "text/plain": [
       "(27784, 30)"
      ]
     },
     "execution_count": 7,
     "metadata": {},
     "output_type": "execute_result"
    }
   ],
   "source": [
    "df_saleslet = df_portal.loc[(df_portal['sign_category']=='Sales') | (df_portal['sign_category']=='Letting')]\n",
    "df_saleslet.shape"
   ]
  },
  {
   "cell_type": "markdown",
   "id": "10bce6d9",
   "metadata": {},
   "source": [
    "### check value counts"
   ]
  },
  {
   "cell_type": "code",
   "execution_count": 8,
   "id": "d2c6e73c",
   "metadata": {},
   "outputs": [
    {
     "data": {
      "text/plain": [
       "Sales      21990\n",
       "Letting     5794\n",
       "Name: sign_category, dtype: int64"
      ]
     },
     "execution_count": 8,
     "metadata": {},
     "output_type": "execute_result"
    }
   ],
   "source": [
    "df_saleslet['sign_category'].value_counts()"
   ]
  },
  {
   "cell_type": "markdown",
   "id": "7c904a8e",
   "metadata": {},
   "source": [
    "### create subset to include columns 'requested_datetime' & 'quantity' "
   ]
  },
  {
   "cell_type": "code",
   "execution_count": 9,
   "id": "8c82ae7a",
   "metadata": {},
   "outputs": [
    {
     "data": {
      "text/html": [
       "<div>\n",
       "<style scoped>\n",
       "    .dataframe tbody tr th:only-of-type {\n",
       "        vertical-align: middle;\n",
       "    }\n",
       "\n",
       "    .dataframe tbody tr th {\n",
       "        vertical-align: top;\n",
       "    }\n",
       "\n",
       "    .dataframe thead th {\n",
       "        text-align: right;\n",
       "    }\n",
       "</style>\n",
       "<table border=\"1\" class=\"dataframe\">\n",
       "  <thead>\n",
       "    <tr style=\"text-align: right;\">\n",
       "      <th></th>\n",
       "      <th>request_datetime</th>\n",
       "      <th>quantity</th>\n",
       "    </tr>\n",
       "  </thead>\n",
       "  <tbody>\n",
       "    <tr>\n",
       "      <th>0</th>\n",
       "      <td>02/01/2020 09:18</td>\n",
       "      <td>1</td>\n",
       "    </tr>\n",
       "    <tr>\n",
       "      <th>1</th>\n",
       "      <td>02/01/2020 10:32</td>\n",
       "      <td>1</td>\n",
       "    </tr>\n",
       "    <tr>\n",
       "      <th>2</th>\n",
       "      <td>02/01/2020 10:40</td>\n",
       "      <td>1</td>\n",
       "    </tr>\n",
       "    <tr>\n",
       "      <th>3</th>\n",
       "      <td>02/01/2020 10:58</td>\n",
       "      <td>1</td>\n",
       "    </tr>\n",
       "    <tr>\n",
       "      <th>4</th>\n",
       "      <td>02/01/2020 11:10</td>\n",
       "      <td>1</td>\n",
       "    </tr>\n",
       "  </tbody>\n",
       "</table>\n",
       "</div>"
      ],
      "text/plain": [
       "   request_datetime  quantity\n",
       "0  02/01/2020 09:18         1\n",
       "1  02/01/2020 10:32         1\n",
       "2  02/01/2020 10:40         1\n",
       "3  02/01/2020 10:58         1\n",
       "4  02/01/2020 11:10         1"
      ]
     },
     "execution_count": 9,
     "metadata": {},
     "output_type": "execute_result"
    }
   ],
   "source": [
    "df_request = df_saleslet[['request_datetime','quantity']]\n",
    "df_request.head()"
   ]
  },
  {
   "cell_type": "code",
   "execution_count": 10,
   "id": "bb224add",
   "metadata": {},
   "outputs": [
    {
     "data": {
      "text/plain": [
       "request_datetime    object\n",
       "quantity             int64\n",
       "dtype: object"
      ]
     },
     "execution_count": 10,
     "metadata": {},
     "output_type": "execute_result"
    }
   ],
   "source": [
    "df_request.dtypes"
   ]
  },
  {
   "cell_type": "markdown",
   "id": "f54be158",
   "metadata": {},
   "source": [
    "### check for nulls"
   ]
  },
  {
   "cell_type": "code",
   "execution_count": 11,
   "id": "ffa5c1f7",
   "metadata": {},
   "outputs": [
    {
     "data": {
      "text/plain": [
       "request_datetime    0\n",
       "quantity            0\n",
       "dtype: int64"
      ]
     },
     "execution_count": 11,
     "metadata": {},
     "output_type": "execute_result"
    }
   ],
   "source": [
    "df_request.isnull().sum()"
   ]
  },
  {
   "cell_type": "markdown",
   "id": "45a78c08",
   "metadata": {},
   "source": [
    "### convert request_datetime from string to date\n",
    "    define format to ensure UK format order"
   ]
  },
  {
   "cell_type": "code",
   "execution_count": 12,
   "id": "8cbed9fd",
   "metadata": {},
   "outputs": [
    {
     "data": {
      "text/plain": [
       "request_datetime    datetime64[ns]\n",
       "quantity                     int64\n",
       "dtype: object"
      ]
     },
     "execution_count": 12,
     "metadata": {},
     "output_type": "execute_result"
    }
   ],
   "source": [
    "df_request['request_datetime'] = pd.to_datetime(df_request['request_datetime'],format='%d/%m/%Y %H:%M')\n",
    "df_request.dtypes"
   ]
  },
  {
   "cell_type": "markdown",
   "id": "9fb6462f",
   "metadata": {},
   "source": [
    "### check min and max value for request_datetime to ensure conversion correct\n",
    "    dateaset runs from Jan2020 to Aug2021"
   ]
  },
  {
   "cell_type": "code",
   "execution_count": 13,
   "id": "1d3fe432",
   "metadata": {},
   "outputs": [
    {
     "data": {
      "text/plain": [
       "Timestamp('2020-01-02 09:18:00')"
      ]
     },
     "execution_count": 13,
     "metadata": {},
     "output_type": "execute_result"
    }
   ],
   "source": [
    "df_request['request_datetime'].min()"
   ]
  },
  {
   "cell_type": "code",
   "execution_count": 14,
   "id": "b4ba1a53",
   "metadata": {},
   "outputs": [
    {
     "data": {
      "text/plain": [
       "Timestamp('2021-08-31 15:29:00')"
      ]
     },
     "execution_count": 14,
     "metadata": {},
     "output_type": "execute_result"
    }
   ],
   "source": [
    "df_request['request_datetime'].max()"
   ]
  },
  {
   "cell_type": "markdown",
   "id": "4bbf4458",
   "metadata": {},
   "source": [
    "### extract date portion only from datetime"
   ]
  },
  {
   "cell_type": "code",
   "execution_count": 15,
   "id": "b4a1dbb1",
   "metadata": {},
   "outputs": [
    {
     "data": {
      "text/html": [
       "<div>\n",
       "<style scoped>\n",
       "    .dataframe tbody tr th:only-of-type {\n",
       "        vertical-align: middle;\n",
       "    }\n",
       "\n",
       "    .dataframe tbody tr th {\n",
       "        vertical-align: top;\n",
       "    }\n",
       "\n",
       "    .dataframe thead th {\n",
       "        text-align: right;\n",
       "    }\n",
       "</style>\n",
       "<table border=\"1\" class=\"dataframe\">\n",
       "  <thead>\n",
       "    <tr style=\"text-align: right;\">\n",
       "      <th></th>\n",
       "      <th>request_datetime</th>\n",
       "      <th>quantity</th>\n",
       "      <th>request_date</th>\n",
       "    </tr>\n",
       "  </thead>\n",
       "  <tbody>\n",
       "    <tr>\n",
       "      <th>0</th>\n",
       "      <td>2020-01-02 09:18:00</td>\n",
       "      <td>1</td>\n",
       "      <td>2020-01-02</td>\n",
       "    </tr>\n",
       "    <tr>\n",
       "      <th>1</th>\n",
       "      <td>2020-01-02 10:32:00</td>\n",
       "      <td>1</td>\n",
       "      <td>2020-01-02</td>\n",
       "    </tr>\n",
       "    <tr>\n",
       "      <th>2</th>\n",
       "      <td>2020-01-02 10:40:00</td>\n",
       "      <td>1</td>\n",
       "      <td>2020-01-02</td>\n",
       "    </tr>\n",
       "    <tr>\n",
       "      <th>3</th>\n",
       "      <td>2020-01-02 10:58:00</td>\n",
       "      <td>1</td>\n",
       "      <td>2020-01-02</td>\n",
       "    </tr>\n",
       "    <tr>\n",
       "      <th>4</th>\n",
       "      <td>2020-01-02 11:10:00</td>\n",
       "      <td>1</td>\n",
       "      <td>2020-01-02</td>\n",
       "    </tr>\n",
       "    <tr>\n",
       "      <th>...</th>\n",
       "      <td>...</td>\n",
       "      <td>...</td>\n",
       "      <td>...</td>\n",
       "    </tr>\n",
       "    <tr>\n",
       "      <th>29250</th>\n",
       "      <td>2021-08-31 14:54:00</td>\n",
       "      <td>1</td>\n",
       "      <td>2021-08-31</td>\n",
       "    </tr>\n",
       "    <tr>\n",
       "      <th>29251</th>\n",
       "      <td>2021-08-31 15:08:00</td>\n",
       "      <td>1</td>\n",
       "      <td>2021-08-31</td>\n",
       "    </tr>\n",
       "    <tr>\n",
       "      <th>29252</th>\n",
       "      <td>2021-08-31 15:26:00</td>\n",
       "      <td>1</td>\n",
       "      <td>2021-08-31</td>\n",
       "    </tr>\n",
       "    <tr>\n",
       "      <th>29253</th>\n",
       "      <td>2021-08-31 15:27:00</td>\n",
       "      <td>1</td>\n",
       "      <td>2021-08-31</td>\n",
       "    </tr>\n",
       "    <tr>\n",
       "      <th>29254</th>\n",
       "      <td>2021-08-31 15:29:00</td>\n",
       "      <td>1</td>\n",
       "      <td>2021-08-31</td>\n",
       "    </tr>\n",
       "  </tbody>\n",
       "</table>\n",
       "<p>27784 rows × 3 columns</p>\n",
       "</div>"
      ],
      "text/plain": [
       "         request_datetime  quantity request_date\n",
       "0     2020-01-02 09:18:00         1   2020-01-02\n",
       "1     2020-01-02 10:32:00         1   2020-01-02\n",
       "2     2020-01-02 10:40:00         1   2020-01-02\n",
       "3     2020-01-02 10:58:00         1   2020-01-02\n",
       "4     2020-01-02 11:10:00         1   2020-01-02\n",
       "...                   ...       ...          ...\n",
       "29250 2021-08-31 14:54:00         1   2021-08-31\n",
       "29251 2021-08-31 15:08:00         1   2021-08-31\n",
       "29252 2021-08-31 15:26:00         1   2021-08-31\n",
       "29253 2021-08-31 15:27:00         1   2021-08-31\n",
       "29254 2021-08-31 15:29:00         1   2021-08-31\n",
       "\n",
       "[27784 rows x 3 columns]"
      ]
     },
     "execution_count": 15,
     "metadata": {},
     "output_type": "execute_result"
    }
   ],
   "source": [
    "df_request['request_date'] = df_request['request_datetime'].dt.date\n",
    "df_request"
   ]
  },
  {
   "cell_type": "markdown",
   "id": "1f7a2baa",
   "metadata": {},
   "source": [
    "### check data types"
   ]
  },
  {
   "cell_type": "code",
   "execution_count": 16,
   "id": "cfc3cd1f",
   "metadata": {},
   "outputs": [
    {
     "data": {
      "text/plain": [
       "request_datetime    datetime64[ns]\n",
       "quantity                     int64\n",
       "request_date                object\n",
       "dtype: object"
      ]
     },
     "execution_count": 16,
     "metadata": {},
     "output_type": "execute_result"
    }
   ],
   "source": [
    "df_request.dtypes"
   ]
  },
  {
   "cell_type": "markdown",
   "id": "d9be022b",
   "metadata": {},
   "source": [
    "### convert request_date column to date format"
   ]
  },
  {
   "cell_type": "code",
   "execution_count": 17,
   "id": "6f335221",
   "metadata": {},
   "outputs": [],
   "source": [
    "df_request['request_date'] = pd.to_datetime(df_request['request_date'], format='%Y-%m-%d')"
   ]
  },
  {
   "cell_type": "code",
   "execution_count": 18,
   "id": "af1e9b2f",
   "metadata": {},
   "outputs": [
    {
     "data": {
      "text/plain": [
       "request_datetime    datetime64[ns]\n",
       "quantity                     int64\n",
       "request_date        datetime64[ns]\n",
       "dtype: object"
      ]
     },
     "execution_count": 18,
     "metadata": {},
     "output_type": "execute_result"
    }
   ],
   "source": [
    "df_request.dtypes"
   ]
  },
  {
   "cell_type": "markdown",
   "id": "af45409a",
   "metadata": {},
   "source": [
    "### check min and max values for request_date\n",
    "    to ensure conversion carried out correctly"
   ]
  },
  {
   "cell_type": "code",
   "execution_count": 19,
   "id": "cb75d939",
   "metadata": {},
   "outputs": [
    {
     "data": {
      "text/plain": [
       "Timestamp('2020-01-02 00:00:00')"
      ]
     },
     "execution_count": 19,
     "metadata": {},
     "output_type": "execute_result"
    }
   ],
   "source": [
    "df_request['request_date'].min()"
   ]
  },
  {
   "cell_type": "code",
   "execution_count": 20,
   "id": "5649099e",
   "metadata": {},
   "outputs": [
    {
     "data": {
      "text/plain": [
       "Timestamp('2021-08-31 00:00:00')"
      ]
     },
     "execution_count": 20,
     "metadata": {},
     "output_type": "execute_result"
    }
   ],
   "source": [
    "df_request['request_date'].max()"
   ]
  },
  {
   "cell_type": "markdown",
   "id": "6dee8f95",
   "metadata": {},
   "source": [
    "### drop request_datetime column"
   ]
  },
  {
   "cell_type": "code",
   "execution_count": 21,
   "id": "affd6077",
   "metadata": {},
   "outputs": [
    {
     "data": {
      "text/html": [
       "<div>\n",
       "<style scoped>\n",
       "    .dataframe tbody tr th:only-of-type {\n",
       "        vertical-align: middle;\n",
       "    }\n",
       "\n",
       "    .dataframe tbody tr th {\n",
       "        vertical-align: top;\n",
       "    }\n",
       "\n",
       "    .dataframe thead th {\n",
       "        text-align: right;\n",
       "    }\n",
       "</style>\n",
       "<table border=\"1\" class=\"dataframe\">\n",
       "  <thead>\n",
       "    <tr style=\"text-align: right;\">\n",
       "      <th></th>\n",
       "      <th>quantity</th>\n",
       "      <th>request_date</th>\n",
       "    </tr>\n",
       "  </thead>\n",
       "  <tbody>\n",
       "    <tr>\n",
       "      <th>0</th>\n",
       "      <td>1</td>\n",
       "      <td>2020-01-02</td>\n",
       "    </tr>\n",
       "    <tr>\n",
       "      <th>1</th>\n",
       "      <td>1</td>\n",
       "      <td>2020-01-02</td>\n",
       "    </tr>\n",
       "    <tr>\n",
       "      <th>2</th>\n",
       "      <td>1</td>\n",
       "      <td>2020-01-02</td>\n",
       "    </tr>\n",
       "    <tr>\n",
       "      <th>3</th>\n",
       "      <td>1</td>\n",
       "      <td>2020-01-02</td>\n",
       "    </tr>\n",
       "    <tr>\n",
       "      <th>4</th>\n",
       "      <td>1</td>\n",
       "      <td>2020-01-02</td>\n",
       "    </tr>\n",
       "  </tbody>\n",
       "</table>\n",
       "</div>"
      ],
      "text/plain": [
       "   quantity request_date\n",
       "0         1   2020-01-02\n",
       "1         1   2020-01-02\n",
       "2         1   2020-01-02\n",
       "3         1   2020-01-02\n",
       "4         1   2020-01-02"
      ]
     },
     "execution_count": 21,
     "metadata": {},
     "output_type": "execute_result"
    }
   ],
   "source": [
    "df_request = df_request.drop(columns=['request_datetime'])\n",
    "df_request.head()"
   ]
  },
  {
   "cell_type": "markdown",
   "id": "5c4edcde",
   "metadata": {},
   "source": [
    "### calculate number of requests per day"
   ]
  },
  {
   "cell_type": "code",
   "execution_count": 22,
   "id": "38587b78",
   "metadata": {},
   "outputs": [
    {
     "data": {
      "text/html": [
       "<div>\n",
       "<style scoped>\n",
       "    .dataframe tbody tr th:only-of-type {\n",
       "        vertical-align: middle;\n",
       "    }\n",
       "\n",
       "    .dataframe tbody tr th {\n",
       "        vertical-align: top;\n",
       "    }\n",
       "\n",
       "    .dataframe thead th {\n",
       "        text-align: right;\n",
       "    }\n",
       "</style>\n",
       "<table border=\"1\" class=\"dataframe\">\n",
       "  <thead>\n",
       "    <tr style=\"text-align: right;\">\n",
       "      <th></th>\n",
       "      <th>quantity</th>\n",
       "      <th>request_date</th>\n",
       "      <th>requests_per_day</th>\n",
       "    </tr>\n",
       "  </thead>\n",
       "  <tbody>\n",
       "    <tr>\n",
       "      <th>0</th>\n",
       "      <td>1</td>\n",
       "      <td>2020-01-02</td>\n",
       "      <td>48</td>\n",
       "    </tr>\n",
       "    <tr>\n",
       "      <th>1</th>\n",
       "      <td>1</td>\n",
       "      <td>2020-01-02</td>\n",
       "      <td>48</td>\n",
       "    </tr>\n",
       "    <tr>\n",
       "      <th>2</th>\n",
       "      <td>1</td>\n",
       "      <td>2020-01-02</td>\n",
       "      <td>48</td>\n",
       "    </tr>\n",
       "    <tr>\n",
       "      <th>3</th>\n",
       "      <td>1</td>\n",
       "      <td>2020-01-02</td>\n",
       "      <td>48</td>\n",
       "    </tr>\n",
       "    <tr>\n",
       "      <th>4</th>\n",
       "      <td>1</td>\n",
       "      <td>2020-01-02</td>\n",
       "      <td>48</td>\n",
       "    </tr>\n",
       "  </tbody>\n",
       "</table>\n",
       "</div>"
      ],
      "text/plain": [
       "   quantity request_date  requests_per_day\n",
       "0         1   2020-01-02                48\n",
       "1         1   2020-01-02                48\n",
       "2         1   2020-01-02                48\n",
       "3         1   2020-01-02                48\n",
       "4         1   2020-01-02                48"
      ]
     },
     "execution_count": 22,
     "metadata": {},
     "output_type": "execute_result"
    }
   ],
   "source": [
    "df_request['requests_per_day'] = df_request.groupby(df_request['request_date']) ['quantity'].transform(np.size)\n",
    "df_request.head()"
   ]
  },
  {
   "cell_type": "markdown",
   "id": "0c92b5a8",
   "metadata": {},
   "source": [
    "### drop quantity column"
   ]
  },
  {
   "cell_type": "code",
   "execution_count": 23,
   "id": "fd0ac404",
   "metadata": {},
   "outputs": [
    {
     "data": {
      "text/html": [
       "<div>\n",
       "<style scoped>\n",
       "    .dataframe tbody tr th:only-of-type {\n",
       "        vertical-align: middle;\n",
       "    }\n",
       "\n",
       "    .dataframe tbody tr th {\n",
       "        vertical-align: top;\n",
       "    }\n",
       "\n",
       "    .dataframe thead th {\n",
       "        text-align: right;\n",
       "    }\n",
       "</style>\n",
       "<table border=\"1\" class=\"dataframe\">\n",
       "  <thead>\n",
       "    <tr style=\"text-align: right;\">\n",
       "      <th></th>\n",
       "      <th>request_date</th>\n",
       "      <th>requests_per_day</th>\n",
       "    </tr>\n",
       "  </thead>\n",
       "  <tbody>\n",
       "    <tr>\n",
       "      <th>0</th>\n",
       "      <td>2020-01-02</td>\n",
       "      <td>48</td>\n",
       "    </tr>\n",
       "    <tr>\n",
       "      <th>1</th>\n",
       "      <td>2020-01-02</td>\n",
       "      <td>48</td>\n",
       "    </tr>\n",
       "    <tr>\n",
       "      <th>2</th>\n",
       "      <td>2020-01-02</td>\n",
       "      <td>48</td>\n",
       "    </tr>\n",
       "    <tr>\n",
       "      <th>3</th>\n",
       "      <td>2020-01-02</td>\n",
       "      <td>48</td>\n",
       "    </tr>\n",
       "    <tr>\n",
       "      <th>4</th>\n",
       "      <td>2020-01-02</td>\n",
       "      <td>48</td>\n",
       "    </tr>\n",
       "  </tbody>\n",
       "</table>\n",
       "</div>"
      ],
      "text/plain": [
       "  request_date  requests_per_day\n",
       "0   2020-01-02                48\n",
       "1   2020-01-02                48\n",
       "2   2020-01-02                48\n",
       "3   2020-01-02                48\n",
       "4   2020-01-02                48"
      ]
     },
     "execution_count": 23,
     "metadata": {},
     "output_type": "execute_result"
    }
   ],
   "source": [
    "df_request = df_request.drop(columns=['quantity'])\n",
    "df_request.head()"
   ]
  },
  {
   "cell_type": "code",
   "execution_count": 24,
   "id": "24c45963",
   "metadata": {},
   "outputs": [
    {
     "data": {
      "text/plain": [
       "(27784, 2)"
      ]
     },
     "execution_count": 24,
     "metadata": {},
     "output_type": "execute_result"
    }
   ],
   "source": [
    "df_request.shape"
   ]
  },
  {
   "cell_type": "code",
   "execution_count": 25,
   "id": "fcbda8cc",
   "metadata": {},
   "outputs": [
    {
     "data": {
      "text/plain": [
       "request_date        datetime64[ns]\n",
       "requests_per_day             int64\n",
       "dtype: object"
      ]
     },
     "execution_count": 25,
     "metadata": {},
     "output_type": "execute_result"
    }
   ],
   "source": [
    "df_request.dtypes"
   ]
  },
  {
   "cell_type": "markdown",
   "id": "6b82a9e0",
   "metadata": {},
   "source": [
    "### drop duplicates"
   ]
  },
  {
   "cell_type": "code",
   "execution_count": 26,
   "id": "d7703611",
   "metadata": {},
   "outputs": [
    {
     "data": {
      "text/plain": [
       "(541, 2)"
      ]
     },
     "execution_count": 26,
     "metadata": {},
     "output_type": "execute_result"
    }
   ],
   "source": [
    "df_request = df_request.drop_duplicates()\n",
    "df_request.shape"
   ]
  },
  {
   "cell_type": "markdown",
   "id": "1dc3c011",
   "metadata": {},
   "source": [
    "### reset_index"
   ]
  },
  {
   "cell_type": "code",
   "execution_count": 27,
   "id": "b38d3e66",
   "metadata": {},
   "outputs": [
    {
     "data": {
      "text/html": [
       "<div>\n",
       "<style scoped>\n",
       "    .dataframe tbody tr th:only-of-type {\n",
       "        vertical-align: middle;\n",
       "    }\n",
       "\n",
       "    .dataframe tbody tr th {\n",
       "        vertical-align: top;\n",
       "    }\n",
       "\n",
       "    .dataframe thead th {\n",
       "        text-align: right;\n",
       "    }\n",
       "</style>\n",
       "<table border=\"1\" class=\"dataframe\">\n",
       "  <thead>\n",
       "    <tr style=\"text-align: right;\">\n",
       "      <th></th>\n",
       "      <th>request_date</th>\n",
       "      <th>requests_per_day</th>\n",
       "    </tr>\n",
       "  </thead>\n",
       "  <tbody>\n",
       "    <tr>\n",
       "      <th>0</th>\n",
       "      <td>2020-01-02</td>\n",
       "      <td>48</td>\n",
       "    </tr>\n",
       "    <tr>\n",
       "      <th>1</th>\n",
       "      <td>2020-01-03</td>\n",
       "      <td>102</td>\n",
       "    </tr>\n",
       "    <tr>\n",
       "      <th>2</th>\n",
       "      <td>2020-01-04</td>\n",
       "      <td>19</td>\n",
       "    </tr>\n",
       "    <tr>\n",
       "      <th>3</th>\n",
       "      <td>2020-01-05</td>\n",
       "      <td>9</td>\n",
       "    </tr>\n",
       "    <tr>\n",
       "      <th>4</th>\n",
       "      <td>2020-01-06</td>\n",
       "      <td>78</td>\n",
       "    </tr>\n",
       "    <tr>\n",
       "      <th>...</th>\n",
       "      <td>...</td>\n",
       "      <td>...</td>\n",
       "    </tr>\n",
       "    <tr>\n",
       "      <th>536</th>\n",
       "      <td>2021-08-25</td>\n",
       "      <td>59</td>\n",
       "    </tr>\n",
       "    <tr>\n",
       "      <th>537</th>\n",
       "      <td>2021-08-26</td>\n",
       "      <td>51</td>\n",
       "    </tr>\n",
       "    <tr>\n",
       "      <th>538</th>\n",
       "      <td>2021-08-27</td>\n",
       "      <td>33</td>\n",
       "    </tr>\n",
       "    <tr>\n",
       "      <th>539</th>\n",
       "      <td>2021-08-28</td>\n",
       "      <td>9</td>\n",
       "    </tr>\n",
       "    <tr>\n",
       "      <th>540</th>\n",
       "      <td>2021-08-31</td>\n",
       "      <td>38</td>\n",
       "    </tr>\n",
       "  </tbody>\n",
       "</table>\n",
       "<p>541 rows × 2 columns</p>\n",
       "</div>"
      ],
      "text/plain": [
       "    request_date  requests_per_day\n",
       "0     2020-01-02                48\n",
       "1     2020-01-03               102\n",
       "2     2020-01-04                19\n",
       "3     2020-01-05                 9\n",
       "4     2020-01-06                78\n",
       "..           ...               ...\n",
       "536   2021-08-25                59\n",
       "537   2021-08-26                51\n",
       "538   2021-08-27                33\n",
       "539   2021-08-28                 9\n",
       "540   2021-08-31                38\n",
       "\n",
       "[541 rows x 2 columns]"
      ]
     },
     "execution_count": 27,
     "metadata": {},
     "output_type": "execute_result"
    }
   ],
   "source": [
    "df_request = df_request.reset_index(drop=True)\n",
    "df_request"
   ]
  },
  {
   "cell_type": "markdown",
   "id": "980bcb92",
   "metadata": {},
   "source": [
    "### convert to time series by setting the request_date as the index"
   ]
  },
  {
   "cell_type": "code",
   "execution_count": 28,
   "id": "6a43dd21",
   "metadata": {},
   "outputs": [
    {
     "data": {
      "text/html": [
       "<div>\n",
       "<style scoped>\n",
       "    .dataframe tbody tr th:only-of-type {\n",
       "        vertical-align: middle;\n",
       "    }\n",
       "\n",
       "    .dataframe tbody tr th {\n",
       "        vertical-align: top;\n",
       "    }\n",
       "\n",
       "    .dataframe thead th {\n",
       "        text-align: right;\n",
       "    }\n",
       "</style>\n",
       "<table border=\"1\" class=\"dataframe\">\n",
       "  <thead>\n",
       "    <tr style=\"text-align: right;\">\n",
       "      <th></th>\n",
       "      <th>requests_per_day</th>\n",
       "    </tr>\n",
       "    <tr>\n",
       "      <th>request_date</th>\n",
       "      <th></th>\n",
       "    </tr>\n",
       "  </thead>\n",
       "  <tbody>\n",
       "    <tr>\n",
       "      <th>2020-01-02</th>\n",
       "      <td>48</td>\n",
       "    </tr>\n",
       "    <tr>\n",
       "      <th>2020-01-03</th>\n",
       "      <td>102</td>\n",
       "    </tr>\n",
       "    <tr>\n",
       "      <th>2020-01-04</th>\n",
       "      <td>19</td>\n",
       "    </tr>\n",
       "    <tr>\n",
       "      <th>2020-01-05</th>\n",
       "      <td>9</td>\n",
       "    </tr>\n",
       "    <tr>\n",
       "      <th>2020-01-06</th>\n",
       "      <td>78</td>\n",
       "    </tr>\n",
       "  </tbody>\n",
       "</table>\n",
       "</div>"
      ],
      "text/plain": [
       "              requests_per_day\n",
       "request_date                  \n",
       "2020-01-02                  48\n",
       "2020-01-03                 102\n",
       "2020-01-04                  19\n",
       "2020-01-05                   9\n",
       "2020-01-06                  78"
      ]
     },
     "execution_count": 28,
     "metadata": {},
     "output_type": "execute_result"
    }
   ],
   "source": [
    "df_request = df_request.set_index(['request_date'])\n",
    "df_request.head()"
   ]
  },
  {
   "cell_type": "code",
   "execution_count": 29,
   "id": "1b007af1",
   "metadata": {},
   "outputs": [
    {
     "data": {
      "text/plain": [
       "requests_per_day    0\n",
       "dtype: int64"
      ]
     },
     "execution_count": 29,
     "metadata": {},
     "output_type": "execute_result"
    }
   ],
   "source": [
    "df_request.isnull().sum()"
   ]
  },
  {
   "cell_type": "markdown",
   "id": "8799b455",
   "metadata": {},
   "source": [
    "### check for missing dates in time series and add"
   ]
  },
  {
   "cell_type": "code",
   "execution_count": 30,
   "id": "a23fadb9",
   "metadata": {},
   "outputs": [
    {
     "data": {
      "text/plain": [
       "DatetimeIndex(['2020-01-12', '2020-01-19', '2020-01-26', '2020-02-23',\n",
       "               '2020-03-01', '2020-03-08', '2020-03-15', '2020-03-22',\n",
       "               '2020-03-29', '2020-04-04', '2020-04-05', '2020-04-12',\n",
       "               '2020-04-13', '2020-04-19', '2020-04-26', '2020-05-03',\n",
       "               '2020-05-08', '2020-05-10', '2020-05-17', '2020-05-24',\n",
       "               '2020-06-07', '2020-06-14', '2020-06-21', '2020-07-05',\n",
       "               '2020-07-19', '2020-07-26', '2020-08-02', '2020-08-09',\n",
       "               '2020-08-31', '2020-10-11', '2020-10-18', '2020-10-25',\n",
       "               '2020-11-01', '2020-11-15', '2020-11-22', '2020-12-06',\n",
       "               '2020-12-13', '2020-12-20', '2020-12-25', '2020-12-26',\n",
       "               '2020-12-27', '2021-01-01', '2021-01-10', '2021-01-24',\n",
       "               '2021-02-07', '2021-02-14', '2021-02-21', '2021-02-28',\n",
       "               '2021-03-07', '2021-03-21', '2021-04-04', '2021-04-25',\n",
       "               '2021-05-03', '2021-05-09', '2021-05-23', '2021-05-30',\n",
       "               '2021-06-06', '2021-06-20', '2021-06-27', '2021-07-04',\n",
       "               '2021-07-11', '2021-07-25', '2021-08-08', '2021-08-15',\n",
       "               '2021-08-22', '2021-08-29', '2021-08-30'],\n",
       "              dtype='datetime64[ns]', freq=None)"
      ]
     },
     "execution_count": 30,
     "metadata": {},
     "output_type": "execute_result"
    }
   ],
   "source": [
    "missing_dates = pd.date_range('2020-01-02', '2021-08-31').difference(df_request.index)\n",
    "missing_dates"
   ]
  },
  {
   "cell_type": "markdown",
   "id": "f3e2929d",
   "metadata": {},
   "source": [
    "### add missing dates to time series dataframe\n",
    "    1) Create time series of missing dates\n",
    "    2) Combine with original time series using append() function\n",
    "    3) sort_index"
   ]
  },
  {
   "cell_type": "code",
   "execution_count": 31,
   "id": "ca0758f5",
   "metadata": {},
   "outputs": [
    {
     "data": {
      "text/plain": [
       "(67, 1)"
      ]
     },
     "execution_count": 31,
     "metadata": {},
     "output_type": "execute_result"
    }
   ],
   "source": [
    "df_missing_dates = df_request.reindex(missing_dates, fill_value=0)\n",
    "df_missing_dates.shape"
   ]
  },
  {
   "cell_type": "markdown",
   "id": "07631362",
   "metadata": {},
   "source": [
    "### combine both time series to give complete dates"
   ]
  },
  {
   "cell_type": "code",
   "execution_count": 32,
   "id": "ce6a39a9",
   "metadata": {},
   "outputs": [
    {
     "data": {
      "text/plain": [
       "(608, 1)"
      ]
     },
     "execution_count": 32,
     "metadata": {},
     "output_type": "execute_result"
    }
   ],
   "source": [
    "df_request = df_request.append(df_missing_dates)\n",
    "df_request.shape"
   ]
  },
  {
   "cell_type": "markdown",
   "id": "039f5265",
   "metadata": {},
   "source": [
    "### sort index"
   ]
  },
  {
   "cell_type": "code",
   "execution_count": 33,
   "id": "e9699e3e",
   "metadata": {},
   "outputs": [
    {
     "data": {
      "text/html": [
       "<div>\n",
       "<style scoped>\n",
       "    .dataframe tbody tr th:only-of-type {\n",
       "        vertical-align: middle;\n",
       "    }\n",
       "\n",
       "    .dataframe tbody tr th {\n",
       "        vertical-align: top;\n",
       "    }\n",
       "\n",
       "    .dataframe thead th {\n",
       "        text-align: right;\n",
       "    }\n",
       "</style>\n",
       "<table border=\"1\" class=\"dataframe\">\n",
       "  <thead>\n",
       "    <tr style=\"text-align: right;\">\n",
       "      <th></th>\n",
       "      <th>requests_per_day</th>\n",
       "    </tr>\n",
       "  </thead>\n",
       "  <tbody>\n",
       "    <tr>\n",
       "      <th>2020-01-02</th>\n",
       "      <td>48</td>\n",
       "    </tr>\n",
       "    <tr>\n",
       "      <th>2020-01-03</th>\n",
       "      <td>102</td>\n",
       "    </tr>\n",
       "    <tr>\n",
       "      <th>2020-01-04</th>\n",
       "      <td>19</td>\n",
       "    </tr>\n",
       "    <tr>\n",
       "      <th>2020-01-05</th>\n",
       "      <td>9</td>\n",
       "    </tr>\n",
       "    <tr>\n",
       "      <th>2020-01-06</th>\n",
       "      <td>78</td>\n",
       "    </tr>\n",
       "    <tr>\n",
       "      <th>...</th>\n",
       "      <td>...</td>\n",
       "    </tr>\n",
       "    <tr>\n",
       "      <th>2021-08-27</th>\n",
       "      <td>33</td>\n",
       "    </tr>\n",
       "    <tr>\n",
       "      <th>2021-08-28</th>\n",
       "      <td>9</td>\n",
       "    </tr>\n",
       "    <tr>\n",
       "      <th>2021-08-29</th>\n",
       "      <td>0</td>\n",
       "    </tr>\n",
       "    <tr>\n",
       "      <th>2021-08-30</th>\n",
       "      <td>0</td>\n",
       "    </tr>\n",
       "    <tr>\n",
       "      <th>2021-08-31</th>\n",
       "      <td>38</td>\n",
       "    </tr>\n",
       "  </tbody>\n",
       "</table>\n",
       "<p>608 rows × 1 columns</p>\n",
       "</div>"
      ],
      "text/plain": [
       "            requests_per_day\n",
       "2020-01-02                48\n",
       "2020-01-03               102\n",
       "2020-01-04                19\n",
       "2020-01-05                 9\n",
       "2020-01-06                78\n",
       "...                      ...\n",
       "2021-08-27                33\n",
       "2021-08-28                 9\n",
       "2021-08-29                 0\n",
       "2021-08-30                 0\n",
       "2021-08-31                38\n",
       "\n",
       "[608 rows x 1 columns]"
      ]
     },
     "execution_count": 33,
     "metadata": {},
     "output_type": "execute_result"
    }
   ],
   "source": [
    "df_request = df_request.sort_index()\n",
    "df_request"
   ]
  },
  {
   "cell_type": "markdown",
   "id": "9ac6218f",
   "metadata": {},
   "source": [
    "## Display as time series plot"
   ]
  },
  {
   "cell_type": "code",
   "execution_count": 34,
   "id": "86154010",
   "metadata": {},
   "outputs": [
    {
     "data": {
      "image/png": "[encoded data removed]",
      "text/plain": [
       "<Figure size 1080x360 with 1 Axes>"
      ]
     },
     "metadata": {},
     "output_type": "display_data"
    }
   ],
   "source": [
    "plt.figure(figsize=(15,5))\n",
    "plt.title('Stone Signs Daily Sign Requests - 02Jan2020 to 31Aug2021')\n",
    "plt.ylabel('No. of Sign Requests')\n",
    "plt.plot(df_request)\n",
    "\n",
    "plt.savefig(os.path.join(vizpath,'!Time Series - Stone Signs Daily Sign Requests - 02Jan2020 to 31Aug2021.png'))"
   ]
  },
  {
   "cell_type": "markdown",
   "id": "63439830",
   "metadata": {},
   "source": [
    "## Time Series Decompostion\n",
    "    1) Define a fixed size for all special charts using rcParams.\n",
    "    2) Carry out the decomposition.\n",
    "    3) Display as plot."
   ]
  },
  {
   "cell_type": "code",
   "execution_count": 28,
   "id": "4cffd577",
   "metadata": {},
   "outputs": [],
   "source": [
    "from pylab import rcParams \n",
    "rcParams['figure.figsize'] = 18, 7"
   ]
  },
  {
   "cell_type": "code",
   "execution_count": 29,
   "id": "6d3c2cd5",
   "metadata": {},
   "outputs": [],
   "source": [
    "decomposition = sm.tsa.seasonal_decompose(df_request, model='additive') "
   ]
  },
  {
   "cell_type": "code",
   "execution_count": 35,
   "id": "e2af27ae",
   "metadata": {},
   "outputs": [
    {
     "data": {
      "image/png": "[encoded data removed]",
      "text/plain": [
       "<Figure size 1296x504 with 4 Axes>"
      ]
     },
     "metadata": {},
     "output_type": "display_data"
    }
   ],
   "source": [
    "decomposition.plot()\n",
    "plt.savefig(os.path.join(vizpath,'Time Series - Daily Request Decomposition - 01Jan2020 to 31Aug2021.png'))"
   ]
  },
  {
   "cell_type": "markdown",
   "id": "5409c072",
   "metadata": {},
   "source": [
    "#### Observations:\n",
    "1.\tTrend: as an overall picture, the Trend is relatively steady, more so after May 2020,\n",
    "        - after inital 1st Pandemic lockdown.\n",
    "2.  Seasonaility: Seasonality is present, which is generally to be expeceted.\n",
    "3.  Residual: There is a strong existence of noise which is not uncommon for daily data values."
   ]
  },
  {
   "cell_type": "markdown",
   "id": "50a6f7f9",
   "metadata": {},
   "source": [
    "Based on the above decomposition plots, it is clear that the 1st Pandmeic lockdown had a significant effect on daily sign requests.  To assit with helping to stationize the data, the time series will be filtered to exclude the pandemic effect and will include the following dates:\n",
    "    - 1st June 2020 to 31st August 2021"
   ]
  },
  {
   "cell_type": "markdown",
   "id": "8b2c67c8",
   "metadata": {},
   "source": [
    "### convert time series to dataframe and apply date filter"
   ]
  },
  {
   "cell_type": "code",
   "execution_count": 83,
   "id": "934715e3",
   "metadata": {},
   "outputs": [
    {
     "data": {
      "text/html": [
       "<div>\n",
       "<style scoped>\n",
       "    .dataframe tbody tr th:only-of-type {\n",
       "        vertical-align: middle;\n",
       "    }\n",
       "\n",
       "    .dataframe tbody tr th {\n",
       "        vertical-align: top;\n",
       "    }\n",
       "\n",
       "    .dataframe thead th {\n",
       "        text-align: right;\n",
       "    }\n",
       "</style>\n",
       "<table border=\"1\" class=\"dataframe\">\n",
       "  <thead>\n",
       "    <tr style=\"text-align: right;\">\n",
       "      <th></th>\n",
       "      <th>index</th>\n",
       "      <th>requests_per_day</th>\n",
       "    </tr>\n",
       "  </thead>\n",
       "  <tbody>\n",
       "    <tr>\n",
       "      <th>0</th>\n",
       "      <td>2020-01-02</td>\n",
       "      <td>48</td>\n",
       "    </tr>\n",
       "    <tr>\n",
       "      <th>1</th>\n",
       "      <td>2020-01-03</td>\n",
       "      <td>102</td>\n",
       "    </tr>\n",
       "    <tr>\n",
       "      <th>2</th>\n",
       "      <td>2020-01-04</td>\n",
       "      <td>19</td>\n",
       "    </tr>\n",
       "    <tr>\n",
       "      <th>3</th>\n",
       "      <td>2020-01-05</td>\n",
       "      <td>9</td>\n",
       "    </tr>\n",
       "    <tr>\n",
       "      <th>4</th>\n",
       "      <td>2020-01-06</td>\n",
       "      <td>78</td>\n",
       "    </tr>\n",
       "  </tbody>\n",
       "</table>\n",
       "</div>"
      ],
      "text/plain": [
       "       index  requests_per_day\n",
       "0 2020-01-02                48\n",
       "1 2020-01-03               102\n",
       "2 2020-01-04                19\n",
       "3 2020-01-05                 9\n",
       "4 2020-01-06                78"
      ]
     },
     "execution_count": 83,
     "metadata": {},
     "output_type": "execute_result"
    }
   ],
   "source": [
    "df_request = df_request.reset_index()\n",
    "df_request.head()"
   ]
  },
  {
   "cell_type": "code",
   "execution_count": 84,
   "id": "fd70a8a6",
   "metadata": {},
   "outputs": [
    {
     "data": {
      "text/plain": [
       "(608, 2)"
      ]
     },
     "execution_count": 84,
     "metadata": {},
     "output_type": "execute_result"
    }
   ],
   "source": [
    "df_request.shape"
   ]
  },
  {
   "cell_type": "markdown",
   "id": "99f29dd1",
   "metadata": {},
   "source": [
    "### check datatypes"
   ]
  },
  {
   "cell_type": "code",
   "execution_count": 85,
   "id": "4285fd56",
   "metadata": {},
   "outputs": [
    {
     "data": {
      "text/plain": [
       "index               datetime64[ns]\n",
       "requests_per_day             int64\n",
       "dtype: object"
      ]
     },
     "execution_count": 85,
     "metadata": {},
     "output_type": "execute_result"
    }
   ],
   "source": [
    "df_request.dtypes"
   ]
  },
  {
   "cell_type": "markdown",
   "id": "071264f6",
   "metadata": {},
   "source": [
    "### rename 'index' column to 'date'"
   ]
  },
  {
   "cell_type": "code",
   "execution_count": 88,
   "id": "9f76c23d",
   "metadata": {},
   "outputs": [
    {
     "data": {
      "text/plain": [
       "date                datetime64[ns]\n",
       "requests_per_day             int64\n",
       "dtype: object"
      ]
     },
     "execution_count": 88,
     "metadata": {},
     "output_type": "execute_result"
    }
   ],
   "source": [
    "df_request = df_request.rename(columns={'index':'date'})\n",
    "df_request.dtypes"
   ]
  },
  {
   "cell_type": "markdown",
   "id": "3ef6d84e",
   "metadata": {},
   "source": [
    "### apply date filter"
   ]
  },
  {
   "cell_type": "code",
   "execution_count": 89,
   "id": "ca802c4a",
   "metadata": {},
   "outputs": [
    {
     "data": {
      "text/plain": [
       "(457, 2)"
      ]
     },
     "execution_count": 89,
     "metadata": {},
     "output_type": "execute_result"
    }
   ],
   "source": [
    "df_request = df_request.loc[df_request['date']>='2020-06-01']\n",
    "df_request.shape"
   ]
  },
  {
   "cell_type": "markdown",
   "id": "56f8a2b8",
   "metadata": {},
   "source": [
    "### export filtered dataframe to CSV"
   ]
  },
  {
   "cell_type": "code",
   "execution_count": 90,
   "id": "452fc555",
   "metadata": {},
   "outputs": [],
   "source": [
    "df_request.to_csv(os.path.join(dataset,'time_series_requests_per_day_from_Jun2020.csv'), index=False)"
   ]
  },
  {
   "cell_type": "markdown",
   "id": "58072867",
   "metadata": {},
   "source": [
    "### convert back to time series by setting index to 'date'"
   ]
  },
  {
   "cell_type": "code",
   "execution_count": 93,
   "id": "7e06c44f",
   "metadata": {},
   "outputs": [
    {
     "data": {
      "text/html": [
       "<div>\n",
       "<style scoped>\n",
       "    .dataframe tbody tr th:only-of-type {\n",
       "        vertical-align: middle;\n",
       "    }\n",
       "\n",
       "    .dataframe tbody tr th {\n",
       "        vertical-align: top;\n",
       "    }\n",
       "\n",
       "    .dataframe thead th {\n",
       "        text-align: right;\n",
       "    }\n",
       "</style>\n",
       "<table border=\"1\" class=\"dataframe\">\n",
       "  <thead>\n",
       "    <tr style=\"text-align: right;\">\n",
       "      <th></th>\n",
       "      <th>requests_per_day</th>\n",
       "    </tr>\n",
       "    <tr>\n",
       "      <th>date</th>\n",
       "      <th></th>\n",
       "    </tr>\n",
       "  </thead>\n",
       "  <tbody>\n",
       "    <tr>\n",
       "      <th>2020-06-01</th>\n",
       "      <td>55</td>\n",
       "    </tr>\n",
       "    <tr>\n",
       "      <th>2020-06-02</th>\n",
       "      <td>73</td>\n",
       "    </tr>\n",
       "    <tr>\n",
       "      <th>2020-06-03</th>\n",
       "      <td>56</td>\n",
       "    </tr>\n",
       "    <tr>\n",
       "      <th>2020-06-04</th>\n",
       "      <td>53</td>\n",
       "    </tr>\n",
       "    <tr>\n",
       "      <th>2020-06-05</th>\n",
       "      <td>57</td>\n",
       "    </tr>\n",
       "  </tbody>\n",
       "</table>\n",
       "</div>"
      ],
      "text/plain": [
       "            requests_per_day\n",
       "date                        \n",
       "2020-06-01                55\n",
       "2020-06-02                73\n",
       "2020-06-03                56\n",
       "2020-06-04                53\n",
       "2020-06-05                57"
      ]
     },
     "execution_count": 93,
     "metadata": {},
     "output_type": "execute_result"
    }
   ],
   "source": [
    "df_request = df_request.set_index(['date'])\n",
    "df_request.head()"
   ]
  },
  {
   "cell_type": "code",
   "execution_count": 94,
   "id": "83bc7372",
   "metadata": {},
   "outputs": [
    {
     "data": {
      "text/html": [
       "<div>\n",
       "<style scoped>\n",
       "    .dataframe tbody tr th:only-of-type {\n",
       "        vertical-align: middle;\n",
       "    }\n",
       "\n",
       "    .dataframe tbody tr th {\n",
       "        vertical-align: top;\n",
       "    }\n",
       "\n",
       "    .dataframe thead th {\n",
       "        text-align: right;\n",
       "    }\n",
       "</style>\n",
       "<table border=\"1\" class=\"dataframe\">\n",
       "  <thead>\n",
       "    <tr style=\"text-align: right;\">\n",
       "      <th></th>\n",
       "      <th>requests_per_day</th>\n",
       "    </tr>\n",
       "    <tr>\n",
       "      <th>date</th>\n",
       "      <th></th>\n",
       "    </tr>\n",
       "  </thead>\n",
       "  <tbody>\n",
       "    <tr>\n",
       "      <th>2021-08-27</th>\n",
       "      <td>33</td>\n",
       "    </tr>\n",
       "    <tr>\n",
       "      <th>2021-08-28</th>\n",
       "      <td>9</td>\n",
       "    </tr>\n",
       "    <tr>\n",
       "      <th>2021-08-29</th>\n",
       "      <td>0</td>\n",
       "    </tr>\n",
       "    <tr>\n",
       "      <th>2021-08-30</th>\n",
       "      <td>0</td>\n",
       "    </tr>\n",
       "    <tr>\n",
       "      <th>2021-08-31</th>\n",
       "      <td>38</td>\n",
       "    </tr>\n",
       "  </tbody>\n",
       "</table>\n",
       "</div>"
      ],
      "text/plain": [
       "            requests_per_day\n",
       "date                        \n",
       "2021-08-27                33\n",
       "2021-08-28                 9\n",
       "2021-08-29                 0\n",
       "2021-08-30                 0\n",
       "2021-08-31                38"
      ]
     },
     "execution_count": 94,
     "metadata": {},
     "output_type": "execute_result"
    }
   ],
   "source": [
    "df_request.tail()"
   ]
  },
  {
   "cell_type": "markdown",
   "id": "058f1e45",
   "metadata": {},
   "source": [
    "### display as time series plot"
   ]
  },
  {
   "cell_type": "code",
   "execution_count": 96,
   "id": "e6e337ef",
   "metadata": {},
   "outputs": [
    {
     "data": {
      "text/plain": [
       "[<matplotlib.lines.Line2D at 0x12f4d295430>]"
      ]
     },
     "execution_count": 96,
     "metadata": {},
     "output_type": "execute_result"
    },
    {
     "data": {
      "image/png": "[encoded data removed]",
      "text/plain": [
       "<Figure size 1080x360 with 1 Axes>"
      ]
     },
     "metadata": {},
     "output_type": "display_data"
    }
   ],
   "source": [
    "plt.figure(figsize=(15,5))\n",
    "plt.plot(df_request)"
   ]
  },
  {
   "cell_type": "markdown",
   "id": "7be8c441",
   "metadata": {},
   "source": [
    "Time series is ready for Stationary testing, autocorrelation checks and if required, differencing."
   ]
  }
 ],
 "metadata": {
  "kernelspec": {
   "display_name": "Python 3",
   "language": "python",
   "name": "python3"
  },
  "language_info": {
   "codemirror_mode": {
    "name": "ipython",
    "version": 3
   },
   "file_extension": ".py",
   "mimetype": "text/x-python",
   "name": "python",
   "nbconvert_exporter": "python",
   "pygments_lexer": "ipython3",
   "version": "3.8.8"
  }
 },
 "nbformat": 4,
 "nbformat_minor": 5
}
