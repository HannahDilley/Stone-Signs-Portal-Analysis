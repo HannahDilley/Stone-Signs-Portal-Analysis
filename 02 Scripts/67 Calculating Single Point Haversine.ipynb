{
 "cells": [
  {
   "cell_type": "markdown",
   "id": "137a0d58",
   "metadata": {},
   "source": [
    "## Calculating Single Point Haversine, distance from 0,0\n",
    " 1.\tImport libraries & set directory paths\n",
    " 2.\tImport Portal data, check dimensions and data types\n",
    " 3.\tCreate ‘Single Point Haversine’ to represent Latitude and Longitude as one value.\n",
    "    -\tImport new library: from math import radians, cos, sin, asin, sqrt\n",
    "    -\tUser defined function to convert Lat. & long. to Single Point Haversine.\n",
    "    -\tApply conversion\n",
    " 4.\tExport to: stone_signs_portal_v1.2_haversine - 29,255.csv"
   ]
  },
  {
   "cell_type": "markdown",
   "id": "dfb595f1",
   "metadata": {},
   "source": [
    "### import libraries"
   ]
  },
  {
   "cell_type": "code",
   "execution_count": 1,
   "id": "dca40f1a",
   "metadata": {},
   "outputs": [],
   "source": [
    "import pandas as pd\n",
    "import numpy as np\n",
    "import seaborn as sns\n",
    "import matplotlib.pyplot as plt\n",
    "import matplotlib\n",
    "import os"
   ]
  },
  {
   "cell_type": "markdown",
   "id": "3052e3e9",
   "metadata": {},
   "source": [
    "### set original data set directory path"
   ]
  },
  {
   "cell_type": "code",
   "execution_count": 2,
   "id": "e6e7142f",
   "metadata": {},
   "outputs": [
    {
     "data": {
      "text/plain": [
       "'D:\\\\My Documents\\\\! Omnicompetent Ltd\\\\Career Foundry - Data Analytics\\\\Data Analytics Course\\\\60 Advanced Analytics and Dashboard Design\\\\Stone Signs Portal Analysis\\\\02 Data'"
      ]
     },
     "execution_count": 2,
     "metadata": {},
     "output_type": "execute_result"
    }
   ],
   "source": [
    "dataset = r'D:\\My Documents\\! Omnicompetent Ltd\\Career Foundry - Data Analytics\\Data Analytics Course\\60 Advanced Analytics and Dashboard Design\\Stone Signs Portal Analysis\\02 Data'\n",
    "dataset"
   ]
  },
  {
   "cell_type": "markdown",
   "id": "74b3fa37",
   "metadata": {},
   "source": [
    "### import data set"
   ]
  },
  {
   "cell_type": "code",
   "execution_count": 3,
   "id": "d63bf0b0",
   "metadata": {},
   "outputs": [
    {
     "data": {
      "text/html": [
       "<div>\n",
       "<style scoped>\n",
       "    .dataframe tbody tr th:only-of-type {\n",
       "        vertical-align: middle;\n",
       "    }\n",
       "\n",
       "    .dataframe tbody tr th {\n",
       "        vertical-align: top;\n",
       "    }\n",
       "\n",
       "    .dataframe thead th {\n",
       "        text-align: right;\n",
       "    }\n",
       "</style>\n",
       "<table border=\"1\" class=\"dataframe\">\n",
       "  <thead>\n",
       "    <tr style=\"text-align: right;\">\n",
       "      <th></th>\n",
       "      <th>request_id</th>\n",
       "      <th>request_datetime</th>\n",
       "      <th>completed_datetime</th>\n",
       "      <th>completed_duration_days</th>\n",
       "      <th>completed_duration_hours</th>\n",
       "      <th>agent_name</th>\n",
       "      <th>agent_code</th>\n",
       "      <th>branch_name</th>\n",
       "      <th>branch_code</th>\n",
       "      <th>sign_category</th>\n",
       "      <th>...</th>\n",
       "      <th>quantity</th>\n",
       "      <th>additional_info</th>\n",
       "      <th>request_status</th>\n",
       "      <th>payment_status</th>\n",
       "      <th>net_charge</th>\n",
       "      <th>vat</th>\n",
       "      <th>gross_charge</th>\n",
       "      <th>invoice_datetime</th>\n",
       "      <th>paid_datetime</th>\n",
       "      <th>payment_duration_days</th>\n",
       "    </tr>\n",
       "  </thead>\n",
       "  <tbody>\n",
       "    <tr>\n",
       "      <th>0</th>\n",
       "      <td>332</td>\n",
       "      <td>02/01/2020 09:18</td>\n",
       "      <td>02/01/2020 15:55</td>\n",
       "      <td>0.28</td>\n",
       "      <td>6.6</td>\n",
       "      <td>Hyman Hill</td>\n",
       "      <td>HYH</td>\n",
       "      <td>HymanHill @Shoreham-by-Sea</td>\n",
       "      <td>530</td>\n",
       "      <td>Sales</td>\n",
       "      <td>...</td>\n",
       "      <td>1</td>\n",
       "      <td>two boards please as on corner plot with one b...</td>\n",
       "      <td>Completed</td>\n",
       "      <td>Paid</td>\n",
       "      <td>3.85</td>\n",
       "      <td>0.77</td>\n",
       "      <td>4.62</td>\n",
       "      <td>01/02/2020 15:46</td>\n",
       "      <td>26/02/2020 19:13</td>\n",
       "      <td>25.1</td>\n",
       "    </tr>\n",
       "    <tr>\n",
       "      <th>1</th>\n",
       "      <td>334</td>\n",
       "      <td>02/01/2020 10:32</td>\n",
       "      <td>02/01/2020 14:47</td>\n",
       "      <td>0.18</td>\n",
       "      <td>4.3</td>\n",
       "      <td>Michael Jones</td>\n",
       "      <td>MCJ</td>\n",
       "      <td>MichaelJones @LancingSales(&amp;Bacon)</td>\n",
       "      <td>502</td>\n",
       "      <td>Sales</td>\n",
       "      <td>...</td>\n",
       "      <td>1</td>\n",
       "      <td>NaN</td>\n",
       "      <td>Completed</td>\n",
       "      <td>Paid</td>\n",
       "      <td>3.80</td>\n",
       "      <td>0.76</td>\n",
       "      <td>4.56</td>\n",
       "      <td>01/02/2020 17:02</td>\n",
       "      <td>29/02/2020 10:27</td>\n",
       "      <td>27.7</td>\n",
       "    </tr>\n",
       "    <tr>\n",
       "      <th>2</th>\n",
       "      <td>335</td>\n",
       "      <td>02/01/2020 10:40</td>\n",
       "      <td>04/01/2020 12:20</td>\n",
       "      <td>2.07</td>\n",
       "      <td>49.7</td>\n",
       "      <td>zz Symonds &amp; Reading</td>\n",
       "      <td>ZZ4</td>\n",
       "      <td>zz Symonds&amp;Reading @Ferring</td>\n",
       "      <td>350</td>\n",
       "      <td>Sales</td>\n",
       "      <td>...</td>\n",
       "      <td>1</td>\n",
       "      <td>NaN</td>\n",
       "      <td>Completed</td>\n",
       "      <td>Paid</td>\n",
       "      <td>3.80</td>\n",
       "      <td>0.76</td>\n",
       "      <td>4.56</td>\n",
       "      <td>01/02/2020 17:13</td>\n",
       "      <td>26/02/2020 19:12</td>\n",
       "      <td>25.1</td>\n",
       "    </tr>\n",
       "    <tr>\n",
       "      <th>3</th>\n",
       "      <td>336</td>\n",
       "      <td>02/01/2020 10:58</td>\n",
       "      <td>02/01/2020 14:42</td>\n",
       "      <td>0.16</td>\n",
       "      <td>3.7</td>\n",
       "      <td>Michael Jones</td>\n",
       "      <td>MCJ</td>\n",
       "      <td>MichaelJones @LancingSales(&amp;Bacon)</td>\n",
       "      <td>502</td>\n",
       "      <td>Sales</td>\n",
       "      <td>...</td>\n",
       "      <td>1</td>\n",
       "      <td>NaN</td>\n",
       "      <td>Completed</td>\n",
       "      <td>Paid</td>\n",
       "      <td>3.80</td>\n",
       "      <td>0.76</td>\n",
       "      <td>4.56</td>\n",
       "      <td>01/02/2020 17:02</td>\n",
       "      <td>29/02/2020 10:27</td>\n",
       "      <td>27.7</td>\n",
       "    </tr>\n",
       "    <tr>\n",
       "      <th>4</th>\n",
       "      <td>337</td>\n",
       "      <td>02/01/2020 11:10</td>\n",
       "      <td>03/01/2020 16:10</td>\n",
       "      <td>1.21</td>\n",
       "      <td>29.0</td>\n",
       "      <td>Rowland Gorringe</td>\n",
       "      <td>ROW</td>\n",
       "      <td>RowlandGorringe @Seaford</td>\n",
       "      <td>950</td>\n",
       "      <td>Sales</td>\n",
       "      <td>...</td>\n",
       "      <td>1</td>\n",
       "      <td>NaN</td>\n",
       "      <td>Completed</td>\n",
       "      <td>Paid</td>\n",
       "      <td>3.80</td>\n",
       "      <td>0.76</td>\n",
       "      <td>4.56</td>\n",
       "      <td>01/02/2020 17:06</td>\n",
       "      <td>29/02/2020 10:27</td>\n",
       "      <td>27.7</td>\n",
       "    </tr>\n",
       "  </tbody>\n",
       "</table>\n",
       "<p>5 rows × 30 columns</p>\n",
       "</div>"
      ],
      "text/plain": [
       "   request_id  request_datetime completed_datetime  completed_duration_days  \\\n",
       "0         332  02/01/2020 09:18   02/01/2020 15:55                     0.28   \n",
       "1         334  02/01/2020 10:32   02/01/2020 14:47                     0.18   \n",
       "2         335  02/01/2020 10:40   04/01/2020 12:20                     2.07   \n",
       "3         336  02/01/2020 10:58   02/01/2020 14:42                     0.16   \n",
       "4         337  02/01/2020 11:10   03/01/2020 16:10                     1.21   \n",
       "\n",
       "   completed_duration_hours            agent_name agent_code  \\\n",
       "0                       6.6            Hyman Hill        HYH   \n",
       "1                       4.3         Michael Jones        MCJ   \n",
       "2                      49.7  zz Symonds & Reading        ZZ4   \n",
       "3                       3.7         Michael Jones        MCJ   \n",
       "4                      29.0      Rowland Gorringe        ROW   \n",
       "\n",
       "                          branch_name  branch_code sign_category  ...  \\\n",
       "0          HymanHill @Shoreham-by-Sea          530         Sales  ...   \n",
       "1  MichaelJones @LancingSales(&Bacon)          502         Sales  ...   \n",
       "2         zz Symonds&Reading @Ferring          350         Sales  ...   \n",
       "3  MichaelJones @LancingSales(&Bacon)          502         Sales  ...   \n",
       "4            RowlandGorringe @Seaford          950         Sales  ...   \n",
       "\n",
       "  quantity                                    additional_info request_status  \\\n",
       "0        1  two boards please as on corner plot with one b...      Completed   \n",
       "1        1                                                NaN      Completed   \n",
       "2        1                                                NaN      Completed   \n",
       "3        1                                                NaN      Completed   \n",
       "4        1                                                NaN      Completed   \n",
       "\n",
       "  payment_status net_charge   vat gross_charge  invoice_datetime  \\\n",
       "0           Paid       3.85  0.77         4.62  01/02/2020 15:46   \n",
       "1           Paid       3.80  0.76         4.56  01/02/2020 17:02   \n",
       "2           Paid       3.80  0.76         4.56  01/02/2020 17:13   \n",
       "3           Paid       3.80  0.76         4.56  01/02/2020 17:02   \n",
       "4           Paid       3.80  0.76         4.56  01/02/2020 17:06   \n",
       "\n",
       "      paid_datetime  payment_duration_days  \n",
       "0  26/02/2020 19:13                   25.1  \n",
       "1  29/02/2020 10:27                   27.7  \n",
       "2  26/02/2020 19:12                   25.1  \n",
       "3  29/02/2020 10:27                   27.7  \n",
       "4  29/02/2020 10:27                   27.7  \n",
       "\n",
       "[5 rows x 30 columns]"
      ]
     },
     "execution_count": 3,
     "metadata": {},
     "output_type": "execute_result"
    }
   ],
   "source": [
    "df_portal = pd.read_csv(os.path.join(dataset,'stone_signs_portal_v1.1 - 29,255.csv'))\n",
    "df_portal.head()"
   ]
  },
  {
   "cell_type": "markdown",
   "id": "5c6f5f05",
   "metadata": {},
   "source": [
    "### check dimensions & data types"
   ]
  },
  {
   "cell_type": "code",
   "execution_count": 4,
   "id": "86a66a6a",
   "metadata": {},
   "outputs": [
    {
     "data": {
      "text/plain": [
       "(29255, 30)"
      ]
     },
     "execution_count": 4,
     "metadata": {},
     "output_type": "execute_result"
    }
   ],
   "source": [
    "df_portal.shape"
   ]
  },
  {
   "cell_type": "code",
   "execution_count": 5,
   "id": "a228b370",
   "metadata": {},
   "outputs": [
    {
     "data": {
      "text/plain": [
       "request_id                    int64\n",
       "request_datetime             object\n",
       "completed_datetime           object\n",
       "completed_duration_days     float64\n",
       "completed_duration_hours    float64\n",
       "agent_name                   object\n",
       "agent_code                   object\n",
       "branch_name                  object\n",
       "branch_code                   int64\n",
       "sign_category                object\n",
       "sign_action                  object\n",
       "board_type                   object\n",
       "sign_type                    object\n",
       "address_1                    object\n",
       "address_2                    object\n",
       "address_3                    object\n",
       "town                         object\n",
       "postcode                     object\n",
       "latitude                    float64\n",
       "longitude                   float64\n",
       "quantity                      int64\n",
       "additional_info              object\n",
       "request_status               object\n",
       "payment_status               object\n",
       "net_charge                  float64\n",
       "vat                         float64\n",
       "gross_charge                float64\n",
       "invoice_datetime             object\n",
       "paid_datetime                object\n",
       "payment_duration_days       float64\n",
       "dtype: object"
      ]
     },
     "execution_count": 5,
     "metadata": {},
     "output_type": "execute_result"
    }
   ],
   "source": [
    "df_portal.dtypes"
   ]
  },
  {
   "cell_type": "markdown",
   "id": "c1d72691",
   "metadata": {},
   "source": [
    "### convert latitude and longitude into a single_point_haversine"
   ]
  },
  {
   "cell_type": "markdown",
   "id": "6ac043b8",
   "metadata": {},
   "source": [
    "### create subset for latitude and longitude only"
   ]
  },
  {
   "cell_type": "code",
   "execution_count": 6,
   "id": "47c6cbe6",
   "metadata": {},
   "outputs": [
    {
     "data": {
      "text/html": [
       "<div>\n",
       "<style scoped>\n",
       "    .dataframe tbody tr th:only-of-type {\n",
       "        vertical-align: middle;\n",
       "    }\n",
       "\n",
       "    .dataframe tbody tr th {\n",
       "        vertical-align: top;\n",
       "    }\n",
       "\n",
       "    .dataframe thead th {\n",
       "        text-align: right;\n",
       "    }\n",
       "</style>\n",
       "<table border=\"1\" class=\"dataframe\">\n",
       "  <thead>\n",
       "    <tr style=\"text-align: right;\">\n",
       "      <th></th>\n",
       "      <th>latitude</th>\n",
       "      <th>longitude</th>\n",
       "    </tr>\n",
       "  </thead>\n",
       "  <tbody>\n",
       "    <tr>\n",
       "      <th>0</th>\n",
       "      <td>50.842528</td>\n",
       "      <td>-0.254277</td>\n",
       "    </tr>\n",
       "    <tr>\n",
       "      <th>1</th>\n",
       "      <td>50.825436</td>\n",
       "      <td>-0.319448</td>\n",
       "    </tr>\n",
       "    <tr>\n",
       "      <th>2</th>\n",
       "      <td>50.808270</td>\n",
       "      <td>-0.447493</td>\n",
       "    </tr>\n",
       "    <tr>\n",
       "      <th>3</th>\n",
       "      <td>50.833847</td>\n",
       "      <td>-0.314048</td>\n",
       "    </tr>\n",
       "    <tr>\n",
       "      <th>4</th>\n",
       "      <td>50.778295</td>\n",
       "      <td>0.097399</td>\n",
       "    </tr>\n",
       "    <tr>\n",
       "      <th>...</th>\n",
       "      <td>...</td>\n",
       "      <td>...</td>\n",
       "    </tr>\n",
       "    <tr>\n",
       "      <th>29250</th>\n",
       "      <td>50.822110</td>\n",
       "      <td>-0.317679</td>\n",
       "    </tr>\n",
       "    <tr>\n",
       "      <th>29251</th>\n",
       "      <td>50.799978</td>\n",
       "      <td>-0.004562</td>\n",
       "    </tr>\n",
       "    <tr>\n",
       "      <th>29252</th>\n",
       "      <td>50.833551</td>\n",
       "      <td>-0.128801</td>\n",
       "    </tr>\n",
       "    <tr>\n",
       "      <th>29253</th>\n",
       "      <td>50.840330</td>\n",
       "      <td>-0.272710</td>\n",
       "    </tr>\n",
       "    <tr>\n",
       "      <th>29254</th>\n",
       "      <td>50.836637</td>\n",
       "      <td>-0.127186</td>\n",
       "    </tr>\n",
       "  </tbody>\n",
       "</table>\n",
       "<p>29255 rows × 2 columns</p>\n",
       "</div>"
      ],
      "text/plain": [
       "        latitude  longitude\n",
       "0      50.842528  -0.254277\n",
       "1      50.825436  -0.319448\n",
       "2      50.808270  -0.447493\n",
       "3      50.833847  -0.314048\n",
       "4      50.778295   0.097399\n",
       "...          ...        ...\n",
       "29250  50.822110  -0.317679\n",
       "29251  50.799978  -0.004562\n",
       "29252  50.833551  -0.128801\n",
       "29253  50.840330  -0.272710\n",
       "29254  50.836637  -0.127186\n",
       "\n",
       "[29255 rows x 2 columns]"
      ]
     },
     "execution_count": 6,
     "metadata": {},
     "output_type": "execute_result"
    }
   ],
   "source": [
    "df_lat_long = df_portal[['latitude','longitude']]\n",
    "df_lat_long"
   ]
  },
  {
   "cell_type": "markdown",
   "id": "00f32511",
   "metadata": {},
   "source": [
    "### convert latitude and longitude to a single value\n",
    "   based on info sourced from internet"
   ]
  },
  {
   "cell_type": "code",
   "execution_count": 7,
   "id": "dc825384",
   "metadata": {},
   "outputs": [],
   "source": [
    "from math import radians, cos, sin, asin, sqrt"
   ]
  },
  {
   "cell_type": "markdown",
   "id": "4496e9ba",
   "metadata": {},
   "source": [
    "### create user defined function \"single_pt_haversine\""
   ]
  },
  {
   "cell_type": "code",
   "execution_count": 8,
   "id": "c7dd45ec",
   "metadata": {},
   "outputs": [],
   "source": [
    "def single_pt_haversine(lat, lng, degrees=True):\n",
    "    #'Single-point' Haversine: Calculates the great circle distance between a point on Earth and the (0, 0) lat-long coordinate\n",
    "\n",
    "    #r = 6371 # Earth's radius km\n",
    "    r = 3956  # Earth's radius in miles\n",
    "\n",
    "    # Convert decimal degrees to radians\n",
    "    if degrees:\n",
    "        lat, lng = map(radians, [lat, lng])\n",
    "\n",
    "    # 'Single-point' Haversine formula\n",
    "    a = sin(lat/2)**2 + cos(lat) * sin(lng/2)**2\n",
    "    d = 2 * r * asin(sqrt(a)) \n",
    "\n",
    "    return d"
   ]
  },
  {
   "cell_type": "markdown",
   "id": "9479812b",
   "metadata": {},
   "source": [
    "### make conversion"
   ]
  },
  {
   "cell_type": "code",
   "execution_count": 9,
   "id": "be50dfcc",
   "metadata": {},
   "outputs": [
    {
     "name": "stderr",
     "output_type": "stream",
     "text": [
      "<ipython-input-9-858ba4ef906d>:1: SettingWithCopyWarning: \n",
      "A value is trying to be set on a copy of a slice from a DataFrame.\n",
      "Try using .loc[row_indexer,col_indexer] = value instead\n",
      "\n",
      "See the caveats in the documentation: https://pandas.pydata.org/pandas-docs/stable/user_guide/indexing.html#returning-a-view-versus-a-copy\n",
      "  df_lat_long['haversine_distance_miles'] = [single_pt_haversine(latitude, longitude) for latitude, longitude in zip(df_lat_long.latitude, df_lat_long.longitude)]\n"
     ]
    },
    {
     "data": {
      "text/html": [
       "<div>\n",
       "<style scoped>\n",
       "    .dataframe tbody tr th:only-of-type {\n",
       "        vertical-align: middle;\n",
       "    }\n",
       "\n",
       "    .dataframe tbody tr th {\n",
       "        vertical-align: top;\n",
       "    }\n",
       "\n",
       "    .dataframe thead th {\n",
       "        text-align: right;\n",
       "    }\n",
       "</style>\n",
       "<table border=\"1\" class=\"dataframe\">\n",
       "  <thead>\n",
       "    <tr style=\"text-align: right;\">\n",
       "      <th></th>\n",
       "      <th>latitude</th>\n",
       "      <th>longitude</th>\n",
       "      <th>haversine_distance_miles</th>\n",
       "    </tr>\n",
       "  </thead>\n",
       "  <tbody>\n",
       "    <tr>\n",
       "      <th>0</th>\n",
       "      <td>50.842528</td>\n",
       "      <td>-0.254277</td>\n",
       "      <td>3510.465548</td>\n",
       "    </tr>\n",
       "    <tr>\n",
       "      <th>1</th>\n",
       "      <td>50.825436</td>\n",
       "      <td>-0.319448</td>\n",
       "      <td>3509.303756</td>\n",
       "    </tr>\n",
       "    <tr>\n",
       "      <th>2</th>\n",
       "      <td>50.808270</td>\n",
       "      <td>-0.447493</td>\n",
       "      <td>3508.166825</td>\n",
       "    </tr>\n",
       "    <tr>\n",
       "      <th>3</th>\n",
       "      <td>50.833847</td>\n",
       "      <td>-0.314048</td>\n",
       "      <td>3509.882854</td>\n",
       "    </tr>\n",
       "    <tr>\n",
       "      <th>4</th>\n",
       "      <td>50.778295</td>\n",
       "      <td>0.097399</td>\n",
       "      <td>3506.003486</td>\n",
       "    </tr>\n",
       "  </tbody>\n",
       "</table>\n",
       "</div>"
      ],
      "text/plain": [
       "    latitude  longitude  haversine_distance_miles\n",
       "0  50.842528  -0.254277               3510.465548\n",
       "1  50.825436  -0.319448               3509.303756\n",
       "2  50.808270  -0.447493               3508.166825\n",
       "3  50.833847  -0.314048               3509.882854\n",
       "4  50.778295   0.097399               3506.003486"
      ]
     },
     "execution_count": 9,
     "metadata": {},
     "output_type": "execute_result"
    }
   ],
   "source": [
    "df_lat_long['haversine_distance_miles'] = [single_pt_haversine(latitude, longitude) for latitude, longitude in zip(df_lat_long.latitude, df_lat_long.longitude)]\n",
    "df_lat_long.head()"
   ]
  },
  {
   "cell_type": "markdown",
   "id": "ce055f84",
   "metadata": {},
   "source": [
    "### try on full dataframe"
   ]
  },
  {
   "cell_type": "code",
   "execution_count": 10,
   "id": "0b1330f6",
   "metadata": {},
   "outputs": [
    {
     "data": {
      "text/html": [
       "<div>\n",
       "<style scoped>\n",
       "    .dataframe tbody tr th:only-of-type {\n",
       "        vertical-align: middle;\n",
       "    }\n",
       "\n",
       "    .dataframe tbody tr th {\n",
       "        vertical-align: top;\n",
       "    }\n",
       "\n",
       "    .dataframe thead th {\n",
       "        text-align: right;\n",
       "    }\n",
       "</style>\n",
       "<table border=\"1\" class=\"dataframe\">\n",
       "  <thead>\n",
       "    <tr style=\"text-align: right;\">\n",
       "      <th></th>\n",
       "      <th>latitude</th>\n",
       "      <th>longitude</th>\n",
       "      <th>haversine_distance_miles</th>\n",
       "    </tr>\n",
       "  </thead>\n",
       "  <tbody>\n",
       "    <tr>\n",
       "      <th>0</th>\n",
       "      <td>50.842528</td>\n",
       "      <td>-0.254277</td>\n",
       "      <td>3510.465548</td>\n",
       "    </tr>\n",
       "    <tr>\n",
       "      <th>1</th>\n",
       "      <td>50.825436</td>\n",
       "      <td>-0.319448</td>\n",
       "      <td>3509.303756</td>\n",
       "    </tr>\n",
       "    <tr>\n",
       "      <th>2</th>\n",
       "      <td>50.808270</td>\n",
       "      <td>-0.447493</td>\n",
       "      <td>3508.166825</td>\n",
       "    </tr>\n",
       "    <tr>\n",
       "      <th>3</th>\n",
       "      <td>50.833847</td>\n",
       "      <td>-0.314048</td>\n",
       "      <td>3509.882854</td>\n",
       "    </tr>\n",
       "    <tr>\n",
       "      <th>4</th>\n",
       "      <td>50.778295</td>\n",
       "      <td>0.097399</td>\n",
       "      <td>3506.003486</td>\n",
       "    </tr>\n",
       "  </tbody>\n",
       "</table>\n",
       "</div>"
      ],
      "text/plain": [
       "    latitude  longitude  haversine_distance_miles\n",
       "0  50.842528  -0.254277               3510.465548\n",
       "1  50.825436  -0.319448               3509.303756\n",
       "2  50.808270  -0.447493               3508.166825\n",
       "3  50.833847  -0.314048               3509.882854\n",
       "4  50.778295   0.097399               3506.003486"
      ]
     },
     "execution_count": 10,
     "metadata": {},
     "output_type": "execute_result"
    }
   ],
   "source": [
    "df_portal['haversine_distance_miles'] = [single_pt_haversine(latitude, longitude) for latitude, longitude in zip(df_portal.latitude, df_portal.longitude)]\n",
    "df_portal[['latitude','longitude','haversine_distance_miles']].head()"
   ]
  },
  {
   "cell_type": "markdown",
   "id": "ad3accec",
   "metadata": {},
   "source": [
    "### export to CSV"
   ]
  },
  {
   "cell_type": "code",
   "execution_count": 11,
   "id": "71b4db08",
   "metadata": {},
   "outputs": [
    {
     "data": {
      "text/plain": [
       "(29255, 31)"
      ]
     },
     "execution_count": 11,
     "metadata": {},
     "output_type": "execute_result"
    }
   ],
   "source": [
    "df_portal.shape"
   ]
  },
  {
   "cell_type": "code",
   "execution_count": 12,
   "id": "11355f1d",
   "metadata": {},
   "outputs": [],
   "source": [
    "df_portal.to_csv(os.path.join(dataset,'stone_signs_portal_v1.2_haversine - 29,255.csv'), index=False)"
   ]
  }
 ],
 "metadata": {
  "kernelspec": {
   "display_name": "Python 3",
   "language": "python",
   "name": "python3"
  },
  "language_info": {
   "codemirror_mode": {
    "name": "ipython",
    "version": 3
   },
   "file_extension": ".py",
   "mimetype": "text/x-python",
   "name": "python",
   "nbconvert_exporter": "python",
   "pygments_lexer": "ipython3",
   "version": "3.8.8"
  }
 },
 "nbformat": 4,
 "nbformat_minor": 5
}
